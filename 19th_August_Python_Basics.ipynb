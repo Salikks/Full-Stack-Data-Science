{
 "cells": [
  {
   "cell_type": "markdown",
   "id": "966d78d1-f05a-492f-aa2c-1b866739a78a",
   "metadata": {},
   "source": [
    "## TOPIC: Python Basics Variable"
   ]
  },
  {
   "cell_type": "markdown",
   "id": "6c949acf-ff1e-4b50-b408-609b126cbe69",
   "metadata": {},
   "source": [
    "### Q1. Declare two variables, `x` and `y`, and assign them integer values. Swap the values of these variables without using any temporary variable."
   ]
  },
  {
   "cell_type": "code",
   "execution_count": 2,
   "id": "d78cfa0d-22f0-4841-9ddd-c088e50a2494",
   "metadata": {},
   "outputs": [
    {
     "name": "stdout",
     "output_type": "stream",
     "text": [
      "After Swapping: x = 15 and y = 10\n"
     ]
    }
   ],
   "source": [
    "# 1. Declare variables with integer values.\n",
    "x = 10\n",
    "y = 15\n",
    "\n",
    "# 2. Swap the values of variables.\n",
    "x, y = y, x\n",
    "\n",
    "# 3. Print the values after swapping.\n",
    "print(f\"After Swapping: x = {x} and y = {y}\")"
   ]
  },
  {
   "cell_type": "markdown",
   "id": "8cea8144-8895-494a-a935-cd9d23a07362",
   "metadata": {},
   "source": [
    "### Q2. Create a program that calculates the area of a rectangle. Take the length and width as inputs from the user and store them in variables. Calculate and display the area."
   ]
  },
  {
   "cell_type": "code",
   "execution_count": 6,
   "id": "1a16e333-9bee-448b-b183-317cb9b40050",
   "metadata": {},
   "outputs": [
    {
     "name": "stdin",
     "output_type": "stream",
     "text": [
      "Please enter the width of the rectangle:  25.23\n",
      "Please enter the length of the rectangle:  45.48\n"
     ]
    },
    {
     "name": "stdout",
     "output_type": "stream",
     "text": [
      "The area of a rectangle with width 25.23 and length 45.48 is 1147.46\n"
     ]
    }
   ],
   "source": [
    "# 1. Take inputs width and length from the user.\n",
    "width = float(input(\"Please enter the width of the rectangle: \"))\n",
    "length = float(input(\"Please enter the length of the rectangle: \"))\n",
    "\n",
    "# 2. Calculate the area by multiplyingg width and length.\n",
    "area_of_rect = width * length\n",
    "\n",
    "# 3. Print the area.\n",
    "print(f\"The area of a rectangle with width {width} and length {length} is {area_of_rect:.2f}\")"
   ]
  },
  {
   "cell_type": "markdown",
   "id": "fdc8d82a-51e6-4f31-a678-cc8c26d5b8be",
   "metadata": {},
   "source": [
    "### Q3. Write a Python program that converts temperatures from Celsius to Fahrenheit. Take the temperature in Celsius as input, store it in a variable, convert it to Fahrenheit, and display the result."
   ]
  },
  {
   "cell_type": "code",
   "execution_count": 7,
   "id": "e51b3155-b6d0-4021-8dcb-1b35c1f6cdc9",
   "metadata": {},
   "outputs": [
    {
     "name": "stdin",
     "output_type": "stream",
     "text": [
      "Please enter the temperature in Celsius:  41.6\n"
     ]
    },
    {
     "name": "stdout",
     "output_type": "stream",
     "text": [
      "41.6°C is equal to 106.88°F\n"
     ]
    }
   ],
   "source": [
    "# 1. Take temperature in Celsius as input from the user.\n",
    "temp_C = float(input(\"Please enter the temperature in Celsius: \"))\n",
    "\n",
    "# 2. Convert from Celsius to Fahrenheit.\n",
    "temp_F = (temp_C * 9/5) + 32\n",
    "\n",
    "# 3. Print the temperature in Fahrenheit.\n",
    "print(f\"{temp_C}°C is equal to {temp_F:.2f}°F\")"
   ]
  },
  {
   "cell_type": "markdown",
   "id": "5eae1614-a46d-4651-8bc0-ee1a45b27652",
   "metadata": {},
   "source": [
    "## TOPIC: String Based Questions"
   ]
  },
  {
   "cell_type": "markdown",
   "id": "6974a0fa-3eaa-4979-8ba4-37d37995e5cc",
   "metadata": {},
   "source": [
    "### Q1. Write a Python program that takes a string as input and prints the length of the string."
   ]
  },
  {
   "cell_type": "code",
   "execution_count": 13,
   "id": "b7882268-0284-43b5-ba5f-fb7d02d44b46",
   "metadata": {},
   "outputs": [
    {
     "name": "stdin",
     "output_type": "stream",
     "text": [
      "Please enter a sentence or a series of letters:  My name is Salik Ansari\n"
     ]
    },
    {
     "name": "stdout",
     "output_type": "stream",
     "text": [
      "The length of the input string 'My name is Salik Ansari' is 23 characters.\n"
     ]
    }
   ],
   "source": [
    "# 1. Take input from the user.\n",
    "str1 = input(\"Please enter a sentence or a series of letters: \")\n",
    "\n",
    "# 2. Calculate and print the length of the string.\n",
    "length = len(str1)\n",
    "print(f\"The length of the input string '{str1}' is {length} characters.\")"
   ]
  },
  {
   "cell_type": "markdown",
   "id": "a7298af5-c085-4432-b942-e8a9747352df",
   "metadata": {},
   "source": [
    "### Q2. Create a program that takes a sentence from the user and counts the number of vowels (a, e, i, o, u) in the string."
   ]
  },
  {
   "cell_type": "code",
   "execution_count": 18,
   "id": "f383d026-707b-45a9-8c08-3f71bd23f4ab",
   "metadata": {},
   "outputs": [
    {
     "name": "stdin",
     "output_type": "stream",
     "text": [
      "Enter a sentence:  Python is a beautiful language\n"
     ]
    },
    {
     "name": "stdout",
     "output_type": "stream",
     "text": [
      "The number of vowels in the sentence is: 12\n"
     ]
    }
   ],
   "source": [
    "# 1. Define a variable containing list of vowels.\n",
    "vowels = ['a', 'e', 'i', 'o', 'u']\n",
    "\n",
    "# 2. Take input sentence from the user.\n",
    "sentence = input(\"Enter a sentence: \")\n",
    "\n",
    "# 3. Initialize a variable to count vowels.\n",
    "vowel_count = 0\n",
    "\n",
    "# 4. Iterate through each character in the sentence.\n",
    "for i in sentence:\n",
    "    \n",
    "    # 5. Check if the character is a vowel.\n",
    "    if i.lower() in vowels:\n",
    "        vowel_count += 1\n",
    "        \n",
    "# 6. Print the number of vowels in the sentence.        \n",
    "print(f\"The number of vowels in the sentence is: {vowel_count}\")"
   ]
  },
  {
   "cell_type": "markdown",
   "id": "6e45dc16-0021-4c27-ab83-4bc190d0dec1",
   "metadata": {},
   "source": [
    "### Q3. Given a string, reverse the order of characters using string slicing and print the reversed string."
   ]
  },
  {
   "cell_type": "code",
   "execution_count": 20,
   "id": "057c6145-172c-473a-8dab-fee90030c0f2",
   "metadata": {},
   "outputs": [
    {
     "name": "stdin",
     "output_type": "stream",
     "text": [
      "Enter a string:  gnirts desrever eht si sihT\n"
     ]
    },
    {
     "name": "stdout",
     "output_type": "stream",
     "text": [
      "Reversed string: This is the reversed string\n"
     ]
    }
   ],
   "source": [
    "# 1. Take input string from the user.\n",
    "input_string = input(\"Enter a string: \")\n",
    "\n",
    "# 2. Use string slicing to reverse the string.\n",
    "reversed_string = input_string[::-1]\n",
    "\n",
    "# 3. Print the reversed string.\n",
    "print(f\"Reversed string: {reversed_string}\")"
   ]
  },
  {
   "cell_type": "markdown",
   "id": "8ddd56de-cd74-4f3f-a94c-6528218e0761",
   "metadata": {},
   "source": [
    "### Q4. Write a program that takes a string as input and checks if it is a palindrome (reads the same forwards and backwards)."
   ]
  },
  {
   "cell_type": "code",
   "execution_count": 27,
   "id": "4b50e50d-91a1-40d3-8f2f-9dccd47bbfa0",
   "metadata": {},
   "outputs": [
    {
     "name": "stdin",
     "output_type": "stream",
     "text": [
      "Enter a string:  Eevee\n"
     ]
    },
    {
     "name": "stdout",
     "output_type": "stream",
     "text": [
      "The input string is a palindrome.\n"
     ]
    }
   ],
   "source": [
    "# 1. Take input string from the user.\n",
    "str1 = input(\"Enter a string: \")\n",
    "\n",
    "# 2. Remove spaces and convert the string to lowercase for case-insensitive comparison.\n",
    "str1 = str1.replace(\" \", \"\").lower()\n",
    "\n",
    "# 3. Reverse the input string.\n",
    "reversed_string = str1[::-1]\n",
    "\n",
    "# 4. Check if the original string is equal to its reverse.\n",
    "if str1 == reversed_string:\n",
    "    print(\"The input string is a palindrome.\")\n",
    "else:\n",
    "    print(\"The input string is not a palindrome.\")"
   ]
  },
  {
   "cell_type": "markdown",
   "id": "8c534296-998b-46b6-ab52-88ef915dccc5",
   "metadata": {},
   "source": [
    "### Q5. Create a program that takes a string as input and removes all the spaces from it. Print the modified string without spaces."
   ]
  },
  {
   "cell_type": "code",
   "execution_count": 29,
   "id": "ba7694aa-2611-47af-b062-fdfe552b6870",
   "metadata": {},
   "outputs": [
    {
     "name": "stdin",
     "output_type": "stream",
     "text": [
      "Enter a string:  I have a Redmi M o b i l e Phone\n"
     ]
    },
    {
     "name": "stdout",
     "output_type": "stream",
     "text": [
      "Modified string without spaces: IhaveaRedmiMobilePhone\n"
     ]
    }
   ],
   "source": [
    "# 1. Take input string from the user.\n",
    "str1 = input(\"Enter a string: \")\n",
    "\n",
    "# 2. Remove spaces from the input string using the replace() method.\n",
    "modified_string = str1.replace(\" \", \"\")\n",
    "\n",
    "# 3. Print the modified string without spaces.\n",
    "print(\"Modified string without spaces:\", modified_string)\n"
   ]
  }
 ],
 "metadata": {
  "kernelspec": {
   "display_name": "Python 3 (ipykernel)",
   "language": "python",
   "name": "python3"
  },
  "language_info": {
   "codemirror_mode": {
    "name": "ipython",
    "version": 3
   },
   "file_extension": ".py",
   "mimetype": "text/x-python",
   "name": "python",
   "nbconvert_exporter": "python",
   "pygments_lexer": "ipython3",
   "version": "3.10.8"
  }
 },
 "nbformat": 4,
 "nbformat_minor": 5
}
