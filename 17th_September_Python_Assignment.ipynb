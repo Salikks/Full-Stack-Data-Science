{
 "cells": [
  {
   "cell_type": "markdown",
   "id": "4b34b3fe-b56e-407a-8478-3aa02b215add",
   "metadata": {},
   "source": [
    "# **For Loop**:"
   ]
  },
  {
   "cell_type": "markdown",
   "id": "61ad612c",
   "metadata": {},
   "source": [
    "### **1. Write a Python program to print numbers from 1 to 10 using a for loop.**"
   ]
  },
  {
   "cell_type": "code",
   "execution_count": 1,
   "id": "b4949910",
   "metadata": {},
   "outputs": [
    {
     "name": "stdout",
     "output_type": "stream",
     "text": [
      "1\n",
      "2\n",
      "3\n",
      "4\n",
      "5\n",
      "6\n",
      "7\n",
      "8\n",
      "9\n",
      "10\n"
     ]
    }
   ],
   "source": [
    "# Program to print numbers from 1 to 10 using a for loop.\n",
    "for i in range(1, 11):\n",
    "    print(i)"
   ]
  },
  {
   "cell_type": "markdown",
   "id": "fbe3c114",
   "metadata": {},
   "source": [
    "### **2. Explain the difference between a for loop and a while loop in Python.**"
   ]
  },
  {
   "cell_type": "code",
   "execution_count": 2,
   "id": "35b5d5f8",
   "metadata": {},
   "outputs": [],
   "source": [
    "# Explanation:\n",
    "# A for loop is used to iterate over a sequence a specified number of times,\n",
    "# while a while loop is used to repeatedly execute a block of code as long as a condition is true."
   ]
  },
  {
   "cell_type": "markdown",
   "id": "727956ea",
   "metadata": {},
   "source": [
    "### **3. Write a Python program to calculate the sum of all numbers from 1 to 100 using a for loop.**"
   ]
  },
  {
   "cell_type": "code",
   "execution_count": 3,
   "id": "d9a8fa0f",
   "metadata": {},
   "outputs": [
    {
     "name": "stdout",
     "output_type": "stream",
     "text": [
      "5050\n"
     ]
    }
   ],
   "source": [
    "# Program to calculate the sum of all numbers from 1 to 100 using a for loop.\n",
    "sum = 0\n",
    "for i in range(1, 101):\n",
    "    sum += i\n",
    "print(sum)"
   ]
  },
  {
   "cell_type": "markdown",
   "id": "ea29f648",
   "metadata": {},
   "source": [
    "### **4. How do you iterate through a list using a for loop in Python?**"
   ]
  },
  {
   "cell_type": "code",
   "execution_count": 4,
   "id": "e77ee873",
   "metadata": {},
   "outputs": [
    {
     "name": "stdout",
     "output_type": "stream",
     "text": [
      "1\n",
      "2\n",
      "3\n",
      "4\n",
      "5\n"
     ]
    }
   ],
   "source": [
    "# Program to iterate through a list using a for loop in Python.\n",
    "my_list = [1, 2, 3, 4, 5]\n",
    "for item in my_list:\n",
    "    print(item)"
   ]
  },
  {
   "cell_type": "markdown",
   "id": "bf023b19",
   "metadata": {},
   "source": [
    "### **5. Write a Python program to find the product of all elements in a list using a for loop.**"
   ]
  },
  {
   "cell_type": "code",
   "execution_count": 5,
   "id": "5c78e88c",
   "metadata": {},
   "outputs": [
    {
     "name": "stdout",
     "output_type": "stream",
     "text": [
      "120\n"
     ]
    }
   ],
   "source": [
    "# Program to find the product of all elements in a list using a for loop.\n",
    "my_list = [1, 2, 3, 4, 5]\n",
    "product = 1\n",
    "for item in my_list:\n",
    "    product *= item\n",
    "print(product)"
   ]
  },
  {
   "cell_type": "markdown",
   "id": "90aba1f5",
   "metadata": {},
   "source": [
    "### **6. Create a Python program that prints all even numbers from 1 to 20 using a for loop.**"
   ]
  },
  {
   "cell_type": "code",
   "execution_count": 6,
   "id": "a33b84ee",
   "metadata": {},
   "outputs": [
    {
     "name": "stdout",
     "output_type": "stream",
     "text": [
      "2\n",
      "4\n",
      "6\n",
      "8\n",
      "10\n",
      "12\n",
      "14\n",
      "16\n",
      "18\n",
      "20\n"
     ]
    }
   ],
   "source": [
    "# Program to print all even numbers from 1 to 20 using a for loop.\n",
    "for i in range(2, 21, 2):\n",
    "    print(i)"
   ]
  },
  {
   "cell_type": "markdown",
   "id": "aa58472a",
   "metadata": {},
   "source": [
    "### **7. Write a Python program that calculates the factorial of a number using a for loop.**"
   ]
  },
  {
   "cell_type": "code",
   "execution_count": 7,
   "id": "ab7275e3",
   "metadata": {},
   "outputs": [
    {
     "name": "stdout",
     "output_type": "stream",
     "text": [
      "120\n"
     ]
    }
   ],
   "source": [
    "# Program to calculate the factorial of a number using a for loop.\n",
    "n = 5\n",
    "factorial = 1\n",
    "for i in range(1, n + 1):\n",
    "    factorial *= i\n",
    "print(factorial)"
   ]
  },
  {
   "cell_type": "markdown",
   "id": "02db8d55",
   "metadata": {},
   "source": [
    "### **8. How can you iterate through the characters of a string using a for loop in Python?**"
   ]
  },
  {
   "cell_type": "code",
   "execution_count": 8,
   "id": "2c1f25cc",
   "metadata": {},
   "outputs": [
    {
     "name": "stdout",
     "output_type": "stream",
     "text": [
      "P\n",
      "y\n",
      "t\n",
      "h\n",
      "o\n",
      "n\n"
     ]
    }
   ],
   "source": [
    "# Program to iterate through the characters of a string using a for loop in Python.\n",
    "my_string = 'Python'\n",
    "for char in my_string:\n",
    "    print(char)"
   ]
  },
  {
   "cell_type": "markdown",
   "id": "3670ed73",
   "metadata": {},
   "source": [
    "### **9. Write a Python program to find the largest number in a list using a for loop.**"
   ]
  },
  {
   "cell_type": "code",
   "execution_count": 9,
   "id": "14b698a8",
   "metadata": {},
   "outputs": [
    {
     "name": "stdout",
     "output_type": "stream",
     "text": [
      "12\n"
     ]
    }
   ],
   "source": [
    "# Program to find the largest number in a list using a for loop.\n",
    "my_list = [4, 7, 1, 9, 12, 5]\n",
    "max_num = my_list[0]\n",
    "for num in my_list:\n",
    "    if num > max_num:\n",
    "        max_num = num\n",
    "print(max_num)"
   ]
  },
  {
   "cell_type": "markdown",
   "id": "5470e826",
   "metadata": {},
   "source": [
    "### **10. Create a Python program that prints the Fibonacci sequence up to a specified limit using a for loop.**"
   ]
  },
  {
   "cell_type": "code",
   "execution_count": 10,
   "id": "c4117c26",
   "metadata": {},
   "outputs": [
    {
     "name": "stdout",
     "output_type": "stream",
     "text": [
      "0\n",
      "1\n",
      "1\n",
      "2\n",
      "3\n",
      "5\n",
      "8\n",
      "13\n",
      "21\n",
      "34\n"
     ]
    }
   ],
   "source": [
    "# Program to print the Fibonacci sequence up to a specified limit using a for loop.\n",
    "limit = 10\n",
    "a, b = 0, 1\n",
    "for _ in range(limit):\n",
    "    print(a)\n",
    "    a, b = b, a + b"
   ]
  },
  {
   "cell_type": "markdown",
   "id": "fca56fd5",
   "metadata": {},
   "source": [
    "### **11. Write a Python program to count the number of vowels in a given string using a for loop.**"
   ]
  },
  {
   "cell_type": "code",
   "execution_count": 11,
   "id": "f288cdc0",
   "metadata": {},
   "outputs": [
    {
     "name": "stdout",
     "output_type": "stream",
     "text": [
      "3\n"
     ]
    }
   ],
   "source": [
    "# Program to count the number of vowels in a given string using a for loop.\n",
    "my_string = 'Hello, World!'\n",
    "vowels = 'aeiouAEIOU'\n",
    "vowel_count = 0\n",
    "for char in my_string:\n",
    "    if char in vowels:\n",
    "        vowel_count += 1\n",
    "print(vowel_count)"
   ]
  },
  {
   "cell_type": "markdown",
   "id": "11c4acc7",
   "metadata": {},
   "source": [
    "### **12. Create a Python program that generates a multiplication table for a given number using a for loop.**"
   ]
  },
  {
   "cell_type": "code",
   "execution_count": 12,
   "id": "b738fc1f",
   "metadata": {},
   "outputs": [
    {
     "name": "stdout",
     "output_type": "stream",
     "text": [
      "5 x 1 = 5\n",
      "5 x 2 = 10\n",
      "5 x 3 = 15\n",
      "5 x 4 = 20\n",
      "5 x 5 = 25\n",
      "5 x 6 = 30\n",
      "5 x 7 = 35\n",
      "5 x 8 = 40\n",
      "5 x 9 = 45\n",
      "5 x 10 = 50\n"
     ]
    }
   ],
   "source": [
    "# Program to generate a multiplication table for a given number using a for loop.\n",
    "n = 5\n",
    "for i in range(1, 11):\n",
    "    print(f'{n} x {i} = {n * i}')"
   ]
  },
  {
   "cell_type": "markdown",
   "id": "51529e5a",
   "metadata": {},
   "source": [
    "### **13. Write a Python program to reverse a list using a for loop.**"
   ]
  },
  {
   "cell_type": "code",
   "execution_count": 13,
   "id": "26c824a3",
   "metadata": {},
   "outputs": [
    {
     "name": "stdout",
     "output_type": "stream",
     "text": [
      "[5, 4, 3, 2, 1]\n"
     ]
    }
   ],
   "source": [
    "# Program to reverse a list using a for loop.\n",
    "my_list = [1, 2, 3, 4, 5]\n",
    "reversed_list = []\n",
    "for item in my_list[::-1]:\n",
    "    reversed_list.append(item)\n",
    "print(reversed_list)"
   ]
  },
  {
   "cell_type": "markdown",
   "id": "5e7c4772",
   "metadata": {},
   "source": [
    "### **14. Write a Python program to find the common elements between two lists using a for loop.**"
   ]
  },
  {
   "cell_type": "code",
   "execution_count": 14,
   "id": "b0681ddb",
   "metadata": {},
   "outputs": [
    {
     "name": "stdout",
     "output_type": "stream",
     "text": [
      "[3, 4, 5]\n"
     ]
    }
   ],
   "source": [
    "# Program to find the common elements between two lists using a for loop.\n",
    "list1 = [1, 2, 3, 4, 5]\n",
    "list2 = [3, 4, 5, 6, 7]\n",
    "common_elements = []\n",
    "for item in list1:\n",
    "    if item in list2:\n",
    "        common_elements.append(item)\n",
    "print(common_elements)"
   ]
  },
  {
   "cell_type": "markdown",
   "id": "aa559fde",
   "metadata": {},
   "source": [
    "### **15. Explain how to use a for loop to iterate through the keys and values of a dictionary in Python.**"
   ]
  },
  {
   "cell_type": "code",
   "execution_count": 15,
   "id": "16241a4e",
   "metadata": {},
   "outputs": [
    {
     "name": "stdout",
     "output_type": "stream",
     "text": [
      "Key: name, Value: John\n",
      "Key: age, Value: 30\n",
      "Key: city, Value: New York\n"
     ]
    }
   ],
   "source": [
    "# Explanation:\n",
    "# To iterate through the keys and values of a dictionary in Python, you can use a for loop along with the `items()` method of the dictionary.\n",
    "# This allows you to access both the keys and values within the loop.\n",
    "my_dict = {'name': 'John', 'age': 30, 'city': 'New York'}\n",
    "for key, value in my_dict.items():\n",
    "    print(f'Key: {key}, Value: {value}')"
   ]
  },
  {
   "cell_type": "markdown",
   "id": "c5d2b561",
   "metadata": {},
   "source": [
    "### **16. Write a Python program to find the GCD (Greatest Common Divisor) of two numbers using a for loop.**"
   ]
  },
  {
   "cell_type": "code",
   "execution_count": 16,
   "id": "403108e2",
   "metadata": {},
   "outputs": [
    {
     "name": "stdout",
     "output_type": "stream",
     "text": [
      "6\n"
     ]
    }
   ],
   "source": [
    "# Program to find the GCD (Greatest Common Divisor) of two numbers using a for loop.\n",
    "a, b = 48, 18\n",
    "while b:\n",
    "    a, b = b, a % b\n",
    "print(a)"
   ]
  },
  {
   "cell_type": "markdown",
   "id": "57ddfa0f",
   "metadata": {},
   "source": [
    "### **17. Create a Python program that checks if a string is a palindrome using a for loop.**"
   ]
  },
  {
   "cell_type": "code",
   "execution_count": 17,
   "id": "32fe59b1",
   "metadata": {},
   "outputs": [
    {
     "name": "stdout",
     "output_type": "stream",
     "text": [
      "It's a palindrome!\n"
     ]
    }
   ],
   "source": [
    "# Program to check if a string is a palindrome using a for loop.\n",
    "my_string = 'racecar'\n",
    "is_palindrome = True\n",
    "for i in range(len(my_string) // 2):\n",
    "    if my_string[i] != my_string[-i - 1]:\n",
    "        is_palindrome = False\n",
    "        break\n",
    "if is_palindrome:\n",
    "    print(\"It's a palindrome!\")\n",
    "else:\n",
    "    print(\"It's not a palindrome.\")"
   ]
  },
  {
   "cell_type": "markdown",
   "id": "f1ccab70",
   "metadata": {},
   "source": [
    "### **18. Write a Python program to remove duplicates from a list using a for loop.**"
   ]
  },
  {
   "cell_type": "code",
   "execution_count": 18,
   "id": "c0bb858c",
   "metadata": {},
   "outputs": [
    {
     "name": "stdout",
     "output_type": "stream",
     "text": [
      "[1, 2, 3, 4, 5]\n"
     ]
    }
   ],
   "source": [
    "# Program to remove duplicates from a list using a for loop.\n",
    "my_list = [1, 2, 2, 3, 4, 4, 5]\n",
    "unique_list = []\n",
    "for item in my_list:\n",
    "    if item not in unique_list:\n",
    "        unique_list.append(item)\n",
    "print(unique_list)"
   ]
  },
  {
   "cell_type": "markdown",
   "id": "93860935",
   "metadata": {},
   "source": [
    "### **19. Create a Python program that counts the number of words in a sentence using a for loop.**"
   ]
  },
  {
   "cell_type": "code",
   "execution_count": 19,
   "id": "2df618d1",
   "metadata": {},
   "outputs": [
    {
     "name": "stdout",
     "output_type": "stream",
     "text": [
      "5\n"
     ]
    }
   ],
   "source": [
    "# Program to count the number of words in a sentence using a for loop.\n",
    "my_sentence = 'This is a sample sentence'\n",
    "words = my_sentence.split()\n",
    "word_count = len(words)\n",
    "print(word_count)"
   ]
  },
  {
   "cell_type": "markdown",
   "id": "e22f609b",
   "metadata": {},
   "source": [
    "### **20. Write a Python program to find the sum of all odd numbers from 1 to 50 using a for loop.**"
   ]
  },
  {
   "cell_type": "code",
   "execution_count": 20,
   "id": "f6f60e59",
   "metadata": {},
   "outputs": [
    {
     "name": "stdout",
     "output_type": "stream",
     "text": [
      "625\n"
     ]
    }
   ],
   "source": [
    "# Program to find the sum of all odd numbers from 1 to 50 using a for loop.\n",
    "sum_of_odds = 0\n",
    "for i in range(1, 51, 2):\n",
    "    sum_of_odds += i\n",
    "print(sum_of_odds)"
   ]
  },
  {
   "cell_type": "markdown",
   "id": "8150c35c",
   "metadata": {},
   "source": [
    "### **21. Write a Python program that checks if a given year is a leap year using a for loop.**"
   ]
  },
  {
   "cell_type": "code",
   "execution_count": 21,
   "id": "97582768",
   "metadata": {},
   "outputs": [
    {
     "name": "stdout",
     "output_type": "stream",
     "text": [
      "It's a leap year!\n"
     ]
    }
   ],
   "source": [
    "# Program to check if a given year is a leap year using a for loop.\n",
    "year = 2024\n",
    "if (year % 4 == 0 and year % 100 != 0) or (year % 400 == 0):\n",
    "    print(\"It's a leap year!\")\n",
    "else:\n",
    "    print(\"It's not a leap year.\")"
   ]
  },
  {
   "cell_type": "markdown",
   "id": "5b842500",
   "metadata": {},
   "source": [
    "### **22. Create a Python program that calculates the square root of a number using a for loop.**"
   ]
  },
  {
   "cell_type": "code",
   "execution_count": 22,
   "id": "dbd522e0",
   "metadata": {},
   "outputs": [
    {
     "name": "stdout",
     "output_type": "stream",
     "text": [
      "4.001219512195122\n"
     ]
    }
   ],
   "source": [
    "# Program to calculate the square root of a number using a for loop.\n",
    "number = 16\n",
    "epsilon = 0.01\n",
    "guess = number / 2\n",
    "while abs(guess * guess - number) >= epsilon:\n",
    "    guess = (guess + number / guess) / 2\n",
    "print(guess)"
   ]
  },
  {
   "cell_type": "markdown",
   "id": "a8195d1c",
   "metadata": {},
   "source": [
    "### **23. Write a Python program to find the LCM (Least Common Multiple) of two numbers using a for loop.**"
   ]
  },
  {
   "cell_type": "code",
   "execution_count": 23,
   "id": "4b8b8b72",
   "metadata": {},
   "outputs": [
    {
     "name": "stdout",
     "output_type": "stream",
     "text": [
      "36\n"
     ]
    }
   ],
   "source": [
    "# Program to find the LCM (Least Common Multiple) of two numbers using a for loop.\n",
    "a, b = 12, 18\n",
    "if a > b:\n",
    "    greater = a\n",
    "else:\n",
    "    greater = b\n",
    "while True:\n",
    "    if greater % a == 0 and greater % b == 0:\n",
    "        lcm = greater\n",
    "        break\n",
    "    greater += 1\n",
    "print(lcm)"
   ]
  },
  {
   "cell_type": "markdown",
   "id": "421d64fa-461b-4edd-85d6-53d8d1cd73d8",
   "metadata": {},
   "source": [
    "## IF ELSE:"
   ]
  },
  {
   "cell_type": "markdown",
   "id": "b8699168-e1c6-4900-9e59-b09b1f504052",
   "metadata": {},
   "source": [
    "### **1. Write a Python program to check if a number is positive, negative, or zero using an if-else statement.**"
   ]
  },
  {
   "cell_type": "code",
   "execution_count": 1,
   "id": "e97c9e8d-a4f8-4045-9f73-f3557385f5fc",
   "metadata": {},
   "outputs": [
    {
     "name": "stdout",
     "output_type": "stream",
     "text": [
      "Positive\n"
     ]
    }
   ],
   "source": [
    "# Program to check if a number is positive, negative, or zero using an if-else statement.\n",
    "num = 5\n",
    "if num > 0:\n",
    "    print(\"Positive\")\n",
    "elif num < 0:\n",
    "    print(\"Negative\")\n",
    "else:\n",
    "    print(\"Zero\")"
   ]
  },
  {
   "cell_type": "markdown",
   "id": "b2080410-57ff-4f1e-975d-57525ec4a784",
   "metadata": {},
   "source": [
    "### **2. Create a Python program that checks if a given number is even or odd using an if-else statement.**"
   ]
  },
  {
   "cell_type": "code",
   "execution_count": 2,
   "id": "4ddcc7b7-5f71-45df-8969-25c3ed210406",
   "metadata": {},
   "outputs": [
    {
     "name": "stdout",
     "output_type": "stream",
     "text": [
      "Even\n"
     ]
    }
   ],
   "source": [
    "# Program to check if a given number is even or odd using an if-else statement.\n",
    "num = 8\n",
    "if num % 2 == 0:\n",
    "    print(\"Even\")\n",
    "else:\n",
    "    print(\"Odd\")"
   ]
  },
  {
   "cell_type": "markdown",
   "id": "cbf526bf-f0ad-49f7-bbd4-c38569234700",
   "metadata": {},
   "source": [
    "### **3. How can you use nested if-else statements in Python, and provide an example?**"
   ]
  },
  {
   "cell_type": "code",
   "execution_count": 3,
   "id": "a48078a7-3ab7-4ba6-a672-8507385b242b",
   "metadata": {},
   "outputs": [
    {
     "name": "stdout",
     "output_type": "stream",
     "text": [
      "Positive and Even\n"
     ]
    }
   ],
   "source": [
    "# Explanation:\n",
    "# Nested if-else statements are used to create more complex conditional checks within other conditional checks.\n",
    "# Example:\n",
    "num = 10\n",
    "if num > 0:\n",
    "    if num % 2 == 0:\n",
    "        print(\"Positive and Even\")\n",
    "    else:\n",
    "        print(\"Positive and Odd\")\n",
    "else:\n",
    "    print(\"Non-positive\")"
   ]
  },
  {
   "cell_type": "markdown",
   "id": "1d452247-3847-4c14-9a4c-4f8883195e46",
   "metadata": {},
   "source": [
    "### **4. Write a Python program to determine the largest of three numbers using if-else.**"
   ]
  },
  {
   "cell_type": "code",
   "execution_count": 4,
   "id": "6a3c2254-de1c-4367-bbc1-11927f4cdf4a",
   "metadata": {},
   "outputs": [
    {
     "name": "stdout",
     "output_type": "stream",
     "text": [
      "The largest number is: 20\n"
     ]
    }
   ],
   "source": [
    "# Program to determine the largest of three numbers using if-else.\n",
    "a, b, c = 12, 7, 20\n",
    "if a >= b and a >= c:\n",
    "    largest = a\n",
    "elif b >= a and b >= c:\n",
    "    largest = b\n",
    "else:\n",
    "    largest = c\n",
    "print(\"The largest number is:\", largest)"
   ]
  },
  {
   "cell_type": "markdown",
   "id": "c6aeb08d-91fe-4102-851f-21f8f4bfba30",
   "metadata": {},
   "source": [
    "### **5. Write a Python program that calculates the absolute value of a number using if-else.**"
   ]
  },
  {
   "cell_type": "code",
   "execution_count": 5,
   "id": "07838826-fd5d-432d-a4bd-3c597df47f5f",
   "metadata": {},
   "outputs": [
    {
     "name": "stdout",
     "output_type": "stream",
     "text": [
      "Absolute value: 5\n"
     ]
    }
   ],
   "source": [
    "# Program to calculate the absolute value of a number using if-else.\n",
    "num = -5\n",
    "if num < 0:\n",
    "    absolute_value = -num\n",
    "else:\n",
    "    absolute_value = num\n",
    "print(\"Absolute value:\", absolute_value)"
   ]
  },
  {
   "cell_type": "markdown",
   "id": "73d198de-9f28-4218-afb2-ae146d9c5424",
   "metadata": {},
   "source": [
    "### **6. Create a Python program that checks if a given character is a vowel or consonant using if-else.**"
   ]
  },
  {
   "cell_type": "code",
   "execution_count": 6,
   "id": "ddd17f2f-5005-40ea-bd74-41e8b9577b69",
   "metadata": {},
   "outputs": [
    {
     "name": "stdout",
     "output_type": "stream",
     "text": [
      "Vowel\n"
     ]
    }
   ],
   "source": [
    "# Program to check if a given character is a vowel or consonant using if-else.\n",
    "char = 'a'\n",
    "if char in 'aeiouAEIOU':\n",
    "    print(\"Vowel\")\n",
    "else:\n",
    "    print(\"Consonant\")"
   ]
  },
  {
   "cell_type": "markdown",
   "id": "1cbec095-3d72-47d4-aaf0-889c2b8bffbb",
   "metadata": {},
   "source": [
    "### **7. Write a Python program to determine if a user is eligible to vote based on their age using if-else.**"
   ]
  },
  {
   "cell_type": "code",
   "execution_count": 7,
   "id": "ad3bca76-db91-4540-8bab-7effb6c51447",
   "metadata": {},
   "outputs": [
    {
     "name": "stdout",
     "output_type": "stream",
     "text": [
      "Eligible to vote\n"
     ]
    }
   ],
   "source": [
    "# Program to determine if a user is eligible to vote based on their age using if-else.\n",
    "age = 20\n",
    "if age >= 18:\n",
    "    print(\"Eligible to vote\")\n",
    "else:\n",
    "    print(\"Not eligible to vote\")"
   ]
  },
  {
   "cell_type": "markdown",
   "id": "3a62e74a-eea4-4f92-9deb-d038b39c1111",
   "metadata": {},
   "source": [
    "### **8. Create a Python program that calculates the discount amount based on the purchase amount using if-else.**"
   ]
  },
  {
   "cell_type": "code",
   "execution_count": 8,
   "id": "d47d3bcd-c79a-4e81-80e0-bd41599b26a1",
   "metadata": {},
   "outputs": [
    {
     "name": "stdout",
     "output_type": "stream",
     "text": [
      "Discount amount: 10\n"
     ]
    }
   ],
   "source": [
    "# Program to calculate the discount amount based on the purchase amount using if-else.\n",
    "purchase_amount = 200\n",
    "if purchase_amount >= 100:\n",
    "    discount = 10\n",
    "else:\n",
    "    discount = 0\n",
    "print(\"Discount amount:\", discount)"
   ]
  },
  {
   "cell_type": "markdown",
   "id": "0e24d193-f00c-4251-97c4-bd93a533df4d",
   "metadata": {},
   "source": [
    "### **9. Write a Python program to check if a number is within a specified range using if-else.**"
   ]
  },
  {
   "cell_type": "code",
   "execution_count": 9,
   "id": "97afc28d-9a76-42da-be4c-4eac39222c2d",
   "metadata": {},
   "outputs": [
    {
     "name": "stdout",
     "output_type": "stream",
     "text": [
      "Within the range\n"
     ]
    }
   ],
   "source": [
    "# Program to check if a number is within a specified range using if-else.\n",
    "num = 35\n",
    "if 20 <= num <= 50:\n",
    "    print(\"Within the range\")\n",
    "else:\n",
    "    print(\"Outside the range\")"
   ]
  },
  {
   "cell_type": "markdown",
   "id": "f1331a7a-a24e-41e9-9e90-1878076d6432",
   "metadata": {},
   "source": [
    "### **10. Create a Python program that determines the grade of a student based on their score using if-else.**"
   ]
  },
  {
   "cell_type": "code",
   "execution_count": 10,
   "id": "8da25d32-5ea9-44bc-b1ba-743728394ec3",
   "metadata": {},
   "outputs": [
    {
     "name": "stdout",
     "output_type": "stream",
     "text": [
      "Grade: B\n"
     ]
    }
   ],
   "source": [
    "# Program to determine the grade of a student based on their score using if-else.\n",
    "score = 85\n",
    "if score >= 90:\n",
    "    grade = 'A'\n",
    "elif score >= 80:\n",
    "    grade = 'B'\n",
    "elif score >= 70:\n",
    "    grade = 'C'\n",
    "elif score >= 60:\n",
    "    grade = 'D'\n",
    "else:\n",
    "    grade = 'F'\n",
    "print(\"Grade:\", grade)"
   ]
  },
  {
   "cell_type": "markdown",
   "id": "258f567c-f167-4de2-8e47-7977923e55cd",
   "metadata": {},
   "source": [
    "### **11. Write a Python program to check if a string is empty or not using if-else.**"
   ]
  },
  {
   "cell_type": "code",
   "execution_count": 11,
   "id": "0a35c8fd-db8d-461d-8f60-fb3a9252cecb",
   "metadata": {},
   "outputs": [
    {
     "name": "stdout",
     "output_type": "stream",
     "text": [
      "String is empty\n"
     ]
    }
   ],
   "source": [
    "# Program to check if a string is empty or not using if-else.\n",
    "my_string = \"\"\n",
    "if my_string:\n",
    "    print(\"String is not empty\")\n",
    "else:\n",
    "    print(\"String is empty\")"
   ]
  },
  {
   "cell_type": "markdown",
   "id": "775b44a5-8602-4e11-89e5-c9ccccc38b82",
   "metadata": {},
   "source": [
    "### **12. Create a Python program that identifies the type of a triangle (e.g., equilateral, isosceles, or scalene) based on input values using if-else.**"
   ]
  },
  {
   "cell_type": "code",
   "execution_count": 12,
   "id": "991f8408-accb-4c93-b7ca-388ec71b23fc",
   "metadata": {},
   "outputs": [
    {
     "name": "stdout",
     "output_type": "stream",
     "text": [
      "Triangle type: Isosceles\n"
     ]
    }
   ],
   "source": [
    "# Program to identify the type of a triangle (equilateral, isosceles, or scalene) based on input values using if-else.\n",
    "side1, side2, side3 = 5, 5, 6\n",
    "if side1 == side2 == side3:\n",
    "    triangle_type = \"Equilateral\"\n",
    "elif side1 == side2 or side1 == side3 or side2 == side3:\n",
    "    triangle_type = \"Isosceles\"\n",
    "else:\n",
    "    triangle_type = \"Scalene\"\n",
    "print(\"Triangle type:\", triangle_type)"
   ]
  },
  {
   "cell_type": "markdown",
   "id": "27b01a23-0aea-4c8c-ac6f-0e24669371e0",
   "metadata": {},
   "source": [
    "### **13. Write a Python program to determine the day of the week based on a user-provided number using if-else.**"
   ]
  },
  {
   "cell_type": "code",
   "execution_count": 13,
   "id": "1435630f-be7b-48d8-b7ea-be219c8e16c0",
   "metadata": {},
   "outputs": [
    {
     "name": "stdout",
     "output_type": "stream",
     "text": [
      "Day: Thursday\n"
     ]
    }
   ],
   "source": [
    "# Program to determine the day of the week based on a user-provided number using if-else.\n",
    "day_number = 4\n",
    "if day_number == 1:\n",
    "    day = \"Monday\"\n",
    "elif day_number == 2:\n",
    "    day = \"Tuesday\"\n",
    "elif day_number == 3:\n",
    "    day = \"Wednesday\"\n",
    "elif day_number == 4:\n",
    "    day = \"Thursday\"\n",
    "elif day_number == 5:\n",
    "    day = \"Friday\"\n",
    "elif day_number == 6:\n",
    "    day = \"Saturday\"\n",
    "elif day_number == 7:\n",
    "    day = \"Sunday\"\n",
    "else:\n",
    "    day = \"Invalid day number\"\n",
    "print(\"Day:\", day)"
   ]
  },
  {
   "cell_type": "markdown",
   "id": "266ab52f-280e-454b-9bcc-9a32865f671a",
   "metadata": {},
   "source": [
    "### **14. Create a Python program that checks if a given year is a leap year using both if-else and a function.**"
   ]
  },
  {
   "cell_type": "code",
   "execution_count": 14,
   "id": "a5434d72-6914-4937-a43a-66b943de7411",
   "metadata": {},
   "outputs": [
    {
     "name": "stdout",
     "output_type": "stream",
     "text": [
      "It's a leap year\n"
     ]
    }
   ],
   "source": [
    "# Program to check if a given year is a leap year using both if-else and a function.\n",
    "def is_leap_year(year):\n",
    "    if (year % 4 == 0 and year % 100 != 0) or (year % 400 == 0):\n",
    "        return True\n",
    "    else:\n",
    "        return False\n",
    "\n",
    "year = 2024\n",
    "if is_leap_year(year):\n",
    "    print(\"It's a leap year\")\n",
    "else:\n",
    "    print(\"It's not a leap year\")"
   ]
  },
  {
   "cell_type": "markdown",
   "id": "73e20e13-5cee-45be-a749-fb19cb3b2d6f",
   "metadata": {},
   "source": [
    "### **15. How do you use the 'assert' statement in Python to add debugging checks within if-else blocks?**"
   ]
  },
  {
   "cell_type": "code",
   "execution_count": 28,
   "id": "3b525601-c70c-42a6-a796-0f7186ca0c6b",
   "metadata": {},
   "outputs": [
    {
     "ename": "AssertionError",
     "evalue": "x should be less than 20 in this branch",
     "output_type": "error",
     "traceback": [
      "\u001b[1;31m---------------------------------------------------------------------------\u001b[0m",
      "\u001b[1;31mAssertionError\u001b[0m                            Traceback (most recent call last)",
      "Cell \u001b[1;32mIn[28], line 4\u001b[0m\n\u001b[0;32m      1\u001b[0m x \u001b[38;5;241m=\u001b[39m \u001b[38;5;241m21\u001b[39m\n\u001b[0;32m      3\u001b[0m \u001b[38;5;28;01mif\u001b[39;00m x \u001b[38;5;241m>\u001b[39m \u001b[38;5;241m5\u001b[39m:\n\u001b[1;32m----> 4\u001b[0m     \u001b[38;5;28;01massert\u001b[39;00m x \u001b[38;5;241m<\u001b[39m \u001b[38;5;241m20\u001b[39m, \u001b[38;5;124m\"\u001b[39m\u001b[38;5;124mx should be less than 20 in this branch\u001b[39m\u001b[38;5;124m\"\u001b[39m\n\u001b[0;32m      5\u001b[0m     \u001b[38;5;28mprint\u001b[39m(\u001b[38;5;124m\"\u001b[39m\u001b[38;5;124mx is greater than 5\u001b[39m\u001b[38;5;124m\"\u001b[39m)\n\u001b[0;32m      6\u001b[0m \u001b[38;5;28;01melse\u001b[39;00m:\n",
      "\u001b[1;31mAssertionError\u001b[0m: x should be less than 20 in this branch"
     ]
    }
   ],
   "source": [
    "x = 21\n",
    "\n",
    "if x > 5:\n",
    "    assert x < 20, \"x should be less than 20 in this branch\"\n",
    "    print(\"x is greater than 5\")\n",
    "else:\n",
    "    assert x < 5, \"x should be less than 5 in this branch\"\n",
    "    print(\"x is not greater than 5\")\n",
    "\n",
    "print(\"Program continues...\")"
   ]
  },
  {
   "cell_type": "markdown",
   "id": "a8003eae-e4a5-4a4c-be44-f642186dd2f9",
   "metadata": {},
   "source": [
    "### **16. Create a Python program that determines the eligibility of a person for a senior citizen discount based on age using if-else.**"
   ]
  },
  {
   "cell_type": "code",
   "execution_count": 16,
   "id": "e6483662-e73a-4606-a940-7e9c3f350f74",
   "metadata": {},
   "outputs": [
    {
     "name": "stdout",
     "output_type": "stream",
     "text": [
      "Senior citizen discount eligible: True\n"
     ]
    }
   ],
   "source": [
    "# Program to determine the eligibility of a person for a senior citizen discount based on age using if-else.\n",
    "age = 65\n",
    "if age >= 60:\n",
    "    discount_eligible = True\n",
    "else:\n",
    "    discount_eligible = False\n",
    "print(\"Senior citizen discount eligible:\", discount_eligible)"
   ]
  },
  {
   "cell_type": "markdown",
   "id": "a76719b4-72c5-4343-831b-614f6c372932",
   "metadata": {},
   "source": [
    "### **17. Write a Python program to categorize a given character as uppercase, lowercase, or neither using if-else.**"
   ]
  },
  {
   "cell_type": "code",
   "execution_count": 17,
   "id": "99bd6432-cc78-4c4b-99d0-abc4fe11d19e",
   "metadata": {},
   "outputs": [
    {
     "name": "stdout",
     "output_type": "stream",
     "text": [
      "Character category: Uppercase\n"
     ]
    }
   ],
   "source": [
    "# Program to categorize a given character as uppercase, lowercase, or neither using if-else.\n",
    "char = 'A'\n",
    "if char.isupper():\n",
    "    category = \"Uppercase\"\n",
    "elif char.islower():\n",
    "    category = \"Lowercase\"\n",
    "else:\n",
    "    category = \"Neither\"\n",
    "print(\"Character category:\", category)"
   ]
  },
  {
   "cell_type": "markdown",
   "id": "0a892fe5-01f4-4416-99da-0f5f39a8eece",
   "metadata": {},
   "source": [
    "### **18. Write a Python program to determine the roots of a quadratic equation using if-else.**"
   ]
  },
  {
   "cell_type": "code",
   "execution_count": 18,
   "id": "fa7dc733-35d1-4611-b900-241693d98ae7",
   "metadata": {},
   "outputs": [
    {
     "name": "stdout",
     "output_type": "stream",
     "text": [
      "Roots: (-2.0, -3.0)\n"
     ]
    }
   ],
   "source": [
    "# Program to determine the roots of a quadratic equation using if-else.\n",
    "import math\n",
    "a, b, c = 1, 5, 6\n",
    "discriminant = b**2 - 4*a*c\n",
    "if discriminant > 0:\n",
    "    root1 = (-b + math.sqrt(discriminant)) / (2*a)\n",
    "    root2 = (-b - math.sqrt(discriminant)) / (2*a)\n",
    "    roots = (root1, root2)\n",
    "elif discriminant == 0:\n",
    "    root1 = root2 = -b / (2*a)\n",
    "    roots = (root1,)\n",
    "else:\n",
    "    roots = \"No real roots\"\n",
    "print(\"Roots:\", roots)"
   ]
  },
  {
   "cell_type": "markdown",
   "id": "e5f9a61e-5f76-4cb4-a17a-4e71152b1278",
   "metadata": {},
   "source": [
    "### **19. Create a Python program that checks if a given year is a century year or not using if-else.**"
   ]
  },
  {
   "cell_type": "code",
   "execution_count": 19,
   "id": "2609b921-7f6b-4628-9b06-60dd7ae9a279",
   "metadata": {},
   "outputs": [
    {
     "name": "stdout",
     "output_type": "stream",
     "text": [
      "Century year: True\n"
     ]
    }
   ],
   "source": [
    "# Program to check if a given year is a century year or not using if-else.\n",
    "year = 1900\n",
    "if year % 100 == 0:\n",
    "    is_century_year = True\n",
    "else:\n",
    "    is_century_year = False\n",
    "print(\"Century year:\", is_century_year)"
   ]
  },
  {
   "cell_type": "markdown",
   "id": "97b5a5f3-66fa-486f-8a1d-fc126ec0a082",
   "metadata": {},
   "source": [
    "### **20. Write a Python program to determine if a given number is a perfect square using if-else.**"
   ]
  },
  {
   "cell_type": "code",
   "execution_count": 20,
   "id": "cadb9d9b-5134-43e5-8336-f1d9a3ffe979",
   "metadata": {},
   "outputs": [
    {
     "name": "stdout",
     "output_type": "stream",
     "text": [
      "Perfect square: True\n"
     ]
    }
   ],
   "source": [
    "# Program to determine if a given number is a perfect square using if-else.\n",
    "num = 25\n",
    "if math.isqrt(num) ** 2 == num:\n",
    "    is_perfect_square = True\n",
    "else:\n",
    "    is_perfect_square = False\n",
    "print(\"Perfect square:\", is_perfect_square)"
   ]
  },
  {
   "cell_type": "markdown",
   "id": "63c40b84-703e-4bfc-8363-67cdcf1ca29d",
   "metadata": {},
   "source": [
    "### **21. Explain the purpose of the 'continue' and 'break' statements within if-else loops.**"
   ]
  },
  {
   "cell_type": "code",
   "execution_count": 21,
   "id": "00c598fc-373b-46c6-9a33-4bce4aaf4b40",
   "metadata": {},
   "outputs": [
    {
     "name": "stdout",
     "output_type": "stream",
     "text": [
      "0\n",
      "1\n",
      "3\n",
      "4\n",
      "0\n",
      "1\n"
     ]
    }
   ],
   "source": [
    "# Explanation:\n",
    "# - The 'continue' statement is used within a loop to skip the rest of the current iteration and continue to the next iteration of the loop.\n",
    "# - The 'break' statement is used to exit the loop prematurely, stopping the loop's execution.\n",
    "# Example with 'continue':\n",
    "for i in range(5):\n",
    "    if i == 2:\n",
    "        continue\n",
    "    print(i)  # This will skip printing 2.\n",
    "# Example with 'break':\n",
    "for i in range(5):\n",
    "    if i == 2:\n",
    "        break\n",
    "    print(i)  # This will only print 0 and 1."
   ]
  },
  {
   "cell_type": "markdown",
   "id": "3d0c2456-718d-4b63-adb3-2035a0c14c67",
   "metadata": {},
   "source": [
    "### **22. Create a Python program that calculates the BMI (Body Mass Index) of a person based on their weight and height using if-else.**"
   ]
  },
  {
   "cell_type": "code",
   "execution_count": 22,
   "id": "1e0ca1d7-dc87-4b20-b643-448442b7d129",
   "metadata": {},
   "outputs": [
    {
     "name": "stdout",
     "output_type": "stream",
     "text": [
      "BMI category: Normal weight\n"
     ]
    }
   ],
   "source": [
    "# Program to calculate the BMI (Body Mass Index) of a person based on their weight and height using if-else.\n",
    "weight_kg = 70\n",
    "height_m = 1.75\n",
    "bmi = weight_kg / (height_m ** 2)\n",
    "if bmi < 18.5:\n",
    "    category = \"Underweight\"\n",
    "elif 18.5 <= bmi < 24.9:\n",
    "    category = \"Normal weight\"\n",
    "elif 25 <= bmi < 29.9:\n",
    "    category = \"Overweight\"\n",
    "else:\n",
    "    category = \"Obese\"\n",
    "print(\"BMI category:\", category)"
   ]
  },
  {
   "cell_type": "markdown",
   "id": "a1244eed-0d04-4af6-9f57-475eda3a4c00",
   "metadata": {},
   "source": [
    "### **23. How can you use the 'filter()' function with if-else statements to filter elements from a list?**"
   ]
  },
  {
   "cell_type": "code",
   "execution_count": 23,
   "id": "abe6c700-f29e-4237-b0fe-919e591e8d5f",
   "metadata": {},
   "outputs": [
    {
     "name": "stdout",
     "output_type": "stream",
     "text": [
      "Even numbers: [2, 4, 6, 8, 10]\n"
     ]
    }
   ],
   "source": [
    "# Program to use the 'filter()' function with if-else statements to filter elements from a list.\n",
    "numbers = [1, 2, 3, 4, 5, 6, 7, 8, 9, 10]\n",
    "filtered_numbers = list(filter(lambda x: x % 2 == 0, numbers))\n",
    "print(\"Even numbers:\", filtered_numbers)"
   ]
  },
  {
   "cell_type": "markdown",
   "id": "69b2e6ec-da1f-438f-a3a6-00da393ac74c",
   "metadata": {},
   "source": [
    "### **24. Write a Python program to determine if a given number is prime or not using if-else.**"
   ]
  },
  {
   "cell_type": "code",
   "execution_count": 24,
   "id": "42751163-6188-4cd3-8d6e-ef6ce9601787",
   "metadata": {},
   "outputs": [
    {
     "name": "stdout",
     "output_type": "stream",
     "text": [
      "Prime: True\n"
     ]
    }
   ],
   "source": [
    "# Program to determine if a given number is prime or not using if-else.\n",
    "num = 7\n",
    "if num > 1:\n",
    "    for i in range(2, num):\n",
    "        if (num % i) == 0:\n",
    "            is_prime = False\n",
    "            break\n",
    "    else:\n",
    "        is_prime = True\n",
    "else:\n",
    "    is_prime = False\n",
    "print(\"Prime:\", is_prime)"
   ]
  },
  {
   "cell_type": "markdown",
   "id": "98646a6b-be99-41b5-8fb6-878b4ac70f0c",
   "metadata": {},
   "source": [
    "## **Map**:"
   ]
  },
  {
   "cell_type": "markdown",
   "id": "273bebad-abd8-4247-8b30-742a3d82aeb8",
   "metadata": {},
   "source": [
    "### **1. Explain the purpose of the `map()` function in Python and provide an example of how it can be used to apply a function to each element of an iterable.**"
   ]
  },
  {
   "cell_type": "code",
   "execution_count": 1,
   "id": "148b1dd4-998e-4934-ac6f-7e24ba2bfb7d",
   "metadata": {},
   "outputs": [
    {
     "name": "stdout",
     "output_type": "stream",
     "text": [
      "[1, 4, 9, 16, 25]\n"
     ]
    }
   ],
   "source": [
    "# Explanation of the `map()` function in Python:\n",
    "# The `map()` function is used to apply a given function to each item of an iterable (e.g., list, tuple) and returns an iterator that contains the results.\n",
    "# Example:\n",
    "numbers = [1, 2, 3, 4, 5]\n",
    "squared_numbers = list(map(lambda x: x**2, numbers))\n",
    "print(squared_numbers)"
   ]
  },
  {
   "cell_type": "markdown",
   "id": "a6d2b440-5295-4e98-9adb-9788cfa036f3",
   "metadata": {},
   "source": [
    "### **2. Write a Python program that uses the `map()` function to square each element of a list of numbers.**"
   ]
  },
  {
   "cell_type": "code",
   "execution_count": 2,
   "id": "d574aaf8-ef9a-49ea-86bf-be998426a1c9",
   "metadata": {},
   "outputs": [
    {
     "name": "stdout",
     "output_type": "stream",
     "text": [
      "[1, 4, 9, 16, 25]\n"
     ]
    }
   ],
   "source": [
    "# Program using `map()` to square each element of a list of numbers.\n",
    "numbers = [1, 2, 3, 4, 5]\n",
    "squared_numbers = list(map(lambda x: x**2, numbers))\n",
    "print(squared_numbers)"
   ]
  },
  {
   "cell_type": "markdown",
   "id": "a3b89d32-f5bf-4138-8fc8-456611f8d170",
   "metadata": {},
   "source": [
    "### **3. How does the `map()` function differ from a list comprehension in Python, and when would you choose one over the other?**"
   ]
  },
  {
   "cell_type": "code",
   "execution_count": 3,
   "id": "24d4fd32-4403-4384-81ff-ef08b67c7f94",
   "metadata": {},
   "outputs": [],
   "source": [
    "# Explanation of the difference between `map()` and list comprehension:\n",
    "# - `map()` is a built-in Python function used for applying a function to every item in an iterable and returning an iterator. It's typically used for transforming data.\n",
    "# - List comprehensions are a concise way to create lists based on existing lists, with optional conditions and transformations.\n",
    "# When to choose one over the other:\n",
    "# - Use `map()` when you want to apply a function to each element of an iterable.\n",
    "# - Use list comprehensions when you want to create a new list based on existing data with optional filtering and transformations.\n"
   ]
  },
  {
   "cell_type": "markdown",
   "id": "744acbb4-58a0-4911-9c56-a704414d1159",
   "metadata": {},
   "source": [
    "### **4. Create a Python program that uses the `map()` function to convert a list of names to uppercase.**"
   ]
  },
  {
   "cell_type": "code",
   "execution_count": 4,
   "id": "171d10cb-e471-4a7f-9818-593f324afb6d",
   "metadata": {},
   "outputs": [
    {
     "name": "stdout",
     "output_type": "stream",
     "text": [
      "['ALICE', 'BOB', 'CHARLIE']\n"
     ]
    }
   ],
   "source": [
    "# Program using `map()` to convert a list of names to uppercase.\n",
    "names = [\"Alice\", \"Bob\", \"Charlie\"]\n",
    "uppercase_names = list(map(str.upper, names))\n",
    "print(uppercase_names)"
   ]
  },
  {
   "cell_type": "markdown",
   "id": "cb95cae9-5505-4523-829f-d6691f57e72c",
   "metadata": {},
   "source": [
    "### **5. Write a Python program that uses the `map()` function to calculate the length of each word in a list of strings.**"
   ]
  },
  {
   "cell_type": "code",
   "execution_count": 5,
   "id": "a6fb5188-a703-4e9b-ad7e-a4462c7893c2",
   "metadata": {},
   "outputs": [
    {
     "name": "stdout",
     "output_type": "stream",
     "text": [
      "[5, 6, 6]\n"
     ]
    }
   ],
   "source": [
    "# Program using `map()` to calculate the length of each word in a list of strings.\n",
    "words = [\"apple\", \"banana\", \"cherry\"]\n",
    "word_lengths = list(map(len, words))\n",
    "print(word_lengths)"
   ]
  },
  {
   "cell_type": "markdown",
   "id": "f439c531-f79a-40af-9fed-87ce9ca8573a",
   "metadata": {},
   "source": [
    "### **6. How can you use the `map()` function to apply a custom function to elements of multiple lists simultaneously in Python?**"
   ]
  },
  {
   "cell_type": "code",
   "execution_count": 6,
   "id": "81cf54e0-5f91-400a-8552-616dede8a2cb",
   "metadata": {},
   "outputs": [
    {
     "name": "stdout",
     "output_type": "stream",
     "text": [
      "[5, 7, 9]\n"
     ]
    }
   ],
   "source": [
    "# Explanation of using `map()` to apply a custom function to multiple lists:\n",
    "# To apply a custom function to elements of multiple lists, you can use `map()` with the `zip()` function to combine the lists element-wise.\n",
    "# Example:\n",
    "list1 = [1, 2, 3]\n",
    "list2 = [4, 5, 6]\n",
    "result = list(map(lambda x, y: x + y, list1, list2))\n",
    "print(result)"
   ]
  },
  {
   "cell_type": "markdown",
   "id": "fdbbb3e4-f09d-4e3b-8291-e1c1833dccda",
   "metadata": {},
   "source": [
    "### **7. Create a Python program that uses `map()` to convert a list of temperatures from Celsius to Fahrenheit.**"
   ]
  },
  {
   "cell_type": "code",
   "execution_count": 7,
   "id": "9ef6cbb7-f877-4e46-84fe-b4a54e7417e5",
   "metadata": {},
   "outputs": [
    {
     "name": "stdout",
     "output_type": "stream",
     "text": [
      "[32.0, 50.0, 68.0, 86.0, 104.0]\n"
     ]
    }
   ],
   "source": [
    "# Program using `map()` to convert a list of temperatures from Celsius to Fahrenheit.\n",
    "celsius_temperatures = [0, 10, 20, 30, 40]\n",
    "fahrenheit_temperatures = list(map(lambda celsius: (celsius * 9/5) + 32, celsius_temperatures))\n",
    "print(fahrenheit_temperatures)"
   ]
  },
  {
   "cell_type": "markdown",
   "id": "3e4e3f80-9997-4e01-80b3-6d691a89035b",
   "metadata": {},
   "source": [
    "### **8. Write a Python program that uses the `map()` function to round each element of a list of floating-point numbers to the nearest integer.**"
   ]
  },
  {
   "cell_type": "code",
   "execution_count": 8,
   "id": "f5a50446-504a-4bb7-bb30-a995aad388cb",
   "metadata": {},
   "outputs": [
    {
     "name": "stdout",
     "output_type": "stream",
     "text": [
      "[2, 3, 3, 5, 5]\n"
     ]
    }
   ],
   "source": [
    "# Program using `map()` to round each element of a list of floating-point numbers to the nearest integer.\n",
    "floating_numbers = [1.5, 2.7, 3.2, 4.8, 5.3]\n",
    "rounded_integers = list(map(round, floating_numbers))\n",
    "print(rounded_integers)"
   ]
  },
  {
   "cell_type": "markdown",
   "id": "1358bfef-fd3a-4a6d-8d54-3142aa5faaa4",
   "metadata": {},
   "source": [
    "## **Reduce:**"
   ]
  },
  {
   "cell_type": "markdown",
   "id": "a957e1d0-9562-4ff4-a466-8aaccb10b15d",
   "metadata": {},
   "source": [
    "### **1. What is the `reduce()` function in Python, and what module should you import to use it? Provide an example of its basic usage.**"
   ]
  },
  {
   "cell_type": "code",
   "execution_count": 1,
   "id": "c351c25d-4c03-421f-809e-a3bdd9e77d73",
   "metadata": {},
   "outputs": [
    {
     "name": "stdout",
     "output_type": "stream",
     "text": [
      "120\n"
     ]
    }
   ],
   "source": [
    "# Explanation of the `reduce()` function in Python:\n",
    "# The `reduce()` function is part of the `functools` module in Python. It is used to reduce an iterable (e.g., a list) to a single value by applying a given function cumulatively to the items of the iterable.\n",
    "# Example of basic usage:\n",
    "from functools import reduce\n",
    "numbers = [1, 2, 3, 4, 5]\n",
    "product = reduce(lambda x, y: x * y, numbers)\n",
    "print(product)"
   ]
  },
  {
   "cell_type": "markdown",
   "id": "716532f8-5b0c-4287-8e0f-1bf7de1f5db2",
   "metadata": {},
   "source": [
    "### **2. Write a Python program that uses the `reduce()` function to find the product of all elements in a list.**"
   ]
  },
  {
   "cell_type": "code",
   "execution_count": 2,
   "id": "c4ebd617-95fa-4ca2-8fe5-17d7ba3c7ea7",
   "metadata": {},
   "outputs": [
    {
     "name": "stdout",
     "output_type": "stream",
     "text": [
      "120\n"
     ]
    }
   ],
   "source": [
    "# Program using `reduce()` to find the product of all elements in a list.\n",
    "from functools import reduce\n",
    "numbers = [1, 2, 3, 4, 5]\n",
    "product = reduce(lambda x, y: x * y, numbers)\n",
    "print(product)"
   ]
  },
  {
   "cell_type": "markdown",
   "id": "a0860811-c46b-4d9e-b412-7ef3a62f8317",
   "metadata": {},
   "source": [
    "### **3. Create a Python program that uses `reduce()` to find the maximum element in a list of numbers.**"
   ]
  },
  {
   "cell_type": "code",
   "execution_count": 3,
   "id": "7286971f-3f84-43ba-bfb8-682597680b26",
   "metadata": {},
   "outputs": [
    {
     "name": "stdout",
     "output_type": "stream",
     "text": [
      "17\n"
     ]
    }
   ],
   "source": [
    "# Program using `reduce()` to find the maximum element in a list of numbers.\n",
    "from functools import reduce\n",
    "numbers = [8, 12, 5, 17, 6]\n",
    "max_number = reduce(lambda x, y: x if x > y else y, numbers)\n",
    "print(max_number)"
   ]
  },
  {
   "cell_type": "markdown",
   "id": "d41d4e0e-1f52-4345-a895-56e4fc399ce8",
   "metadata": {},
   "source": [
    "### **4. How can you use the `reduce()` function to concatenate a list of strings into a single string?**"
   ]
  },
  {
   "cell_type": "code",
   "execution_count": 4,
   "id": "eef141b7-6ce0-4abd-890c-dc0060642f6d",
   "metadata": {},
   "outputs": [
    {
     "name": "stdout",
     "output_type": "stream",
     "text": [
      "Hello, world! This is a test.\n"
     ]
    }
   ],
   "source": [
    "# Program using `reduce()` to concatenate a list of strings into a single string.\n",
    "from functools import reduce\n",
    "strings = [\"Hello, \", \"world!\", \" This is a test.\"]\n",
    "concatenated_string = reduce(lambda x, y: x + y, strings)\n",
    "print(concatenated_string)"
   ]
  },
  {
   "cell_type": "markdown",
   "id": "a0d21966-da49-4ddc-9c4a-262209d276be",
   "metadata": {},
   "source": [
    "### **5. Write a Python program that calculates the factorial of a number using the `reduce()` function.**"
   ]
  },
  {
   "cell_type": "code",
   "execution_count": 5,
   "id": "863e7b44-5363-45da-be70-9bf92fa98de5",
   "metadata": {},
   "outputs": [
    {
     "name": "stdout",
     "output_type": "stream",
     "text": [
      "120\n"
     ]
    }
   ],
   "source": [
    "# Program using `reduce()` to calculate the factorial of a number.\n",
    "from functools import reduce\n",
    "n = 5\n",
    "factorial = reduce(lambda x, y: x * y, range(1, n+1))\n",
    "print(factorial)"
   ]
  },
  {
   "cell_type": "markdown",
   "id": "e0378b65-ef77-4620-9b06-46ecdc99b24b",
   "metadata": {},
   "source": [
    "### **6. Create a Python program that uses `reduce()` to find the GCD (Greatest Common Divisor) of a list of numbers.**"
   ]
  },
  {
   "cell_type": "code",
   "execution_count": 6,
   "id": "a1bb64ec-d565-4730-b026-e3e62e02c0e0",
   "metadata": {},
   "outputs": [
    {
     "name": "stdout",
     "output_type": "stream",
     "text": [
      "12\n"
     ]
    }
   ],
   "source": [
    "# Program using `reduce()` to find the GCD (Greatest Common Divisor) of a list of numbers.\n",
    "from functools import reduce\n",
    "from math import gcd\n",
    "numbers = [24, 36, 48, 60]\n",
    "gcd_result = reduce(gcd, numbers)\n",
    "print(gcd_result)"
   ]
  },
  {
   "cell_type": "markdown",
   "id": "467484b8-24c3-4ac4-9355-1bcddf64e277",
   "metadata": {},
   "source": [
    "### **7. Write a Python program that uses the `reduce()` function to find the sum of the digits of a given number.**"
   ]
  },
  {
   "cell_type": "code",
   "execution_count": 7,
   "id": "5eb256fe-aede-40c3-ae0c-1da33a56ba95",
   "metadata": {},
   "outputs": [
    {
     "name": "stdout",
     "output_type": "stream",
     "text": [
      "15\n"
     ]
    }
   ],
   "source": [
    "# Program using `reduce()` to find the sum of the digits of a given number.\n",
    "from functools import reduce\n",
    "number = 12345\n",
    "digit_sum = reduce(lambda x, y: int(x) + int(y), str(number))\n",
    "print(digit_sum)"
   ]
  },
  {
   "cell_type": "markdown",
   "id": "eb08cf75-c3f7-4d4a-93a1-726509d7f286",
   "metadata": {},
   "source": [
    "## **Filter:**"
   ]
  },
  {
   "cell_type": "markdown",
   "id": "67585864-e634-4c65-87d7-f35ce3849c79",
   "metadata": {},
   "source": [
    "### **1. Explain the purpose of the `filter()` function in Python and provide an example of how it can be used to filter elements from an iterable.**"
   ]
  },
  {
   "cell_type": "code",
   "execution_count": 1,
   "id": "30ce310c-0d0b-46d4-acf3-aa9a55d94c8a",
   "metadata": {},
   "outputs": [
    {
     "name": "stdout",
     "output_type": "stream",
     "text": [
      "[2, 4, 6]\n"
     ]
    }
   ],
   "source": [
    "# Explanation of the `filter()` function in Python:\n",
    "# The `filter()` function is used to filter elements from an iterable (e.g., list) based on a given function or condition. It returns an iterator containing the items that meet the condition.\n",
    "# Example:\n",
    "numbers = [1, 2, 3, 4, 5, 6]\n",
    "even_numbers = list(filter(lambda x: x % 2 == 0, numbers))\n",
    "print(even_numbers)"
   ]
  },
  {
   "cell_type": "markdown",
   "id": "b69233d1-c517-4ee4-a66c-f19a2dbe8d55",
   "metadata": {},
   "source": [
    "### **2. Write a Python program that uses the `filter()` function to select even numbers from a list of integers.**"
   ]
  },
  {
   "cell_type": "code",
   "execution_count": 2,
   "id": "9180b179-1695-4bdf-81e6-7ddc0aa2c7a2",
   "metadata": {},
   "outputs": [
    {
     "name": "stdout",
     "output_type": "stream",
     "text": [
      "[2, 4, 6]\n"
     ]
    }
   ],
   "source": [
    "# Program using `filter()` to select even numbers from a list of integers.\n",
    "numbers = [1, 2, 3, 4, 5, 6]\n",
    "even_numbers = list(filter(lambda x: x % 2 == 0, numbers))\n",
    "print(even_numbers)"
   ]
  },
  {
   "cell_type": "markdown",
   "id": "6e1741ac-8e16-45df-8163-2c33cf7ccd0e",
   "metadata": {},
   "source": [
    "### **3. Create a Python program that uses the `filter()` function to select names that start with a specific letter from a list of strings.**"
   ]
  },
  {
   "cell_type": "code",
   "execution_count": 3,
   "id": "6a22a065-1215-4bcc-b67f-14056a64e68b",
   "metadata": {},
   "outputs": [
    {
     "name": "stdout",
     "output_type": "stream",
     "text": [
      "['Charlie']\n"
     ]
    }
   ],
   "source": [
    "# Program using `filter()` to select names that start with a specific letter from a list of strings.\n",
    "names = [\"Alice\", \"Bob\", \"Charlie\", \"David\", \"Eve\"]\n",
    "start_letter = \"C\"\n",
    "selected_names = list(filter(lambda name: name.startswith(start_letter), names))\n",
    "print(selected_names)"
   ]
  },
  {
   "cell_type": "markdown",
   "id": "8bff01c8-c183-4340-b2f6-d0372eb45a52",
   "metadata": {},
   "source": [
    "### **4. Write a Python program that uses the `filter()` function to select prime numbers from a list of integers.**"
   ]
  },
  {
   "cell_type": "code",
   "execution_count": 4,
   "id": "e4a51dcb-e3f1-4ae3-9025-392f7ab97f19",
   "metadata": {},
   "outputs": [
    {
     "name": "stdout",
     "output_type": "stream",
     "text": [
      "[2, 3, 5, 7]\n"
     ]
    }
   ],
   "source": [
    "# Program using `filter()` to select prime numbers from a list of integers.\n",
    "def is_prime(n):\n",
    "    if n <= 1:\n",
    "        return False\n",
    "    for i in range(2, int(n**0.5) + 1):\n",
    "        if n % i == 0:\n",
    "            return False\n",
    "    return True\n",
    "\n",
    "numbers = [1, 2, 3, 4, 5, 6, 7, 8, 9]\n",
    "prime_numbers = list(filter(is_prime, numbers))\n",
    "print(prime_numbers)"
   ]
  },
  {
   "cell_type": "markdown",
   "id": "56cb3789-5a30-41dd-982b-0a2257d59ecb",
   "metadata": {},
   "source": [
    "### **5. How can you use the `filter()` function to remove None values from a list in Python?**"
   ]
  },
  {
   "cell_type": "code",
   "execution_count": 5,
   "id": "a6a91a86-d0b9-4255-a881-4205a58fb6b4",
   "metadata": {},
   "outputs": [
    {
     "name": "stdout",
     "output_type": "stream",
     "text": [
      "[1, 2, 3, 4]\n"
     ]
    }
   ],
   "source": [
    "# Program using `filter()` to remove None values from a list in Python.\n",
    "values = [1, None, 2, None, 3, None, 4]\n",
    "filtered_values = list(filter(lambda x: x is not None, values))\n",
    "print(filtered_values)"
   ]
  },
  {
   "cell_type": "markdown",
   "id": "47cd4b9e-ad58-45f7-bff7-a5dc6457d2b6",
   "metadata": {},
   "source": [
    "### **6. Create a Python program that uses `filter()` to select words longer than a certain length from a list of strings.**"
   ]
  },
  {
   "cell_type": "code",
   "execution_count": 6,
   "id": "d96ac81f-5bf3-44e0-aa70-3023575ead3b",
   "metadata": {},
   "outputs": [
    {
     "name": "stdout",
     "output_type": "stream",
     "text": [
      "['apple', 'banana', 'cherry']\n"
     ]
    }
   ],
   "source": [
    "# Program using `filter()` to select words longer than a certain length from a list of strings.\n",
    "words = [\"apple\", \"banana\", \"cherry\", \"date\", \"fig\"]\n",
    "min_length = 5\n",
    "selected_words = list(filter(lambda word: len(word) >= min_length, words))\n",
    "print(selected_words)"
   ]
  },
  {
   "cell_type": "markdown",
   "id": "6b3bff3e-3e0d-4f1e-b548-2cbbed9378df",
   "metadata": {},
   "source": [
    "### **7. Write a Python program that uses the `filter()` function to select elements greater than a specified threshold from a list of values.**"
   ]
  },
  {
   "cell_type": "code",
   "execution_count": 7,
   "id": "153949a3-2a09-4aa5-b899-6028c7cd2f38",
   "metadata": {},
   "outputs": [
    {
     "name": "stdout",
     "output_type": "stream",
     "text": [
      "[30, 35]\n"
     ]
    }
   ],
   "source": [
    "# Program using `filter()` to select elements greater than a specified threshold from a list of values.\n",
    "values = [10, 15, 20, 25, 30, 35]\n",
    "threshold = 25\n",
    "selected_values = list(filter(lambda x: x > threshold, values))\n",
    "print(selected_values)"
   ]
  },
  {
   "cell_type": "markdown",
   "id": "0f19dbab-ed33-42b6-8374-0a580e6b36e5",
   "metadata": {},
   "source": [
    "## **Recursion:**"
   ]
  },
  {
   "cell_type": "markdown",
   "id": "a19fbd06-56ab-42d9-9c85-60e9ef43761b",
   "metadata": {},
   "source": [
    "### **1. Explain the concept of recursion in Python. How does it differ from iteration?**"
   ]
  },
  {
   "cell_type": "code",
   "execution_count": 1,
   "id": "e738d64b-61e1-4f89-8e69-1b77f56f9e24",
   "metadata": {},
   "outputs": [],
   "source": [
    "# Explanation of recursion in Python:\n",
    "# Recursion is a programming concept where a function calls itself to solve a problem. It differs from iteration, which uses loops to repeat a sequence of instructions.\n",
    "# In recursion, a problem is divided into subproblems of the same type, and each subproblem is solved using the same algorithm. Recursion continues until a base case is reached, and the results are combined to solve the original problem.\n"
   ]
  },
  {
   "cell_type": "markdown",
   "id": "ed602624-df1a-4e8e-844e-04455259054b",
   "metadata": {},
   "source": [
    "### **2. Write a Python program to calculate the factorial of a number using recursion.**"
   ]
  },
  {
   "cell_type": "code",
   "execution_count": 2,
   "id": "5c2e9149-f7b4-49e2-9cd5-ac84462c52dc",
   "metadata": {},
   "outputs": [
    {
     "name": "stdout",
     "output_type": "stream",
     "text": [
      "120\n"
     ]
    }
   ],
   "source": [
    "# Program to calculate the factorial of a number using recursion.\n",
    "def factorial(n):\n",
    "    if n == 0:\n",
    "        return 1\n",
    "    else:\n",
    "        return n * factorial(n - 1)\n",
    "\n",
    "result = factorial(5)\n",
    "print(result)"
   ]
  },
  {
   "cell_type": "markdown",
   "id": "0d1eeced-b387-4cd7-8042-bd247ad380b6",
   "metadata": {},
   "source": [
    "### **3. Create a recursive Python function to find the nth Fibonacci number.**"
   ]
  },
  {
   "cell_type": "code",
   "execution_count": 3,
   "id": "e91bab8b-285b-4558-bac3-36907cdad065",
   "metadata": {},
   "outputs": [
    {
     "name": "stdout",
     "output_type": "stream",
     "text": [
      "8\n"
     ]
    }
   ],
   "source": [
    "# Recursive Python function to find the nth Fibonacci number.\n",
    "def fibonacci(n):\n",
    "    if n <= 1:\n",
    "        return n\n",
    "    else:\n",
    "        return fibonacci(n - 1) + fibonacci(n - 2)\n",
    "\n",
    "result = fibonacci(6)\n",
    "print(result)"
   ]
  },
  {
   "cell_type": "markdown",
   "id": "92b93a18-cf30-4fca-a96f-12d5fff59450",
   "metadata": {},
   "source": [
    "### **4. Write a recursive Python function to calculate the sum of all elements in a list.**"
   ]
  },
  {
   "cell_type": "code",
   "execution_count": 4,
   "id": "5b6294d7-ec41-4ea8-8b05-f2803bc0036b",
   "metadata": {},
   "outputs": [
    {
     "name": "stdout",
     "output_type": "stream",
     "text": [
      "15\n"
     ]
    }
   ],
   "source": [
    "# Recursive Python function to calculate the sum of all elements in a list.\n",
    "def list_sum(lst):\n",
    "    if not lst:\n",
    "        return 0\n",
    "    else:\n",
    "        return lst[0] + list_sum(lst[1:])\n",
    "\n",
    "numbers = [1, 2, 3, 4, 5]\n",
    "result = list_sum(numbers)\n",
    "print(result)"
   ]
  },
  {
   "cell_type": "markdown",
   "id": "b8291dfe-2440-457f-89ed-2b7c92328a3f",
   "metadata": {},
   "source": [
    "### **5. How can you prevent a recursive function from running indefinitely, causing a stack overflow error?**"
   ]
  },
  {
   "cell_type": "code",
   "execution_count": 5,
   "id": "8939577e-ba77-41a4-92cb-1cbd79145691",
   "metadata": {},
   "outputs": [],
   "source": [
    "# To prevent a recursive function from running indefinitely, you should:\n",
    "# 1. Define a base case that will terminate the recursion.\n",
    "# 2. Ensure that the function moves toward the base case with each recursive call (i.e., make progress).\n",
    "# 3. Ensure that the problem size decreases with each recursive call.\n",
    "# Failing to satisfy these conditions can lead to a stack overflow error.\n"
   ]
  },
  {
   "cell_type": "markdown",
   "id": "b664716f-5fc4-4d36-ad30-a35152326e63",
   "metadata": {},
   "source": [
    "### **6. Create a recursive Python function to find the greatest common divisor (GCD) of two numbers using the Euclidean algorithm.**"
   ]
  },
  {
   "cell_type": "code",
   "execution_count": 6,
   "id": "4e1d2fec-0461-4991-b522-f4b6e3eb7703",
   "metadata": {},
   "outputs": [
    {
     "name": "stdout",
     "output_type": "stream",
     "text": [
      "6\n"
     ]
    }
   ],
   "source": [
    "# Recursive Python function to find the greatest common divisor (GCD) of two numbers using the Euclidean algorithm.\n",
    "def gcd(a, b):\n",
    "    if b == 0:\n",
    "        return a\n",
    "    else:\n",
    "        return gcd(b, a % b)\n",
    "\n",
    "result = gcd(48, 18)\n",
    "print(result)"
   ]
  },
  {
   "cell_type": "markdown",
   "id": "3e5c8156-9625-43f0-aa5b-fe17a01d989a",
   "metadata": {},
   "source": [
    "### **7. Write a recursive Python function to reverse a string.**"
   ]
  },
  {
   "cell_type": "code",
   "execution_count": 7,
   "id": "d2787917-79f0-4bfb-89bd-c8df33d0ee41",
   "metadata": {},
   "outputs": [
    {
     "name": "stdout",
     "output_type": "stream",
     "text": [
      "olleh\n"
     ]
    }
   ],
   "source": [
    "# Recursive Python function to reverse a string.\n",
    "def reverse_string(s):\n",
    "    if not s:\n",
    "        return s\n",
    "    else:\n",
    "        return reverse_string(s[1:]) + s[0]\n",
    "\n",
    "text = \"hello\"\n",
    "result = reverse_string(text)\n",
    "print(result)"
   ]
  },
  {
   "cell_type": "markdown",
   "id": "44625734-0380-4867-83a3-a80443394c81",
   "metadata": {},
   "source": [
    "### **8. Create a recursive Python function to calculate the power of a number (x^n).**"
   ]
  },
  {
   "cell_type": "code",
   "execution_count": 8,
   "id": "5c9fb07a-83ae-49c2-8619-b351ab0a54ca",
   "metadata": {},
   "outputs": [
    {
     "name": "stdout",
     "output_type": "stream",
     "text": [
      "8\n"
     ]
    }
   ],
   "source": [
    "# Recursive Python function to calculate the power of a number (x^n).\n",
    "def power(x, n):\n",
    "    if n == 0:\n",
    "        return 1\n",
    "    else:\n",
    "        return x * power(x, n - 1)\n",
    "\n",
    "result = power(2, 3)\n",
    "print(result)"
   ]
  },
  {
   "cell_type": "markdown",
   "id": "ca23beaf-cb3b-4df0-a6de-7d821de055b2",
   "metadata": {},
   "source": [
    "### **9. Write a recursive Python function to find all permutations of a given string.**"
   ]
  },
  {
   "cell_type": "code",
   "execution_count": 9,
   "id": "262ba3b2-2105-411f-a1d7-2497756c0543",
   "metadata": {},
   "outputs": [
    {
     "name": "stdout",
     "output_type": "stream",
     "text": [
      "['abc', 'acb', 'bac', 'bca', 'cab', 'cba']\n"
     ]
    }
   ],
   "source": [
    "# Recursive Python function to find all permutations of a given string.\n",
    "def permutations(s):\n",
    "    if len(s) <= 1:\n",
    "        return [s]\n",
    "    else:\n",
    "        perms = []\n",
    "        for char in s:\n",
    "            for perm in permutations(s.replace(char, \"\", 1)):\n",
    "                perms.append(char + perm)\n",
    "        return perms\n",
    "\n",
    "text = \"abc\"\n",
    "result = permutations(text)\n",
    "print(result)"
   ]
  },
  {
   "cell_type": "markdown",
   "id": "62937d49-1e03-4da0-9884-4afecb61faa9",
   "metadata": {},
   "source": [
    "### **10. Write a recursive Python function to check if a string is a palindrome.**"
   ]
  },
  {
   "cell_type": "code",
   "execution_count": 10,
   "id": "ad02bace-8c72-4181-896d-e6aa5983697b",
   "metadata": {},
   "outputs": [
    {
     "name": "stdout",
     "output_type": "stream",
     "text": [
      "True\n"
     ]
    }
   ],
   "source": [
    "# Recursive Python function to check if a string is a palindrome.\n",
    "def is_palindrome(s):\n",
    "    if len(s) <= 1:\n",
    "        return True\n",
    "    if s[0] != s[-1]:\n",
    "        return False\n",
    "    return is_palindrome(s[1:-1])\n",
    "\n",
    "text = \"racecar\"\n",
    "result = is_palindrome(text)\n",
    "print(result)"
   ]
  },
  {
   "cell_type": "markdown",
   "id": "f9de13db-d68b-49cd-b2a0-c5ecf1d9a1e6",
   "metadata": {},
   "source": [
    "### **11. Create a recursive Python function to generate all possible combinations of a list of elements.**"
   ]
  },
  {
   "cell_type": "code",
   "execution_count": 11,
   "id": "0c03f296-283b-4a8a-9880-66c4196e7989",
   "metadata": {},
   "outputs": [
    {
     "name": "stdout",
     "output_type": "stream",
     "text": [
      "[[1, 2], [1, 3], [2, 3]]\n"
     ]
    }
   ],
   "source": [
    "# Recursive Python function to generate all possible combinations of a list of elements.\n",
    "def combinations(elements, k):\n",
    "    if k == 0:\n",
    "        return [[]]\n",
    "    if not elements:\n",
    "        return []\n",
    "    first, rest = elements[0], elements[1:]\n",
    "    with_first = [[first] + combo for combo in combinations(rest, k - 1)]\n",
    "    without_first = combinations(rest, k)\n",
    "    return with_first + without_first\n",
    "\n",
    "elements = [1, 2, 3]\n",
    "k = 2\n",
    "result = combinations(elements, k)\n",
    "print(result)"
   ]
  },
  {
   "cell_type": "markdown",
   "id": "0305c231-9cd9-46a8-8dc2-d0eaef3ce78b",
   "metadata": {},
   "source": [
    "## **Basics of Functions:**"
   ]
  },
  {
   "cell_type": "markdown",
   "id": "215acd5f-9110-48a3-a5c1-51dd2debf416",
   "metadata": {},
   "source": [
    "### **1. What is a function in Python, and why is it used?**"
   ]
  },
  {
   "cell_type": "code",
   "execution_count": 1,
   "id": "8975da1b-a895-47aa-ba3d-700f031cef2d",
   "metadata": {},
   "outputs": [],
   "source": [
    "# A function in Python is a reusable block of code that performs a specific task or a set of tasks. Functions are used to encapsulate a sequence of statements into a single unit, making the code more organized, modular, and easier to maintain. Functions are designed to be called multiple times with different inputs, promoting code reuse and abstraction."
   ]
  },
  {
   "cell_type": "markdown",
   "id": "560c5389-2d17-4595-be91-4f2c1a147303",
   "metadata": {},
   "source": [
    "### **2. How do you define a function in Python? Provide an example.**"
   ]
  },
  {
   "cell_type": "code",
   "execution_count": 2,
   "id": "6304885f-3a96-41d7-bcec-547c8969e9a6",
   "metadata": {},
   "outputs": [],
   "source": [
    "# How to define a function in Python:\n",
    "# You can define a function in Python using the 'def' keyword followed by the function name and a pair of parentheses. Any arguments or parameters the function requires are listed inside the parentheses. The function body is indented and contains the code to be executed when the function is called.\n",
    "# Example:\n",
    "def add_numbers(a, b):\n",
    "    result = a + b\n",
    "    return result"
   ]
  },
  {
   "cell_type": "markdown",
   "id": "7a23da80-28d6-4847-a2e5-b6683eb671ed",
   "metadata": {},
   "source": [
    "### **3. Explain the difference between a function definition and a function call.**"
   ]
  },
  {
   "cell_type": "code",
   "execution_count": 3,
   "id": "bc84e392-0afc-40ef-8718-3be9f0bd685e",
   "metadata": {},
   "outputs": [],
   "source": [
    "# The difference between a function definition and a function call:\n",
    "# - Function Definition: A function definition is where you define the function, specify its name, parameters, and the code to be executed. It is like a blueprint for a task.\n",
    "# - Function Call: A function call is where you use the function by its name, provide actual arguments for the parameters, and execute the code within the function. It is like using the blueprint to build something."
   ]
  },
  {
   "cell_type": "markdown",
   "id": "e06d420d-05b5-40d1-b9e6-152b107563c9",
   "metadata": {},
   "source": [
    "### **4. Write a Python program that defines a function to calculate the sum of two numbers and then calls the function.**"
   ]
  },
  {
   "cell_type": "code",
   "execution_count": 4,
   "id": "4f622a94-9346-4cfd-b3ca-89a8832e7edd",
   "metadata": {},
   "outputs": [
    {
     "name": "stdout",
     "output_type": "stream",
     "text": [
      "8\n"
     ]
    }
   ],
   "source": [
    "# Program that defines a function to calculate the sum of two numbers and then calls the function.\n",
    "def add_numbers(a, b):\n",
    "    result = a + b\n",
    "    return result\n",
    "\n",
    "# Function call\n",
    "result = add_numbers(5, 3)\n",
    "print(result)"
   ]
  },
  {
   "cell_type": "markdown",
   "id": "10fadfe7-4e7d-46bf-9f00-ca028c18404d",
   "metadata": {},
   "source": [
    "### **5. What is a function signature, and what information does it typically include?**"
   ]
  },
  {
   "cell_type": "code",
   "execution_count": 5,
   "id": "099977d1-c190-465a-9e5d-d8ad250c7c2e",
   "metadata": {},
   "outputs": [],
   "source": [
    "# A function signature is a part of a function definition that includes the function name, its parameters, and their data types. It provides a concise summary of how the function should be called and what arguments it expects. A typical function signature includes:\n",
    "# - Function name\n",
    "# - Parameter names\n",
    "# - Data types of parameters\n",
    "# Example:\n",
    "def multiply(a: int, b: int) -> int:\n",
    "    return a * b"
   ]
  },
  {
   "cell_type": "markdown",
   "id": "c8a9bc04-6ab6-48b3-b9aa-9b2164f60e1a",
   "metadata": {},
   "source": [
    "### **6. Create a Python function that takes two arguments and returns their product.**"
   ]
  },
  {
   "cell_type": "code",
   "execution_count": 6,
   "id": "94355522-bacd-4194-8aad-a53afd0f2419",
   "metadata": {},
   "outputs": [
    {
     "name": "stdout",
     "output_type": "stream",
     "text": [
      "21\n"
     ]
    }
   ],
   "source": [
    "# Python function that takes two arguments and returns their product.\n",
    "def multiply(a, b):\n",
    "    return a * b\n",
    "\n",
    "result = multiply(7, 3)\n",
    "print(result)"
   ]
  },
  {
   "cell_type": "markdown",
   "id": "29543bb2-c643-4b01-8484-e882f90b3b76",
   "metadata": {},
   "source": [
    "### **1. Explain the concepts of formal parameters and actual arguments in Python functions.**"
   ]
  },
  {
   "cell_type": "code",
   "execution_count": 1,
   "id": "db122277-f3a2-4ebb-9e66-cb04f7c6f9d1",
   "metadata": {},
   "outputs": [
    {
     "name": "stdout",
     "output_type": "stream",
     "text": [
      "8\n"
     ]
    }
   ],
   "source": [
    "# Formal parameters are placeholders in a function's definition, while actual arguments are the values passed to a function when it is called.\n",
    "# Example:\n",
    "def add(a, b):  # 'a' and 'b' are formal parameters\n",
    "    return a + b\n",
    "\n",
    "result = add(5, 3)  # 5 and 3 are actual arguments\n",
    "print(result)\n"
   ]
  },
  {
   "cell_type": "markdown",
   "id": "4308e01b-8d84-4b77-8518-fb35f8005d8b",
   "metadata": {},
   "source": [
    "### **2. Write a Python program that defines a function with default argument values.**"
   ]
  },
  {
   "cell_type": "code",
   "execution_count": 2,
   "id": "83af26ac-ccc8-409f-9358-a4633b7f19b0",
   "metadata": {},
   "outputs": [
    {
     "name": "stdout",
     "output_type": "stream",
     "text": [
      "Hello, Guest!\n",
      "Hello, Alice!\n"
     ]
    }
   ],
   "source": [
    "# Program that defines a function with default argument values.\n",
    "def greet(name=\"Guest\"):\n",
    "    return f\"Hello, {name}!\"\n",
    "\n",
    "# Function calls\n",
    "message1 = greet()  # Using the default argument\n",
    "message2 = greet(\"Alice\")  # Providing an argument\n",
    "print(message1)\n",
    "print(message2)\n"
   ]
  },
  {
   "cell_type": "markdown",
   "id": "ed8e68d1-30c4-4484-a7ed-c5878f5c8c51",
   "metadata": {},
   "source": [
    "### **3. How do you use keyword arguments in Python function calls? Provide an example.**"
   ]
  },
  {
   "cell_type": "code",
   "execution_count": 3,
   "id": "826ad09f-931d-4da4-ade6-1f35dde7c40e",
   "metadata": {},
   "outputs": [
    {
     "name": "stdout",
     "output_type": "stream",
     "text": [
      "Name: Alice, Age: 30\n"
     ]
    }
   ],
   "source": [
    "# Using keyword arguments in Python function calls.\n",
    "def display_info(name, age):\n",
    "    return f\"Name: {name}, Age: {age}\"\n",
    "\n",
    "# Function call with keyword arguments\n",
    "info = display_info(age=30, name=\"Alice\")\n",
    "print(info)\n"
   ]
  },
  {
   "cell_type": "markdown",
   "id": "edae6bb2-b6dc-48b1-a53d-20f6a601542e",
   "metadata": {},
   "source": [
    "### **4. Create a Python function that accepts a variable number of arguments and calculates their sum.**"
   ]
  },
  {
   "cell_type": "code",
   "execution_count": 4,
   "id": "0f5f9cbe-5ab9-4cdd-b259-844492f5cc4b",
   "metadata": {},
   "outputs": [
    {
     "name": "stdout",
     "output_type": "stream",
     "text": [
      "15\n"
     ]
    }
   ],
   "source": [
    "# Python function that accepts a variable number of arguments and calculates their sum.\n",
    "def calculate_sum(*args):\n",
    "    return sum(args)\n",
    "\n",
    "result = calculate_sum(1, 2, 3, 4, 5)\n",
    "print(result)\n"
   ]
  },
  {
   "cell_type": "markdown",
   "id": "ad719d9a-1847-419d-8449-a8a37e665588",
   "metadata": {},
   "source": [
    "### **5. What is the purpose of the `*args` and `**kwargs` syntax in function parameter lists?**"
   ]
  },
  {
   "cell_type": "code",
   "execution_count": 5,
   "id": "7713d9c1-039f-4c26-9091-76971a724b8b",
   "metadata": {},
   "outputs": [],
   "source": [
    "# The `*args` and `**kwargs` syntax in function parameter lists are used to accept a variable number of positional and keyword arguments, respectively. \n",
    "# `*args` collects extra positional arguments into a tuple, and `**kwargs` collects extra keyword arguments into a dictionary.\n"
   ]
  },
  {
   "cell_type": "markdown",
   "id": "9ffe3d74-1ba9-4322-a1cf-f289b448dec7",
   "metadata": {},
   "source": [
    "### **6. Describe the role of the `return` statement in Python functions and provide examples.**"
   ]
  },
  {
   "cell_type": "code",
   "execution_count": 6,
   "id": "1085384a-ad4f-4c2b-b16a-42f5792552ca",
   "metadata": {},
   "outputs": [
    {
     "name": "stdout",
     "output_type": "stream",
     "text": [
      "8\n",
      "Hello, Alice!\n"
     ]
    }
   ],
   "source": [
    "# The `return` statement in Python functions is used to specify the result or value that the function should produce and send back to the caller.\n",
    "# It also terminates the function's execution. A function can return values of various data types, or it can return None if no value is specified.\n",
    "# Examples:\n",
    "def add(a, b):\n",
    "    return a + b\n",
    "\n",
    "result = add(5, 3)\n",
    "print(result)\n",
    "\n",
    "def greet(name):\n",
    "    if name:\n",
    "        return f\"Hello, {name}!\"\n",
    "    else:\n",
    "        return \"Hello, Guest!\"\n",
    "\n",
    "message = greet(\"Alice\")\n",
    "print(message)\n"
   ]
  },
  {
   "cell_type": "markdown",
   "id": "d76ae6e6-b742-4a9f-9557-e3a3a58c4268",
   "metadata": {},
   "source": [
    "### **7. Explain the concept of variable scope in Python, including local and global variables.**"
   ]
  },
  {
   "cell_type": "code",
   "execution_count": 7,
   "id": "e9382976-8aeb-4b28-b504-aad2c529a0bc",
   "metadata": {},
   "outputs": [],
   "source": [
    "# Variable scope in Python refers to the region of code where a variable is accessible. There are two main types of variable scope:\n",
    "# - Local Variables: Variables defined within a function are considered local variables. They are only accessible within that function.\n",
    "# - Global Variables: Variables defined outside of any function are considered global variables. They are accessible from any part of the code.\n"
   ]
  },
  {
   "cell_type": "markdown",
   "id": "ffa10141-6cc6-4ff2-bbce-4052b6ff49cb",
   "metadata": {},
   "source": [
    "### **8. Write a Python program that demonstrates the use of global variables within functions.**"
   ]
  },
  {
   "cell_type": "code",
   "execution_count": 8,
   "id": "65791011-ab4e-4530-8df8-5cdbcbb6e209",
   "metadata": {},
   "outputs": [
    {
     "name": "stdout",
     "output_type": "stream",
     "text": [
      "10\n"
     ]
    }
   ],
   "source": [
    "# Program that demonstrates the use of global variables within functions.\n",
    "global_variable = 10\n",
    "\n",
    "def access_global_variable():\n",
    "    return global_variable\n",
    "\n",
    "result = access_global_variable()\n",
    "print(result)\n"
   ]
  },
  {
   "cell_type": "markdown",
   "id": "a7a64295-6c30-4514-9a32-40daff36c2b7",
   "metadata": {},
   "source": [
    "### **9. Create a Python function that calculates the factorial of a number and returns it.**"
   ]
  },
  {
   "cell_type": "code",
   "execution_count": 9,
   "id": "339abf45-ad62-4d34-a8f7-0ec95174a279",
   "metadata": {},
   "outputs": [
    {
     "name": "stdout",
     "output_type": "stream",
     "text": [
      "120\n"
     ]
    }
   ],
   "source": [
    "# Python function that calculates the factorial of a number and returns it.\n",
    "def factorial(n):\n",
    "    if n == 0:\n",
    "        return 1\n",
    "    else:\n",
    "        return n * factorial(n - 1)\n",
    "\n",
    "result = factorial(5)\n",
    "print(result)\n"
   ]
  },
  {
   "cell_type": "markdown",
   "id": "068aec6a-98f7-433c-94d4-a5d9f2f4c4b7",
   "metadata": {},
   "source": [
    "### **10. How can you access variables defined outside a function from within the function?**"
   ]
  },
  {
   "cell_type": "code",
   "execution_count": 10,
   "id": "83e21553-9002-4f35-a2ba-6ce44768cca4",
   "metadata": {},
   "outputs": [
    {
     "name": "stdout",
     "output_type": "stream",
     "text": [
      "10\n"
     ]
    }
   ],
   "source": [
    "# Accessing variables defined outside a function from within the function.\n",
    "global_variable = 10\n",
    "\n",
    "def access_global_variable():\n",
    "    return global_variable\n",
    "\n",
    "result = access_global_variable()\n",
    "print(result)\n"
   ]
  },
  {
   "cell_type": "markdown",
   "id": "abbc673d-548d-4acb-9139-768bdb70e926",
   "metadata": {},
   "source": [
    "### **11. What are lambda functions in Python, and when are they typically used?**"
   ]
  },
  {
   "cell_type": "code",
   "execution_count": 11,
   "id": "282a4e66-44ea-4e04-ad68-52c73e466eef",
   "metadata": {},
   "outputs": [
    {
     "name": "stdout",
     "output_type": "stream",
     "text": [
      "8\n"
     ]
    }
   ],
   "source": [
    "# Lambda functions in Python are small, anonymous functions that can have any number of arguments but can only have one expression.\n",
    "# They are typically used when a function is needed for a short period and not required to be named.\n",
    "# Example:\n",
    "add = lambda x, y: x + y\n",
    "result = add(5, 3)\n",
    "print(result)\n"
   ]
  },
  {
   "cell_type": "markdown",
   "id": "5be9c560-85be-4766-9997-83032d66f77a",
   "metadata": {},
   "source": [
    "### **12. Write a Python program that uses lambda functions to sort a list of tuples based on the second element.**"
   ]
  },
  {
   "cell_type": "code",
   "execution_count": 12,
   "id": "3dc9958c-efdd-4047-90e1-43ecf9f36584",
   "metadata": {},
   "outputs": [
    {
     "name": "stdout",
     "output_type": "stream",
     "text": [
      "[(1, 5), (2, 8), (3, 10)]\n"
     ]
    }
   ],
   "source": [
    "# Program that uses lambda functions to sort a list of tuples based on the second element.\n",
    "data = [(3, 10), (1, 5), (2, 8)]\n",
    "sorted_data = sorted(data, key=lambda x: x[1])\n",
    "print(sorted_data)\n"
   ]
  },
  {
   "cell_type": "markdown",
   "id": "272ceeb3-dcd4-4308-90de-b9bcb42ff880",
   "metadata": {},
   "source": [
    "### **13. Explain the concept of higher-order functions in Python, and provide an example.**"
   ]
  },
  {
   "cell_type": "code",
   "execution_count": 13,
   "id": "26ed88f4-b702-446a-bff3-4ccd28ca8249",
   "metadata": {},
   "outputs": [
    {
     "name": "stdout",
     "output_type": "stream",
     "text": [
      "[1, 4, 9, 16, 25]\n"
     ]
    }
   ],
   "source": [
    "# Higher-order functions in Python are functions that take other functions as arguments or return functions as results.\n",
    "# They allow you to abstract over actions, not just data. An example of a higher-order function is the `map()` function.\n",
    "# Example:\n",
    "def apply_function(func, data):\n",
    "    return [func(x) for x in data]\n",
    "\n",
    "def square(x):\n",
    "    return x ** 2\n",
    "\n",
    "numbers = [1, 2, 3, 4, 5]\n",
    "squared_numbers = apply_function(square, numbers)\n",
    "print(squared_numbers)\n"
   ]
  },
  {
   "cell_type": "markdown",
   "id": "78fed695-4b92-4831-b8c1-3fbce8c53e60",
   "metadata": {},
   "source": [
    "### **14. Create a Python function that takes a list of numbers and a function as arguments, applying the function to each element in the list.**"
   ]
  },
  {
   "cell_type": "code",
   "execution_count": 14,
   "id": "cde6c1b0-e613-4537-a3e5-2b091e16cd8a",
   "metadata": {},
   "outputs": [
    {
     "name": "stdout",
     "output_type": "stream",
     "text": [
      "[1, 4, 9, 16, 25]\n"
     ]
    }
   ],
   "source": [
    "# Python function that takes a list of numbers and a function as arguments, applying the function to each element in the list.\n",
    "def apply_function(func, data):\n",
    "    return [func(x) for x in data]\n",
    "\n",
    "def square(x):\n",
    "    return x ** 2\n",
    "\n",
    "numbers = [1, 2, 3, 4, 5]\n",
    "squared_numbers = apply_function(square, numbers)\n",
    "print(squared_numbers)\n"
   ]
  },
  {
   "cell_type": "markdown",
   "id": "07c3f75b-4989-4b22-9b6d-d5fb98afcca4",
   "metadata": {},
   "source": [
    "### **15. Describe the role of built-in functions like `len()`, `max()`, and `min()` in Python.**"
   ]
  },
  {
   "cell_type": "code",
   "execution_count": 15,
   "id": "0e96df0c-3f76-48e1-9ced-ca95fc894e17",
   "metadata": {},
   "outputs": [
    {
     "name": "stdout",
     "output_type": "stream",
     "text": [
      "Length: 5, Max: 5, Min: 1\n"
     ]
    }
   ],
   "source": [
    "# Built-in functions like `len()`, `max()`, and `min()` in Python provide common operations and data analysis capabilities.\n",
    "# They are available as part of the Python standard library and can be used without the need for additional imports.\n",
    "# Examples:\n",
    "numbers = [1, 2, 3, 4, 5]\n",
    "length = len(numbers)\n",
    "maximum = max(numbers)\n",
    "minimum = min(numbers)\n",
    "\n",
    "print(f\"Length: {length}, Max: {maximum}, Min: {minimum}\")\n"
   ]
  },
  {
   "cell_type": "markdown",
   "id": "95bc4ca9-49f9-4412-8dca-04e9fffb5919",
   "metadata": {},
   "source": [
    "### **16. Write a Python program that uses the `map()` function to apply a function to each element of a list.**"
   ]
  },
  {
   "cell_type": "code",
   "execution_count": 16,
   "id": "3b38e4e9-a63f-48ef-93a2-df43f2cd73bd",
   "metadata": {},
   "outputs": [
    {
     "name": "stdout",
     "output_type": "stream",
     "text": [
      "[1, 4, 9, 16, 25]\n"
     ]
    }
   ],
   "source": [
    "# Python program that uses the `map()` function to apply a function to each element of a list.\n",
    "def square(x):\n",
    "    return x ** 2\n",
    "\n",
    "numbers = [1, 2, 3, 4, 5]\n",
    "squared_numbers = list(map(square, numbers))\n",
    "print(squared_numbers)\n"
   ]
  },
  {
   "cell_type": "markdown",
   "id": "6594e629-b0c4-48c7-8c6f-5ead21829d63",
   "metadata": {},
   "source": [
    "### **17. How does the `filter()` function work in Python, and when would you use it?**"
   ]
  },
  {
   "cell_type": "code",
   "execution_count": 17,
   "id": "3b0a5c1d-bdbf-4e96-8e09-ecb42ce02c59",
   "metadata": {},
   "outputs": [],
   "source": [
    "# The `filter()` function in Python is used to filter elements from an iterable based on a specified condition.\n",
    "# It takes a function that returns either True or False for each element, and it returns only the elements for which the function returns True.\n"
   ]
  },
  {
   "cell_type": "markdown",
   "id": "e421c97f-d3e0-41eb-bc96-eb6ad9e3780b",
   "metadata": {},
   "source": [
    "### **18. Create a Python program that uses the `reduce()` function to find the product of all elements in a list.**"
   ]
  },
  {
   "cell_type": "code",
   "execution_count": 18,
   "id": "cc67d330-3054-43aa-9fd9-c63a2e570a86",
   "metadata": {},
   "outputs": [
    {
     "name": "stdout",
     "output_type": "stream",
     "text": [
      "120\n"
     ]
    }
   ],
   "source": [
    "# Python program that uses the `reduce()` function to find the product of all elements in a list.\n",
    "from functools import reduce\n",
    "\n",
    "def multiply(x, y):\n",
    "    return x * y\n",
    "\n",
    "numbers = [1, 2, 3, 4, 5]\n",
    "product = reduce(multiply, numbers)\n",
    "print(product)\n"
   ]
  },
  {
   "cell_type": "markdown",
   "id": "8c70f63d-8b8f-4290-99a0-a0ab8668af11",
   "metadata": {},
   "source": [
    "### **19. Explain the purpose of docstrings in Python functions and how to write them.**"
   ]
  },
  {
   "cell_type": "code",
   "execution_count": 19,
   "id": "ab136eac-af09-47cd-9114-37f1fc3031a8",
   "metadata": {},
   "outputs": [],
   "source": [
    "# The `reduce()` function in Python is used to apply a function cumulatively to the items of an iterable, from left to right.\n",
    "# So as to reduce the iterable to a single accumulated result. The `functools` module should be imported to use the `reduce()` function. \n",
    "# It is often used for tasks that involve accumulating values or performing aggregations.\n"
   ]
  },
  {
   "cell_type": "markdown",
   "id": "7fe46434-e3a5-4408-9fbd-f56bca874252",
   "metadata": {},
   "source": [
    "### **20. Describe some best practices for naming functions and variables in Python, including naming conventions and guidelines.**"
   ]
  },
  {
   "cell_type": "code",
   "execution_count": 20,
   "id": "044ac3fb-f37b-4248-a559-03fd2cf1da89",
   "metadata": {},
   "outputs": [],
   "source": [
    "# Docstrings in Python functions are used to provide documentation or explanations about the function's purpose, parameters, return values, and usage. They are enclosed in triple-quotes and are usually placed at the beginning of the function's body. Docstrings serve as a form of inline documentation and can be accessed using the `help()` function or various documentation tools.\n",
    "# Example:\n",
    "def add(a, b):\n",
    "    '''\n",
    "    This function adds two numbers and returns the result.\n",
    "\n",
    "    Parameters:\n",
    "    a (int): The first number to be added.\n",
    "    b (int): The second number to be added.\n",
    "\n",
    "    Returns:\n",
    "    int: The sum of the two input numbers.\n",
    "    '''\n",
    "    return a + b\n"
   ]
  }
 ],
 "metadata": {
  "kernelspec": {
   "display_name": "Python 3 (ipykernel)",
   "language": "python",
   "name": "python3"
  },
  "language_info": {
   "codemirror_mode": {
    "name": "ipython",
    "version": 3
   },
   "file_extension": ".py",
   "mimetype": "text/x-python",
   "name": "python",
   "nbconvert_exporter": "python",
   "pygments_lexer": "ipython3",
   "version": "3.11.4"
  }
 },
 "nbformat": 4,
 "nbformat_minor": 5
}
