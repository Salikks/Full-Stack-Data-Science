{
 "cells": [
  {
   "cell_type": "markdown",
   "id": "b0c233f9-75ce-440e-b8fb-1201775ce583",
   "metadata": {},
   "source": [
    "## TOPIC: String Based Assignment Problem"
   ]
  },
  {
   "cell_type": "markdown",
   "id": "21111f05-c013-4294-9234-48ca0cf04eb1",
   "metadata": {},
   "source": [
    "### Question 1: Write a program to reverse a string."
   ]
  },
  {
   "cell_type": "code",
   "execution_count": 1,
   "id": "509b10ab-5be9-45af-8f57-32ef9f9cffcc",
   "metadata": {},
   "outputs": [
    {
     "name": "stdin",
     "output_type": "stream",
     "text": [
      "Enter a string:  My Name is Salik\n"
     ]
    },
    {
     "name": "stdout",
     "output_type": "stream",
     "text": [
      "Reversed string: kilaS si emaN yM\n"
     ]
    }
   ],
   "source": [
    "# 1. Take input string from the user.\n",
    "input_string = input(\"Enter a string: \")\n",
    "\n",
    "# 2. Reverse the input string using string slicing.\n",
    "reversed_string = input_string[::-1]\n",
    "\n",
    "# 3. Print the reversed string.\n",
    "print(\"Reversed string:\", reversed_string)"
   ]
  },
  {
   "cell_type": "markdown",
   "id": "51b402d5-efd5-4ebd-814a-7ad46cd69e55",
   "metadata": {},
   "source": [
    "### Question 2: Check if a string is a palindrome."
   ]
  },
  {
   "cell_type": "code",
   "execution_count": 2,
   "id": "7f1cfd3b-ffd8-45d3-8df9-e00c3e28bfda",
   "metadata": {},
   "outputs": [
    {
     "name": "stdin",
     "output_type": "stream",
     "text": [
      "Enter a string:  Bob \n"
     ]
    },
    {
     "name": "stdout",
     "output_type": "stream",
     "text": [
      "The input string is a palindrome.\n"
     ]
    }
   ],
   "source": [
    "# 1. Take input string from the user.\n",
    "input_string = input(\"Enter a string: \")\n",
    "\n",
    "# 2. Remove spaces and convert the string to lowercase for case-insensitive comparison.\n",
    "input_string = input_string.replace(\" \", \"\").lower()\n",
    "\n",
    "# 3. Reverse the input string.\n",
    "reversed_string = input_string[::-1]\n",
    "\n",
    "# 4. Check if the original string is equal to its reverse.\n",
    "if input_string == reversed_string:\n",
    "    print(\"The input string is a palindrome.\")\n",
    "else:\n",
    "    print(\"The input string is not a palindrome.\")"
   ]
  },
  {
   "cell_type": "markdown",
   "id": "bda0db55-5730-4f23-bf50-1bcb419030a9",
   "metadata": {},
   "source": [
    "### Question 3: Convert a string to uppercase.\n",
    "\n"
   ]
  },
  {
   "cell_type": "code",
   "execution_count": 3,
   "id": "d27df4a5-0644-4d08-afb2-2d2cfe65f245",
   "metadata": {},
   "outputs": [
    {
     "name": "stdin",
     "output_type": "stream",
     "text": [
      "Enter a string:  bOb the Builder\n"
     ]
    },
    {
     "name": "stdout",
     "output_type": "stream",
     "text": [
      "Uppercase string: BOB THE BUILDER\n"
     ]
    }
   ],
   "source": [
    "# 1. Take input string from the user.\n",
    "input_string = input(\"Enter a string: \")\n",
    "\n",
    "# 2. Convert the input string to uppercase.\n",
    "uppercase_string = input_string.upper()\n",
    "\n",
    "# 3. Print the string in uppercase.\n",
    "print(\"Uppercase string:\", uppercase_string)"
   ]
  },
  {
   "cell_type": "markdown",
   "id": "527084c1-edc5-440e-bc4b-c79cd7283b1c",
   "metadata": {},
   "source": [
    "### Question 4: Convert a string to lowercase."
   ]
  },
  {
   "cell_type": "code",
   "execution_count": 4,
   "id": "e2f95662-d601-4ecd-9232-cd7c55cb079d",
   "metadata": {},
   "outputs": [
    {
     "name": "stdin",
     "output_type": "stream",
     "text": [
      "Enter a string:  BOB THE BUILDER\n"
     ]
    },
    {
     "name": "stdout",
     "output_type": "stream",
     "text": [
      "Lowercase string: bob the builder\n"
     ]
    }
   ],
   "source": [
    "# 1. Take input string from the user.\n",
    "input_string = input(\"Enter a string: \")\n",
    "\n",
    "# 2. Convert the input string to lowercase.\n",
    "lowercase_string = input_string.lower()\n",
    "\n",
    "# 3. Print the string in lowercase.\n",
    "print(\"Lowercase string:\", lowercase_string)"
   ]
  },
  {
   "cell_type": "markdown",
   "id": "11059a3f-71a8-4ead-b994-143d47dd5b4e",
   "metadata": {},
   "source": [
    "### Question 5: Count the number of vowels in a string."
   ]
  },
  {
   "cell_type": "code",
   "execution_count": 5,
   "id": "9e81d0e0-3446-434e-8244-8cddebfd5ab8",
   "metadata": {},
   "outputs": [
    {
     "name": "stdin",
     "output_type": "stream",
     "text": [
      "Enter a string:  Pikachu\n"
     ]
    },
    {
     "name": "stdout",
     "output_type": "stream",
     "text": [
      "The number of vowels in the string is: 3\n"
     ]
    }
   ],
   "source": [
    "# 1. Take input string from the user.\n",
    "input_string = input(\"Enter a string: \")\n",
    "\n",
    "# 2. Initialize a variable to count vowels.\n",
    "vowel_count = 0\n",
    "\n",
    "# 3. Iterate through each character in the string.\n",
    "for char in input_string:\n",
    "    if char.lower() in 'aeiou':\n",
    "        vowel_count += 1\n",
    "\n",
    "# 4. Print the number of vowels in the string.\n",
    "print(f\"The number of vowels in the string is: {vowel_count}\")"
   ]
  },
  {
   "cell_type": "markdown",
   "id": "52c2dd4b-0e85-4028-8db1-bbe5dfe174ef",
   "metadata": {},
   "source": [
    "### Question 6: Count the number of consonants in a string.\n",
    "\n"
   ]
  },
  {
   "cell_type": "code",
   "execution_count": 6,
   "id": "d4c9c678-a9d9-440e-9156-484556e9db8f",
   "metadata": {},
   "outputs": [
    {
     "name": "stdin",
     "output_type": "stream",
     "text": [
      "Enter a string:  Bulbasaur\n"
     ]
    },
    {
     "name": "stdout",
     "output_type": "stream",
     "text": [
      "The number of consonants in the string is: 5\n"
     ]
    }
   ],
   "source": [
    "# 1. Take input string from the user.\n",
    "input_string = input(\"Enter a string: \")\n",
    "\n",
    "# 2. Initialize a variable to count consonants.\n",
    "consonant_count = 0\n",
    "\n",
    "# 3. Iterate through each character in the string.\n",
    "for char in input_string:\n",
    "    if char.isalpha() and char.lower() not in 'aeiou':\n",
    "        consonant_count += 1\n",
    "\n",
    "# 4. Print the number of consonants in the string.\n",
    "print(f\"The number of consonants in the string is: {consonant_count}\")"
   ]
  },
  {
   "cell_type": "markdown",
   "id": "32ff4fa6-27c0-48e1-975a-d2a9c774ee19",
   "metadata": {},
   "source": [
    "### Question 7: Remove all whitespaces from a string.\n",
    "\n"
   ]
  },
  {
   "cell_type": "code",
   "execution_count": 7,
   "id": "9d459594-48bf-4732-8d02-f0f4a1747718",
   "metadata": {},
   "outputs": [
    {
     "name": "stdin",
     "output_type": "stream",
     "text": [
      "Enter a string:  Da t a  Scie nce\n"
     ]
    },
    {
     "name": "stdout",
     "output_type": "stream",
     "text": [
      "Modified string without spaces: DataScience\n"
     ]
    }
   ],
   "source": [
    "# 1. Take input string from the user.\n",
    "input_string = input(\"Enter a string: \")\n",
    "\n",
    "# 2. Remove all whitespaces from the input string using the replace() method.\n",
    "modified_string = input_string.replace(\" \", \"\")\n",
    "\n",
    "# 3. Print the modified string without spaces.\n",
    "print(\"Modified string without spaces:\", modified_string)"
   ]
  },
  {
   "cell_type": "markdown",
   "id": "81e27240-f1af-462a-8900-95659f425cd1",
   "metadata": {},
   "source": [
    "### Question 8: Find the length of a string without using the len() function.\n",
    "\n"
   ]
  },
  {
   "cell_type": "code",
   "execution_count": 8,
   "id": "d398147b-a680-4527-af38-292cb48ecc65",
   "metadata": {},
   "outputs": [
    {
     "name": "stdin",
     "output_type": "stream",
     "text": [
      "Enter a string:  Data Science\n"
     ]
    },
    {
     "name": "stdout",
     "output_type": "stream",
     "text": [
      "The length of the string is: 12\n"
     ]
    }
   ],
   "source": [
    "# 1. Take input string from the user.\n",
    "input_string = input(\"Enter a string: \")\n",
    "\n",
    "# 2. Initialize a variable to count characters.\n",
    "char_count = 0\n",
    "\n",
    "# 3. Iterate through each character in the string and count them.\n",
    "for char in input_string:\n",
    "    char_count += 1\n",
    "\n",
    "# 4. Print the length of the string.\n",
    "print(f\"The length of the string is: {char_count}\")"
   ]
  },
  {
   "cell_type": "markdown",
   "id": "2db7f3cb-5480-4a0c-9590-bfd8b2a02ce3",
   "metadata": {},
   "source": [
    "### Question 9: Check if a string contains a specific word.\n",
    "\n"
   ]
  },
  {
   "cell_type": "code",
   "execution_count": 9,
   "id": "d4de532b-86d4-4ae8-8934-d8f0b83d64d4",
   "metadata": {},
   "outputs": [
    {
     "name": "stdin",
     "output_type": "stream",
     "text": [
      "Enter a string:  Full Stack Data Science Pro Batch\n",
      "Enter the word to search for:  Pro\n"
     ]
    },
    {
     "name": "stdout",
     "output_type": "stream",
     "text": [
      "The input string contains the word 'Pro'.\n"
     ]
    }
   ],
   "source": [
    "# 1. Take input string from the user.\n",
    "input_string = input(\"Enter a string: \")\n",
    "\n",
    "# 2. Take the word to search from the user.\n",
    "word_to_search = input(\"Enter the word to search for: \")\n",
    "\n",
    "# 3. Check if the word is present in the input string.\n",
    "if word_to_search in input_string:\n",
    "    print(f\"The input string contains the word '{word_to_search}'.\")\n",
    "else:\n",
    "    print(f\"The input string does not contain the word '{word_to_search}'.\")"
   ]
  },
  {
   "cell_type": "markdown",
   "id": "f2c38ad3-e40b-4d63-bf6c-df9f8a77ee62",
   "metadata": {},
   "source": [
    "### Question 10: Replace a word in a string with another word.\n",
    "\n"
   ]
  },
  {
   "cell_type": "code",
   "execution_count": 10,
   "id": "0183a142-f9b9-4997-bb62-cad4b91bc18f",
   "metadata": {},
   "outputs": [
    {
     "name": "stdin",
     "output_type": "stream",
     "text": [
      "Enter a string:  Full Stack Data Science Masters\n",
      "Enter the word to replace:  Masters\n",
      "Enter the replacement word:  Pro\n"
     ]
    },
    {
     "name": "stdout",
     "output_type": "stream",
     "text": [
      "Modified string: Full Stack Data Science Pro\n"
     ]
    }
   ],
   "source": [
    "# 1. Take input string from the user.\n",
    "input_string = input(\"Enter a string: \")\n",
    "\n",
    "# 2. Take the word to replace and the replacement word from the user.\n",
    "word_to_replace = input(\"Enter the word to replace: \")\n",
    "replacement_word = input(\"Enter the replacement word: \")\n",
    "\n",
    "# 3. Replace the word in the input string with the replacement word.\n",
    "modified_string = input_string.replace(word_to_replace, replacement_word)\n",
    "\n",
    "# 4. Print the modified string.\n",
    "print(\"Modified string:\", modified_string)"
   ]
  },
  {
   "cell_type": "markdown",
   "id": "44f81bfe-20c1-4487-b4a5-982dea202cba",
   "metadata": {},
   "source": [
    "### Question 11: Count the occurrences of a word in a string."
   ]
  },
  {
   "cell_type": "code",
   "execution_count": 11,
   "id": "9707485d-5c2c-4e1c-8e08-a2c66b204ec7",
   "metadata": {},
   "outputs": [
    {
     "name": "stdout",
     "output_type": "stream",
     "text": [
      "The word 'string' occurs 2 times in the string.\n"
     ]
    }
   ],
   "source": [
    "# 1. Define a string.\n",
    "string1 = \"This is an example string for testing purposes. This string contains multiple words.\"\n",
    "\n",
    "# 2. Define the word to count.\n",
    "word_to_count = \"string\"\n",
    "\n",
    "# 3. Count the occurrences of the word in the string (case-insensitive).\n",
    "word_count = string1.lower().count(word_to_count.lower())\n",
    "\n",
    "# 4. Print the count of occurrences.\n",
    "print(f\"The word '{word_to_count}' occurs {word_count} times in the string.\")"
   ]
  },
  {
   "cell_type": "markdown",
   "id": "a1ff8add-e0aa-4d99-9a99-9d2f3a4c2fbe",
   "metadata": {},
   "source": [
    "### Question 12: Find the first occurrence of a word in a string.\n",
    "\n"
   ]
  },
  {
   "cell_type": "code",
   "execution_count": 12,
   "id": "29c10d8c-bc5d-454f-a103-42782236118f",
   "metadata": {},
   "outputs": [
    {
     "name": "stdout",
     "output_type": "stream",
     "text": [
      "The first occurrence of the word 'This' starts at index 0.\n"
     ]
    }
   ],
   "source": [
    "# 1. Define the word to find.\n",
    "word_to_find = \"This\"\n",
    "\n",
    "# 2. Find the first occurrence of the word in the string (case-insensitive).\n",
    "first_occurrence = string1.lower().find(word_to_find.lower())\n",
    "\n",
    "# 3. Print the index of the first occurrence.\n",
    "print(f\"The first occurrence of the word '{word_to_find}' starts at index {first_occurrence}.\")"
   ]
  },
  {
   "cell_type": "markdown",
   "id": "a30754d3-7bec-42ab-8583-fe5921b5a063",
   "metadata": {},
   "source": [
    "### Question 13: Find the last occurrence of a word in a string.\n",
    "\n"
   ]
  },
  {
   "cell_type": "code",
   "execution_count": 13,
   "id": "9ac1c1b8-253b-4501-b48b-3eb84357eac9",
   "metadata": {},
   "outputs": [
    {
     "name": "stdout",
     "output_type": "stream",
     "text": [
      "The last occurrence of the word 'This' starts at index 48.\n"
     ]
    }
   ],
   "source": [
    "# 1. Define the word to find.\n",
    "word_to_find = \"This\"\n",
    "\n",
    "# 2. Find the last occurrence of the word in the string (case-insensitive).\n",
    "last_occurrence = string1.lower().rfind(word_to_find.lower())\n",
    "\n",
    "# 3. Print the index of the last occurrence.\n",
    "print(f\"The last occurrence of the word '{word_to_find}' starts at index {last_occurrence}.\")"
   ]
  },
  {
   "cell_type": "markdown",
   "id": "c211f7a9-c8bd-401b-bc2e-12ba4d001507",
   "metadata": {},
   "source": [
    "### Question 14: Split a string into a list of words.\n",
    "\n"
   ]
  },
  {
   "cell_type": "code",
   "execution_count": 14,
   "id": "667232ae-55b2-4cd0-b82b-b5dfa069fbbb",
   "metadata": {},
   "outputs": [
    {
     "name": "stdout",
     "output_type": "stream",
     "text": [
      "List of words: ['This', 'is', 'an', 'example', 'string', 'for', 'testing', 'purposes.', 'This', 'string', 'contains', 'multiple', 'words.']\n"
     ]
    }
   ],
   "source": [
    "# 1. Split the string into a list of words using whitespace as the separator.\n",
    "words_list = string1.split()\n",
    "\n",
    "# 2. Print the list of words.\n",
    "print(\"List of words:\", words_list)"
   ]
  },
  {
   "cell_type": "markdown",
   "id": "da65fe8b-e2f5-4a76-95ef-25e3817b8ad8",
   "metadata": {},
   "source": [
    "### Question 15: Join a list of words into a string.\n",
    "\n"
   ]
  },
  {
   "cell_type": "code",
   "execution_count": 15,
   "id": "8802e90e-c9e6-48c6-9688-19fb96bfc732",
   "metadata": {},
   "outputs": [
    {
     "name": "stdout",
     "output_type": "stream",
     "text": [
      "Joined string: This is a list of words\n"
     ]
    }
   ],
   "source": [
    "# 1. Define a list of words.\n",
    "words_list = [\"This\", \"is\", \"a\", \"list\", \"of\", \"words\"]\n",
    "\n",
    "# 2. Join the list of words into a string using whitespace as the separator.\n",
    "joined_string = \" \".join(words_list)\n",
    "\n",
    "# 3. Print the joined string.\n",
    "print(\"Joined string:\", joined_string)"
   ]
  },
  {
   "cell_type": "markdown",
   "id": "dd06f8e9-9496-4f7c-a091-77cbb1b39760",
   "metadata": {},
   "source": [
    "### Question 16: Convert a string where words are separated by spaces to one where words are separated by underscores."
   ]
  },
  {
   "cell_type": "code",
   "execution_count": 16,
   "id": "148588df-af02-45f2-91f0-e6be0a60cc43",
   "metadata": {},
   "outputs": [
    {
     "name": "stdout",
     "output_type": "stream",
     "text": [
      "String with underscores: This_is_an_example_string_for_testing_purposes._This_string_contains_multiple_words.\n"
     ]
    }
   ],
   "source": [
    "# 1. Replace spaces with underscores in the string.\n",
    "underscored_string = string1.replace(\" \", \"_\")\n",
    "\n",
    "# 2. Print the modified string.\n",
    "print(\"String with underscores:\", underscored_string)"
   ]
  },
  {
   "cell_type": "markdown",
   "id": "4397303e-fc5d-48c6-9d9e-b2c86c4a98d6",
   "metadata": {},
   "source": [
    "### Question 17: Check if a string starts with a specific word or phrase.\n",
    "\n"
   ]
  },
  {
   "cell_type": "code",
   "execution_count": 17,
   "id": "e4321781-1d5d-4479-b278-2f691c822cd5",
   "metadata": {},
   "outputs": [
    {
     "name": "stdout",
     "output_type": "stream",
     "text": [
      "The string starts with 'This'.\n"
     ]
    }
   ],
   "source": [
    "# 1. Define the specific word or phrase to check.\n",
    "start_word = \"This\"\n",
    "\n",
    "# 2. Check if the string starts with the specific word (case-sensitive).\n",
    "starts_with_word = string1.startswith(start_word)\n",
    "\n",
    "# 3. Print the result.\n",
    "if starts_with_word:\n",
    "    print(f\"The string starts with '{start_word}'.\")\n",
    "else:\n",
    "    print(f\"The string does not start with '{start_word}'.\")"
   ]
  },
  {
   "cell_type": "markdown",
   "id": "9e5f411f-6e75-4d69-aca9-d475935a46be",
   "metadata": {},
   "source": [
    "### Question 18: Check if a string ends with a specific word or phrase.\n",
    "\n"
   ]
  },
  {
   "cell_type": "code",
   "execution_count": 18,
   "id": "dc327c9a-dccb-4307-a054-30f2b36bc0ab",
   "metadata": {},
   "outputs": [
    {
     "name": "stdout",
     "output_type": "stream",
     "text": [
      "The string ends with 'words.'.\n"
     ]
    }
   ],
   "source": [
    "# 1. Define the specific word or phrase to check.\n",
    "end_word = \"words.\"\n",
    "\n",
    "# 2. Check if the string ends with the specific word (case-sensitive).\n",
    "ends_with_word = string1.endswith(end_word)\n",
    "\n",
    "# 3. Print the result.\n",
    "if ends_with_word:\n",
    "    print(f\"The string ends with '{end_word}'.\")\n",
    "else:\n",
    "    print(f\"The string does not end with '{end_word}'.\")"
   ]
  },
  {
   "cell_type": "markdown",
   "id": "fa504d8b-113f-4c40-9f3f-3027ebaecb7d",
   "metadata": {},
   "source": [
    "### Question 19: Convert a string to title case (e.g., \"hello world\" to \"Hello World\").\n",
    "\n"
   ]
  },
  {
   "cell_type": "code",
   "execution_count": 19,
   "id": "1e3dd01d-60b9-4397-a6b2-13597646f8cd",
   "metadata": {},
   "outputs": [
    {
     "name": "stdout",
     "output_type": "stream",
     "text": [
      "Title case string: This Is An Example String For Testing Purposes. This String Contains Multiple Words.\n"
     ]
    }
   ],
   "source": [
    "# 1. Convert the string to title case.\n",
    "title_case_string = string1.title()\n",
    "\n",
    "# 2. Print the string in title case.\n",
    "print(\"Title case string:\", title_case_string)"
   ]
  },
  {
   "cell_type": "markdown",
   "id": "085b69f9-4af3-405f-8b87-b9f9b6315e3b",
   "metadata": {},
   "source": [
    "### Question 20: Find the longest word in a string.\n",
    "\n"
   ]
  },
  {
   "cell_type": "code",
   "execution_count": 20,
   "id": "021ba86f-952f-4c9d-aef4-4ee61c5b9bfa",
   "metadata": {},
   "outputs": [
    {
     "name": "stdout",
     "output_type": "stream",
     "text": [
      "Longest word in the string: purposes.\n"
     ]
    }
   ],
   "source": [
    "# 1. Split the string into a list of words.\n",
    "words_list = string1.split()\n",
    "\n",
    "# 2. Find the longest word in the list.\n",
    "longest_word = max(words_list, key=len)\n",
    "\n",
    "# 3. Print the longest word.\n",
    "print(\"Longest word in the string:\", longest_word)"
   ]
  },
  {
   "cell_type": "markdown",
   "id": "4f8b1673-be37-4460-8871-a25f96e2e186",
   "metadata": {},
   "source": [
    "### Question 21: Find the shortest word in a string.\n",
    "\n"
   ]
  },
  {
   "cell_type": "code",
   "execution_count": 21,
   "id": "5ff08848-fa2b-441f-84f7-5bb41e14188d",
   "metadata": {},
   "outputs": [
    {
     "name": "stdout",
     "output_type": "stream",
     "text": [
      "Shortest word in the string: is\n"
     ]
    }
   ],
   "source": [
    "# 1. Split the string into a list of words.\n",
    "words_list = string1.split()\n",
    "\n",
    "# 2. Find the shortest word in the list.\n",
    "shortest_word = min(words_list, key=len)\n",
    "\n",
    "# 3. Print the shortest word.\n",
    "print(\"Shortest word in the string:\", shortest_word)"
   ]
  },
  {
   "cell_type": "markdown",
   "id": "b45d2fd5-b1df-4c71-b069-5759d3504f58",
   "metadata": {},
   "source": [
    "### Question 22: Reverse the order of words in a string.\n",
    "\n"
   ]
  },
  {
   "cell_type": "code",
   "execution_count": 22,
   "id": "9a0ef1a9-6bbb-43ec-b1ca-c718466f6a82",
   "metadata": {},
   "outputs": [
    {
     "name": "stdout",
     "output_type": "stream",
     "text": [
      "Reversed order of words: words. multiple contains string This purposes. testing for string example an is This\n"
     ]
    }
   ],
   "source": [
    "# 1. Split the string into a list of words.\n",
    "words_list = string1.split()\n",
    "\n",
    "# 2. Reverse the order of words in the list.\n",
    "reversed_string = \" \".join(reversed(words_list))\n",
    "\n",
    "# 3. Print the reversed string.\n",
    "print(\"Reversed order of words:\", reversed_string)"
   ]
  },
  {
   "cell_type": "markdown",
   "id": "80de0a96-5c77-45b5-b054-cafccb57819f",
   "metadata": {},
   "source": [
    "### Question 23: Check if a string is alphanumeric.\n",
    "\n"
   ]
  },
  {
   "cell_type": "code",
   "execution_count": 28,
   "id": "617d4938-a4d6-49d7-a3e3-c9714ba81959",
   "metadata": {},
   "outputs": [
    {
     "name": "stdout",
     "output_type": "stream",
     "text": [
      "The string is not alphanumeric.\n"
     ]
    }
   ],
   "source": [
    "# 1. Check if the string consists only of alphanumeric characters.\n",
    "is_alphanumeric = string1.isalnum()\n",
    "\n",
    "# 2. Print the result.\n",
    "if is_alphanumeric:\n",
    "    print(\"The string is alphanumeric.\")\n",
    "else:\n",
    "    print(\"The string is not alphanumeric.\")"
   ]
  },
  {
   "cell_type": "markdown",
   "id": "895bfd03-12e3-4bbf-b5d6-f07db12d69d2",
   "metadata": {},
   "source": [
    "### Question 24: Extract all digits from a string.\n",
    "\n"
   ]
  },
  {
   "cell_type": "code",
   "execution_count": 30,
   "id": "1ba3c59d-6b06-410c-b42a-d3be71c049d7",
   "metadata": {},
   "outputs": [
    {
     "name": "stdout",
     "output_type": "stream",
     "text": [
      "Extracted digits: ['1', '2', '3']\n"
     ]
    }
   ],
   "source": [
    "# 1. Initialize an empty string to store the extracted digits.\n",
    "extracted_digits = []\n",
    "str2 = 'Data 1 Science 2 Pro 3'\n",
    "\n",
    "# 2. Iterate through each character in the string.\n",
    "for char in str2:\n",
    "    # 3. Check if the character is a digit.\n",
    "    if char.isdigit():\n",
    "        # 4. If it's a digit, add it to the extracted_digits string.\n",
    "        extracted_digits.append(char)\n",
    "\n",
    "# 5. Print the extracted digits.\n",
    "print(\"Extracted digits:\", extracted_digits)"
   ]
  },
  {
   "cell_type": "markdown",
   "id": "9a160945-1663-49ba-b8ef-2c1031efa130",
   "metadata": {},
   "source": [
    "### Question 25: Extract all alphabets from a string.\n"
   ]
  },
  {
   "cell_type": "code",
   "execution_count": 39,
   "id": "3d606204-e8b3-4932-8de1-d21cda9db04b",
   "metadata": {},
   "outputs": [
    {
     "name": "stdout",
     "output_type": "stream",
     "text": [
      "Extracted alphabets: ['D', 'a', 't', 'a', 'S', 'c', 'i', 'e', 'n', 'c', 'e', 'P', 'r', 'o']\n"
     ]
    }
   ],
   "source": [
    "# 1. Initialize an empty string to store the extracted alphabets.\n",
    "extracted_alpha = []\n",
    "str2 = 'Data 1 Science 2 Pro 3'\n",
    "\n",
    "# 2. Iterate through each character in the string.\n",
    "for char in str2:\n",
    "    # 3. Check if the character is a alphabet.\n",
    "    if char.isalpha():\n",
    "        # 4. If it's a digit, add it to the extracted_digits string.\n",
    "        extracted_alpha.append(char)\n",
    "\n",
    "# 5. Print the extracted digits.\n",
    "print(\"Extracted alphabets:\", extracted_alpha)"
   ]
  },
  {
   "cell_type": "markdown",
   "id": "7dcd97c5-806d-48c6-a061-1a137eb01a4c",
   "metadata": {},
   "source": [
    "### Question 26: Count the number of uppercase letters in a string.\n",
    "\n"
   ]
  },
  {
   "cell_type": "code",
   "execution_count": 38,
   "id": "f20e8372-5e9f-4c1d-8dfd-83a2b8c4b0b7",
   "metadata": {},
   "outputs": [
    {
     "name": "stdout",
     "output_type": "stream",
     "text": [
      "Number of uppercase letters: 2\n"
     ]
    }
   ],
   "source": [
    "# 1. Count the number of uppercase letters in the string.\n",
    "uppercase_count = sum(1 for char in string1 if char.isupper())\n",
    "\n",
    "# 2. Print the count of uppercase letters.\n",
    "print(\"Number of uppercase letters:\", uppercase_count)"
   ]
  },
  {
   "cell_type": "markdown",
   "id": "867b8856-2949-4b72-8ca0-3df5a98473d9",
   "metadata": {},
   "source": [
    "### Question 27: Count the number of lowercase letters in a string.\n",
    "\n"
   ]
  },
  {
   "cell_type": "code",
   "execution_count": 40,
   "id": "ffb13152-a5be-4dd5-8974-da1bd50c5a67",
   "metadata": {},
   "outputs": [
    {
     "name": "stdout",
     "output_type": "stream",
     "text": [
      "Number of lowercase letters: 68\n"
     ]
    }
   ],
   "source": [
    "# 1. Count the number of lowercase letters in the string.\n",
    "lowercase_count = sum(1 for char in string1 if char.islower())\n",
    "\n",
    "# 2. Print the count of lowercase letters.\n",
    "print(\"Number of lowercase letters:\", lowercase_count)"
   ]
  },
  {
   "cell_type": "markdown",
   "id": "d32193d8-8b29-45a7-8cf2-b134d5eaecc4",
   "metadata": {},
   "source": [
    "### Question 28: Swap the case of each character in a string.\n",
    "\n"
   ]
  },
  {
   "cell_type": "code",
   "execution_count": 43,
   "id": "02e00e4a-0423-409d-94b2-30f264ea86c6",
   "metadata": {},
   "outputs": [
    {
     "name": "stdout",
     "output_type": "stream",
     "text": [
      "String with swapped case: tHIS IS AN EXAMPLE STRING FOR TESTING PURPOSES. tHIS STRING CONTAINS MULTIPLE WORDS.\n"
     ]
    }
   ],
   "source": [
    "# 1. Swap the case of each character in the string.\n",
    "swapped_case_string = string1.swapcase()\n",
    "\n",
    "# 2. Print the string with swapped case.\n",
    "print(\"String with swapped case:\", swapped_case_string)"
   ]
  },
  {
   "cell_type": "markdown",
   "id": "69b5c152-e2d2-4a67-bc35-72d43054101d",
   "metadata": {},
   "source": [
    "### Question 29: Remove a specific word from a string.\n",
    "\n"
   ]
  },
  {
   "cell_type": "code",
   "execution_count": 44,
   "id": "4c50557f-edac-44ee-beb6-1090bd44f927",
   "metadata": {},
   "outputs": [
    {
     "name": "stdout",
     "output_type": "stream",
     "text": [
      "Modified string after removing the word: This is an  string for testing purposes. This string contains multiple words.\n"
     ]
    }
   ],
   "source": [
    "# 1. Define the specific word to remove.\n",
    "word_to_remove = \"example\"\n",
    "\n",
    "# 2. Remove the specific word from the string.\n",
    "modified_string = string1.replace(word_to_remove, \"\")\n",
    "\n",
    "# 3. Print the modified string.\n",
    "print(\"Modified string after removing the word:\", modified_string)"
   ]
  },
  {
   "cell_type": "markdown",
   "id": "23b079e6-1a4b-4d8e-a6ae-b7a2a6dcaa8b",
   "metadata": {},
   "source": [
    "### Question 30: Check if a string is a valid email address.\n",
    "\n"
   ]
  },
  {
   "cell_type": "code",
   "execution_count": 49,
   "id": "b062aeb6-f004-42f7-a897-6d392f0bfbfd",
   "metadata": {},
   "outputs": [
    {
     "name": "stdout",
     "output_type": "stream",
     "text": [
      "The string is a valid email address.\n"
     ]
    }
   ],
   "source": [
    "import re\n",
    "\n",
    "# 1. Define an email string.\n",
    "email = 'ansarisalik0@gmail.com'\n",
    "\n",
    "# 2. Define a regular expression pattern to check for a valid email address.\n",
    "email_pattern = r'^[a-zA-Z0-9._%+-]+@[a-zA-Z0-9.-]+\\.[a-zA-Z]{2,}$'\n",
    "\n",
    "# 3. Use regular expressions to check if the string matches the email pattern.\n",
    "is_valid_email = re.match(email_pattern, email) is not None\n",
    "\n",
    "# 3. Print the result.\n",
    "if is_valid_email:\n",
    "    print(\"The string is a valid email address.\")\n",
    "else:\n",
    "    print(\"The string is not a valid email address.\")"
   ]
  },
  {
   "cell_type": "markdown",
   "id": "cb7c2863-01e5-40b1-a353-211b75e8af35",
   "metadata": {},
   "source": [
    "### Question 31: Extract the username from an email address string.\n",
    "\n"
   ]
  },
  {
   "cell_type": "code",
   "execution_count": 51,
   "id": "2591dbe6-4105-4dcd-858a-0e71a0464b2b",
   "metadata": {},
   "outputs": [
    {
     "name": "stdout",
     "output_type": "stream",
     "text": [
      "Extracted username: ansarisalik0\n"
     ]
    }
   ],
   "source": [
    "# 1. Define an email address string.\n",
    "email_address = \"ansarisalik0@gmail.com\"\n",
    "\n",
    "# 2. Extract the username by splitting the email address at '@'.\n",
    "username = email_address.split(\"@\")[0]\n",
    "\n",
    "# 3. Print the extracted username.\n",
    "print(\"Extracted username:\", username)"
   ]
  },
  {
   "cell_type": "markdown",
   "id": "3fa0e013-d627-4d7e-b00f-89199556bfe9",
   "metadata": {},
   "source": [
    "### Question 32: Extract the domain name from an email address string.\n",
    "\n"
   ]
  },
  {
   "cell_type": "code",
   "execution_count": 52,
   "id": "aa3e2615-45b2-4964-999d-45ab8b5fafda",
   "metadata": {},
   "outputs": [
    {
     "name": "stdout",
     "output_type": "stream",
     "text": [
      "Extracted domain name: gmail.com\n"
     ]
    }
   ],
   "source": [
    "# 1. Define an email address string.\n",
    "email_address = \"ansarisalik0@gmail.com\"\n",
    "\n",
    "# 2. Extract the domain name by splitting the email address at '@'.\n",
    "domain_name = email_address.split(\"@\")[1]\n",
    "\n",
    "# 3. Print the extracted domain name.\n",
    "print(\"Extracted domain name:\", domain_name)"
   ]
  },
  {
   "cell_type": "markdown",
   "id": "6b669727-c100-463e-bf89-a6ac1026a2df",
   "metadata": {},
   "source": [
    "### Question 33: Replace multiple spaces in a string with a single space.\n",
    "\n"
   ]
  },
  {
   "cell_type": "code",
   "execution_count": 53,
   "id": "fa080615-beb4-4336-ae42-93a35f7f5023",
   "metadata": {},
   "outputs": [
    {
     "name": "stdout",
     "output_type": "stream",
     "text": [
      "String with single spaces: This is a string with multiple spaces.\n"
     ]
    }
   ],
   "source": [
    "# 1. Define a string with multiple spaces.\n",
    "string3 = \"This   is   a   string   with   multiple   spaces.\"\n",
    "\n",
    "# 2. Replace multiple spaces with a single space using 'split' and 'join'.\n",
    "string_with_single_space = \" \".join(string3.split())\n",
    "\n",
    "# 3. Print the string with single spaces.\n",
    "print(\"String with single spaces:\", string_with_single_space)"
   ]
  },
  {
   "cell_type": "markdown",
   "id": "52bb40cb-ab42-480a-a3bd-e15c3ebe1362",
   "metadata": {},
   "source": [
    "### Question 34: Check if a string is a valid URL.\n",
    "\n"
   ]
  },
  {
   "cell_type": "code",
   "execution_count": 54,
   "id": "398c6db0-b1a8-4eed-aa9f-349967ca9a16",
   "metadata": {},
   "outputs": [
    {
     "name": "stdout",
     "output_type": "stream",
     "text": [
      "The string is a valid URL.\n"
     ]
    }
   ],
   "source": [
    "# 1. Define a string to check as a URL.\n",
    "url_to_check = \"https://www.example.com\"\n",
    "\n",
    "# 2. Check if the string starts with 'http://' or 'https://'.\n",
    "is_valid_url = url_to_check.startswith(\"http://\") or url_to_check.startswith(\"https://\")\n",
    "\n",
    "# 3. Print the result.\n",
    "if is_valid_url:\n",
    "    print(\"The string is a valid URL.\")\n",
    "else:\n",
    "    print(\"The string is not a valid URL.\")"
   ]
  },
  {
   "cell_type": "markdown",
   "id": "c5a71474-2314-48b0-af80-07f9348f0595",
   "metadata": {},
   "source": [
    "### Question 35: Extract the protocol (http or https) from a URL string.\n",
    "\n"
   ]
  },
  {
   "cell_type": "code",
   "execution_count": 55,
   "id": "afaacfa3-48c5-487b-9adc-5e14ef2d9eea",
   "metadata": {},
   "outputs": [
    {
     "name": "stdout",
     "output_type": "stream",
     "text": [
      "Extracted protocol: https\n"
     ]
    }
   ],
   "source": [
    "# 1. Define a URL string.\n",
    "url_string = \"https://www.example.com\"\n",
    "\n",
    "# 2. Extract the protocol by splitting the URL at '://'.\n",
    "protocol = url_string.split(\"://\")[0]\n",
    "\n",
    "# 3. Print the extracted protocol.\n",
    "print(\"Extracted protocol:\", protocol)"
   ]
  },
  {
   "cell_type": "markdown",
   "id": "66c3622f-edbc-48c2-871c-5a0f56f8aa4e",
   "metadata": {},
   "source": [
    "### Question 36: Find the frequency of each character in a string.\n",
    "\n"
   ]
  },
  {
   "cell_type": "code",
   "execution_count": 57,
   "id": "fc783402-b934-4b0d-8a35-9a63f1ff6660",
   "metadata": {},
   "outputs": [
    {
     "name": "stdout",
     "output_type": "stream",
     "text": [
      "Character frequencies: {'D': 1, 'a': 3, 't': 2, ' ': 3, 'S': 1, 'c': 2, 'i': 1, 'e': 3, 'n': 1, 'M': 1, 's': 2, 'r': 2, 'P': 1, 'o': 1}\n"
     ]
    }
   ],
   "source": [
    "# 1. Define a string.\n",
    "input_string = \"Data Science Masters Pro\"\n",
    "\n",
    "# 2. Initialize an empty dictionary to store character frequencies.\n",
    "char_frequency = {}\n",
    "\n",
    "# 3. Iterate through each character in the string.\n",
    "for char in input_string:\n",
    "    # 4. Count the frequency of each character.\n",
    "    char_frequency[char] = char_frequency.get(char, 0) + 1\n",
    "\n",
    "# 5. Print the character frequencies.\n",
    "print(\"Character frequencies:\", char_frequency)"
   ]
  },
  {
   "cell_type": "markdown",
   "id": "1bd0a426-6e7d-452f-9db8-59d4478a361b",
   "metadata": {},
   "source": [
    "### Question 37: Remove all punctuation from a string.\n",
    "\n"
   ]
  },
  {
   "cell_type": "code",
   "execution_count": 1,
   "id": "b1ba8e0f-ff2c-4378-8e79-1de735996f97",
   "metadata": {},
   "outputs": [
    {
     "name": "stdout",
     "output_type": "stream",
     "text": [
      "String without punctuation: Hello World This is a test string\n"
     ]
    }
   ],
   "source": [
    "import string\n",
    "\n",
    "# 1. Define a string with punctuation.\n",
    "string_with_punctuation = \"Hello, World! This is a test string.\"\n",
    "\n",
    "# 2. Remove punctuation using translation.\n",
    "translator = str.maketrans('', '', string.punctuation)\n",
    "string_without_punctuation = string_with_punctuation.translate(translator)\n",
    "\n",
    "# 3. Print the string without punctuation.\n",
    "print(\"String without punctuation:\", string_without_punctuation)"
   ]
  },
  {
   "cell_type": "markdown",
   "id": "24365e38-81a7-4f04-b1b6-e84dd5e11647",
   "metadata": {},
   "source": [
    "### Question 38: Check if a string contains only digits.\n",
    "\n"
   ]
  },
  {
   "cell_type": "code",
   "execution_count": 2,
   "id": "093f85c4-b5b9-42f4-93ba-5489191aa262",
   "metadata": {},
   "outputs": [
    {
     "name": "stdout",
     "output_type": "stream",
     "text": [
      "The string contains only digits.\n"
     ]
    }
   ],
   "source": [
    "# 1. Define a string to check.\n",
    "string_to_check = \"12345\"\n",
    "\n",
    "# 2. Check if the string contains only digits.\n",
    "contains_only_digits = string_to_check.isdigit()\n",
    "\n",
    "# 3. Print the result.\n",
    "if contains_only_digits:\n",
    "    print(\"The string contains only digits.\")\n",
    "else:\n",
    "    print(\"The string does not contain only digits.\")"
   ]
  },
  {
   "cell_type": "markdown",
   "id": "3f7f8bf5-ad17-4eae-a6d4-ae9356569d3a",
   "metadata": {},
   "source": [
    "### Question 39: Check if a string contains only alphabets.\n",
    "\n"
   ]
  },
  {
   "cell_type": "code",
   "execution_count": 3,
   "id": "ecc47568-25d7-4d77-9f07-9540679a4bbb",
   "metadata": {},
   "outputs": [
    {
     "name": "stdout",
     "output_type": "stream",
     "text": [
      "The string contains only alphabets.\n"
     ]
    }
   ],
   "source": [
    "# 1. Define a string to check.\n",
    "string_to_check = \"HelloWorld\"\n",
    "\n",
    "# 2. Check if the string contains only alphabets.\n",
    "contains_only_alphabets = string_to_check.isalpha()\n",
    "\n",
    "# 3. Print the result.\n",
    "if contains_only_alphabets:\n",
    "    print(\"The string contains only alphabets.\")\n",
    "else:\n",
    "    print(\"The string does not contain only alphabets.\")"
   ]
  },
  {
   "cell_type": "markdown",
   "id": "bc00b51d-41b1-48e1-9144-ca61afed342a",
   "metadata": {},
   "source": [
    "### Question 40: Convert a string to a list of characters.\n",
    "\n"
   ]
  },
  {
   "cell_type": "code",
   "execution_count": 4,
   "id": "094cfcff-2437-451d-b14b-e6ee2d00809e",
   "metadata": {},
   "outputs": [
    {
     "name": "stdout",
     "output_type": "stream",
     "text": [
      "List of characters: ['H', 'e', 'l', 'l', 'o', ',', ' ', 'W', 'o', 'r', 'l', 'd', '!']\n"
     ]
    }
   ],
   "source": [
    "# 1. Define a string.\n",
    "input_string = \"Hello, World!\"\n",
    "\n",
    "# 2. Convert the string to a list of characters.\n",
    "char_list = list(input_string)\n",
    "\n",
    "# 3. Print the list of characters.\n",
    "print(\"List of characters:\", char_list)"
   ]
  },
  {
   "cell_type": "markdown",
   "id": "c3e957c4-c866-44bb-b280-d55d10f2aafb",
   "metadata": {},
   "source": [
    "### Question 41: Check if two strings are anagrams.\n",
    "\n"
   ]
  },
  {
   "cell_type": "code",
   "execution_count": 6,
   "id": "eacd0cfd-c97d-4421-9dac-537b4fad700e",
   "metadata": {},
   "outputs": [
    {
     "name": "stdout",
     "output_type": "stream",
     "text": [
      "The two strings are anagrams.\n"
     ]
    }
   ],
   "source": [
    "# 1. Define two strings to check for anagrams.\n",
    "string1 = \"listen\"\n",
    "string2 = \"silent\"\n",
    "\n",
    "# 2. Check if the two strings are anagrams by sorting and comparing them.\n",
    "is_anagram = sorted(string1) == sorted(string2)\n",
    "\n",
    "# 3. Print the result.\n",
    "if is_anagram:\n",
    "    print(\"The two strings are anagrams.\")\n",
    "else:\n",
    "    print(\"The two strings are not anagrams.\")"
   ]
  },
  {
   "cell_type": "markdown",
   "id": "f5bcc70c-1ec0-40f3-acb1-c5961c3729a2",
   "metadata": {},
   "source": [
    "### Question 42: Encode a string using a Caesar cipher.\n",
    "\n"
   ]
  },
  {
   "cell_type": "code",
   "execution_count": 8,
   "id": "2b9616f9-9615-47ed-89d1-5ee615624488",
   "metadata": {},
   "outputs": [
    {
     "name": "stdout",
     "output_type": "stream",
     "text": [
      "Encoded string: Khoor, Zruog! * 3\n"
     ]
    }
   ],
   "source": [
    "# 1. Define a string to encode.\n",
    "input_string = \"Hello, World! * 3\"\n",
    "\n",
    "# 2. Define the Caesar cipher shift value.\n",
    "shift = 3\n",
    "\n",
    "# 3. Initialize an empty string to store the encoded result.\n",
    "encoded_string = \"\"\n",
    "\n",
    "# 4. Iterate through each character in the input string.\n",
    "for char in input_string:\n",
    "    if char.isalpha():\n",
    "        # 5. Determine whether the character is uppercase or lowercase.\n",
    "        is_upper = char.isupper()\n",
    "        \n",
    "        # 6. Apply the Caesar cipher shift.\n",
    "        char_code = ord(char) - ord('A') if is_upper else ord(char) - ord('a')\n",
    "        encoded_char = chr((char_code + shift) % 26 + ord('A' if is_upper else 'a'))\n",
    "        \n",
    "        # 7. Append the encoded character to the result.\n",
    "        encoded_string += encoded_char\n",
    "    else:\n",
    "        # 8. If the character is not alphabetic, leave it unchanged.\n",
    "        encoded_string += char\n",
    "\n",
    "# 9. Print the encoded string.\n",
    "print(\"Encoded string:\", encoded_string)"
   ]
  },
  {
   "cell_type": "markdown",
   "id": "d1d91aeb-2f2c-4d9e-99fb-81dc72dbf4ed",
   "metadata": {},
   "source": [
    "### Question 43: Decode a Caesar cipher encoded string.\n",
    "\n"
   ]
  },
  {
   "cell_type": "code",
   "execution_count": 9,
   "id": "b3b40e85-d734-4be8-a4c8-885d8c057e1d",
   "metadata": {},
   "outputs": [
    {
     "name": "stdout",
     "output_type": "stream",
     "text": [
      "Decoded string: Hello, World!\n"
     ]
    }
   ],
   "source": [
    "# 1. Define an encoded string to decode.\n",
    "encoded_string = \"Khoor, Zruog!\"\n",
    "\n",
    "# 2. Define the Caesar cipher shift value (must match the encoding shift).\n",
    "shift = 3\n",
    "\n",
    "# 3. Initialize an empty string to store the decoded result.\n",
    "decoded_string = \"\"\n",
    "\n",
    "# 4. Iterate through each character in the encoded string.\n",
    "for char in encoded_string:\n",
    "    if char.isalpha():\n",
    "        # 5. Determine whether the character is uppercase or lowercase.\n",
    "        is_upper = char.isupper()\n",
    "        \n",
    "        # 6. Apply the Caesar cipher shift in reverse.\n",
    "        char_code = ord(char) - ord('A') if is_upper else ord(char) - ord('a')\n",
    "        decoded_char = chr((char_code - shift) % 26 + ord('A' if is_upper else 'a'))\n",
    "        \n",
    "        # 7. Append the decoded character to the result.\n",
    "        decoded_string += decoded_char\n",
    "    else:\n",
    "        # 8. If the character is not alphabetic, leave it unchanged.\n",
    "        decoded_string += char\n",
    "\n",
    "# 9. Print the decoded string.\n",
    "print(\"Decoded string:\", decoded_string)"
   ]
  },
  {
   "cell_type": "markdown",
   "id": "1bbb684c-b18d-4f52-8581-5a72f72ce298",
   "metadata": {},
   "source": [
    "### Question 44: Find the most frequent word in a string.\n",
    "\n"
   ]
  },
  {
   "cell_type": "code",
   "execution_count": 10,
   "id": "5f78b010-e4b5-4f6b-a307-574508e83b30",
   "metadata": {},
   "outputs": [
    {
     "name": "stdout",
     "output_type": "stream",
     "text": [
      "Most frequent word: This\n",
      "Frequency: 2\n"
     ]
    }
   ],
   "source": [
    "# 1. Define a string.\n",
    "input_string = \"This is a sample string with repeated words. This is an example of a string.\"\n",
    "\n",
    "# 2. Split the string into words.\n",
    "words = input_string.split()\n",
    "\n",
    "# 3. Initialize a dictionary to store word frequencies.\n",
    "word_frequency = {}\n",
    "\n",
    "# 4. Iterate through the words and count their frequencies.\n",
    "for word in words:\n",
    "    word_frequency[word] = word_frequency.get(word, 0) + 1\n",
    "\n",
    "# 5. Find the most frequent word.\n",
    "most_frequent_word = max(word_frequency, key=word_frequency.get)\n",
    "\n",
    "# 6. Print the most frequent word and its frequency.\n",
    "print(\"Most frequent word:\", most_frequent_word)\n",
    "print(\"Frequency:\", word_frequency[most_frequent_word])"
   ]
  },
  {
   "cell_type": "markdown",
   "id": "eeae3e3c-4e75-4888-bff8-255e043db5f4",
   "metadata": {},
   "source": [
    "### Question 45: Find all unique words in a string.\n",
    "\n"
   ]
  },
  {
   "cell_type": "code",
   "execution_count": 11,
   "id": "1c3253e6-daa7-47e7-949c-1e5571c8fb37",
   "metadata": {},
   "outputs": [
    {
     "name": "stdout",
     "output_type": "stream",
     "text": [
      "Unique words: ['This', 'is', 'an', 'example', 'of', 'string.', 'a', 'words.', 'with', 'repeated', 'string', 'sample']\n"
     ]
    }
   ],
   "source": [
    "# 1. Define a string.\n",
    "input_string = \"This is a sample string with repeated words. This is an example of a string.\"\n",
    "\n",
    "# 2. Split the string into words.\n",
    "words = input_string.split()\n",
    "\n",
    "# 3. Use a set to store unique words.\n",
    "unique_words = set(words)\n",
    "\n",
    "# 4. Convert the set back to a list if needed.\n",
    "unique_words_list = list(unique_words)\n",
    "\n",
    "# 5. Print the unique words.\n",
    "print(\"Unique words:\", unique_words_list)"
   ]
  },
  {
   "cell_type": "markdown",
   "id": "0cf33b80-7b8b-43c6-b05f-5b390c15405b",
   "metadata": {},
   "source": [
    "### Question 46: Count the number of syllables in a string.\n",
    "\n"
   ]
  },
  {
   "cell_type": "code",
   "execution_count": 12,
   "id": "5b471689-8db7-4196-ab49-fe6866a2f5e4",
   "metadata": {},
   "outputs": [
    {
     "name": "stdout",
     "output_type": "stream",
     "text": [
      "Number of syllables: 3\n"
     ]
    }
   ],
   "source": [
    "# 1. Define a string with a word to count syllables.\n",
    "word = \"syllables\"\n",
    "\n",
    "# 2. Count the number of vowels (assuming vowels represent syllables).\n",
    "syllable_count = sum(1 for char in word if char.lower() in \"aeiouy\")\n",
    "\n",
    "# 3. Print the syllable count.\n",
    "print(\"Number of syllables:\", syllable_count)"
   ]
  },
  {
   "cell_type": "markdown",
   "id": "1de81823-bbc0-4276-b27d-32b2489bc47a",
   "metadata": {},
   "source": [
    "### Question 47: Check if a string contains any special characters.\n",
    "\n"
   ]
  },
  {
   "cell_type": "code",
   "execution_count": 13,
   "id": "4aef20c7-2469-4387-b7a2-a65324d26208",
   "metadata": {},
   "outputs": [
    {
     "name": "stdout",
     "output_type": "stream",
     "text": [
      "The string contains special characters.\n"
     ]
    }
   ],
   "source": [
    "# 1. Define a string to check.\n",
    "input_string = \"This is a string with 123@%Li$^.\"\n",
    "\n",
    "# 2. Define a set of special characters.\n",
    "special_characters = set(\"!@#$%^&*()_+-=[]{}|;:,.<>?\")\n",
    "\n",
    "# 3. Check if the string contains any special characters.\n",
    "contains_special_characters = any(char in special_characters for char in input_string)\n",
    "\n",
    "# 4. Print the result.\n",
    "if contains_special_characters:\n",
    "    print(\"The string contains special characters.\")\n",
    "else:\n",
    "    print(\"The string does not contain special characters.\")"
   ]
  },
  {
   "cell_type": "markdown",
   "id": "5937cce4-93d4-4103-8891-e5737cbaa2a9",
   "metadata": {},
   "source": [
    "### Question 48: Remove the nth word from a string.\n",
    "\n"
   ]
  },
  {
   "cell_type": "code",
   "execution_count": 14,
   "id": "f6233484-46bf-485a-a47c-cd87e3d76871",
   "metadata": {},
   "outputs": [
    {
     "name": "stdout",
     "output_type": "stream",
     "text": [
      "Updated string: This is a sentence to remove the nth word.\n"
     ]
    }
   ],
   "source": [
    "# 1. Define a string.\n",
    "input_string = \"This is a sample sentence to remove the nth word.\"\n",
    "\n",
    "# 2. Split the string into words.\n",
    "words = input_string.split()\n",
    "\n",
    "# 3. Define the index (n) of the word to remove (0-based index).\n",
    "n = 3  # Change this to the desired index.\n",
    "\n",
    "# 4. Check if the index is valid.\n",
    "if 0 <= n < len(words):\n",
    "    # 5. Remove the nth word from the list of words.\n",
    "    del words[n]\n",
    "\n",
    "    # 6. Reconstruct the string with the updated list of words.\n",
    "    updated_string = \" \".join(words)\n",
    "\n",
    "    # 7. Print the updated string.\n",
    "    print(\"Updated string:\", updated_string)\n",
    "else:\n",
    "    print(\"Invalid index. No word removed.\")"
   ]
  },
  {
   "cell_type": "markdown",
   "id": "54ad44f8-619e-4974-a73d-184ff0100476",
   "metadata": {},
   "source": [
    "### Question 49: Insert a word at the nth position in a string.\n",
    "\n"
   ]
  },
  {
   "cell_type": "code",
   "execution_count": 15,
   "id": "513e00fb-3d82-42b1-905c-72b243913ee0",
   "metadata": {},
   "outputs": [
    {
     "name": "stdout",
     "output_type": "stream",
     "text": [
      "Updated string: This is a new_word sample sentence to insert a word.\n"
     ]
    }
   ],
   "source": [
    "# 1. Define a string.\n",
    "input_string = \"This is a sample sentence to insert a word.\"\n",
    "\n",
    "# 2. Split the string into words.\n",
    "words = input_string.split()\n",
    "\n",
    "# 3. Define the index (n) where the word will be inserted (0-based index).\n",
    "n = 3  # Change this to the desired index.\n",
    "\n",
    "# 4. Define the word to insert.\n",
    "word_to_insert = \"new_word\"\n",
    "\n",
    "# 5. Check if the index is valid.\n",
    "if 0 <= n <= len(words):\n",
    "    # 6. Insert the word at the specified index.\n",
    "    words.insert(n, word_to_insert)\n",
    "\n",
    "    # 7. Reconstruct the string with the updated list of words.\n",
    "    updated_string = \" \".join(words)\n",
    "\n",
    "    # 8. Print the updated string.\n",
    "    print(\"Updated string:\", updated_string)\n",
    "else:\n",
    "    print(\"Invalid index. No word inserted.\")"
   ]
  },
  {
   "cell_type": "markdown",
   "id": "b14c5b70-f586-438b-b895-1e73e6623cb4",
   "metadata": {},
   "source": [
    "### Question 50: Convert a CSV string to a list of lists.\n",
    "\n"
   ]
  },
  {
   "cell_type": "code",
   "execution_count": 16,
   "id": "fb7b7357-b34b-4698-89fb-2b75860faf87",
   "metadata": {},
   "outputs": [
    {
     "name": "stdout",
     "output_type": "stream",
     "text": [
      "CSV data:\n",
      "['Name', 'Age', 'Location']\n",
      "['John', '30', 'New York']\n",
      "['Alice', '25', 'Los Angeles']\n"
     ]
    }
   ],
   "source": [
    "# 1. Define a CSV string.\n",
    "csv_string = \"Name,Age,Location\\nJohn,30,New York\\nAlice,25,Los Angeles\"\n",
    "\n",
    "# 2. Split the CSV string into lines.\n",
    "csv_lines = csv_string.split('\\n')\n",
    "\n",
    "# 3. Initialize an empty list to store the result.\n",
    "csv_data = []\n",
    "\n",
    "# 4. Iterate through the lines and split each line into a list.\n",
    "for line in csv_lines:\n",
    "    csv_data.append(line.split(','))\n",
    "\n",
    "# 5. Print the list of lists (CSV data).\n",
    "print(\"CSV data:\")\n",
    "for row in csv_data:\n",
    "    print(row)"
   ]
  },
  {
   "cell_type": "markdown",
   "id": "4f2d33b4-f051-418c-98f7-c03c1fd26a88",
   "metadata": {},
   "source": [
    "## List Based Practice Problem :"
   ]
  },
  {
   "cell_type": "markdown",
   "id": "362c4924-b458-4f20-bd5a-6d1ee17c1aca",
   "metadata": {},
   "source": [
    "### Question 1: Create a list with integers from 1 to 10.\n",
    "\n"
   ]
  },
  {
   "cell_type": "code",
   "execution_count": 1,
   "id": "9e8012b6-3d99-4fa6-b408-2d668d6a8bc5",
   "metadata": {},
   "outputs": [],
   "source": [
    "# 1. Create a list with integers from 1 to 10.\n",
    "my_list = [1, 2, 3, 4, 5, 6, 7, 8, 9, 10]"
   ]
  },
  {
   "cell_type": "markdown",
   "id": "8dba5085-f994-4bc2-a303-c2edf95ee535",
   "metadata": {},
   "source": [
    "### Question 2: Find the length of a list without using the len() function.\n",
    "\n"
   ]
  },
  {
   "cell_type": "code",
   "execution_count": 2,
   "id": "f425249e-647c-434e-b84d-8d6b68c9f476",
   "metadata": {},
   "outputs": [
    {
     "name": "stdout",
     "output_type": "stream",
     "text": [
      "Length of the list: 10\n"
     ]
    }
   ],
   "source": [
    "# 1. Initialize a counter variable.\n",
    "count = 0\n",
    "\n",
    "# 2. Iterate through the list and increment the counter for each element.\n",
    "for element in my_list:\n",
    "    count += 1\n",
    "\n",
    "# 3. Print the length of the list.\n",
    "print(\"Length of the list:\", count)"
   ]
  },
  {
   "cell_type": "markdown",
   "id": "cba5cc1e-2396-4517-bbb9-8493d1614793",
   "metadata": {},
   "source": [
    "### Question 3: Append an element to the end of a list.\n",
    "\n"
   ]
  },
  {
   "cell_type": "code",
   "execution_count": 3,
   "id": "bc7c4242-45e6-4dc8-bd3f-f688659fbf6e",
   "metadata": {},
   "outputs": [
    {
     "name": "stdout",
     "output_type": "stream",
     "text": [
      "Updated list: [1, 2, 3, 4, 5, 6, 7, 8, 9, 10, 11]\n"
     ]
    }
   ],
   "source": [
    "# 1. Append an element to the end of the list.\n",
    "my_list.append(11)\n",
    "\n",
    "# 2. Print the updated list.\n",
    "print(\"Updated list:\", my_list)"
   ]
  },
  {
   "cell_type": "markdown",
   "id": "71dc5821-340e-4c07-924e-9c0b207df3ff",
   "metadata": {},
   "source": [
    "### Question 4: Insert an element at a specific index in a list.\n",
    "\n"
   ]
  },
  {
   "cell_type": "code",
   "execution_count": 4,
   "id": "839d399e-f022-4f21-8add-5c99021a5a1c",
   "metadata": {},
   "outputs": [
    {
     "name": "stdout",
     "output_type": "stream",
     "text": [
      "Updated list: [1, 2, 3, 42, 4, 5, 6, 7, 8, 9, 10, 11]\n"
     ]
    }
   ],
   "source": [
    "# 1. Insert an element at a specific index (e.g., index 3).\n",
    "my_list.insert(3, 42)\n",
    "\n",
    "# 2. Print the updated list.\n",
    "print(\"Updated list:\", my_list)"
   ]
  },
  {
   "cell_type": "markdown",
   "id": "9ffb24c8-8ee9-4936-96e8-1d960c6837c1",
   "metadata": {},
   "source": [
    "### Question 5: Remove an element from a list by its value.\n",
    "\n"
   ]
  },
  {
   "cell_type": "code",
   "execution_count": 5,
   "id": "cc688fa6-bc04-430b-9aa0-fea857ad9f8d",
   "metadata": {},
   "outputs": [
    {
     "name": "stdout",
     "output_type": "stream",
     "text": [
      "Updated list: [1, 2, 3, 42, 4, 6, 7, 8, 9, 10, 11]\n"
     ]
    }
   ],
   "source": [
    "# 1. Remove an element from the list by its value (e.g., remove 5).\n",
    "my_list.remove(5)\n",
    "\n",
    "# 2. Print the updated list.\n",
    "print(\"Updated list:\", my_list)"
   ]
  },
  {
   "cell_type": "markdown",
   "id": "b8967ba7-0f15-4e69-83c9-68738f6d4226",
   "metadata": {},
   "source": [
    "### Question 6: Remove an element from a list by its index.\n",
    "\n"
   ]
  },
  {
   "cell_type": "code",
   "execution_count": 6,
   "id": "83519ddc-9c14-40c9-bed2-3b6eb711b50e",
   "metadata": {},
   "outputs": [
    {
     "name": "stdout",
     "output_type": "stream",
     "text": [
      "Updated list: [1, 2, 42, 4, 6, 7, 8, 9, 10, 11]\n"
     ]
    }
   ],
   "source": [
    "# 1. Remove an element from the list by its index (e.g., index 2).\n",
    "del my_list[2]\n",
    "\n",
    "# 2. Print the updated list.\n",
    "print(\"Updated list:\", my_list)"
   ]
  },
  {
   "cell_type": "markdown",
   "id": "5513c319-08b8-4ae2-b7b5-e04001274792",
   "metadata": {},
   "source": [
    "### Question 7: Check if an element exists in a list.\n",
    "\n"
   ]
  },
  {
   "cell_type": "code",
   "execution_count": 7,
   "id": "24908160-3dbd-4079-888b-8ea9dbe90de9",
   "metadata": {},
   "outputs": [
    {
     "name": "stdout",
     "output_type": "stream",
     "text": [
      "Element exists in the list.\n"
     ]
    }
   ],
   "source": [
    "# 1. Check if an element (e.g., 7) exists in the list.\n",
    "element_exists = 7 in my_list\n",
    "\n",
    "# 2. Print the result.\n",
    "if element_exists:\n",
    "    print(\"Element exists in the list.\")\n",
    "else:\n",
    "    print(\"Element does not exist in the list.\")"
   ]
  },
  {
   "cell_type": "markdown",
   "id": "7b03c555-0fc8-4c85-8fdd-08fdd372f2a0",
   "metadata": {},
   "source": [
    "### Question 8: Find the index of the first occurrence of an element in a list.\n",
    "\n"
   ]
  },
  {
   "cell_type": "code",
   "execution_count": 8,
   "id": "bdfcf19b-2583-487c-8b1a-88cf59218d45",
   "metadata": {},
   "outputs": [
    {
     "name": "stdout",
     "output_type": "stream",
     "text": [
      "Index of the element: 3\n"
     ]
    }
   ],
   "source": [
    "# 1. Find the index of the first occurrence of an element (e.g., 4) in the list.\n",
    "index = my_list.index(4)\n",
    "\n",
    "# 2. Print the index.\n",
    "print(\"Index of the element:\", index)"
   ]
  },
  {
   "cell_type": "markdown",
   "id": "74744f3b-26f9-4ce8-a9f5-41c093dac8bb",
   "metadata": {},
   "source": [
    "### Question 9: Count the occurrences of an element in a list.\n",
    "\n"
   ]
  },
  {
   "cell_type": "code",
   "execution_count": 10,
   "id": "288e7371-9491-4276-9d09-49559cb8968c",
   "metadata": {},
   "outputs": [
    {
     "name": "stdout",
     "output_type": "stream",
     "text": [
      "Count of the element: 1\n"
     ]
    }
   ],
   "source": [
    "# 1. Count the occurrences of an element (e.g., 3) in the list.\n",
    "count = my_list.count(4)\n",
    "\n",
    "# 2. Print the count.\n",
    "print(\"Count of the element:\", count)"
   ]
  },
  {
   "cell_type": "markdown",
   "id": "4c72c4b0-0cb6-4e6f-9a6e-ba7817eb946f",
   "metadata": {},
   "source": [
    "### Question 10: Reverse the order of elements in a list.\n",
    "\n"
   ]
  },
  {
   "cell_type": "code",
   "execution_count": 11,
   "id": "09de8fcf-6217-4f0d-a89f-883b27f5d3f6",
   "metadata": {},
   "outputs": [
    {
     "name": "stdout",
     "output_type": "stream",
     "text": [
      "Reversed list: [11, 10, 9, 8, 7, 6, 4, 42, 2, 1]\n"
     ]
    }
   ],
   "source": [
    "# 1. Reverse the order of elements in the list.\n",
    "my_list.reverse()\n",
    "\n",
    "# 2. Print the reversed list.\n",
    "print(\"Reversed list:\", my_list)"
   ]
  },
  {
   "cell_type": "markdown",
   "id": "f36ad077-f1b6-40ee-835b-854043964ca5",
   "metadata": {},
   "source": [
    "### Question 11: Sort a list in ascending order.\n",
    "\n"
   ]
  },
  {
   "cell_type": "code",
   "execution_count": 12,
   "id": "bb8aef40-f463-4aed-a2b4-f711d714cb23",
   "metadata": {},
   "outputs": [
    {
     "name": "stdout",
     "output_type": "stream",
     "text": [
      "Sorted list (ascending): [1, 2, 4, 6, 7, 8, 9, 10, 11, 42]\n"
     ]
    }
   ],
   "source": [
    "# 1. Sort the list in ascending order.\n",
    "my_list.sort()\n",
    "\n",
    "# 2. Print the sorted list.\n",
    "print(\"Sorted list (ascending):\", my_list)"
   ]
  },
  {
   "cell_type": "markdown",
   "id": "8ca90391-875c-45a7-aa4a-71832ea27ab8",
   "metadata": {},
   "source": [
    "### Question 12: Sort a list in descending order.\n",
    "\n"
   ]
  },
  {
   "cell_type": "code",
   "execution_count": 13,
   "id": "5878bce6-aa4e-4c06-90a7-81b311a44165",
   "metadata": {},
   "outputs": [
    {
     "name": "stdout",
     "output_type": "stream",
     "text": [
      "Sorted list (descending): [42, 11, 10, 9, 8, 7, 6, 4, 2, 1]\n"
     ]
    }
   ],
   "source": [
    "# 1. Sort the list in descending order.\n",
    "my_list.sort(reverse=True)\n",
    "\n",
    "# 2. Print the sorted list.\n",
    "print(\"Sorted list (descending):\", my_list)"
   ]
  },
  {
   "cell_type": "markdown",
   "id": "3df84eb2-7c21-4522-a50d-281b5d608c16",
   "metadata": {},
   "source": [
    "### Question 13: Create a list of even numbers from 1 to 20.\n",
    "\n"
   ]
  },
  {
   "cell_type": "code",
   "execution_count": 15,
   "id": "850660ea-38a0-40f8-a188-124380becfda",
   "metadata": {},
   "outputs": [
    {
     "data": {
      "text/plain": [
       "[2, 4, 6, 8, 10, 12, 14, 16, 18, 20]"
      ]
     },
     "execution_count": 15,
     "metadata": {},
     "output_type": "execute_result"
    }
   ],
   "source": [
    "# 1. Create a list of even numbers from 1 to 20.\n",
    "even_numbers = [x for x in range(1, 21) if x % 2 == 0]\n",
    "even_numbers"
   ]
  },
  {
   "cell_type": "markdown",
   "id": "dde8c846-7e3e-4dfb-a3de-f9951dce9014",
   "metadata": {},
   "source": [
    "### Question 14: Create a list of odd numbers from 1 to 20.\n",
    "\n"
   ]
  },
  {
   "cell_type": "code",
   "execution_count": 16,
   "id": "48b46e85-d307-4dc0-9ec2-6fb1ceed8d0e",
   "metadata": {},
   "outputs": [
    {
     "data": {
      "text/plain": [
       "[1, 3, 5, 7, 9, 11, 13, 15, 17, 19]"
      ]
     },
     "execution_count": 16,
     "metadata": {},
     "output_type": "execute_result"
    }
   ],
   "source": [
    "# 1. Create a list of odd numbers from 1 to 20.\n",
    "odd_numbers = [x for x in range(1, 21) if x % 2 != 0]\n",
    "odd_numbers"
   ]
  },
  {
   "cell_type": "markdown",
   "id": "72a8bfbb-ebd5-4ba1-8017-570da1f1b3f1",
   "metadata": {},
   "source": [
    "### Question 15: Find the sum of all elements in a list.\n",
    "\n"
   ]
  },
  {
   "cell_type": "code",
   "execution_count": 17,
   "id": "19fe12d3-058f-4f25-815d-c3eeddac78c7",
   "metadata": {},
   "outputs": [
    {
     "name": "stdout",
     "output_type": "stream",
     "text": [
      "Sum of elements: 100\n"
     ]
    }
   ],
   "source": [
    "# 1. Find the sum of all elements in the list.\n",
    "sum_of_elements = sum(my_list)\n",
    "\n",
    "# 2. Print the sum.\n",
    "print(\"Sum of elements:\", sum_of_elements)"
   ]
  },
  {
   "cell_type": "markdown",
   "id": "09f55c35-d1a0-4a14-976d-fbe284e43d3c",
   "metadata": {},
   "source": [
    "### Question 16: Find the maximum value in a list.\n",
    "\n"
   ]
  },
  {
   "cell_type": "code",
   "execution_count": 18,
   "id": "9999ffab-0f71-42a5-b9a4-b521754e28b9",
   "metadata": {},
   "outputs": [
    {
     "name": "stdout",
     "output_type": "stream",
     "text": [
      "Maximum value: 42\n"
     ]
    }
   ],
   "source": [
    "# 1. Find the maximum value in the list.\n",
    "max_value = max(my_list)\n",
    "\n",
    "# 2. Print the maximum value.\n",
    "print(\"Maximum value:\", max_value)"
   ]
  },
  {
   "cell_type": "markdown",
   "id": "ac7e42a1-6aab-4810-8dd3-45f953bb0b0b",
   "metadata": {},
   "source": [
    "### Question 17: Find the minimum value in a list.\n",
    "\n"
   ]
  },
  {
   "cell_type": "code",
   "execution_count": 19,
   "id": "f01f0af5-a44f-46fa-8754-4e209e039630",
   "metadata": {},
   "outputs": [
    {
     "name": "stdout",
     "output_type": "stream",
     "text": [
      "Minimum value: 1\n"
     ]
    }
   ],
   "source": [
    "# 1. Find the minimum value in the list.\n",
    "min_value = min(my_list)\n",
    "\n",
    "# 2. Print the minimum value.\n",
    "print(\"Minimum value:\", min_value)"
   ]
  },
  {
   "cell_type": "markdown",
   "id": "6bc16b68-3b1c-4cbd-bf47-33a71e33e33f",
   "metadata": {},
   "source": [
    "### Question 18: Create a list of squares of numbers from 1 to 10.\n",
    "\n"
   ]
  },
  {
   "cell_type": "code",
   "execution_count": 23,
   "id": "5bb582a1-16cd-4bb4-841f-bc1ace720dc9",
   "metadata": {},
   "outputs": [
    {
     "name": "stdout",
     "output_type": "stream",
     "text": [
      "[1, 4, 9, 16, 25, 36, 49, 64, 81, 100]\n"
     ]
    }
   ],
   "source": [
    "# 1. Create a list of squares of numbers from 1 to 10.\n",
    "squares = [x ** 2 for x in range(1, 11)]\n",
    "print(squares)"
   ]
  },
  {
   "cell_type": "markdown",
   "id": "0874f64b-a20e-4474-bb45-875e7f6cf580",
   "metadata": {},
   "source": [
    "### Question 19: Create a list of random numbers.\n",
    "\n"
   ]
  },
  {
   "cell_type": "code",
   "execution_count": 24,
   "id": "5437bfe2-b82f-48f1-908e-b428fe350fb9",
   "metadata": {},
   "outputs": [
    {
     "name": "stdout",
     "output_type": "stream",
     "text": [
      "[11, 87, 53, 81, 29]\n"
     ]
    }
   ],
   "source": [
    "# 1. Import the random module.\n",
    "import random\n",
    "\n",
    "# 2. Create a list of 5 random numbers between 1 and 100.\n",
    "random_numbers = [random.randint(1, 100) for _ in range(5)]\n",
    "print(random_numbers)"
   ]
  },
  {
   "cell_type": "markdown",
   "id": "cc212fe7-6d2f-4172-a9fc-f6e92f19ba6e",
   "metadata": {},
   "source": [
    "### Question 20: Remove duplicates from a list.\n",
    "\n"
   ]
  },
  {
   "cell_type": "code",
   "execution_count": 22,
   "id": "e4be82ef-91ea-431b-b8df-7f1fadc2aaf5",
   "metadata": {},
   "outputs": [
    {
     "name": "stdout",
     "output_type": "stream",
     "text": [
      "[1, 2, 3, 4, 5]\n"
     ]
    }
   ],
   "source": [
    "# 1. Create a list with duplicates.\n",
    "my_list = [1, 2, 2, 3, 4, 4, 5]\n",
    "\n",
    "# 2. Remove duplicates by converting the list to a set and back to a list.\n",
    "my_list = list(set(my_list))\n",
    "print(my_list)"
   ]
  },
  {
   "cell_type": "markdown",
   "id": "4d83b42a-ee61-4507-8a16-09560fac1fcd",
   "metadata": {},
   "source": [
    "### Question 21: Find the common elements between two lists.\n",
    "\n"
   ]
  },
  {
   "cell_type": "code",
   "execution_count": 4,
   "id": "e2175e25-4aaa-4405-9f16-177c60545de7",
   "metadata": {},
   "outputs": [
    {
     "name": "stdout",
     "output_type": "stream",
     "text": [
      "[3, 4, 5]\n"
     ]
    }
   ],
   "source": [
    "# 1. Define two lists.\n",
    "list1 = [1, 2, 3, 4, 5]\n",
    "list2 = [3, 4, 5, 6, 7]\n",
    "\n",
    "# 2. Find the common elements using set intersection.\n",
    "common_elements = list(set(list1) & set(list2))\n",
    "print(common_elements)"
   ]
  },
  {
   "cell_type": "markdown",
   "id": "16ce7df1-4915-40bb-bc19-488ee5ef5e70",
   "metadata": {},
   "source": [
    "### Question 22: Find the difference between two lists.\n",
    "\n"
   ]
  },
  {
   "cell_type": "code",
   "execution_count": 11,
   "id": "5ce5c323-a666-4cfd-b190-05214648928e",
   "metadata": {},
   "outputs": [
    {
     "name": "stdout",
     "output_type": "stream",
     "text": [
      "[1, 2, 6, 7]\n"
     ]
    }
   ],
   "source": [
    "# 1. Define two lists.\n",
    "list1 = [1, 2, 3, 4, 5]\n",
    "list2 = [3, 4, 5, 6, 7]\n",
    "\n",
    "# 2. Find the difference between lists using set operations.\n",
    "set1 = set(list1)\n",
    "set2 = set(list2)\n",
    "\n",
    "difference = list(set1.symmetric_difference(set2))\n",
    "\n",
    "print(difference)"
   ]
  },
  {
   "cell_type": "markdown",
   "id": "05796192-9055-4673-b949-ec736ed2fff0",
   "metadata": {},
   "source": [
    "### Question 23: Merge two lists.\n",
    "\n"
   ]
  },
  {
   "cell_type": "code",
   "execution_count": 20,
   "id": "14fec38d-382e-4169-a173-3ddd7f0ac82e",
   "metadata": {},
   "outputs": [
    {
     "name": "stdout",
     "output_type": "stream",
     "text": [
      "[1, 2, 3, 4, 5, 6]\n"
     ]
    }
   ],
   "source": [
    "# 1. Define two lists.\n",
    "list1 = [1, 2, 3]\n",
    "list2 = [4, 5, 6]\n",
    "\n",
    "# 2. Merge the two lists by extending one with the other.\n",
    "list1.extend(list2)\n",
    "print(list1)"
   ]
  },
  {
   "cell_type": "markdown",
   "id": "6e3b7ea7-a75d-40f5-b7a4-27b42c510734",
   "metadata": {},
   "source": [
    "### Question 24: Multiply all elements in a list by 2.\n",
    "\n"
   ]
  },
  {
   "cell_type": "code",
   "execution_count": 24,
   "id": "8884c66a-c858-4182-a991-7b2a886efd2d",
   "metadata": {},
   "outputs": [
    {
     "name": "stdout",
     "output_type": "stream",
     "text": [
      "[4, 8, 12, 16, 20]\n"
     ]
    }
   ],
   "source": [
    "# 1. Multiply all elements in the list by 2 using list comprehension.\n",
    "my_list = [x * 2 for x in my_list]\n",
    "print(my_list)"
   ]
  },
  {
   "cell_type": "markdown",
   "id": "81c3eba2-bbfe-4e19-abb7-9bc7f8be1cb2",
   "metadata": {},
   "source": [
    "### Question 25: Filter out all even numbers from a list.\n",
    "\n"
   ]
  },
  {
   "cell_type": "code",
   "execution_count": 26,
   "id": "4709da9c-451e-4777-ac65-7a7bf270f103",
   "metadata": {},
   "outputs": [
    {
     "name": "stdout",
     "output_type": "stream",
     "text": [
      "[1, 3, 5]\n"
     ]
    }
   ],
   "source": [
    "# 1. Filter out even numbers using list comprehension.\n",
    "my_list = [1, 2, 2, 3, 4, 4, 5]\n",
    "my_list = [x for x in my_list if x % 2 != 0]\n",
    "print(my_list)"
   ]
  },
  {
   "cell_type": "markdown",
   "id": "fdc854a1-1d01-473d-a11a-07eac0119eff",
   "metadata": {},
   "source": [
    "### Question 26: Convert a list of strings to a list of integers.\n",
    "\n"
   ]
  },
  {
   "cell_type": "code",
   "execution_count": 27,
   "id": "7db246ac-9858-4e42-9f97-01d2de03ed2c",
   "metadata": {},
   "outputs": [
    {
     "name": "stdout",
     "output_type": "stream",
     "text": [
      "[1, 2, 3, 4, 5]\n"
     ]
    }
   ],
   "source": [
    "# 1. Create a list of strings.\n",
    "string_list = [\"1\", \"2\", \"3\", \"4\", \"5\"]\n",
    "\n",
    "# 2. Convert the list of strings to a list of integers.\n",
    "int_list = [int(x) for x in string_list]\n",
    "print(int_list)"
   ]
  },
  {
   "cell_type": "markdown",
   "id": "a7e9f2d0-13ac-4439-b3f2-b46cce5e7578",
   "metadata": {},
   "source": [
    "### Question 27: Convert a list of integers to a list of strings.\n",
    "\n"
   ]
  },
  {
   "cell_type": "code",
   "execution_count": 28,
   "id": "f01d5650-5e52-42d6-b154-73318b23e828",
   "metadata": {},
   "outputs": [
    {
     "name": "stdout",
     "output_type": "stream",
     "text": [
      "['1', '2', '3', '4', '5']\n"
     ]
    }
   ],
   "source": [
    "# 1. Create a list of integers.\n",
    "int_list = [1, 2, 3, 4, 5]\n",
    "\n",
    "# 2. Convert the list of integers to a list of strings.\n",
    "string_list = [str(x) for x in int_list]\n",
    "print(string_list)"
   ]
  },
  {
   "cell_type": "markdown",
   "id": "b8f55049-e8f5-4a37-b380-82541f47e94f",
   "metadata": {},
   "source": [
    "### Question 28: Flatten a nested list.\n",
    "\n"
   ]
  },
  {
   "cell_type": "code",
   "execution_count": 30,
   "id": "5e0d2839-f44f-4d47-84c2-e9f00f1da0dc",
   "metadata": {},
   "outputs": [
    {
     "name": "stdout",
     "output_type": "stream",
     "text": [
      "[1, 2, 3, 4, 5, 6, 7, 8]\n"
     ]
    }
   ],
   "source": [
    "# 1. Define a nested list.\n",
    "nested_list = [[1, 2, 3], [4, 5], [6, 7, 8]]\n",
    "\n",
    "# 2. Flatten the nested list using list comprehension.\n",
    "flattened_list = [item for sublist in nested_list for item in sublist]\n",
    "print(flattened_list)"
   ]
  },
  {
   "cell_type": "markdown",
   "id": "7ea220ed-354c-4ffe-8e91-717c761a7aa8",
   "metadata": {},
   "source": [
    "### Question 29: Create a list of the first 10 Fibonacci numbers.\n",
    "\n"
   ]
  },
  {
   "cell_type": "code",
   "execution_count": 31,
   "id": "fc659d15-406e-4e48-a3be-0728355499bf",
   "metadata": {},
   "outputs": [
    {
     "name": "stdout",
     "output_type": "stream",
     "text": [
      "[0, 1, 1, 2, 3, 5, 8, 13, 21, 34]\n"
     ]
    }
   ],
   "source": [
    "# 1. Initialize a list with the first two Fibonacci numbers.\n",
    "fibonacci_list = [0, 1]\n",
    "\n",
    "# 2. Calculate and append the next Fibonacci numbers.\n",
    "for i in range(2, 10):\n",
    "    next_fib = fibonacci_list[-1] + fibonacci_list[-2]\n",
    "    fibonacci_list.append(next_fib)\n",
    "    \n",
    "print(fibonacci_list)"
   ]
  },
  {
   "cell_type": "markdown",
   "id": "b8c6557b-f80e-42d9-b094-eea95fb5d1ba",
   "metadata": {},
   "source": [
    "### Question 30: Check if a list is sorted.\n",
    "\n"
   ]
  },
  {
   "cell_type": "code",
   "execution_count": 33,
   "id": "13629b44-a13a-4720-9772-b9cd715cb523",
   "metadata": {},
   "outputs": [
    {
     "name": "stdout",
     "output_type": "stream",
     "text": [
      "True\n"
     ]
    }
   ],
   "source": [
    "# 1. Check if the list is sorted in ascending order.\n",
    "is_sorted = all(fibonacci_list[i] <= fibonacci_list[i+1] for i in range(len(fibonacci_list) - 1))\n",
    "\n",
    "print(is_sorted)"
   ]
  },
  {
   "cell_type": "markdown",
   "id": "497913e0-8745-4271-b677-d7c2d7d8639a",
   "metadata": {},
   "source": [
    "### Question 31: Rotate a list to the left by n positions.\n",
    "\n"
   ]
  },
  {
   "cell_type": "code",
   "execution_count": 36,
   "id": "bc24e2b0-b605-4a63-9bc8-9b2e6bbcaa80",
   "metadata": {},
   "outputs": [
    {
     "name": "stdout",
     "output_type": "stream",
     "text": [
      "[4, 5, 6, 7, 8, 9, 10, 1, 2, 3]\n"
     ]
    }
   ],
   "source": [
    "# 1. Rotate the list to the left by `n` positions.\n",
    "n = 3\n",
    "\n",
    "my_list = [1, 2, 3, 4, 5, 6, 7, 8, 9, 10]\n",
    "rotated_list = my_list[n:] + my_list[:n]\n",
    "\n",
    "print(rotated_list)"
   ]
  },
  {
   "cell_type": "markdown",
   "id": "cbda8aa1-12dc-4b0e-a8f6-d25b1034be4b",
   "metadata": {},
   "source": [
    "### Question 32: Rotate a list to the right by n positions.\n",
    "\n"
   ]
  },
  {
   "cell_type": "code",
   "execution_count": 37,
   "id": "eb2af8d7-ca32-40e6-b521-71fd71f851dd",
   "metadata": {},
   "outputs": [
    {
     "name": "stdout",
     "output_type": "stream",
     "text": [
      "[9, 10, 1, 2, 3, 4, 5, 6, 7, 8]\n"
     ]
    }
   ],
   "source": [
    "# 1. Rotate the list to the right by `n` positions.\n",
    "n = 2\n",
    "rotated_list = my_list[-n:] + my_list[:-n]\n",
    "print(rotated_list)"
   ]
  },
  {
   "cell_type": "markdown",
   "id": "1448293f-1d3e-4204-9bfc-bda0fb9678ec",
   "metadata": {},
   "source": [
    "### Question 33: Create a list of prime numbers up to 50.\n",
    "\n"
   ]
  },
  {
   "cell_type": "code",
   "execution_count": 47,
   "id": "190fee2b-3d00-45ad-8bba-cd58fac35564",
   "metadata": {},
   "outputs": [
    {
     "name": "stdout",
     "output_type": "stream",
     "text": [
      "[2, 3, 5, 7, 11, 13, 17, 19, 23, 29, 31, 37, 41, 43, 47]\n"
     ]
    }
   ],
   "source": [
    "# 1. Define a function to check if a number is prime.\n",
    "def is_prime(num):\n",
    "    if num <= 1:\n",
    "        return False\n",
    "    for i in range(2, int(num/2) + 1):\n",
    "        if num % i == 0:\n",
    "            return False\n",
    "    return True\n",
    "\n",
    "# 2. Create a list of prime numbers up to 50.\n",
    "prime_numbers = [num for num in range(2, 51) if is_prime(num)]\n",
    "print(prime_numbers)"
   ]
  },
  {
   "cell_type": "markdown",
   "id": "27b4dca4-6ef0-4765-914b-03fbdda2b428",
   "metadata": {},
   "source": [
    "### Question 34: Split a list into chunks of size n.\n",
    "\n"
   ]
  },
  {
   "cell_type": "code",
   "execution_count": 51,
   "id": "d430ca5d-35de-459d-a744-5c690c7b6dc9",
   "metadata": {},
   "outputs": [
    {
     "name": "stdout",
     "output_type": "stream",
     "text": [
      "[[1, 2, 3, 4, 5], [6, 7, 8, 9, 10]]\n"
     ]
    }
   ],
   "source": [
    "# 1. Define a function to split a list into chunks.\n",
    "def split_list(input_list, chunk_size):\n",
    "    return [input_list[i:i + chunk_size] for i in range(0, len(input_list), chunk_size)]\n",
    "\n",
    "# 2. Split the list into chunks of size `n`.\n",
    "chunk_size = 5\n",
    "chunks = split_list(my_list, chunk_size)\n",
    "print(chunks)"
   ]
  },
  {
   "cell_type": "markdown",
   "id": "a8103681-be9a-48da-97a1-41cdaef1b35e",
   "metadata": {},
   "source": [
    "### Question 35: Find the second largest number in a list.\n",
    "\n"
   ]
  },
  {
   "cell_type": "code",
   "execution_count": 55,
   "id": "40502427-54a6-452d-a90b-9b1d92d1605e",
   "metadata": {},
   "outputs": [
    {
     "name": "stdout",
     "output_type": "stream",
     "text": [
      "9\n"
     ]
    }
   ],
   "source": [
    "# 1. Find the second largest number in the list.\n",
    "second_largest = max(set(my_list) - {max(my_list)})\n",
    "print(second_largest)"
   ]
  },
  {
   "cell_type": "markdown",
   "id": "c9ba46df-83c0-4c83-be20-1582988648b1",
   "metadata": {},
   "source": [
    "### Question 36: Replace every element in a list with its square.\n",
    "\n"
   ]
  },
  {
   "cell_type": "code",
   "execution_count": 56,
   "id": "fb0523f9-0ea5-41e9-bf6d-2cb40030bf81",
   "metadata": {},
   "outputs": [
    {
     "name": "stdout",
     "output_type": "stream",
     "text": [
      "[1, 4, 9, 16, 25, 36, 49, 64, 81, 100]\n"
     ]
    }
   ],
   "source": [
    "# 1. Replace every element in the list with its square using list comprehension.\n",
    "my_list = [x ** 2 for x in my_list]\n",
    "print(my_list)"
   ]
  },
  {
   "cell_type": "markdown",
   "id": "3c60178b-2b3d-4680-b2c1-5badccd6123b",
   "metadata": {},
   "source": [
    "### Question 37: Convert a list to a dictionary where list elements become keys and their indices become values."
   ]
  },
  {
   "cell_type": "code",
   "execution_count": 58,
   "id": "38cd33a2-b908-4d5b-b205-0cc12dd48c66",
   "metadata": {},
   "outputs": [
    {
     "name": "stdout",
     "output_type": "stream",
     "text": [
      "{1: 0, 4: 1, 9: 2, 16: 3, 25: 4, 36: 5, 49: 6, 64: 7, 81: 8, 100: 9}\n"
     ]
    }
   ],
   "source": [
    "# 1. Convert a list to a dictionary where list elements become keys and indices become values.\n",
    "my_dict = {value: index for index, value in enumerate(my_list)}\n",
    "print(my_dict)"
   ]
  },
  {
   "cell_type": "markdown",
   "id": "9be6dbc0-8139-4497-915b-e087d91fbd37",
   "metadata": {},
   "source": [
    "### Question 38: Shuffle the elements of a list randomly.\n",
    "\n"
   ]
  },
  {
   "cell_type": "code",
   "execution_count": 62,
   "id": "dc13a47f-3c9f-4c8c-9b90-cadec044e2d6",
   "metadata": {},
   "outputs": [
    {
     "name": "stdout",
     "output_type": "stream",
     "text": [
      "[25, 4, 9, 81, 36, 49, 100, 64, 1, 16]\n"
     ]
    }
   ],
   "source": [
    "# 1. Import the random module.\n",
    "import random\n",
    "\n",
    "# 2. Shuffle the elements of the list randomly.\n",
    "random.shuffle(my_list)\n",
    "print(my_list)"
   ]
  },
  {
   "cell_type": "markdown",
   "id": "683ea0b8-5afd-4a39-a7fb-6b129e46b266",
   "metadata": {},
   "source": [
    "### Question 39: Create a list of the first 10 factorial numbers.\n",
    "\n"
   ]
  },
  {
   "cell_type": "code",
   "execution_count": 63,
   "id": "41d29249-7da0-48aa-8166-0c1d8fd8f388",
   "metadata": {},
   "outputs": [
    {
     "name": "stdout",
     "output_type": "stream",
     "text": [
      "[1, 1, 2, 6, 24, 120, 720, 5040, 40320, 362880]\n"
     ]
    }
   ],
   "source": [
    "# 1. Define a function to calculate the factorial of a number.\n",
    "def factorial(num):\n",
    "    if num == 0:\n",
    "        return 1\n",
    "    else:\n",
    "        return num * factorial(num - 1)\n",
    "\n",
    "# 2. Create a list of the first 10 factorial numbers.\n",
    "factorial_list = [factorial(i) for i in range(10)]\n",
    "print(factorial_list)"
   ]
  },
  {
   "cell_type": "markdown",
   "id": "69b6f95a-3197-44f7-b2eb-f577499a3f10",
   "metadata": {},
   "source": [
    "### Question 40: Check if two lists have at least one element in common.\n",
    "\n"
   ]
  },
  {
   "cell_type": "code",
   "execution_count": 66,
   "id": "85d6dc93-3ef4-42c1-89c5-877f58883a36",
   "metadata": {},
   "outputs": [
    {
     "name": "stdout",
     "output_type": "stream",
     "text": [
      "True\n"
     ]
    }
   ],
   "source": [
    "# 1. Define two lists.\n",
    "list1 = [1, 2, 3, 4, 5]\n",
    "list2 = [4, 5, 6, 7, 8]\n",
    "\n",
    "# 2. Check if there is at least one common element using set intersection.\n",
    "has_common_elements = bool(set(list1).intersection(list2))\n",
    "print(has_common_elements)"
   ]
  },
  {
   "cell_type": "markdown",
   "id": "b74e1133-7b9a-484e-830a-8b822b32b742",
   "metadata": {},
   "source": [
    "### Question 41: Remove all elements from a list.\n",
    "\n"
   ]
  },
  {
   "cell_type": "code",
   "execution_count": 67,
   "id": "4d1a8022-f8ff-43e2-91d0-ad00b8ea36de",
   "metadata": {},
   "outputs": [
    {
     "name": "stdout",
     "output_type": "stream",
     "text": [
      "[]\n"
     ]
    }
   ],
   "source": [
    "# 1. Remove all elements from the list.\n",
    "my_list.clear()\n",
    "print(my_list)"
   ]
  },
  {
   "cell_type": "markdown",
   "id": "54073b60-45b8-4037-aecc-63e3a11399cb",
   "metadata": {},
   "source": [
    "### Question 42: Replace negative numbers in a list with 0.\n",
    "\n"
   ]
  },
  {
   "cell_type": "code",
   "execution_count": 71,
   "id": "c8ac99ea-36aa-4488-b1e7-9e7673cf2e26",
   "metadata": {},
   "outputs": [
    {
     "name": "stdout",
     "output_type": "stream",
     "text": [
      "[0, 0, 0, 0, 1, 2, 3, 4, 5]\n"
     ]
    }
   ],
   "source": [
    "# 1. Replace negative numbers in the list with 0 using list comprehension.\n",
    "list1 = [-5, -4, -2, 0, 1, 2, 3, 4, 5]\n",
    "my_list = [0 if x < 0 else x for x in list1]\n",
    "print(my_list)"
   ]
  },
  {
   "cell_type": "markdown",
   "id": "43f3c028-d5d8-40bb-b180-b322e563525d",
   "metadata": {},
   "source": [
    "### Question 43: Convert a string into a list of words.\n",
    "\n"
   ]
  },
  {
   "cell_type": "code",
   "execution_count": 72,
   "id": "3d989809-9f78-4817-9029-bbb030101471",
   "metadata": {},
   "outputs": [
    {
     "name": "stdout",
     "output_type": "stream",
     "text": [
      "['This', 'is', 'a', 'sample', 'sentence.']\n"
     ]
    }
   ],
   "source": [
    "# 1. Define a string.\n",
    "input_string = \"This is a sample sentence.\"\n",
    "\n",
    "# 2. Convert the string into a list of words.\n",
    "word_list = input_string.split()\n",
    "print(word_list)"
   ]
  },
  {
   "cell_type": "markdown",
   "id": "a2a0bd36-21ec-46c3-b65f-d6c762ed327a",
   "metadata": {},
   "source": [
    "### Question 44: Convert a list of words into a string.\n",
    "\n"
   ]
  },
  {
   "cell_type": "code",
   "execution_count": 73,
   "id": "5825eb23-e3ac-432a-8b74-f35b085e1b31",
   "metadata": {},
   "outputs": [
    {
     "name": "stdout",
     "output_type": "stream",
     "text": [
      "This is a list of words\n"
     ]
    }
   ],
   "source": [
    "# 1. Define a list of words.\n",
    "word_list = [\"This\", \"is\", \"a\", \"list\", \"of\", \"words\"]\n",
    "\n",
    "# 2. Convert the list of words into a string.\n",
    "output_string = \" \".join(word_list)\n",
    "print(output_string)"
   ]
  },
  {
   "cell_type": "markdown",
   "id": "0b1cfa4a-6c82-4926-b67d-be6bf519cc2a",
   "metadata": {},
   "source": [
    "### Question 45: Create a list of the first n powers of 2.\n",
    "\n"
   ]
  },
  {
   "cell_type": "code",
   "execution_count": 74,
   "id": "7d83aefe-958d-4f22-b99b-d52c8bd3f0f5",
   "metadata": {},
   "outputs": [
    {
     "name": "stdout",
     "output_type": "stream",
     "text": [
      "[1, 2, 4, 8, 16]\n"
     ]
    }
   ],
   "source": [
    "# 1. Define the value of `n`.\n",
    "n = 5\n",
    "\n",
    "# 2. Create a list of the first `n` powers of 2.\n",
    "powers_of_2 = [2 ** i for i in range(n)]\n",
    "print(powers_of_2)"
   ]
  },
  {
   "cell_type": "markdown",
   "id": "a7272721-676e-4cdc-8efb-643997a8e84e",
   "metadata": {},
   "source": [
    "### Question 46: Find the longest string in a list of strings.\n",
    "\n"
   ]
  },
  {
   "cell_type": "code",
   "execution_count": 76,
   "id": "6130d19a-95fa-416d-8a4d-a0021f8382ff",
   "metadata": {},
   "outputs": [
    {
     "name": "stdout",
     "output_type": "stream",
     "text": [
      "banana\n"
     ]
    }
   ],
   "source": [
    "# 1. Define a list of strings.\n",
    "string_list = [\"apple\", \"banana\", \"cherry\", \"date\", \"fig\"]\n",
    "\n",
    "# 2. Find the longest string in the list.\n",
    "longest_string = max(string_list, key=len)\n",
    "print(longest_string)"
   ]
  },
  {
   "cell_type": "markdown",
   "id": "fb675ba5-e4cc-4847-aa1d-f3eeb45b05aa",
   "metadata": {},
   "source": [
    "### Question 47: Find the shortest string in a list of strings.\n",
    "\n"
   ]
  },
  {
   "cell_type": "code",
   "execution_count": 77,
   "id": "cb13ebe0-e0b3-4ed1-879f-082cb495f2c0",
   "metadata": {},
   "outputs": [
    {
     "name": "stdout",
     "output_type": "stream",
     "text": [
      "fig\n"
     ]
    }
   ],
   "source": [
    "# 1. Define a list of strings.\n",
    "string_list = [\"apple\", \"banana\", \"cherry\", \"date\", \"fig\"]\n",
    "\n",
    "# 2. Find the shortest string in the list.\n",
    "shortest_string = min(string_list, key=len)\n",
    "print(shortest_string)"
   ]
  },
  {
   "cell_type": "markdown",
   "id": "b75a38ea-357a-463b-9cb4-825c1670848e",
   "metadata": {},
   "source": [
    "### Question 48: Create a list of the first n triangular numbers.\n",
    "\n"
   ]
  },
  {
   "cell_type": "code",
   "execution_count": 78,
   "id": "4a9699d8-fead-4f74-abc4-bab147719a90",
   "metadata": {},
   "outputs": [
    {
     "name": "stdout",
     "output_type": "stream",
     "text": [
      "[1, 3, 6, 10, 15]\n"
     ]
    }
   ],
   "source": [
    "# 1. Define the value of `n`.\n",
    "n = 5\n",
    "\n",
    "# 2. Create a list of the first `n` triangular numbers.\n",
    "triangular_numbers = [(i * (i + 1)) // 2 for i in range(1, n + 1)]\n",
    "print(triangular_numbers)"
   ]
  },
  {
   "cell_type": "markdown",
   "id": "7180689a-9491-4e5a-9b7e-02b0cbf3813b",
   "metadata": {},
   "source": [
    "### Question 49: Check if a list contains another list as a subsequence.\n",
    "\n"
   ]
  },
  {
   "cell_type": "code",
   "execution_count": 79,
   "id": "ef373ce4-3464-4bc1-aefc-bf50e522f58a",
   "metadata": {},
   "outputs": [
    {
     "name": "stdout",
     "output_type": "stream",
     "text": [
      "True\n"
     ]
    }
   ],
   "source": [
    "# 1. Define two lists.\n",
    "list1 = [1, 2, 3, 4, 5]\n",
    "list2 = [2, 3, 4]\n",
    "\n",
    "# 2. Check if list2 is a subsequence of list1.\n",
    "is_subsequence = all(elem in list1 for elem in list2)\n",
    "print(is_subsequence)"
   ]
  },
  {
   "cell_type": "markdown",
   "id": "e8d2c121-d462-4ee3-a6a2-f680966e5392",
   "metadata": {},
   "source": [
    "### Question 50: Swap two elements in a list by their indices.\n",
    "\n"
   ]
  },
  {
   "cell_type": "code",
   "execution_count": 80,
   "id": "f3e3a824-b691-42d3-a8d9-dab837dcbe71",
   "metadata": {},
   "outputs": [
    {
     "name": "stdout",
     "output_type": "stream",
     "text": [
      "[0, 0, 1, 0, 0, 2, 3, 4, 5]\n"
     ]
    }
   ],
   "source": [
    "# 1. Define two indices to swap.\n",
    "index1 = 2\n",
    "index2 = 4\n",
    "\n",
    "# 2. Swap the elements at the specified indices.\n",
    "my_list[index1], my_list[index2] = my_list[index2], my_list[index1]\n",
    "print(my_list)"
   ]
  },
  {
   "cell_type": "markdown",
   "id": "f77b18af-0039-48c9-b9de-912bac02db8f",
   "metadata": {},
   "source": [
    "## Tuple Based Practice Problem :"
   ]
  },
  {
   "cell_type": "markdown",
   "id": "833f57bf-c09c-44dd-9fcb-6fb9a8b4bc28",
   "metadata": {},
   "source": [
    "**Question 1:** Create a tuple with integers from 1 to 5."
   ]
  },
  {
   "cell_type": "code",
   "execution_count": 2,
   "id": "8ebf04dc-3953-40b9-a7e2-0d4ef8fa6650",
   "metadata": {},
   "outputs": [
    {
     "data": {
      "text/plain": [
       "(1, 2, 3, 4, 5)"
      ]
     },
     "execution_count": 2,
     "metadata": {},
     "output_type": "execute_result"
    }
   ],
   "source": [
    "# 1. Create a tuple with integers from 1 to 5.\n",
    "my_tuple = (1, 2, 3, 4, 5)\n",
    "my_tuple"
   ]
  },
  {
   "cell_type": "markdown",
   "id": "0a282295-ad38-4916-b117-157bd64e70b7",
   "metadata": {},
   "source": [
    "**Question 2:** Access the third element of a tuple."
   ]
  },
  {
   "cell_type": "code",
   "execution_count": 2,
   "id": "1a756dba-d656-4f45-9d2b-05e2c6a684b7",
   "metadata": {},
   "outputs": [
    {
     "data": {
      "text/plain": [
       "3"
      ]
     },
     "execution_count": 2,
     "metadata": {},
     "output_type": "execute_result"
    }
   ],
   "source": [
    "# 2. Access the third element of a tuple.\n",
    "third_element = my_tuple[2]\n",
    "third_element"
   ]
  },
  {
   "cell_type": "markdown",
   "id": "2076567d-7ee8-4ca9-886e-2a12745320d3",
   "metadata": {},
   "source": [
    "**Question 3:** Find the length of a tuple without using the `len()` function."
   ]
  },
  {
   "cell_type": "code",
   "execution_count": 3,
   "id": "678312f4-3a59-441f-a00b-b25c5d1d5d5e",
   "metadata": {},
   "outputs": [
    {
     "data": {
      "text/plain": [
       "5"
      ]
     },
     "execution_count": 3,
     "metadata": {},
     "output_type": "execute_result"
    }
   ],
   "source": [
    "# 3. Find the length of a tuple without using the `len()` function.\n",
    "length = sum(1 for _ in my_tuple)\n",
    "length"
   ]
  },
  {
   "cell_type": "markdown",
   "id": "dacf2e7d-0471-4a0e-95ab-168f2bee39b4",
   "metadata": {},
   "source": [
    "**Question 4:** Count the occurrences of an element in a tuple."
   ]
  },
  {
   "cell_type": "code",
   "execution_count": 4,
   "id": "97af5ec8-15ef-459c-93cc-ac42341751f6",
   "metadata": {},
   "outputs": [
    {
     "data": {
      "text/plain": [
       "1"
      ]
     },
     "execution_count": 4,
     "metadata": {},
     "output_type": "execute_result"
    }
   ],
   "source": [
    "# 4. Count the occurrences of an element in a tuple.\n",
    "my_tuple.count(3)"
   ]
  },
  {
   "cell_type": "markdown",
   "id": "19ebf65b-43b5-4f5b-8e21-1a9e3e96c25e",
   "metadata": {},
   "source": [
    "**Question 5:** Find the index of the first occurrence of an element in a tuple."
   ]
  },
  {
   "cell_type": "code",
   "execution_count": 5,
   "id": "e2ea598e-dc9c-4ea8-87a7-e770c022efb6",
   "metadata": {},
   "outputs": [
    {
     "data": {
      "text/plain": [
       "2"
      ]
     },
     "execution_count": 5,
     "metadata": {},
     "output_type": "execute_result"
    }
   ],
   "source": [
    "# 5. Find the index of the first occurrence of an element in a tuple.\n",
    "my_tuple.index(3)"
   ]
  },
  {
   "cell_type": "markdown",
   "id": "bee95175-6dae-423b-99e6-c451b31aa693",
   "metadata": {},
   "source": [
    "**Question 6:** Check if an element exists in a tuple."
   ]
  },
  {
   "cell_type": "code",
   "execution_count": 6,
   "id": "e41bd671-9a36-4ffe-8c90-8324758b8cd4",
   "metadata": {},
   "outputs": [
    {
     "data": {
      "text/plain": [
       "True"
      ]
     },
     "execution_count": 6,
     "metadata": {},
     "output_type": "execute_result"
    }
   ],
   "source": [
    "# 6. Check if an element exists in a tuple.\n",
    "exists = 3 in my_tuple\n",
    "exists"
   ]
  },
  {
   "cell_type": "markdown",
   "id": "79beefde-562e-458e-9385-a9bfcb7fbb2f",
   "metadata": {},
   "source": [
    "**Question 7:** Convert a tuple to a list."
   ]
  },
  {
   "cell_type": "code",
   "execution_count": 7,
   "id": "27092095-7e2f-4289-ad37-fd9caa164a46",
   "metadata": {},
   "outputs": [
    {
     "data": {
      "text/plain": [
       "[1, 2, 3, 4, 5]"
      ]
     },
     "execution_count": 7,
     "metadata": {},
     "output_type": "execute_result"
    }
   ],
   "source": [
    "# 7. Convert a tuple to a list.\n",
    "my_list = list(my_tuple)\n",
    "my_list"
   ]
  },
  {
   "cell_type": "markdown",
   "id": "baa06604-60d6-4d32-bbb2-80e4e7d0fa4e",
   "metadata": {},
   "source": [
    "**Question 8:** Convert a list to a tuple."
   ]
  },
  {
   "cell_type": "code",
   "execution_count": 8,
   "id": "437a3aaf-9c27-4d72-9e6f-77bfe9e5d6d3",
   "metadata": {},
   "outputs": [
    {
     "data": {
      "text/plain": [
       "(1, 2, 3, 4, 5)"
      ]
     },
     "execution_count": 8,
     "metadata": {},
     "output_type": "execute_result"
    }
   ],
   "source": [
    "# 8. Convert a list to a tuple.\n",
    "my_tuple = tuple(my_list)\n",
    "my_tuple"
   ]
  },
  {
   "cell_type": "markdown",
   "id": "58d3e5b9-0a98-4c54-ba5e-2b9505ca8796",
   "metadata": {},
   "source": [
    "**Question 9:** Unpack the elements of a tuple into variables."
   ]
  },
  {
   "cell_type": "code",
   "execution_count": 3,
   "id": "c202082a-6259-4d97-92c2-dca0a5dcc883",
   "metadata": {},
   "outputs": [
    {
     "name": "stdout",
     "output_type": "stream",
     "text": [
      "1 2\n"
     ]
    }
   ],
   "source": [
    "# 9. Unpack the elements of a tuple into variables.\n",
    "var1, var2, var3, var4, var5 = my_tuple\n",
    "print(var1, var2)"
   ]
  },
  {
   "cell_type": "markdown",
   "id": "696b88d7-2ce4-46f2-86f3-aa90dd4cce14",
   "metadata": {},
   "source": [
    "**Question 10:** Create a tuple of even numbers from 1 to 10."
   ]
  },
  {
   "cell_type": "code",
   "execution_count": 10,
   "id": "d78fef33-6f5a-4349-a02c-ea95ef4d830b",
   "metadata": {},
   "outputs": [
    {
     "data": {
      "text/plain": [
       "(2, 4, 6, 8, 10)"
      ]
     },
     "execution_count": 10,
     "metadata": {},
     "output_type": "execute_result"
    }
   ],
   "source": [
    "# 10. Create a tuple of even numbers from 1 to 10.\n",
    "even_numbers = tuple(range(2, 11, 2))\n",
    "even_numbers"
   ]
  },
  {
   "cell_type": "markdown",
   "id": "a6b189f2-b658-475e-a805-0ed86589a147",
   "metadata": {},
   "source": [
    "**Question 11:** Concatenate two tuples."
   ]
  },
  {
   "cell_type": "code",
   "execution_count": 11,
   "id": "6b0c6fa1-b378-4dd8-9c2d-a57b5660a2d0",
   "metadata": {},
   "outputs": [
    {
     "data": {
      "text/plain": [
       "(1, 2, 3, 4, 5, 6)"
      ]
     },
     "execution_count": 11,
     "metadata": {},
     "output_type": "execute_result"
    }
   ],
   "source": [
    "# 11. Concatenate two tuples.\n",
    "tuple1 = (1, 2, 3)\n",
    "tuple2 = (4, 5, 6)\n",
    "result_tuple = tuple1 + tuple2\n",
    "result_tuple"
   ]
  },
  {
   "cell_type": "markdown",
   "id": "e5033c74-ec9c-4717-a77a-1cb6022dad1c",
   "metadata": {},
   "source": [
    "**Question 12:** Repeat a tuple three times."
   ]
  },
  {
   "cell_type": "code",
   "execution_count": 12,
   "id": "a245404a-cd4e-4ac6-9cf0-d96a78594c4d",
   "metadata": {},
   "outputs": [
    {
     "data": {
      "text/plain": [
       "(1, 2, 3, 1, 2, 3, 1, 2, 3)"
      ]
     },
     "execution_count": 12,
     "metadata": {},
     "output_type": "execute_result"
    }
   ],
   "source": [
    "# 12. Repeat a tuple three times.\n",
    "my_tuple = (1, 2, 3)\n",
    "repeated_tuple = my_tuple * 3\n",
    "repeated_tuple"
   ]
  },
  {
   "cell_type": "markdown",
   "id": "0afe255a-da77-42c6-b7de-db7c69082c52",
   "metadata": {},
   "source": [
    "**Question 13:** Check if a tuple is empty."
   ]
  },
  {
   "cell_type": "code",
   "execution_count": 13,
   "id": "8c195d70-a5a7-4fb7-8442-97cac8ebf45e",
   "metadata": {},
   "outputs": [
    {
     "data": {
      "text/plain": [
       "True"
      ]
     },
     "execution_count": 13,
     "metadata": {},
     "output_type": "execute_result"
    }
   ],
   "source": [
    "# 13. Check if a tuple is empty.\n",
    "my_tuple = ()\n",
    "is_empty = len(my_tuple) == 0\n",
    "is_empty"
   ]
  },
  {
   "cell_type": "markdown",
   "id": "949e8f6b-8832-4a89-a412-eb144fd476b5",
   "metadata": {},
   "source": [
    "**Question 14:** Create a nested tuple."
   ]
  },
  {
   "cell_type": "code",
   "execution_count": 14,
   "id": "9279dc77-a3e1-40b2-883b-b3d68677976f",
   "metadata": {},
   "outputs": [
    {
     "data": {
      "text/plain": [
       "((1, 2), (3, 4))"
      ]
     },
     "execution_count": 14,
     "metadata": {},
     "output_type": "execute_result"
    }
   ],
   "source": [
    "# 14. Create a nested tuple.\n",
    "nested_tuple = ((1, 2), (3, 4))\n",
    "nested_tuple"
   ]
  },
  {
   "cell_type": "markdown",
   "id": "effaf410-9326-45d2-887b-6369d039fd1e",
   "metadata": {},
   "source": [
    "**Question 15:** Access the first element of a nested tuple."
   ]
  },
  {
   "cell_type": "code",
   "execution_count": 15,
   "id": "273197e5-23e5-4a14-8066-5d1b9a7b2042",
   "metadata": {},
   "outputs": [
    {
     "data": {
      "text/plain": [
       "1"
      ]
     },
     "execution_count": 15,
     "metadata": {},
     "output_type": "execute_result"
    }
   ],
   "source": [
    "# 15. Access the first element of a nested tuple.\n",
    "first_element = nested_tuple[0][0]\n",
    "first_element"
   ]
  },
  {
   "cell_type": "markdown",
   "id": "3f2adf50-68d2-4461-8b2a-1cbae05ab28e",
   "metadata": {},
   "source": [
    "**Question 16:** Create a tuple with a single element."
   ]
  },
  {
   "cell_type": "code",
   "execution_count": 16,
   "id": "5a411d35-2d4c-4332-a107-6420f9b87c6d",
   "metadata": {},
   "outputs": [
    {
     "data": {
      "text/plain": [
       "(42,)"
      ]
     },
     "execution_count": 16,
     "metadata": {},
     "output_type": "execute_result"
    }
   ],
   "source": [
    "# 16. Create a tuple with a single element.\n",
    "single_element_tuple = (42,)\n",
    "single_element_tuple"
   ]
  },
  {
   "cell_type": "markdown",
   "id": "f626c017-c270-4ca3-ac87-b8223dcec160",
   "metadata": {},
   "source": [
    "**Question 17:** Compare two tuples."
   ]
  },
  {
   "cell_type": "code",
   "execution_count": 17,
   "id": "a3282b76-0b11-4820-ace7-5ab402355d45",
   "metadata": {},
   "outputs": [
    {
     "data": {
      "text/plain": [
       "True"
      ]
     },
     "execution_count": 17,
     "metadata": {},
     "output_type": "execute_result"
    }
   ],
   "source": [
    "# 17. Compare two tuples.\n",
    "tuple1 = (1, 2, 3)\n",
    "tuple2 = (1, 2, 3)\n",
    "are_equal = tuple1 == tuple2\n",
    "are_equal"
   ]
  },
  {
   "cell_type": "markdown",
   "id": "847844ca-298b-417f-acd7-f3d97b726541",
   "metadata": {},
   "source": [
    "**Question 18:** Delete a tuple."
   ]
  },
  {
   "cell_type": "code",
   "execution_count": 18,
   "id": "9a8230c1-e820-4133-8b1d-e1df2d66e998",
   "metadata": {},
   "outputs": [],
   "source": [
    "# 18. Delete a tuple.\n",
    "del my_tuple"
   ]
  },
  {
   "cell_type": "markdown",
   "id": "4a6cd00c-45cc-4697-8650-7ca24c759f55",
   "metadata": {},
   "source": [
    "**Question 19:** Slice a tuple."
   ]
  },
  {
   "cell_type": "code",
   "execution_count": 21,
   "id": "37af1b21-a2c6-4e23-9252-80dd4f5c35c6",
   "metadata": {},
   "outputs": [
    {
     "data": {
      "text/plain": [
       "(2, 3, 4)"
      ]
     },
     "execution_count": 21,
     "metadata": {},
     "output_type": "execute_result"
    }
   ],
   "source": [
    "# 19. Slice a tuple.\n",
    "my_tuple = (1, 2, 3, 4, 5)\n",
    "sliced_tuple = my_tuple[1:4]\n",
    "sliced_tuple"
   ]
  },
  {
   "cell_type": "markdown",
   "id": "c8051d3f-fa8e-43bb-b818-e3a7a08a4961",
   "metadata": {},
   "source": [
    "**Question 20:** Find the maximum value in a tuple."
   ]
  },
  {
   "cell_type": "code",
   "execution_count": 22,
   "id": "d00a46e3-e1c4-4271-87db-4290309b8db8",
   "metadata": {},
   "outputs": [
    {
     "data": {
      "text/plain": [
       "5"
      ]
     },
     "execution_count": 22,
     "metadata": {},
     "output_type": "execute_result"
    }
   ],
   "source": [
    "# 20. Find the maximum value in a tuple.\n",
    "max_value = max(my_tuple)\n",
    "max_value"
   ]
  },
  {
   "cell_type": "markdown",
   "id": "7accd31e-5df8-415f-a8eb-e7556ad95b1b",
   "metadata": {},
   "source": [
    "**Question 21:** Find the minimum value in a tuple."
   ]
  },
  {
   "cell_type": "code",
   "execution_count": 23,
   "id": "2411b0bc-6bb6-4849-b092-2f60f2aed857",
   "metadata": {},
   "outputs": [
    {
     "data": {
      "text/plain": [
       "1"
      ]
     },
     "execution_count": 23,
     "metadata": {},
     "output_type": "execute_result"
    }
   ],
   "source": [
    "# 21. Find the minimum value in a tuple.\n",
    "min_value = min(my_tuple)\n",
    "min_value"
   ]
  },
  {
   "cell_type": "markdown",
   "id": "16f69ddb-8b40-4f09-8005-b53f492e8b2e",
   "metadata": {},
   "source": [
    "**Question 22:** Convert a string to a tuple of characters."
   ]
  },
  {
   "cell_type": "code",
   "execution_count": 24,
   "id": "576c4f90-58a3-4495-b847-fb67d55259a7",
   "metadata": {},
   "outputs": [
    {
     "data": {
      "text/plain": [
       "('h', 'e', 'l', 'l', 'o')"
      ]
     },
     "execution_count": 24,
     "metadata": {},
     "output_type": "execute_result"
    }
   ],
   "source": [
    "# 22. Convert a string to a tuple of characters.\n",
    "my_string = 'hello'\n",
    "char_tuple = tuple(my_string)\n",
    "char_tuple"
   ]
  },
  {
   "cell_type": "markdown",
   "id": "a02221f6-8037-451b-a93c-abafbdec7a9e",
   "metadata": {},
   "source": [
    "**Question 23:** Convert a tuple of characters to a string."
   ]
  },
  {
   "cell_type": "code",
   "execution_count": 25,
   "id": "99e9e0e6-6c4e-4adc-806a-d1ac2dfd9deb",
   "metadata": {},
   "outputs": [
    {
     "data": {
      "text/plain": [
       "'hello'"
      ]
     },
     "execution_count": 25,
     "metadata": {},
     "output_type": "execute_result"
    }
   ],
   "source": [
    "# 23. Convert a tuple of characters to a string.\n",
    "char_tuple = ('h', 'e', 'l', 'l', 'o')\n",
    "my_string = ''.join(char_tuple)\n",
    "my_string"
   ]
  },
  {
   "cell_type": "markdown",
   "id": "cbd9a379-d627-4550-956f-2338d21c5e90",
   "metadata": {},
   "source": [
    "**Question 24:** Create a tuple from multiple data types."
   ]
  },
  {
   "cell_type": "code",
   "execution_count": 26,
   "id": "e9f03b22-bdae-4919-bf25-480b9ae62951",
   "metadata": {},
   "outputs": [
    {
     "data": {
      "text/plain": [
       "(1, 'hello', 3.14, True)"
      ]
     },
     "execution_count": 26,
     "metadata": {},
     "output_type": "execute_result"
    }
   ],
   "source": [
    "# 24. Create a tuple from multiple data types.\n",
    "mixed_tuple = (1, 'hello', 3.14, True)\n",
    "mixed_tuple"
   ]
  },
  {
   "cell_type": "markdown",
   "id": "fb72692a-97e9-4198-8d91-0f3f1962a286",
   "metadata": {},
   "source": [
    "**Question 25:** Check if two tuples are identical."
   ]
  },
  {
   "cell_type": "code",
   "execution_count": 27,
   "id": "af75d167-3225-48d9-9b5e-6f048a6a31e2",
   "metadata": {},
   "outputs": [
    {
     "data": {
      "text/plain": [
       "True"
      ]
     },
     "execution_count": 27,
     "metadata": {},
     "output_type": "execute_result"
    }
   ],
   "source": [
    "# 25. Check if two tuples are identical.\n",
    "are_identical = tuple1 == tuple2\n",
    "are_identical"
   ]
  },
  {
   "cell_type": "markdown",
   "id": "35c864b6-74ef-45bd-b427-174fdcc2a97d",
   "metadata": {},
   "source": [
    "**Question 26:** Sort the elements of a tuple."
   ]
  },
  {
   "cell_type": "code",
   "execution_count": 28,
   "id": "8b889bae-7b2d-4148-8fb6-ff6bc9ddca70",
   "metadata": {},
   "outputs": [
    {
     "data": {
      "text/plain": [
       "(1, 2, 3, 4, 5)"
      ]
     },
     "execution_count": 28,
     "metadata": {},
     "output_type": "execute_result"
    }
   ],
   "source": [
    "# 26. Sort the elements of a tuple.\n",
    "sorted_tuple = tuple(sorted(my_tuple))\n",
    "sorted_tuple"
   ]
  },
  {
   "cell_type": "markdown",
   "id": "33c61440-b6f4-43c9-8277-8ed599ff6629",
   "metadata": {},
   "source": [
    "**Question 27:** Convert a tuple of integers to a tuple of strings."
   ]
  },
  {
   "cell_type": "code",
   "execution_count": 29,
   "id": "dd520c83-6da7-4093-af11-24bc14786efe",
   "metadata": {},
   "outputs": [
    {
     "data": {
      "text/plain": [
       "('1', '2', '3', '4', '5')"
      ]
     },
     "execution_count": 29,
     "metadata": {},
     "output_type": "execute_result"
    }
   ],
   "source": [
    "# 27. Convert a tuple of integers to a tuple of strings.\n",
    "string_tuple = tuple(str(item) for item in my_tuple)\n",
    "string_tuple"
   ]
  },
  {
   "cell_type": "markdown",
   "id": "f7ffbd0e-ae2d-4854-8a95-fd0f9cbbbb04",
   "metadata": {},
   "source": [
    "**Question 28:** Convert a tuple of strings to a tuple of integers."
   ]
  },
  {
   "cell_type": "code",
   "execution_count": 30,
   "id": "28bc258c-4a4a-4212-a241-76b618ff19ed",
   "metadata": {},
   "outputs": [
    {
     "data": {
      "text/plain": [
       "(1, 2, 3, 4, 5)"
      ]
     },
     "execution_count": 30,
     "metadata": {},
     "output_type": "execute_result"
    }
   ],
   "source": [
    "# 28. Convert a tuple of strings to a tuple of integers.\n",
    "integer_tuple = tuple(int(item) for item in string_tuple)\n",
    "integer_tuple"
   ]
  },
  {
   "cell_type": "markdown",
   "id": "1be788ec-2bfd-483f-9a4c-91479907b86c",
   "metadata": {},
   "source": [
    "**Question 29:** Merge two tuples."
   ]
  },
  {
   "cell_type": "code",
   "execution_count": 31,
   "id": "7a8288e4-b9a2-4e98-8030-2d14bd488f7e",
   "metadata": {},
   "outputs": [
    {
     "data": {
      "text/plain": [
       "(1, 2, 3, 4, 5, 6)"
      ]
     },
     "execution_count": 31,
     "metadata": {},
     "output_type": "execute_result"
    }
   ],
   "source": [
    "# 29. Merge two tuples.\n",
    "tuple1 = (1, 2, 3)\n",
    "tuple2 = (4, 5, 6)\n",
    "merged_tuple = tuple1 + tuple2\n",
    "merged_tuple"
   ]
  },
  {
   "cell_type": "markdown",
   "id": "a3ba270f-ad05-42ab-a1a7-19930453d7e5",
   "metadata": {},
   "source": [
    "**Question 30:** Flatten a nested tuple."
   ]
  },
  {
   "cell_type": "code",
   "execution_count": 32,
   "id": "34092d72-ee8e-4a5d-8aba-018fe950b887",
   "metadata": {},
   "outputs": [
    {
     "data": {
      "text/plain": [
       "(1, 2, 3, 4)"
      ]
     },
     "execution_count": 32,
     "metadata": {},
     "output_type": "execute_result"
    }
   ],
   "source": [
    "# 30. Flatten a nested tuple.\n",
    "nested_tuple = ((1, 2), (3, 4))\n",
    "flattened_tuple = tuple(item for sublist in nested_tuple for item in sublist)\n",
    "flattened_tuple"
   ]
  },
  {
   "cell_type": "markdown",
   "id": "01a9d3f9-7b25-415a-8c65-edc7a289f59f",
   "metadata": {},
   "source": [
    "**Question 31:** Create a tuple of the first 5 prime numbers."
   ]
  },
  {
   "cell_type": "code",
   "execution_count": 33,
   "id": "d7bbcdfb-04c4-4cc0-99f4-f0fd001892b9",
   "metadata": {},
   "outputs": [
    {
     "data": {
      "text/plain": [
       "(2, 3, 5, 7, 11)"
      ]
     },
     "execution_count": 33,
     "metadata": {},
     "output_type": "execute_result"
    }
   ],
   "source": [
    "# 31. Create a tuple of the first 5 prime numbers.\n",
    "prime_numbers = (2, 3, 5, 7, 11)\n",
    "prime_numbers"
   ]
  },
  {
   "cell_type": "markdown",
   "id": "b699c45a-4f13-4154-9762-64c53763712c",
   "metadata": {},
   "source": [
    "**Question 32:** Check if a tuple is a palindrome."
   ]
  },
  {
   "cell_type": "code",
   "execution_count": 34,
   "id": "b80f89e8-47ce-49bf-a365-a50b4ce09ddf",
   "metadata": {},
   "outputs": [
    {
     "data": {
      "text/plain": [
       "False"
      ]
     },
     "execution_count": 34,
     "metadata": {},
     "output_type": "execute_result"
    }
   ],
   "source": [
    "# 32. Check if a tuple is a palindrome.\n",
    "is_palindrome = my_tuple == my_tuple[::-1]\n",
    "is_palindrome"
   ]
  },
  {
   "cell_type": "markdown",
   "id": "63a2979c-d6ee-4d70-89b9-e7985410f315",
   "metadata": {},
   "source": [
    "**Question 33:** Create a tuple of squares of numbers from 1 to 5."
   ]
  },
  {
   "cell_type": "code",
   "execution_count": 35,
   "id": "66063bcd-e020-4fc7-aca1-5df3b01ce60b",
   "metadata": {},
   "outputs": [
    {
     "data": {
      "text/plain": [
       "(1, 4, 9, 16, 25)"
      ]
     },
     "execution_count": 35,
     "metadata": {},
     "output_type": "execute_result"
    }
   ],
   "source": [
    "# 33. Create a tuple of squares of numbers from 1 to 5.\n",
    "squares_tuple = tuple(i**2 for i in range(1, 6))\n",
    "squares_tuple"
   ]
  },
  {
   "cell_type": "markdown",
   "id": "c3d46c34-605e-4756-aba9-dfa69ae4a367",
   "metadata": {},
   "source": [
    "**Question 34:** Filter out all even numbers from a tuple."
   ]
  },
  {
   "cell_type": "code",
   "execution_count": 36,
   "id": "814b98a2-d3b7-4450-b9ec-11c7ad3742d6",
   "metadata": {},
   "outputs": [
    {
     "data": {
      "text/plain": [
       "(1, 3, 5)"
      ]
     },
     "execution_count": 36,
     "metadata": {},
     "output_type": "execute_result"
    }
   ],
   "source": [
    "# 34. Filter out all even numbers from a tuple.\n",
    "filtered_tuple = tuple(item for item in my_tuple if item % 2 != 0)\n",
    "filtered_tuple"
   ]
  },
  {
   "cell_type": "markdown",
   "id": "a3471832-710a-44e0-8240-823bc274f235",
   "metadata": {},
   "source": [
    "**Question 35:** Multiply all elements in a tuple by 2."
   ]
  },
  {
   "cell_type": "code",
   "execution_count": 37,
   "id": "4835c08b-b78e-43cd-8afe-e0d56d362843",
   "metadata": {},
   "outputs": [
    {
     "data": {
      "text/plain": [
       "(2, 4, 6, 8, 10)"
      ]
     },
     "execution_count": 37,
     "metadata": {},
     "output_type": "execute_result"
    }
   ],
   "source": [
    "# 35. Multiply all elements in a tuple by 2.\n",
    "doubled_tuple = tuple(item * 2 for item in my_tuple)\n",
    "doubled_tuple"
   ]
  },
  {
   "cell_type": "markdown",
   "id": "21338d21-de07-4146-a528-a6fde4e9759d",
   "metadata": {},
   "source": [
    "**Question 36:** Create a tuple of random numbers."
   ]
  },
  {
   "cell_type": "code",
   "execution_count": 38,
   "id": "7b70a1a7-6644-47aa-a579-43accb99f46c",
   "metadata": {},
   "outputs": [
    {
     "data": {
      "text/plain": [
       "(62, 36, 39, 5, 71)"
      ]
     },
     "execution_count": 38,
     "metadata": {},
     "output_type": "execute_result"
    }
   ],
   "source": [
    "# 36. Create a tuple of random numbers.\n",
    "import random\n",
    "random_tuple = tuple(random.randint(1, 100) for _ in range(5))\n",
    "random_tuple"
   ]
  },
  {
   "cell_type": "markdown",
   "id": "31fec3cb-d234-494a-878a-81f83ee977f2",
   "metadata": {},
   "source": [
    "**Question 37:** Check if a tuple is sorted."
   ]
  },
  {
   "cell_type": "code",
   "execution_count": 39,
   "id": "ec156151-4780-424f-a741-6f60bf8843f5",
   "metadata": {},
   "outputs": [
    {
     "data": {
      "text/plain": [
       "True"
      ]
     },
     "execution_count": 39,
     "metadata": {},
     "output_type": "execute_result"
    }
   ],
   "source": [
    "# 37. Check if a tuple is sorted.\n",
    "is_sorted = my_tuple == tuple(sorted(my_tuple))\n",
    "is_sorted"
   ]
  },
  {
   "cell_type": "markdown",
   "id": "770f1462-e0e8-46d8-be54-71a04f33501b",
   "metadata": {},
   "source": [
    "**Question 38:** Rotate a tuple to the left by `n` positions."
   ]
  },
  {
   "cell_type": "code",
   "execution_count": 40,
   "id": "a380fe45-e90f-4ecd-9da5-22abfa5c640f",
   "metadata": {},
   "outputs": [
    {
     "data": {
      "text/plain": [
       "(3, 4, 5, 1, 2)"
      ]
     },
     "execution_count": 40,
     "metadata": {},
     "output_type": "execute_result"
    }
   ],
   "source": [
    "# 38. Rotate a tuple to the left by `n` positions.\n",
    "n = 2\n",
    "rotated_tuple = my_tuple[n:] + my_tuple[:n]\n",
    "rotated_tuple"
   ]
  },
  {
   "cell_type": "markdown",
   "id": "e68c608e-c468-4cc6-8faa-63492ff4afaa",
   "metadata": {},
   "source": [
    "**Question 39:** Rotate a tuple to the right by `n` positions."
   ]
  },
  {
   "cell_type": "code",
   "execution_count": 41,
   "id": "a35d3206-7cc2-484f-b53f-96b488b3a402",
   "metadata": {},
   "outputs": [
    {
     "data": {
      "text/plain": [
       "(4, 5, 1, 2, 3)"
      ]
     },
     "execution_count": 41,
     "metadata": {},
     "output_type": "execute_result"
    }
   ],
   "source": [
    "# 39. Rotate a tuple to the right by `n` positions.\n",
    "n = 2\n",
    "rotated_tuple = my_tuple[-n:] + my_tuple[:-n]\n",
    "rotated_tuple"
   ]
  },
  {
   "cell_type": "markdown",
   "id": "85399fa5-256c-4ef1-a506-4b4dbbe531b8",
   "metadata": {},
   "source": [
    "**Question 40:** Create a tuple of the first 5 Fibonacci numbers."
   ]
  },
  {
   "cell_type": "code",
   "execution_count": 42,
   "id": "e96ee459-cbca-40c2-a83b-30f5ec793658",
   "metadata": {},
   "outputs": [
    {
     "data": {
      "text/plain": [
       "(0, 1, 1, 2, 3)"
      ]
     },
     "execution_count": 42,
     "metadata": {},
     "output_type": "execute_result"
    }
   ],
   "source": [
    "# 40. Create a tuple of the first 5 Fibonacci numbers.\n",
    "a, b = 0, 1\n",
    "fibonacci_tuple = ()\n",
    "for _ in range(5):\n",
    "    fibonacci_tuple += (a,)\n",
    "    a, b = b, a + b\n",
    "fibonacci_tuple"
   ]
  },
  {
   "cell_type": "markdown",
   "id": "7a4d30d5-7767-46c5-9af2-73fe19d443e8",
   "metadata": {},
   "source": [
    "**Question 41:** Create a tuple from user input."
   ]
  },
  {
   "cell_type": "code",
   "execution_count": 43,
   "id": "aa16391e-4968-4164-808a-502ff7b4250a",
   "metadata": {},
   "outputs": [
    {
     "name": "stdin",
     "output_type": "stream",
     "text": [
      "Enter comma-separated values:  5,6,9,4,61,5\n"
     ]
    },
    {
     "data": {
      "text/plain": [
       "(5, 6, 9, 4, 61, 5)"
      ]
     },
     "execution_count": 43,
     "metadata": {},
     "output_type": "execute_result"
    }
   ],
   "source": [
    "# 41. Create a tuple from user input.\n",
    "user_input = input('Enter comma-separated values: ')\n",
    "tuple_from_input = tuple(map(int, user_input.split(',')))\n",
    "tuple_from_input"
   ]
  },
  {
   "cell_type": "markdown",
   "id": "3360b5b0-f964-4f0c-9f81-1d99270c5cff",
   "metadata": {},
   "source": [
    "**Question 42:** Swap two elements in a tuple."
   ]
  },
  {
   "cell_type": "code",
   "execution_count": 44,
   "id": "fb783be2-7120-44b0-9150-f4260c1eeba9",
   "metadata": {},
   "outputs": [
    {
     "data": {
      "text/plain": [
       "(1, 4, 3, 2, 5)"
      ]
     },
     "execution_count": 44,
     "metadata": {},
     "output_type": "execute_result"
    }
   ],
   "source": [
    "# 42. Swap two elements in a tuple.\n",
    "index1, index2 = 1, 3\n",
    "my_list = list(my_tuple)\n",
    "my_list[index1], my_list[index2] = my_list[index2], my_list[index1]\n",
    "swapped_tuple = tuple(my_list)\n",
    "swapped_tuple"
   ]
  },
  {
   "cell_type": "markdown",
   "id": "88952e4f-e279-4841-9e4d-2796386e7434",
   "metadata": {},
   "source": [
    "**Question 43:** Reverse the elements of a tuple."
   ]
  },
  {
   "cell_type": "code",
   "execution_count": 45,
   "id": "961309fa-127a-4fa0-973b-90d0b1ef4dd7",
   "metadata": {},
   "outputs": [
    {
     "data": {
      "text/plain": [
       "(5, 4, 3, 2, 1)"
      ]
     },
     "execution_count": 45,
     "metadata": {},
     "output_type": "execute_result"
    }
   ],
   "source": [
    "# 43. Reverse the elements of a tuple.\n",
    "reversed_tuple = my_tuple[::-1]\n",
    "reversed_tuple"
   ]
  },
  {
   "cell_type": "markdown",
   "id": "434547b7-36c5-4c09-b2ab-851a1ade05d2",
   "metadata": {},
   "source": [
    "**Question 44:** Create a tuple of the first `n` powers of 2."
   ]
  },
  {
   "cell_type": "code",
   "execution_count": 46,
   "id": "906e729b-6aee-41b5-ad7f-01ae0d7d1bff",
   "metadata": {},
   "outputs": [
    {
     "data": {
      "text/plain": [
       "(1, 2, 4, 8, 16)"
      ]
     },
     "execution_count": 46,
     "metadata": {},
     "output_type": "execute_result"
    }
   ],
   "source": [
    "# 44. Create a tuple of the first `n` powers of 2.\n",
    "n = 5\n",
    "powers_of_2 = tuple(2**i for i in range(n))\n",
    "powers_of_2"
   ]
  },
  {
   "cell_type": "markdown",
   "id": "ff515efd-bcef-4910-98f0-ca5ac407d6c6",
   "metadata": {},
   "source": [
    "**Question 45:** Find the longest string in a tuple of strings."
   ]
  },
  {
   "cell_type": "code",
   "execution_count": 47,
   "id": "75b89a15-c986-41d9-9ce6-cd6f497a12ea",
   "metadata": {},
   "outputs": [
    {
     "data": {
      "text/plain": [
       "'banana'"
      ]
     },
     "execution_count": 47,
     "metadata": {},
     "output_type": "execute_result"
    }
   ],
   "source": [
    "# 45. Find the longest string in a tuple of strings.\n",
    "string_tuple = ('apple', 'banana', 'cherry', 'date')\n",
    "longest_string = max(string_tuple, key=len)\n",
    "longest_string"
   ]
  },
  {
   "cell_type": "markdown",
   "id": "9fae238e-c11a-48d2-839f-776b47cfdb54",
   "metadata": {},
   "source": [
    "**Question 46:** Find the shortest string in a tuple of strings."
   ]
  },
  {
   "cell_type": "code",
   "execution_count": 48,
   "id": "4ee4225c-a157-4159-b293-68db6e30b374",
   "metadata": {},
   "outputs": [
    {
     "data": {
      "text/plain": [
       "'date'"
      ]
     },
     "execution_count": 48,
     "metadata": {},
     "output_type": "execute_result"
    }
   ],
   "source": [
    "# 46. Find the shortest string in a tuple of strings.\n",
    "shortest_string = min(string_tuple, key=len)\n",
    "shortest_string"
   ]
  },
  {
   "cell_type": "markdown",
   "id": "43cf0c8e-21b6-4839-bd66-b44a342e63d0",
   "metadata": {},
   "source": [
    "**Question 47:** Create a tuple of the first `n` triangular numbers."
   ]
  },
  {
   "cell_type": "code",
   "execution_count": 49,
   "id": "313e03cb-c5eb-433f-a9d9-d03aab5890ae",
   "metadata": {},
   "outputs": [
    {
     "data": {
      "text/plain": [
       "(1, 3, 6, 10, 15)"
      ]
     },
     "execution_count": 49,
     "metadata": {},
     "output_type": "execute_result"
    }
   ],
   "source": [
    "# 47. Create a tuple of the first `n` triangular numbers.\n",
    "n = 5\n",
    "triangular_numbers = tuple((i * (i + 1)) // 2 for i in range(1, n + 1))\n",
    "triangular_numbers"
   ]
  },
  {
   "cell_type": "markdown",
   "id": "57db8c76-48fb-4a9a-94a4-8aaa62fc0a4a",
   "metadata": {},
   "source": [
    "**Question 48:** Check if a tuple contains another tuple as a subsequence."
   ]
  },
  {
   "cell_type": "code",
   "execution_count": 50,
   "id": "d0604186-96f9-476e-8cca-fe5f7c9d1d88",
   "metadata": {},
   "outputs": [
    {
     "data": {
      "text/plain": [
       "True"
      ]
     },
     "execution_count": 50,
     "metadata": {},
     "output_type": "execute_result"
    }
   ],
   "source": [
    "# 48. Check if a tuple contains another tuple as a subsequence.\n",
    "subsequence = (3, 4)\n",
    "contains_subsequence = all(item in my_tuple for item in subsequence)\n",
    "contains_subsequence"
   ]
  },
  {
   "cell_type": "markdown",
   "id": "9c9b4513-bb25-4b07-b560-b9521c7f8fff",
   "metadata": {},
   "source": [
    "**Question 49:** Create a tuple of alternating 1s and 0s of length `n`."
   ]
  },
  {
   "cell_type": "code",
   "execution_count": 51,
   "id": "7c8f652b-66bf-4e77-9b0c-10f9a34c8f10",
   "metadata": {},
   "outputs": [
    {
     "data": {
      "text/plain": [
       "(1, 0, 1, 0, 1, 0, 1, 0, 1, 0)"
      ]
     },
     "execution_count": 51,
     "metadata": {},
     "output_type": "execute_result"
    }
   ],
   "source": [
    "# 49. Create a tuple of alternating 1s and 0s of length `n`.\n",
    "n = 10\n",
    "alternating_tuple = (1, 0) * (n // 2) + (1,) * (n % 2)\n",
    "alternating_tuple"
   ]
  },
  {
   "cell_type": "markdown",
   "id": "bf3a0684-7726-4e63-8998-86143b24e27b",
   "metadata": {},
   "source": [
    "**Question 50:** Create a tuple of alternating 1s and 0s of length `n`."
   ]
  },
  {
   "cell_type": "code",
   "execution_count": 52,
   "id": "6135ebf6-71e1-4930-a9ad-7b7a819420b5",
   "metadata": {},
   "outputs": [
    {
     "data": {
      "text/plain": [
       "(1, 0, 1, 0, 1, 0, 1, 0, 1, 0)"
      ]
     },
     "execution_count": 52,
     "metadata": {},
     "output_type": "execute_result"
    }
   ],
   "source": [
    "# 50. Create a tuple of alternating 1s and 0s of length `n`.\n",
    "n = 10\n",
    "alternating_tuple = (1, 0) * (n // 2) + (1,) * (n % 2)\n",
    "alternating_tuple"
   ]
  },
  {
   "cell_type": "markdown",
   "id": "9104e235-8334-480f-839f-79aaaf68c0ba",
   "metadata": {},
   "source": [
    "## Set Based Practice Problem :"
   ]
  },
  {
   "cell_type": "code",
   "execution_count": null,
   "id": "ebdef9b6-a475-4b58-96ca-936ed38cd8a6",
   "metadata": {},
   "outputs": [],
   "source": []
  }
 ],
 "metadata": {
  "kernelspec": {
   "display_name": "Python 3 (ipykernel)",
   "language": "python",
   "name": "python3"
  },
  "language_info": {
   "codemirror_mode": {
    "name": "ipython",
    "version": 3
   },
   "file_extension": ".py",
   "mimetype": "text/x-python",
   "name": "python",
   "nbconvert_exporter": "python",
   "pygments_lexer": "ipython3",
   "version": "3.10.8"
  }
 },
 "nbformat": 4,
 "nbformat_minor": 5
}
