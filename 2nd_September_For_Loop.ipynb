{
 "cells": [
  {
   "cell_type": "markdown",
   "id": "53076e4d-33ad-4365-ab69-5158251b9d8b",
   "metadata": {},
   "source": [
    "## Basic Level:"
   ]
  },
  {
   "cell_type": "markdown",
   "id": "4fb3db56",
   "metadata": {},
   "source": [
    "### Question 1: Write a Python program to print the numbers from 1 to 10 using a for loop."
   ]
  },
  {
   "cell_type": "code",
   "execution_count": 1,
   "id": "841e454a",
   "metadata": {},
   "outputs": [
    {
     "name": "stdout",
     "output_type": "stream",
     "text": [
      "1\n",
      "2\n",
      "3\n",
      "4\n",
      "5\n",
      "6\n",
      "7\n",
      "8\n",
      "9\n",
      "10\n"
     ]
    }
   ],
   "source": [
    "# 1. Write a Python program to print the numbers from 1 to 10 using a for loop.\n",
    "for num in range(1, 11):\n",
    "    print(num)"
   ]
  },
  {
   "cell_type": "markdown",
   "id": "91bcfa06",
   "metadata": {},
   "source": [
    "### Question 2: Create a program that calculates the sum of all numbers in a list using a for loop."
   ]
  },
  {
   "cell_type": "code",
   "execution_count": 2,
   "id": "f9cde134",
   "metadata": {},
   "outputs": [
    {
     "data": {
      "text/plain": [
       "15"
      ]
     },
     "execution_count": 2,
     "metadata": {},
     "output_type": "execute_result"
    }
   ],
   "source": [
    "# 2. Create a program that calculates the sum of all numbers in a list using a for loop.\n",
    "num_list = [1, 2, 3, 4, 5]\n",
    "total = 0\n",
    "for num in num_list:\n",
    "    total += num\n",
    "\n",
    "total"
   ]
  },
  {
   "cell_type": "markdown",
   "id": "64ec1b3c",
   "metadata": {},
   "source": [
    "### Question 3: Write a program to print the characters of a string in reverse order using a for loop."
   ]
  },
  {
   "cell_type": "code",
   "execution_count": 3,
   "id": "db349986",
   "metadata": {},
   "outputs": [
    {
     "data": {
      "text/plain": [
       "'!dlroW ,olleH'"
      ]
     },
     "execution_count": 3,
     "metadata": {},
     "output_type": "execute_result"
    }
   ],
   "source": [
    "# 3. Write a program to print the characters of a string in reverse order using a for loop.\n",
    "text = 'Hello, World!'\n",
    "reverse_text = ''\n",
    "for char in reversed(text):\n",
    "    reverse_text += char\n",
    "reverse_text"
   ]
  },
  {
   "cell_type": "markdown",
   "id": "113c2b42",
   "metadata": {},
   "source": [
    "### Question 4: Develop a program that finds the factorial of a given number using a for loop."
   ]
  },
  {
   "cell_type": "code",
   "execution_count": 4,
   "id": "c57b7ac3",
   "metadata": {},
   "outputs": [
    {
     "data": {
      "text/plain": [
       "120"
      ]
     },
     "execution_count": 4,
     "metadata": {},
     "output_type": "execute_result"
    }
   ],
   "source": [
    "# 4. Develop a program that finds the factorial of a given number using a for loop.\n",
    "def factorial(n):\n",
    "    result = 1\n",
    "    for i in range(1, n + 1):\n",
    "        result *= i\n",
    "    return result\n",
    "\n",
    "factorial(5)"
   ]
  },
  {
   "cell_type": "markdown",
   "id": "13b67de7",
   "metadata": {},
   "source": [
    "### Question 5: Create a program to print the multiplication table of a given number using a for loop."
   ]
  },
  {
   "cell_type": "code",
   "execution_count": 5,
   "id": "952cce63",
   "metadata": {},
   "outputs": [
    {
     "name": "stdout",
     "output_type": "stream",
     "text": [
      "5 x 1 = 5\n",
      "5 x 2 = 10\n",
      "5 x 3 = 15\n",
      "5 x 4 = 20\n",
      "5 x 5 = 25\n",
      "5 x 6 = 30\n",
      "5 x 7 = 35\n",
      "5 x 8 = 40\n",
      "5 x 9 = 45\n",
      "5 x 10 = 50\n"
     ]
    }
   ],
   "source": [
    "# 5. Create a program to print the multiplication table of a given number using a for loop.\n",
    "n = 5\n",
    "for i in range(1, 11):\n",
    "    print(f'{n} x {i} = {n * i}')"
   ]
  },
  {
   "cell_type": "markdown",
   "id": "2ad932ed",
   "metadata": {},
   "source": [
    "### Question 6: Write a program that counts the number of even and odd numbers in a list using a for loop."
   ]
  },
  {
   "cell_type": "code",
   "execution_count": 6,
   "id": "f77ea692",
   "metadata": {},
   "outputs": [
    {
     "data": {
      "text/plain": [
       "(5, 5)"
      ]
     },
     "execution_count": 6,
     "metadata": {},
     "output_type": "execute_result"
    }
   ],
   "source": [
    "# 6. Write a program that counts the number of even and odd numbers in a list using a for loop.\n",
    "numbers = [1, 2, 3, 4, 5, 6, 7, 8, 9, 10]\n",
    "even_count = 0\n",
    "odd_count = 0\n",
    "for num in numbers:\n",
    "    if num % 2 == 0:\n",
    "        even_count += 1\n",
    "    else:\n",
    "        odd_count += 1\n",
    "\n",
    "(even_count, odd_count)"
   ]
  },
  {
   "cell_type": "markdown",
   "id": "9253e32c",
   "metadata": {},
   "source": [
    "### Question 7: Develop a program that prints the squares of numbers from 1 to 5 using a for loop."
   ]
  },
  {
   "cell_type": "code",
   "execution_count": 7,
   "id": "cd9ec44a",
   "metadata": {},
   "outputs": [
    {
     "name": "stdout",
     "output_type": "stream",
     "text": [
      "1 squared is 1\n",
      "2 squared is 4\n",
      "3 squared is 9\n",
      "4 squared is 16\n",
      "5 squared is 25\n"
     ]
    }
   ],
   "source": [
    "# 7. Develop a program that prints the squares of numbers from 1 to 5 using a for loop.\n",
    "for i in range(1, 6):\n",
    "    print(f'{i} squared is {i ** 2}')"
   ]
  },
  {
   "cell_type": "markdown",
   "id": "d7564c6d",
   "metadata": {},
   "source": [
    "### Question 8: Create a program to find the length of a string without using the len() function."
   ]
  },
  {
   "cell_type": "code",
   "execution_count": 8,
   "id": "a1242815",
   "metadata": {},
   "outputs": [
    {
     "data": {
      "text/plain": [
       "13"
      ]
     },
     "execution_count": 8,
     "metadata": {},
     "output_type": "execute_result"
    }
   ],
   "source": [
    "# 8. Create a program to find the length of a string without using the len() function.\n",
    "string = 'Hello, World!'\n",
    "length = 0\n",
    "for char in string:\n",
    "    length += 1\n",
    "\n",
    "length"
   ]
  },
  {
   "cell_type": "markdown",
   "id": "60f9efb7",
   "metadata": {},
   "source": [
    "### Question 9: Write a program that calculates the average of a list of numbers using a for loop."
   ]
  },
  {
   "cell_type": "code",
   "execution_count": 9,
   "id": "42964933",
   "metadata": {},
   "outputs": [
    {
     "data": {
      "text/plain": [
       "30.0"
      ]
     },
     "execution_count": 9,
     "metadata": {},
     "output_type": "execute_result"
    }
   ],
   "source": [
    "# 9. Write a program that calculates the average of a list of numbers using a for loop.\n",
    "numbers = [10, 20, 30, 40, 50]\n",
    "sum_of_numbers = 0\n",
    "for num in numbers:\n",
    "    sum_of_numbers += num\n",
    "average = sum_of_numbers / len(numbers)\n",
    "\n",
    "average"
   ]
  },
  {
   "cell_type": "markdown",
   "id": "1c8fd049",
   "metadata": {},
   "source": [
    "### Question 10: Develop a program that prints the first n Fibonacci numbers using a for loop."
   ]
  },
  {
   "cell_type": "code",
   "execution_count": 10,
   "id": "6a19968d",
   "metadata": {},
   "outputs": [
    {
     "data": {
      "text/plain": [
       "[0, 1, 1, 2, 3, 5, 8, 13, 21, 34]"
      ]
     },
     "execution_count": 10,
     "metadata": {},
     "output_type": "execute_result"
    }
   ],
   "source": [
    "# 10. Develop a program that prints the first n Fibonacci numbers using a for loop.\n",
    "n = 10\n",
    "fibonacci_sequence = []\n",
    "a, b = 0, 1\n",
    "for i in range(n):\n",
    "    fibonacci_sequence.append(a)\n",
    "    a, b = b, a + b\n",
    "\n",
    "fibonacci_sequence"
   ]
  },
  {
   "cell_type": "markdown",
   "id": "b9b05683-4f64-43f2-9d90-8b6565697a55",
   "metadata": {},
   "source": [
    "## Intermediate Level:"
   ]
  },
  {
   "cell_type": "markdown",
   "id": "4bcfc3f8",
   "metadata": {},
   "source": [
    "### Question 11: Write a program to check if a given list contains any duplicates using a for loop."
   ]
  },
  {
   "cell_type": "code",
   "execution_count": 11,
   "id": "c5a392f3",
   "metadata": {},
   "outputs": [
    {
     "data": {
      "text/plain": [
       "True"
      ]
     },
     "execution_count": 11,
     "metadata": {},
     "output_type": "execute_result"
    }
   ],
   "source": [
    "# 11. Write a program to check if a given list contains any duplicates using a for loop.\n",
    "\n",
    "# Define a list with potential duplicates\n",
    "my_list = [1, 2, 3, 4, 5, 3]\n",
    "\n",
    "# Create a set to store unique elements\n",
    "unique_set = set()\n",
    "\n",
    "# Flag to track duplicates\n",
    "has_duplicates = False\n",
    "\n",
    "# Iterate through the list\n",
    "for num in my_list:\n",
    "    # If the element is already in the set, it's a duplicate\n",
    "    if num in unique_set:\n",
    "        has_duplicates = True\n",
    "        break\n",
    "    unique_set.add(num)\n",
    "\n",
    "has_duplicates"
   ]
  },
  {
   "cell_type": "markdown",
   "id": "29673a8d",
   "metadata": {},
   "source": [
    "### Question 12: Create a program that prints the prime numbers in a given range using a for loop."
   ]
  },
  {
   "cell_type": "code",
   "execution_count": 12,
   "id": "83636b4d",
   "metadata": {},
   "outputs": [
    {
     "data": {
      "text/plain": [
       "[11, 13, 17, 19, 23, 29, 31, 37, 41, 43, 47]"
      ]
     },
     "execution_count": 12,
     "metadata": {},
     "output_type": "execute_result"
    }
   ],
   "source": [
    "# 12. Create a program that prints the prime numbers in a given range using a for loop.\n",
    "\n",
    "# Define the range (start and end values)\n",
    "start = 10\n",
    "end = 50\n",
    "\n",
    "# Initialize an empty list to store prime numbers\n",
    "prime_numbers = []\n",
    "\n",
    "# Iterate through the range\n",
    "for num in range(start, end + 1):\n",
    "    if num > 1:\n",
    "        is_prime = True\n",
    "        for i in range(2, int(num**0.5) + 1):\n",
    "            if num % i == 0:\n",
    "                is_prime = False\n",
    "                break\n",
    "        if is_prime:\n",
    "            prime_numbers.append(num)\n",
    "\n",
    "prime_numbers"
   ]
  },
  {
   "cell_type": "markdown",
   "id": "68a7f482",
   "metadata": {},
   "source": [
    "### Question 13: Develop a program that counts the number of vowels in a string using a for loop."
   ]
  },
  {
   "cell_type": "code",
   "execution_count": 13,
   "id": "cd201472",
   "metadata": {},
   "outputs": [
    {
     "data": {
      "text/plain": [
       "3"
      ]
     },
     "execution_count": 13,
     "metadata": {},
     "output_type": "execute_result"
    }
   ],
   "source": [
    "# 13. Develop a program that counts the number of vowels in a string using a for loop.\n",
    "\n",
    "# Define a string\n",
    "string = 'Hello, World!'\n",
    "\n",
    "# Initialize a counter for vowels\n",
    "vowel_count = 0\n",
    "\n",
    "# Define a set of vowels (both uppercase and lowercase)\n",
    "vowels = set('AEIOUaeiou')\n",
    "\n",
    "# Iterate through the string\n",
    "for char in string:\n",
    "    # Check if the character is in the set of vowels\n",
    "    if char in vowels:\n",
    "        vowel_count += 1\n",
    "\n",
    "vowel_count"
   ]
  },
  {
   "cell_type": "markdown",
   "id": "cef38cc4",
   "metadata": {},
   "source": [
    "### Question 14: Write a program to find the maximum element in a 2D list using a nested for loop."
   ]
  },
  {
   "cell_type": "code",
   "execution_count": 14,
   "id": "fa728854",
   "metadata": {},
   "outputs": [
    {
     "data": {
      "text/plain": [
       "9"
      ]
     },
     "execution_count": 14,
     "metadata": {},
     "output_type": "execute_result"
    }
   ],
   "source": [
    "# 14. Write a program to find the maximum element in a 2D list using a nested for loop.\n",
    "\n",
    "# Define a 2D list\n",
    "matrix = [\n",
    "    [1, 2, 3],\n",
    "    [4, 5, 6],\n",
    "    [7, 8, 9]\n",
    "]\n",
    "\n",
    "# Initialize a variable to store the maximum element\n",
    "max_element = matrix[0][0]\n",
    "\n",
    "# Iterate through the rows\n",
    "for row in matrix:\n",
    "    # Iterate through the elements in each row\n",
    "    for element in row:\n",
    "        if element > max_element:\n",
    "            max_element = element\n",
    "\n",
    "max_element"
   ]
  },
  {
   "cell_type": "markdown",
   "id": "37d80c9c",
   "metadata": {},
   "source": [
    "### Question 15: Create a program that removes all occurrences of a specific element from a list using a for loop."
   ]
  },
  {
   "cell_type": "code",
   "execution_count": 15,
   "id": "0b285509",
   "metadata": {},
   "outputs": [
    {
     "data": {
      "text/plain": [
       "[1, 3, 4, 5]"
      ]
     },
     "execution_count": 15,
     "metadata": {},
     "output_type": "execute_result"
    }
   ],
   "source": [
    "# 15. Create a program that removes all occurrences of a specific element from a list using a for loop.\n",
    "\n",
    "# Define a list with elements\n",
    "my_list = [1, 2, 3, 2, 4, 2, 5]\n",
    "\n",
    "# Define the element to remove\n",
    "element_to_remove = 2\n",
    "\n",
    "# Use a for loop to remove all occurrences of the element\n",
    "my_list = [x for x in my_list if x != element_to_remove]\n",
    "\n",
    "my_list"
   ]
  },
  {
   "cell_type": "markdown",
   "id": "5dac028f",
   "metadata": {},
   "source": [
    "### Question 16: Develop a program that generates a multiplication table for numbers from 1 to 5 using a nested for loop."
   ]
  },
  {
   "cell_type": "code",
   "execution_count": 16,
   "id": "5aead46f",
   "metadata": {},
   "outputs": [
    {
     "name": "stdout",
     "output_type": "stream",
     "text": [
      "1 x 1 = 1\n",
      "1 x 2 = 2\n",
      "1 x 3 = 3\n",
      "1 x 4 = 4\n",
      "1 x 5 = 5\n",
      "2 x 1 = 2\n",
      "2 x 2 = 4\n",
      "2 x 3 = 6\n",
      "2 x 4 = 8\n",
      "2 x 5 = 10\n",
      "3 x 1 = 3\n",
      "3 x 2 = 6\n",
      "3 x 3 = 9\n",
      "3 x 4 = 12\n",
      "3 x 5 = 15\n",
      "4 x 1 = 4\n",
      "4 x 2 = 8\n",
      "4 x 3 = 12\n",
      "4 x 4 = 16\n",
      "4 x 5 = 20\n",
      "5 x 1 = 5\n",
      "5 x 2 = 10\n",
      "5 x 3 = 15\n",
      "5 x 4 = 20\n",
      "5 x 5 = 25\n"
     ]
    }
   ],
   "source": [
    "# 16. Develop a program that generates a multiplication table for numbers from 1 to 5 using a nested for loop.\n",
    "\n",
    "# Define the range of numbers\n",
    "start = 1\n",
    "end = 5\n",
    "\n",
    "# Iterate through the range for the rows\n",
    "for i in range(start, end + 1):\n",
    "    # Iterate through the range for the columns\n",
    "    for j in range(start, end + 1):\n",
    "        # Calculate and print the product\n",
    "        product = i * j\n",
    "        print(f'{i} x {j} = {product}')"
   ]
  },
  {
   "cell_type": "markdown",
   "id": "6af1e807",
   "metadata": {},
   "source": [
    "### Question 17: Write a program that converts a list of Fahrenheit temperatures to Celsius using a for loop."
   ]
  },
  {
   "cell_type": "code",
   "execution_count": 17,
   "id": "0314306a",
   "metadata": {},
   "outputs": [
    {
     "data": {
      "text/plain": [
       "[0.0, 20.0, 37.77777777777778, 100.0]"
      ]
     },
     "execution_count": 17,
     "metadata": {},
     "output_type": "execute_result"
    }
   ],
   "source": [
    "# 17. Write a program that converts a list of Fahrenheit temperatures to Celsius using a for loop.\n",
    "\n",
    "# Define a list of Fahrenheit temperatures\n",
    "fahrenheit_temperatures = [32, 68, 100, 212]\n",
    "\n",
    "# Initialize an empty list to store Celsius temperatures\n",
    "celsius_temperatures = []\n",
    "\n",
    "# Convert Fahrenheit to Celsius for each temperature\n",
    "for fahrenheit in fahrenheit_temperatures:\n",
    "    celsius = (fahrenheit - 32) * 5/9\n",
    "    celsius_temperatures.append(celsius)\n",
    "\n",
    "celsius_temperatures"
   ]
  },
  {
   "cell_type": "markdown",
   "id": "c380e5db",
   "metadata": {},
   "source": [
    "### Question 18: Create a program to print the common elements from two lists using a for loop."
   ]
  },
  {
   "cell_type": "code",
   "execution_count": 18,
   "id": "c461b8ad",
   "metadata": {},
   "outputs": [
    {
     "data": {
      "text/plain": [
       "[3, 4, 5]"
      ]
     },
     "execution_count": 18,
     "metadata": {},
     "output_type": "execute_result"
    }
   ],
   "source": [
    "# 18. Create a program to print the common elements from two lists using a for loop.\n",
    "\n",
    "# Define two lists\n",
    "list1 = [1, 2, 3, 4, 5]\n",
    "list2 = [3, 4, 5, 6, 7]\n",
    "\n",
    "# Initialize an empty list to store common elements\n",
    "common_elements = []\n",
    "\n",
    "# Use a for loop to find and add common elements\n",
    "for item in list1:\n",
    "    if item in list2:\n",
    "        common_elements.append(item)\n",
    "\n",
    "common_elements"
   ]
  },
  {
   "cell_type": "markdown",
   "id": "597e2b72",
   "metadata": {},
   "source": [
    "### Question 19: Develop a program that prints the pattern of right-angled triangles using a for loop. Use ‘*’ to draw the pattern."
   ]
  },
  {
   "cell_type": "code",
   "execution_count": 19,
   "id": "b718beaa",
   "metadata": {},
   "outputs": [
    {
     "name": "stdout",
     "output_type": "stream",
     "text": [
      "* \n",
      "* * \n",
      "* * * \n",
      "* * * * \n",
      "* * * * * \n"
     ]
    }
   ],
   "source": [
    "# 19. Develop a program that prints the pattern of right-angled triangles using a for loop. Use ‘*’ to draw the pattern.\n",
    "\n",
    "# Define the number of rows for the triangle\n",
    "n = 5\n",
    "\n",
    "# Iterate through the rows to print the pattern\n",
    "for i in range(1, n + 1):\n",
    "    # Print '*' for each column up to the current row number\n",
    "    for j in range(1, i + 1):\n",
    "        print('*', end=' ')\n",
    "    # Move to the next line after each row\n",
    "    print()"
   ]
  },
  {
   "cell_type": "markdown",
   "id": "ce90e8c7",
   "metadata": {},
   "source": [
    "### Question 20: Write a program to find the greatest common divisor (GCD) of two numbers using a for loop."
   ]
  },
  {
   "cell_type": "code",
   "execution_count": 20,
   "id": "5170a271",
   "metadata": {},
   "outputs": [
    {
     "data": {
      "text/plain": [
       "12"
      ]
     },
     "execution_count": 20,
     "metadata": {},
     "output_type": "execute_result"
    }
   ],
   "source": [
    "# 20. Write a program to find the greatest common divisor (GCD) of two numbers using a for loop.\n",
    "\n",
    "# Define two numbers\n",
    "num1 = 36\n",
    "num2 = 48\n",
    "\n",
    "# Find the minimum of the two numbers\n",
    "min_num = min(num1, num2)\n",
    "\n",
    "# Initialize a variable to store the GCD\n",
    "gcd = 1\n",
    "\n",
    "# Iterate through a range of numbers from 1 to the minimum\n",
    "for i in range(1, min_num + 1):\n",
    "    if num1 % i == 0 and num2 % i == 0:\n",
    "        gcd = i\n",
    "\n",
    "gcd"
   ]
  },
  {
   "cell_type": "markdown",
   "id": "93b03468-a09a-4b38-b341-508c1be1fb00",
   "metadata": {},
   "source": [
    "## Advanced Level:"
   ]
  },
  {
   "cell_type": "markdown",
   "id": "e433e347",
   "metadata": {},
   "source": [
    "### Question 21: Create a program that calculates the sum of the digits of numbers in a list using a list comprehension."
   ]
  },
  {
   "cell_type": "code",
   "execution_count": 21,
   "id": "95690f81",
   "metadata": {},
   "outputs": [
    {
     "data": {
      "text/plain": [
       "[6, 9, 21, 9]"
      ]
     },
     "execution_count": 21,
     "metadata": {},
     "output_type": "execute_result"
    }
   ],
   "source": [
    "# 21. Create a program that calculates the sum of the digits of numbers in a list using a list comprehension.\n",
    "\n",
    "# Define a list of numbers\n",
    "numbers = [123, 45, 678, 9]\n",
    "\n",
    "# Use list comprehension to calculate the sum of digits for each number\n",
    "sum_of_digits = [sum(int(digit) for digit in str(num)) for num in numbers]\n",
    "\n",
    "sum_of_digits"
   ]
  },
  {
   "cell_type": "markdown",
   "id": "df925a24",
   "metadata": {},
   "source": [
    "### Question 22: Write a program to find the prime factors of a given number using a for loop and list comprehension."
   ]
  },
  {
   "cell_type": "code",
   "execution_count": 22,
   "id": "9b74cbe1",
   "metadata": {},
   "outputs": [
    {
     "data": {
      "text/plain": [
       "[2, 2, 3, 3]"
      ]
     },
     "execution_count": 22,
     "metadata": {},
     "output_type": "execute_result"
    }
   ],
   "source": [
    "# 22. Write a program to find the prime factors of a given number using a for loop and list comprehension.\n",
    "\n",
    "# Define the number to find prime factors\n",
    "number = 36\n",
    "\n",
    "# Initialize an empty list to store prime factors\n",
    "prime_factors = []\n",
    "\n",
    "# Iterate through numbers from 2 to the number itself\n",
    "for i in range(2, number + 1):\n",
    "    while number % i == 0:\n",
    "        prime_factors.append(i)\n",
    "        number = number // i\n",
    "\n",
    "prime_factors"
   ]
  },
  {
   "cell_type": "markdown",
   "id": "7e34e372",
   "metadata": {},
   "source": [
    "### Question 23: Develop a program that extracts unique elements from a list and stores them in a new list using a list comprehension."
   ]
  },
  {
   "cell_type": "code",
   "execution_count": 23,
   "id": "d0e6a947",
   "metadata": {},
   "outputs": [
    {
     "data": {
      "text/plain": [
       "[1, 2, 3, 4, 5]"
      ]
     },
     "execution_count": 23,
     "metadata": {},
     "output_type": "execute_result"
    }
   ],
   "source": [
    "# 23. Develop a program that extracts unique elements from a list and stores them in a new list using a list comprehension.\n",
    "\n",
    "# Define a list with potential duplicates\n",
    "my_list = [1, 2, 2, 3, 4, 4, 5]\n",
    "\n",
    "# Use list comprehension to extract unique elements\n",
    "unique_elements = []\n",
    "[unique_elements.append(item) for item in my_list if item not in unique_elements]\n",
    "\n",
    "unique_elements"
   ]
  },
  {
   "cell_type": "markdown",
   "id": "fd77ff0a",
   "metadata": {},
   "source": [
    "### Question 24: Create a program that generates a list of all palindromic numbers up to a specified limit using a list comprehension."
   ]
  },
  {
   "cell_type": "code",
   "execution_count": 44,
   "id": "9910b4c8",
   "metadata": {},
   "outputs": [
    {
     "data": {
      "text/plain": [
       "[1, 2, 3, 4, 5, 6, 7, 8, 9, 11, 22]"
      ]
     },
     "execution_count": 44,
     "metadata": {},
     "output_type": "execute_result"
    }
   ],
   "source": [
    "# 24. Create a program that generates a list of all palindromic numbers up to a specified limit using a list comprehension.\n",
    "\n",
    "# Define the limit\n",
    "limit = 25\n",
    "\n",
    "# Use list comprehension to generate palindromic numbers\n",
    "palindromic_numbers = [num for num in range(1, limit + 1) if str(num) == str(num)[::-1]]\n",
    "\n",
    "palindromic_numbers"
   ]
  },
  {
   "cell_type": "markdown",
   "id": "88cfb2eb",
   "metadata": {},
   "source": [
    "### Question 25: Write a program to flatten a nested list using list comprehension."
   ]
  },
  {
   "cell_type": "code",
   "execution_count": 25,
   "id": "c4fc0672",
   "metadata": {},
   "outputs": [
    {
     "data": {
      "text/plain": [
       "[1, 2, 3, 4, 5, 6, 7, 8, 9]"
      ]
     },
     "execution_count": 25,
     "metadata": {},
     "output_type": "execute_result"
    }
   ],
   "source": [
    "# 25. Write a program to flatten a nested list using list comprehension.\n",
    "\n",
    "# Define a nested list\n",
    "nested_list = [[1, 2, 3], [4, 5], [6, 7, 8, 9]]\n",
    "\n",
    "# Use list comprehension to flatten the nested list\n",
    "flattened_list = [item for sublist in nested_list for item in sublist]\n",
    "\n",
    "flattened_list"
   ]
  },
  {
   "cell_type": "markdown",
   "id": "ced32a58",
   "metadata": {},
   "source": [
    "### Question 26: Develop a program that computes the sum of even and odd numbers in a list separately using list comprehension."
   ]
  },
  {
   "cell_type": "code",
   "execution_count": 26,
   "id": "b8dd2607",
   "metadata": {},
   "outputs": [
    {
     "data": {
      "text/plain": [
       "(20, 25)"
      ]
     },
     "execution_count": 26,
     "metadata": {},
     "output_type": "execute_result"
    }
   ],
   "source": [
    "# 26. Develop a program that computes the sum of even and odd numbers in a list separately using list comprehension.\n",
    "\n",
    "# Define a list of numbers\n",
    "numbers = [1, 2, 3, 4, 5, 6, 7, 8, 9]\n",
    "\n",
    "# Use list comprehension to calculate the sum of even and odd numbers\n",
    "sum_of_even = sum([num for num in numbers if num % 2 == 0])\n",
    "sum_of_odd = sum([num for num in numbers if num % 2 != 0])\n",
    "\n",
    "sum_of_even, sum_of_odd"
   ]
  },
  {
   "cell_type": "markdown",
   "id": "332f0166",
   "metadata": {},
   "source": [
    "### Question 27: Create a program that generates a list of squares of odd numbers between 1 and 10 using list comprehension."
   ]
  },
  {
   "cell_type": "code",
   "execution_count": 27,
   "id": "f590d28a",
   "metadata": {},
   "outputs": [
    {
     "data": {
      "text/plain": [
       "[1, 9, 25, 49, 81]"
      ]
     },
     "execution_count": 27,
     "metadata": {},
     "output_type": "execute_result"
    }
   ],
   "source": [
    "# 27. Create a program that generates a list of squares of odd numbers between 1 and 10 using list comprehension.\n",
    "\n",
    "# Use list comprehension to generate squares of odd numbers\n",
    "squares_of_odd = [num**2 for num in range(1, 11) if num % 2 != 0]\n",
    "\n",
    "squares_of_odd"
   ]
  },
  {
   "cell_type": "markdown",
   "id": "36eb6672",
   "metadata": {},
   "source": [
    "### Question 28: Write a program that combines two lists into a dictionary using list comprehension."
   ]
  },
  {
   "cell_type": "code",
   "execution_count": 28,
   "id": "864a7822",
   "metadata": {},
   "outputs": [
    {
     "data": {
      "text/plain": [
       "{'a': 1, 'b': 2, 'c': 3}"
      ]
     },
     "execution_count": 28,
     "metadata": {},
     "output_type": "execute_result"
    }
   ],
   "source": [
    "# 28. Write a program that combines two lists into a dictionary using list comprehension.\n",
    "\n",
    "# Define two lists\n",
    "keys = ['a', 'b', 'c']\n",
    "values = [1, 2, 3]\n",
    "\n",
    "# Use list comprehension to create a dictionary\n",
    "combined_dict = {key: value for key, value in zip(keys, values)}\n",
    "\n",
    "combined_dict"
   ]
  },
  {
   "cell_type": "markdown",
   "id": "a9ca11cb",
   "metadata": {},
   "source": [
    "### Question 29: Develop a program that extracts the vowels from a string and stores them in a list using list comprehension."
   ]
  },
  {
   "cell_type": "code",
   "execution_count": 29,
   "id": "03a7b928",
   "metadata": {},
   "outputs": [
    {
     "data": {
      "text/plain": [
       "['e', 'o', 'o']"
      ]
     },
     "execution_count": 29,
     "metadata": {},
     "output_type": "execute_result"
    }
   ],
   "source": [
    "# 29. Develop a program that extracts the vowels from a string and stores them in a list using list comprehension.\n",
    "\n",
    "# Define a string\n",
    "string = 'Hello, World!'\n",
    "\n",
    "# Use list comprehension to extract vowels\n",
    "vowels = [char for char in string if char.lower() in 'aeiou']\n",
    "\n",
    "vowels"
   ]
  },
  {
   "cell_type": "markdown",
   "id": "28ab4f54",
   "metadata": {},
   "source": [
    "### Question 30: Create a program that removes all non-numeric characters from a list of strings using list comprehension."
   ]
  },
  {
   "cell_type": "code",
   "execution_count": 30,
   "id": "bfbea102",
   "metadata": {},
   "outputs": [
    {
     "data": {
      "text/plain": [
       "['123', '456', '789', '']"
      ]
     },
     "execution_count": 30,
     "metadata": {},
     "output_type": "execute_result"
    }
   ],
   "source": [
    "# 30. Create a program that removes all non-numeric characters from a list of strings using list comprehension.\n",
    "\n",
    "# Define a list of strings\n",
    "strings = ['abc123', '456def', '789', 'xyz']\n",
    "\n",
    "# Use list comprehension to remove non-numeric characters\n",
    "numeric_strings = [''.join(filter(str.isdigit, string)) for string in strings]\n",
    "\n",
    "numeric_strings"
   ]
  },
  {
   "cell_type": "markdown",
   "id": "911772e5-3640-4baf-8d11-339a22eb3a66",
   "metadata": {},
   "source": [
    "## Challenge Level:"
   ]
  },
  {
   "cell_type": "markdown",
   "id": "a38ddedc",
   "metadata": {},
   "source": [
    "### Question 31: Write a program to generate a list of prime numbers using the Sieve of Eratosthenes algorithm and list comprehension."
   ]
  },
  {
   "cell_type": "code",
   "execution_count": 45,
   "id": "c56efe21",
   "metadata": {},
   "outputs": [
    {
     "data": {
      "text/plain": [
       "[2, 3, 5, 7, 11, 13, 17, 19, 23, 29, 31, 37, 41, 43, 47]"
      ]
     },
     "execution_count": 45,
     "metadata": {},
     "output_type": "execute_result"
    }
   ],
   "source": [
    "# 31. Write a program to generate a list of prime numbers using the Sieve of Eratosthenes algorithm and list comprehension.\n",
    "\n",
    "# Define the limit\n",
    "limit = 50\n",
    "\n",
    "# Create a list of boolean values to represent prime status for each number from 0 to limit\n",
    "is_prime = [True] * (limit + 1)\n",
    "is_prime[0] = is_prime[1] = False\n",
    "\n",
    "# Use the Sieve of Eratosthenes algorithm to mark non-prime numbers\n",
    "for num in range(2, int(limit**0.5) + 1):\n",
    "    if is_prime[num]:\n",
    "        for multiple in range(num*num, limit + 1, num):\n",
    "            is_prime[multiple] = False\n",
    "\n",
    "# Use list comprehension to generate a list of prime numbers\n",
    "prime_numbers = [num for num in range(2, limit + 1) if is_prime[num]]\n",
    "\n",
    "prime_numbers"
   ]
  },
  {
   "cell_type": "markdown",
   "id": "049ef061",
   "metadata": {},
   "source": [
    "### Question 32: Create a program that generates a list of all Pythagorean triplets up to a specified limit using list comprehension."
   ]
  },
  {
   "cell_type": "code",
   "execution_count": 32,
   "id": "f118a480",
   "metadata": {},
   "outputs": [
    {
     "data": {
      "text/plain": [
       "[(3, 4, 5),\n",
       " (5, 12, 13),\n",
       " (6, 8, 10),\n",
       " (7, 24, 25),\n",
       " (8, 15, 17),\n",
       " (9, 12, 15),\n",
       " (10, 24, 26),\n",
       " (12, 16, 20),\n",
       " (15, 20, 25),\n",
       " (20, 21, 29)]"
      ]
     },
     "execution_count": 32,
     "metadata": {},
     "output_type": "execute_result"
    }
   ],
   "source": [
    "# 32. Create a program that generates a list of all Pythagorean triplets up to a specified limit using list comprehension.\n",
    "\n",
    "# Define the limit\n",
    "limit = 30\n",
    "\n",
    "# Use list comprehension to generate Pythagorean triplets\n",
    "pythagorean_triplets = [(a, b, c) for a in range(1, limit) for b in range(a, limit) for c in range(b, limit) if a**2 + b**2 == c**2]\n",
    "\n",
    "pythagorean_triplets"
   ]
  },
  {
   "cell_type": "markdown",
   "id": "5e5e97ef",
   "metadata": {},
   "source": [
    "### Question 33: Develop a program that generates a list of all possible combinations of two lists using list comprehension."
   ]
  },
  {
   "cell_type": "code",
   "execution_count": 33,
   "id": "050f54aa",
   "metadata": {},
   "outputs": [
    {
     "data": {
      "text/plain": [
       "[(1, 'a'),\n",
       " (1, 'b'),\n",
       " (1, 'c'),\n",
       " (2, 'a'),\n",
       " (2, 'b'),\n",
       " (2, 'c'),\n",
       " (3, 'a'),\n",
       " (3, 'b'),\n",
       " (3, 'c')]"
      ]
     },
     "execution_count": 33,
     "metadata": {},
     "output_type": "execute_result"
    }
   ],
   "source": [
    "# 33. Develop a program that generates a list of all possible combinations of two lists using list comprehension.\n",
    "\n",
    "# Define two lists\n",
    "list1 = [1, 2, 3]\n",
    "list2 = ['a', 'b', 'c']\n",
    "\n",
    "# Use list comprehension to generate all possible combinations\n",
    "combinations = [(x, y) for x in list1 for y in list2]\n",
    "\n",
    "combinations"
   ]
  },
  {
   "cell_type": "markdown",
   "id": "aa5a5c2e",
   "metadata": {},
   "source": [
    "### Question 34: Write a program that calculates the mean, median, and mode of a list of numbers using list comprehension."
   ]
  },
  {
   "cell_type": "code",
   "execution_count": 34,
   "id": "1af2724b",
   "metadata": {},
   "outputs": [
    {
     "data": {
      "text/plain": [
       "(2.875, 3.0, 3)"
      ]
     },
     "execution_count": 34,
     "metadata": {},
     "output_type": "execute_result"
    }
   ],
   "source": [
    "# 34. Write a program that calculates the mean, median, and mode of a list of numbers using list comprehension.\n",
    "\n",
    "import statistics\n",
    "\n",
    "# Define a list of numbers\n",
    "numbers = [3, 5, 1, 2, 3, 4, 2, 3]\n",
    "\n",
    "# Calculate mean using list comprehension\n",
    "mean = sum(numbers) / len(numbers)\n",
    "\n",
    "# Calculate median using statistics module\n",
    "median = statistics.median(numbers)\n",
    "\n",
    "# Calculate mode using statistics module\n",
    "mode = statistics.mode(numbers)\n",
    "\n",
    "mean, median, mode"
   ]
  },
  {
   "cell_type": "markdown",
   "id": "4066a5a5",
   "metadata": {},
   "source": [
    "### Question 35: Create a program that generates Pascal's triangle up to a specified number of rows using list comprehension."
   ]
  },
  {
   "cell_type": "code",
   "execution_count": 35,
   "id": "0461f4e6",
   "metadata": {},
   "outputs": [
    {
     "data": {
      "text/plain": [
       "[[1], [1, 1], [1, 2, 1], [1, 3, 3, 1], [1, 4, 6, 4, 1]]"
      ]
     },
     "execution_count": 35,
     "metadata": {},
     "output_type": "execute_result"
    }
   ],
   "source": [
    "# 35. Create a program that generates Pascal's triangle up to a specified number of rows using list comprehension.\n",
    "\n",
    "# Define the number of rows for Pascal's triangle\n",
    "num_rows = 5\n",
    "\n",
    "# Use list comprehension to generate Pascal's triangle\n",
    "pascals_triangle = [[1] * (row + 1) for row in range(num_rows)]\n",
    "for i in range(2, num_rows):\n",
    "    for j in range(1, i):\n",
    "        pascals_triangle[i][j] = pascals_triangle[i-1][j-1] + pascals_triangle[i-1][j]\n",
    "\n",
    "pascals_triangle"
   ]
  },
  {
   "cell_type": "markdown",
   "id": "1bb2d15d",
   "metadata": {},
   "source": [
    "### Question 36: Develop a program that calculates the sum of the digits of numbers from 1 to 5 using list comprehension."
   ]
  },
  {
   "cell_type": "code",
   "execution_count": 36,
   "id": "42f92de7",
   "metadata": {},
   "outputs": [
    {
     "data": {
      "text/plain": [
       "[1, 2, 3, 4, 5]"
      ]
     },
     "execution_count": 36,
     "metadata": {},
     "output_type": "execute_result"
    }
   ],
   "source": [
    "# 36. Develop a program that calculates the sum of the digits of numbers from 1 to 5 using list comprehension.\n",
    "\n",
    "# Use list comprehension to calculate the sum of digits for numbers from 1 to 5\n",
    "sum_of_digits = [sum(int(digit) for digit in str(num)) for num in range(1, 6)]\n",
    "\n",
    "sum_of_digits"
   ]
  },
  {
   "cell_type": "markdown",
   "id": "99ff8307",
   "metadata": {},
   "source": [
    "### Question 37: Write a program that finds the longest word in a sentence using list comprehension."
   ]
  },
  {
   "cell_type": "code",
   "execution_count": 37,
   "id": "62fc14fd",
   "metadata": {},
   "outputs": [
    {
     "data": {
      "text/plain": [
       "'sentence'"
      ]
     },
     "execution_count": 37,
     "metadata": {},
     "output_type": "execute_result"
    }
   ],
   "source": [
    "# 37. Write a program that finds the longest word in a sentence using list comprehension.\n",
    "\n",
    "# Define a sentence\n",
    "sentence = 'This is a sample sentence with some long words.'\n",
    "\n",
    "# Use list comprehension to find the longest word\n",
    "longest_word = max(sentence.split(), key=lambda word: len(word))\n",
    "\n",
    "longest_word"
   ]
  },
  {
   "cell_type": "markdown",
   "id": "63e57589",
   "metadata": {},
   "source": [
    "### Question 38: Create a program that filters a list of strings to include only those with more than three vowels using list comprehension."
   ]
  },
  {
   "cell_type": "code",
   "execution_count": 46,
   "id": "9a67017a",
   "metadata": {},
   "outputs": [
    {
     "data": {
      "text/plain": [
       "['Pikachoo', 'earphones']"
      ]
     },
     "execution_count": 46,
     "metadata": {},
     "output_type": "execute_result"
    }
   ],
   "source": [
    "# 38. Create a program that filters a list of strings to include only those with more than three vowels using list comprehension.\n",
    "\n",
    "# Define a list of strings\n",
    "strings = ['apple', 'banana', 'cherry', 'dog', 'elephant', 'fig', 'grape', 'Pikachoo', 'earphones']\n",
    "\n",
    "# Use list comprehension to filter strings with more than three vowels\n",
    "filtered_strings = [string for string in strings if sum(1 for char in string if char in 'aeiouAEIOU') > 3]\n",
    "\n",
    "filtered_strings"
   ]
  },
  {
   "cell_type": "markdown",
   "id": "8d6d5501",
   "metadata": {},
   "source": [
    "### Question 39: Develop a program that calculates the sum of the digits of numbers from 1 to 1000 using list comprehension."
   ]
  },
  {
   "cell_type": "code",
   "execution_count": 51,
   "id": "e1a04a74",
   "metadata": {},
   "outputs": [
    {
     "name": "stdout",
     "output_type": "stream",
     "text": [
      "Total sum of digits: 13501\n"
     ]
    }
   ],
   "source": [
    "# 39. Develop a program that calculates the sum of the digits of numbers from 1 to 1000 using list comprehension.\n",
    "\n",
    "# Define a list comprehension to generate numbers from 1 to 1000.\n",
    "numbers = [num for num in range(1, 1001)]\n",
    "\n",
    "# Use list comprehension to calculate the sum of digits for each number.\n",
    "sums_of_digits = [sum(int(digit) for digit in str(num)) for num in numbers]\n",
    "\n",
    "# Calculate the total sum of all the digit sums.\n",
    "total_sum = sum(sums_of_digits)\n",
    "\n",
    "# Print the total sum.\n",
    "print(\"Total sum of digits:\", total_sum)"
   ]
  },
  {
   "cell_type": "markdown",
   "id": "0e48ac41",
   "metadata": {},
   "source": [
    "### Question 40: Write a program that generates a list of prime palindromic numbers using list comprehension."
   ]
  },
  {
   "cell_type": "code",
   "execution_count": 55,
   "id": "19501c03",
   "metadata": {},
   "outputs": [
    {
     "name": "stdout",
     "output_type": "stream",
     "text": [
      "Prime palindromic numbers: [2, 3, 5, 7, 11, 101, 131, 151, 181, 191, 313, 353, 373, 383, 727, 757, 787, 797, 919, 929]\n"
     ]
    }
   ],
   "source": [
    "# 40. Write a program that generates a list of prime palindromic numbers using list comprehension.\n",
    "\n",
    "# Define a function to check if a number is prime.\n",
    "def is_prime(num):\n",
    "    if num <= 1:\n",
    "        return False\n",
    "    for i in range(2, int(num ** 0.5) + 1):\n",
    "        if num % i == 0:\n",
    "            return False\n",
    "    return True\n",
    "\n",
    "# Define a list comprehension to generate prime palindromic numbers.\n",
    "prime_palindromes = [num for num in range(1, 1001) if is_prime(num) and str(num) == str(num)[::-1]]\n",
    "\n",
    "# Print the list of prime palindromic numbers.\n",
    "print(\"Prime palindromic numbers:\", prime_palindromes)"
   ]
  }
 ],
 "metadata": {
  "kernelspec": {
   "display_name": "Python 3 (ipykernel)",
   "language": "python",
   "name": "python3"
  },
  "language_info": {
   "codemirror_mode": {
    "name": "ipython",
    "version": 3
   },
   "file_extension": ".py",
   "mimetype": "text/x-python",
   "name": "python",
   "nbconvert_exporter": "python",
   "pygments_lexer": "ipython3",
   "version": "3.10.8"
  }
 },
 "nbformat": 4,
 "nbformat_minor": 5
}
