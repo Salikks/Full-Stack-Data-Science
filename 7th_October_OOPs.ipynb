{
 "cells": [
  {
   "cell_type": "markdown",
   "id": "ab72f6f1",
   "metadata": {},
   "source": [
    "### **Problem 6: Shape Calculation**\n",
    "**Create a class representing a shape with attributes like length, width, and height. Implement methods to calculate the area and perimeter of the shape.**"
   ]
  },
  {
   "cell_type": "code",
   "execution_count": 1,
   "id": "7ea97e8e",
   "metadata": {},
   "outputs": [
    {
     "name": "stdout",
     "output_type": "stream",
     "text": [
      "Rectangle Area: 15\n",
      "Rectangle Perimeter: 16\n"
     ]
    }
   ],
   "source": [
    "# Problem 6: Shape Calculation\n",
    "class Shape:\n",
    "    def __init__(self, length, width, height):\n",
    "        self.length = length\n",
    "        self.width = width\n",
    "        self.height = height\n",
    "\n",
    "    def calculate_area(self):\n",
    "        pass  # Implement area calculation in specific shape classes\n",
    "\n",
    "    def calculate_perimeter(self):\n",
    "        pass  # Implement perimeter calculation in specific shape classes\n",
    "\n",
    "class Rectangle(Shape):\n",
    "    def calculate_area(self):\n",
    "        return self.length * self.width\n",
    "\n",
    "    def calculate_perimeter(self):\n",
    "        return 2 * (self.length + self.width)\n",
    "\n",
    "# Create a rectangle\n",
    "rectangle = Rectangle(5, 3, 0)\n",
    "area = rectangle.calculate_area()\n",
    "perimeter = rectangle.calculate_perimeter()\n",
    "print(f\"Rectangle Area: {area}\")\n",
    "print(f\"Rectangle Perimeter: {perimeter}\")"
   ]
  },
  {
   "cell_type": "markdown",
   "id": "3c939f70",
   "metadata": {},
   "source": [
    "### **Problem 7: Student Management**\n",
    "**Create a class representing a student with attributes like student ID, name, and grades. Implement methods to calculate the average grade and display student details.**"
   ]
  },
  {
   "cell_type": "code",
   "execution_count": 2,
   "id": "24c78103",
   "metadata": {},
   "outputs": [
    {
     "name": "stdout",
     "output_type": "stream",
     "text": [
      "Student ID: 1\n",
      "Name: Alice\n",
      "Average Grade: 86.25\n"
     ]
    }
   ],
   "source": [
    "# Problem 7: Student Management\n",
    "class Student:\n",
    "    def __init__(self, student_id, name, grades):\n",
    "        self.student_id = student_id\n",
    "        self.name = name\n",
    "        self.grades = grades\n",
    "\n",
    "    def calculate_average_grade(self):\n",
    "        if len(self.grades) > 0:\n",
    "            return sum(self.grades) / len(self.grades)\n",
    "        else:\n",
    "            return 0\n",
    "\n",
    "    def display_details(self):\n",
    "        print(f\"Student ID: {self.student_id}\")\n",
    "        print(f\"Name: {self.name}\")\n",
    "        print(f\"Average Grade: {self.calculate_average_grade()}\")\n",
    "\n",
    "# Create a student\n",
    "student1 = Student(1, \"Alice\", [90, 85, 92, 78])\n",
    "student1.display_details()"
   ]
  },
  {
   "cell_type": "markdown",
   "id": "e30dee14",
   "metadata": {},
   "source": [
    "### **Problem 8: Email Management**\n",
    "**Create a class representing an email with attributes like sender, recipient, and subject. Implement methods to send an email and display email details.**"
   ]
  },
  {
   "cell_type": "code",
   "execution_count": 3,
   "id": "57bae6a9",
   "metadata": {},
   "outputs": [
    {
     "name": "stdout",
     "output_type": "stream",
     "text": [
      "Email sent from user@example.com to recipient@example.com\n",
      "Subject: Hello\n",
      "Message:\n",
      "This is the email message.\n"
     ]
    }
   ],
   "source": [
    "# Problem 8: Email Management\n",
    "class Email:\n",
    "    def __init__(self, sender, recipient, subject):\n",
    "        self.sender = sender\n",
    "        self.recipient = recipient\n",
    "        self.subject = subject\n",
    "\n",
    "    def send_email(self, message):\n",
    "        print(f\"Email sent from {self.sender} to {self.recipient}\")\n",
    "        print(f\"Subject: {self.subject}\")\n",
    "        print(\"Message:\")\n",
    "        print(message)\n",
    "\n",
    "# Create an email\n",
    "email = Email(\"user@example.com\", \"recipient@example.com\", \"Hello\")\n",
    "email.send_email(\"This is the email message.\")"
   ]
  },
  {
   "cell_type": "markdown",
   "id": "e183095a",
   "metadata": {},
   "source": [
    "### **Problem 9: Social Media Profile**\n",
    "**Create a class representing a social media profile with attributes like username and posts. Implement methods to add posts, display posts, and search for posts by keyword.**"
   ]
  },
  {
   "cell_type": "code",
   "execution_count": 4,
   "id": "3cae5a59",
   "metadata": {},
   "outputs": [
    {
     "name": "stdout",
     "output_type": "stream",
     "text": [
      "Posts by user123:\n",
      "This is a sample post about coding.\n",
      "Check out this amazing recipe!\n",
      "Search Results:\n",
      "This is a sample post about coding.\n"
     ]
    }
   ],
   "source": [
    "# Problem 9: Social Media Profile\n",
    "class SocialMediaProfile:\n",
    "    def __init__(self, username):\n",
    "        self.username = username\n",
    "        self.posts = []\n",
    "\n",
    "    def add_post(self, post):\n",
    "        self.posts.append(post)\n",
    "\n",
    "    def display_posts(self):\n",
    "        print(f\"Posts by {self.username}:\")\n",
    "        for post in self.posts:\n",
    "            print(post)\n",
    "\n",
    "    def search_posts(self, keyword):\n",
    "        matching_posts = [post for post in self.posts if keyword in post]\n",
    "        return matching_posts\n",
    "\n",
    "# Create a social media profile\n",
    "profile = SocialMediaProfile(\"user123\")\n",
    "profile.add_post(\"This is a sample post about coding.\")\n",
    "profile.add_post(\"Check out this amazing recipe!\")\n",
    "profile.display_posts()\n",
    "search_results = profile.search_posts(\"coding\")\n",
    "print(\"Search Results:\")\n",
    "for result in search_results:\n",
    "    print(result)"
   ]
  },
  {
   "cell_type": "markdown",
   "id": "c3e105fc",
   "metadata": {},
   "source": [
    "### **Problem 10: ToDo List**\n",
    "**Create a class representing a ToDo list with attributes like tasks and due dates. Implement methods to add tasks, mark tasks as completed, and display pending tasks.**"
   ]
  },
  {
   "cell_type": "code",
   "execution_count": 5,
   "id": "9644262f",
   "metadata": {},
   "outputs": [
    {
     "name": "stdout",
     "output_type": "stream",
     "text": [
      "Pending Tasks:\n",
      "Task: Finish project, Due Date: 2023-11-15\n"
     ]
    }
   ],
   "source": [
    "# Problem 10: ToDo List\n",
    "class ToDoList:\n",
    "    def __init__(self):\n",
    "        self.tasks = []\n",
    "\n",
    "    def add_task(self, task, due_date):\n",
    "        self.tasks.append({\"task\": task, \"due_date\": due_date, \"completed\": False})\n",
    "\n",
    "    def mark_task_as_completed(self, task):\n",
    "        for t in self.tasks:\n",
    "            if t[\"task\"] == task:\n",
    "                t[\"completed\"] = True\n",
    "\n",
    "    def display_pending_tasks(self):\n",
    "        print(\"Pending Tasks:\")\n",
    "        for task in self.tasks:\n",
    "            if not task[\"completed\"]:\n",
    "                print(f\"Task: {task['task']}, Due Date: {task['due_date']}\")\n",
    "\n",
    "# Create a ToDo list\n",
    "todo_list = ToDoList()\n",
    "todo_list.add_task(\"Finish project\", \"2023-11-15\")\n",
    "todo_list.add_task(\"Buy groceries\", \"2023-11-10\")\n",
    "todo_list.mark_task_as_completed(\"Buy groceries\")\n",
    "todo_list.display_pending_tasks()"
   ]
  },
  {
   "cell_type": "code",
   "execution_count": null,
   "id": "05542d6d-ecc7-48c4-b289-f4633b220297",
   "metadata": {},
   "outputs": [],
   "source": []
  }
 ],
 "metadata": {
  "kernelspec": {
   "display_name": "Python 3 (ipykernel)",
   "language": "python",
   "name": "python3"
  },
  "language_info": {
   "codemirror_mode": {
    "name": "ipython",
    "version": 3
   },
   "file_extension": ".py",
   "mimetype": "text/x-python",
   "name": "python",
   "nbconvert_exporter": "python",
   "pygments_lexer": "ipython3",
   "version": "3.11.4"
  }
 },
 "nbformat": 4,
 "nbformat_minor": 5
}
