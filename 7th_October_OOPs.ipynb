{
 "cells": [
  {
   "cell_type": "markdown",
   "id": "d7f93be0",
   "metadata": {},
   "source": [
    "### **Problem 1: Bank Account**\n",
    "**Create a class representing a bank account with attributes like account number, account holder name, and balance. Implement methods to deposit and withdraw money from the account.**"
   ]
  },
  {
   "cell_type": "code",
   "execution_count": 2,
   "id": "c8b5577d",
   "metadata": {},
   "outputs": [
    {
     "name": "stdout",
     "output_type": "stream",
     "text": [
      "Initial Balance: 1000\n",
      "Balance after deposit: 1500\n",
      "Balance after withdrawal: 1200\n"
     ]
    }
   ],
   "source": [
    "# Problem 1: Bank Account\n",
    "class BankAccount:\n",
    "    def __init__(self, account_number, account_holder, balance):\n",
    "        self.account_number = account_number\n",
    "        self.account_holder = account_holder\n",
    "        self.balance = balance\n",
    "\n",
    "    def deposit(self, amount):\n",
    "        self.balance += amount\n",
    "\n",
    "    def withdraw(self, amount):\n",
    "        if amount <= self.balance:\n",
    "            self.balance -= amount\n",
    "        else:\n",
    "            print(\"Insufficient balance!\")\n",
    "\n",
    "# Create a bank account\n",
    "account1 = BankAccount(\"12345\", \"Alice\", 1000)\n",
    "print(f\"Initial Balance: {account1.balance}\")\n",
    "account1.deposit(500)\n",
    "print(f\"Balance after deposit: {account1.balance}\")\n",
    "account1.withdraw(300)\n",
    "print(f\"Balance after withdrawal: {account1.balance}\")"
   ]
  },
  {
   "cell_type": "markdown",
   "id": "f063c2af",
   "metadata": {},
   "source": [
    "### **Problem 2: Employee Management**\n",
    "**Create a class representing an employee with attributes like employee ID, name, and salary. Implement methods to calculate the yearly bonus and display employee details.**"
   ]
  },
  {
   "cell_type": "code",
   "execution_count": 3,
   "id": "380784ba",
   "metadata": {},
   "outputs": [
    {
     "name": "stdout",
     "output_type": "stream",
     "text": [
      "Employee ID: 1\n",
      "Name: Bob\n",
      "Salary: 50000\n",
      "Yearly Bonus: $5000.0\n"
     ]
    }
   ],
   "source": [
    "# Problem 2: Employee Management\n",
    "class Employee:\n",
    "    def __init__(self, emp_id, name, salary):\n",
    "        self.emp_id = emp_id\n",
    "        self.name = name\n",
    "        self.salary = salary\n",
    "\n",
    "    def calculate_bonus(self, bonus_percentage):\n",
    "        bonus = (bonus_percentage / 100) * self.salary\n",
    "        return bonus\n",
    "\n",
    "    def display_details(self):\n",
    "        print(f\"Employee ID: {self.emp_id}\")\n",
    "        print(f\"Name: {self.name}\")\n",
    "        print(f\"Salary: {self.salary}\")\n",
    "\n",
    "# Create an employee\n",
    "employee1 = Employee(1, \"Bob\", 50000)\n",
    "employee1.display_details()\n",
    "bonus = employee1.calculate_bonus(10)\n",
    "print(f\"Yearly Bonus: ${bonus}\")"
   ]
  },
  {
   "cell_type": "markdown",
   "id": "2b41c327",
   "metadata": {},
   "source": [
    "### **Problem 3: Vehicle Rental**\n",
    "**Create a class representing a vehicle rental system. Implement methods to rent a vehicle, return a vehicle, and display available vehicles.**"
   ]
  },
  {
   "cell_type": "code",
   "execution_count": 4,
   "id": "dcb23a66",
   "metadata": {},
   "outputs": [
    {
     "name": "stdout",
     "output_type": "stream",
     "text": [
      "Available vehicles:\n",
      "Car\n",
      "Motorcycle\n",
      "Bicycle\n",
      "Rented a Car\n",
      "Rented a Bicycle\n",
      "Available vehicles:\n",
      "Motorcycle\n",
      "Returned a Car\n",
      "Available vehicles:\n",
      "Motorcycle\n",
      "Car\n"
     ]
    }
   ],
   "source": [
    "# Problem 3: Vehicle Rental\n",
    "class VehicleRental:\n",
    "    def __init__(self):\n",
    "        self.available_vehicles = [\"Car\", \"Motorcycle\", \"Bicycle\"]\n",
    "\n",
    "    def rent_vehicle(self, vehicle_type):\n",
    "        if vehicle_type in self.available_vehicles:\n",
    "            self.available_vehicles.remove(vehicle_type)\n",
    "            print(f\"Rented a {vehicle_type}\")\n",
    "        else:\n",
    "            print(f\"{vehicle_type} not available for rent.\")\n",
    "\n",
    "    def return_vehicle(self, vehicle_type):\n",
    "        self.available_vehicles.append(vehicle_type)\n",
    "        print(f\"Returned a {vehicle_type}\")\n",
    "\n",
    "    def display_available_vehicles(self):\n",
    "        print(\"Available vehicles:\")\n",
    "        for vehicle in self.available_vehicles:\n",
    "            print(vehicle)\n",
    "\n",
    "# Create a vehicle rental system\n",
    "rental_system = VehicleRental()\n",
    "rental_system.display_available_vehicles()\n",
    "rental_system.rent_vehicle(\"Car\")\n",
    "rental_system.rent_vehicle(\"Bicycle\")\n",
    "rental_system.display_available_vehicles()\n",
    "rental_system.return_vehicle(\"Car\")\n",
    "rental_system.display_available_vehicles()"
   ]
  },
  {
   "cell_type": "markdown",
   "id": "5238e4aa",
   "metadata": {},
   "source": [
    "### **Problem 4: Library Catalog**\n",
    "**Create classes representing a library and a book. Implement methods to add books to the library, borrow books, and display available books.**"
   ]
  },
  {
   "cell_type": "code",
   "execution_count": 5,
   "id": "84b01cc3",
   "metadata": {},
   "outputs": [
    {
     "name": "stdout",
     "output_type": "stream",
     "text": [
      "Available books:\n",
      "Python Crash Course by Eric Matthes\n",
      "The Alchemist by Paulo Coelho\n",
      "The Alchemist is borrowed.\n",
      "Available books:\n",
      "Python Crash Course by Eric Matthes\n"
     ]
    }
   ],
   "source": [
    "# Problem 4: Library Catalog\n",
    "class Book:\n",
    "    def __init__(self, title, author):\n",
    "        self.title = title\n",
    "        self.author = author\n",
    "        self.is_borrowed = False\n",
    "\n",
    "class Library:\n",
    "    def __init__(self):\n",
    "        self.books = []\n",
    "\n",
    "    def add_book(self, title, author):\n",
    "        book = Book(title, author)\n",
    "        self.books.append(book)\n",
    "\n",
    "    def borrow_book(self, title):\n",
    "        for book in self.books:\n",
    "            if book.title == title and not book.is_borrowed:\n",
    "                book.is_borrowed = True\n",
    "                return f\"{title} is borrowed.\"\n",
    "        return f\"{title} is not available.\"\n",
    "\n",
    "    def display_available_books(self):\n",
    "        print(\"Available books:\")\n",
    "        for book in self.books:\n",
    "            if not book.is_borrowed:\n",
    "                print(f\"{book.title} by {book.author}\")\n",
    "\n",
    "# Create a library and add books\n",
    "library = Library()\n",
    "library.add_book(\"Python Crash Course\", \"Eric Matthes\")\n",
    "library.add_book(\"The Alchemist\", \"Paulo Coelho\")\n",
    "library.display_available_books()\n",
    "\n",
    "# Borrow a book\n",
    "borrow_result = library.borrow_book(\"The Alchemist\")\n",
    "print(borrow_result)\n",
    "library.display_available_books()"
   ]
  },
  {
   "cell_type": "markdown",
   "id": "ecdc201a",
   "metadata": {},
   "source": [
    "### **Problem 5: Product Inventory**\n",
    "**Create classes representing a product and an inventory system. Implement methods to add products to the inventory, update product quantity, and display available products.**"
   ]
  },
  {
   "cell_type": "code",
   "execution_count": null,
   "id": "5224d980",
   "metadata": {},
   "outputs": [],
   "source": [
    "# Problem 5: Product Inventory\n",
    "class Product:\n",
    "    def __init__(self, product_id, name, price, quantity):\n",
    "        self.product_id = product_id\n",
    "        self.name = name\n",
    "        self.price = price\n",
    "        self.quantity = quantity\n",
    "\n",
    "class Inventory:\n",
    "    def __init__(self):\n",
    "        self.products = []\n",
    "\n",
    "    def add_product(self, product_id, name, price, quantity):\n",
    "        product = Product(product_id, name, price, quantity)\n",
    "        self.products.append(product)\n",
    "\n",
    "    def update_product_quantity(self, product_id, new_quantity):\n",
    "        for product in self.products:\n",
    "            if product.product_id == product_id:\n",
    "                product.quantity = new_quantity\n",
    "                return f\"Updated quantity for {product.name} to {new_quantity}.\"\n",
    "        return f\"Product with ID {product_id} not found.\"\n",
    "\n",
    "    def display_available_products(self):\n",
    "        print(\"Available products:\")\n",
    "        for product in self.products:\n",
    "            print(f\"{product.name} - Price: ${product.price}, Quantity: {product.quantity}\")\n",
    "\n",
    "# Create an inventory and add products\n",
    "inventory = Inventory()\n",
    "inventory.add_product(1, \"Laptop\", 800, 10)\n",
    "inventory.add_product(2, \"Phone\", 500, 20)\n",
    "inventory.display_available_products()\n",
    "\n",
    "# Update product quantity\n",
    "update_result = inventory.update_product_quantity(1, 15)\n",
    "print(update_result)\n",
    "inventory.display_available_products()"
   ]
  },
  {
   "cell_type": "markdown",
   "id": "0bd8fcbc-be5c-4b2c-8570-d2ea01fdba25",
   "metadata": {},
   "source": [
    "### **Problem 6: Shape Calculation**\n",
    "**Create a class representing a shape with attributes like length, width, and height. Implement methods to calculate the area and perimeter of the shape.**"
   ]
  },
  {
   "cell_type": "code",
   "execution_count": 1,
   "id": "4ab1a1fd-5e56-4474-a1cb-1ccdf5c8b172",
   "metadata": {},
   "outputs": [
    {
     "name": "stdout",
     "output_type": "stream",
     "text": [
      "Rectangle Area: 15\n",
      "Rectangle Perimeter: 16\n"
     ]
    }
   ],
   "source": [
    "# Problem 6: Shape Calculation\n",
    "class Shape:\n",
    "    def __init__(self, length, width, height):\n",
    "        self.length = length\n",
    "        self.width = width\n",
    "        self.height = height\n",
    "\n",
    "    def calculate_area(self):\n",
    "        pass  # Implement area calculation in specific shape classes\n",
    "\n",
    "    def calculate_perimeter(self):\n",
    "        pass  # Implement perimeter calculation in specific shape classes\n",
    "\n",
    "class Rectangle(Shape):\n",
    "    def calculate_area(self):\n",
    "        return self.length * self.width\n",
    "\n",
    "    def calculate_perimeter(self):\n",
    "        return 2 * (self.length + self.width)\n",
    "\n",
    "# Create a rectangle\n",
    "rectangle = Rectangle(5, 3, 0)\n",
    "area = rectangle.calculate_area()\n",
    "perimeter = rectangle.calculate_perimeter()\n",
    "print(f\"Rectangle Area: {area}\")\n",
    "print(f\"Rectangle Perimeter: {perimeter}\")"
   ]
  },
  {
   "cell_type": "markdown",
   "id": "a3840934-cc29-4c78-ae1d-1f731b94dca1",
   "metadata": {},
   "source": [
    "### **Problem 7: Student Management**\n",
    "**Create a class representing a student with attributes like student ID, name, and grades. Implement methods to calculate the average grade and display student details.**"
   ]
  },
  {
   "cell_type": "code",
   "execution_count": 2,
   "id": "05b34051-d1f6-453d-ba07-9838407cb559",
   "metadata": {},
   "outputs": [
    {
     "name": "stdout",
     "output_type": "stream",
     "text": [
      "Student ID: 1\n",
      "Name: Alice\n",
      "Average Grade: 86.25\n"
     ]
    }
   ],
   "source": [
    "# Problem 7: Student Management\n",
    "class Student:\n",
    "    def __init__(self, student_id, name, grades):\n",
    "        self.student_id = student_id\n",
    "        self.name = name\n",
    "        self.grades = grades\n",
    "\n",
    "    def calculate_average_grade(self):\n",
    "        if len(self.grades) > 0:\n",
    "            return sum(self.grades) / len(self.grades)\n",
    "        else:\n",
    "            return 0\n",
    "\n",
    "    def display_details(self):\n",
    "        print(f\"Student ID: {self.student_id}\")\n",
    "        print(f\"Name: {self.name}\")\n",
    "        print(f\"Average Grade: {self.calculate_average_grade()}\")\n",
    "\n",
    "# Create a student\n",
    "student1 = Student(1, \"Alice\", [90, 85, 92, 78])\n",
    "student1.display_details()"
   ]
  },
  {
   "cell_type": "markdown",
   "id": "28b29d2f-7192-4307-b390-5a6770616c3f",
   "metadata": {},
   "source": [
    "### **Problem 8: Email Management**\n",
    "**Create a class representing an email with attributes like sender, recipient, and subject. Implement methods to send an email and display email details.**"
   ]
  },
  {
   "cell_type": "code",
   "execution_count": 3,
   "id": "20f70be1-4381-4a42-804c-161fae6c1aaf",
   "metadata": {},
   "outputs": [
    {
     "name": "stdout",
     "output_type": "stream",
     "text": [
      "Email sent from user@example.com to recipient@example.com\n",
      "Subject: Hello\n",
      "Message:\n",
      "This is the email message.\n"
     ]
    }
   ],
   "source": [
    "# Problem 8: Email Management\n",
    "class Email:\n",
    "    def __init__(self, sender, recipient, subject):\n",
    "        self.sender = sender\n",
    "        self.recipient = recipient\n",
    "        self.subject = subject\n",
    "\n",
    "    def send_email(self, message):\n",
    "        print(f\"Email sent from {self.sender} to {self.recipient}\")\n",
    "        print(f\"Subject: {self.subject}\")\n",
    "        print(\"Message:\")\n",
    "        print(message)\n",
    "\n",
    "# Create an email\n",
    "email = Email(\"user@example.com\", \"recipient@example.com\", \"Hello\")\n",
    "email.send_email(\"This is the email message.\")"
   ]
  },
  {
   "cell_type": "markdown",
   "id": "c5bcb52e-cc42-4214-ae5f-60745a5794bf",
   "metadata": {},
   "source": [
    "### **Problem 9: Social Media Profile**\n",
    "**Create a class representing a social media profile with attributes like username and posts. Implement methods to add posts, display posts, and search for posts by keyword.**"
   ]
  },
  {
   "cell_type": "code",
   "execution_count": 4,
   "id": "5d2de937-59f8-40c7-a1df-1e77c6f3c778",
   "metadata": {},
   "outputs": [
    {
     "name": "stdout",
     "output_type": "stream",
     "text": [
      "Posts by user123:\n",
      "This is a sample post about coding.\n",
      "Check out this amazing recipe!\n",
      "Search Results:\n",
      "This is a sample post about coding.\n"
     ]
    }
   ],
   "source": [
    "# Problem 9: Social Media Profile\n",
    "class SocialMediaProfile:\n",
    "    def __init__(self, username):\n",
    "        self.username = username\n",
    "        self.posts = []\n",
    "\n",
    "    def add_post(self, post):\n",
    "        self.posts.append(post)\n",
    "\n",
    "    def display_posts(self):\n",
    "        print(f\"Posts by {self.username}:\")\n",
    "        for post in self.posts:\n",
    "            print(post)\n",
    "\n",
    "    def search_posts(self, keyword):\n",
    "        matching_posts = [post for post in self.posts if keyword in post]\n",
    "        return matching_posts\n",
    "\n",
    "# Create a social media profile\n",
    "profile = SocialMediaProfile(\"user123\")\n",
    "profile.add_post(\"This is a sample post about coding.\")\n",
    "profile.add_post(\"Check out this amazing recipe!\")\n",
    "profile.display_posts()\n",
    "search_results = profile.search_posts(\"coding\")\n",
    "print(\"Search Results:\")\n",
    "for result in search_results:\n",
    "    print(result)"
   ]
  },
  {
   "cell_type": "markdown",
   "id": "05a55bd4-6b4c-4cba-b110-60f2f0b2637b",
   "metadata": {},
   "source": [
    "### **Problem 10: ToDo List**\n",
    "**Create a class representing a ToDo list with attributes like tasks and due dates. Implement methods to add tasks, mark tasks as completed, and display pending tasks.**"
   ]
  },
  {
   "cell_type": "code",
   "execution_count": 5,
   "id": "d6a51a94-8c53-47a9-83b1-7b0aa62777d9",
   "metadata": {},
   "outputs": [
    {
     "name": "stdout",
     "output_type": "stream",
     "text": [
      "Pending Tasks:\n",
      "Task: Finish project, Due Date: 2023-11-15\n"
     ]
    }
   ],
   "source": [
    "# Problem 10: ToDo List\n",
    "class ToDoList:\n",
    "    def __init__(self):\n",
    "        self.tasks = []\n",
    "\n",
    "    def add_task(self, task, due_date):\n",
    "        self.tasks.append({\"task\": task, \"due_date\": due_date, \"completed\": False})\n",
    "\n",
    "    def mark_task_as_completed(self, task):\n",
    "        for t in self.tasks:\n",
    "            if t[\"task\"] == task:\n",
    "                t[\"completed\"] = True\n",
    "\n",
    "    def display_pending_tasks(self):\n",
    "        print(\"Pending Tasks:\")\n",
    "        for task in self.tasks:\n",
    "            if not task[\"completed\"]:\n",
    "                print(f\"Task: {task['task']}, Due Date: {task['due_date']}\")\n",
    "\n",
    "# Create a ToDo list\n",
    "todo_list = ToDoList()\n",
    "todo_list.add_task(\"Finish project\", \"2023-11-15\")\n",
    "todo_list.add_task(\"Buy groceries\", \"2023-11-10\")\n",
    "todo_list.mark_task_as_completed(\"Buy groceries\")\n",
    "todo_list.display_pending_tasks()"
   ]
  }
 ],
 "metadata": {
  "kernelspec": {
   "display_name": "Python 3 (ipykernel)",
   "language": "python",
   "name": "python3"
  },
  "language_info": {
   "codemirror_mode": {
    "name": "ipython",
    "version": 3
   },
   "file_extension": ".py",
   "mimetype": "text/x-python",
   "name": "python",
   "nbconvert_exporter": "python",
   "pygments_lexer": "ipython3",
   "version": "3.11.4"
  }
 },
 "nbformat": 4,
 "nbformat_minor": 5
}
