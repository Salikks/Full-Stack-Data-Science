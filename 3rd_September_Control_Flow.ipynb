{
 "cells": [
  {
   "cell_type": "markdown",
   "id": "ebc7ec81-0e77-41be-aa4e-12ce0488bf0e",
   "metadata": {},
   "source": [
    "## Basic If-Else Statements:"
   ]
  },
  {
   "cell_type": "markdown",
   "id": "42a00f53",
   "metadata": {},
   "source": [
    "### Question 1: Write a Python program to check if a given number is positive or negative."
   ]
  },
  {
   "cell_type": "code",
   "execution_count": 1,
   "id": "85ece064",
   "metadata": {},
   "outputs": [
    {
     "name": "stdout",
     "output_type": "stream",
     "text": [
      "Positive\n"
     ]
    }
   ],
   "source": [
    "# 1. Check if a number is positive or negative.\n",
    "number = 42\n",
    "if number > 0:\n",
    "    print('Positive')\n",
    "elif number < 0:\n",
    "    print('Negative')\n",
    "else:\n",
    "    print('Zero')"
   ]
  },
  {
   "cell_type": "markdown",
   "id": "055d9c98",
   "metadata": {},
   "source": [
    "### Question 2: Create a program that determines if a person is eligible to vote based on their age."
   ]
  },
  {
   "cell_type": "code",
   "execution_count": 2,
   "id": "98ff362b",
   "metadata": {},
   "outputs": [
    {
     "name": "stdout",
     "output_type": "stream",
     "text": [
      "Eligible to vote\n"
     ]
    }
   ],
   "source": [
    "# 2. Determine voting eligibility based on age.\n",
    "age = 25\n",
    "if age >= 18:\n",
    "    print('Eligible to vote')\n",
    "else:\n",
    "    print('Not eligible to vote')"
   ]
  },
  {
   "cell_type": "markdown",
   "id": "08d1959e",
   "metadata": {},
   "source": [
    "### Question 3: Develop a program to find the maximum of two numbers using if-else statements."
   ]
  },
  {
   "cell_type": "code",
   "execution_count": 3,
   "id": "04d7d9ec",
   "metadata": {},
   "outputs": [
    {
     "name": "stdout",
     "output_type": "stream",
     "text": [
      "Maximum: 55.5\n"
     ]
    }
   ],
   "source": [
    "# 3. Find the maximum of two numbers.\n",
    "num1 = 55.5\n",
    "num2 = 33.3\n",
    "if num1 > num2:\n",
    "    print('Maximum:', num1)\n",
    "else:\n",
    "    print('Maximum:', num2)"
   ]
  },
  {
   "cell_type": "markdown",
   "id": "ff0d60b6",
   "metadata": {},
   "source": [
    "### Question 4: Write a Python script to classify a given year as a leap year or not."
   ]
  },
  {
   "cell_type": "code",
   "execution_count": 4,
   "id": "add5b1c0",
   "metadata": {},
   "outputs": [
    {
     "name": "stdout",
     "output_type": "stream",
     "text": [
      "Leap year\n"
     ]
    }
   ],
   "source": [
    "# 4. Classify a year as leap year or not.\n",
    "year = 2024\n",
    "if (year % 4 == 0 and year % 100 != 0) or (year % 400 == 0):\n",
    "    print('Leap year')\n",
    "else:\n",
    "    print('Not a leap year')"
   ]
  },
  {
   "cell_type": "markdown",
   "id": "473ded08",
   "metadata": {},
   "source": [
    "### Question 5: Create a program that checks whether a character is a vowel or a consonant."
   ]
  },
  {
   "cell_type": "code",
   "execution_count": 5,
   "id": "71b1ee05",
   "metadata": {},
   "outputs": [
    {
     "name": "stdout",
     "output_type": "stream",
     "text": [
      "Vowel\n"
     ]
    }
   ],
   "source": [
    "# 5. Check if a character is a vowel or consonant.\n",
    "char = 'E'\n",
    "if char.lower() in 'aeiou':\n",
    "    print('Vowel')\n",
    "else:\n",
    "    print('Consonant')"
   ]
  },
  {
   "cell_type": "markdown",
   "id": "5b3b8f76",
   "metadata": {},
   "source": [
    "### Question 6: Implement a program to determine whether a given number is even or odd."
   ]
  },
  {
   "cell_type": "code",
   "execution_count": 6,
   "id": "4c236675",
   "metadata": {},
   "outputs": [
    {
     "name": "stdout",
     "output_type": "stream",
     "text": [
      "Odd\n"
     ]
    }
   ],
   "source": [
    "# 6. Determine if a number is even or odd.\n",
    "number = 7\n",
    "if number % 2 == 0:\n",
    "    print('Even')\n",
    "else:\n",
    "    print('Odd')\n"
   ]
  },
  {
   "cell_type": "markdown",
   "id": "3ced15e0",
   "metadata": {},
   "source": [
    "### Question 7: Write a Python function to calculate the absolute value of a number without using the `abs()` function."
   ]
  },
  {
   "cell_type": "code",
   "execution_count": 7,
   "id": "c2045474",
   "metadata": {},
   "outputs": [
    {
     "name": "stdout",
     "output_type": "stream",
     "text": [
      "Absolute value: 10.5\n"
     ]
    }
   ],
   "source": [
    "# 7. Calculate the absolute value of a number.\n",
    "number = -10.5\n",
    "if number < 0:\n",
    "    abs_value = -number\n",
    "else:\n",
    "    abs_value = number\n",
    "print('Absolute value:', abs_value)\n"
   ]
  },
  {
   "cell_type": "markdown",
   "id": "2ef556bf",
   "metadata": {},
   "source": [
    "### Question 8: Develop a program that determines the largest of three given numbers using if-else statements."
   ]
  },
  {
   "cell_type": "code",
   "execution_count": 8,
   "id": "182a8199",
   "metadata": {},
   "outputs": [
    {
     "name": "stdout",
     "output_type": "stream",
     "text": [
      "Largest: 99\n"
     ]
    }
   ],
   "source": [
    "# 8. Determine the largest of three numbers.\n",
    "num1 = 88\n",
    "num2 = 99\n",
    "num3 = 77\n",
    "if num1 >= num2 and num1 >= num3:\n",
    "    print('Largest:', num1)\n",
    "elif num2 >= num1 and num2 >= num3:\n",
    "    print('Largest:', num2)\n",
    "else:\n",
    "    print('Largest:', num3)\n"
   ]
  },
  {
   "cell_type": "markdown",
   "id": "d30f1cf4",
   "metadata": {},
   "source": [
    "### Question 9: Create a program that checks if a given string is a palindrome."
   ]
  },
  {
   "cell_type": "code",
   "execution_count": 9,
   "id": "85110d13",
   "metadata": {},
   "outputs": [
    {
     "name": "stdout",
     "output_type": "stream",
     "text": [
      "Palindrome\n"
     ]
    }
   ],
   "source": [
    "# 9. Check if a string is a palindrome.\n",
    "string = 'level'\n",
    "if string == string[::-1]:\n",
    "    print('Palindrome')\n",
    "else:\n",
    "    print('Not a palindrome')\n"
   ]
  },
  {
   "cell_type": "markdown",
   "id": "3e26dc7c",
   "metadata": {},
   "source": [
    "### Question 10: Write a Python program to calculate the grade based on a student's score."
   ]
  },
  {
   "cell_type": "code",
   "execution_count": 10,
   "id": "15f70759",
   "metadata": {},
   "outputs": [
    {
     "name": "stdout",
     "output_type": "stream",
     "text": [
      "Grade: C\n"
     ]
    }
   ],
   "source": [
    "# 10. Calculate the grade based on a student's score.\n",
    "score = 78.5\n",
    "if score >= 90:\n",
    "    grade = 'A'\n",
    "elif score >= 80:\n",
    "    grade = 'B'\n",
    "elif score >= 70:\n",
    "    grade = 'C'\n",
    "elif score >= 60:\n",
    "    grade = 'D'\n",
    "else:\n",
    "    grade = 'F'\n",
    "print('Grade:', grade)\n"
   ]
  },
  {
   "cell_type": "markdown",
   "id": "45be8855-427b-42cb-a9d7-5d53440fb575",
   "metadata": {},
   "source": [
    "## Nested If-Else Statements:"
   ]
  },
  {
   "cell_type": "markdown",
   "id": "293e62b1",
   "metadata": {},
   "source": [
    "### Question 11: Write a program to find the largest among three numbers using nested if-else statements."
   ]
  },
  {
   "cell_type": "code",
   "execution_count": 11,
   "id": "44516a77",
   "metadata": {},
   "outputs": [
    {
     "data": {
      "text/plain": [
       "20"
      ]
     },
     "execution_count": 11,
     "metadata": {},
     "output_type": "execute_result"
    }
   ],
   "source": [
    "# 11. Write a program to find the largest among three numbers using nested if-else statements.\n",
    "\n",
    "# Input three numbers\n",
    "num1 = 10\n",
    "num2 = 20\n",
    "num3 = 15\n",
    "\n",
    "# Compare the numbers to find the largest\n",
    "if num1 >= num2 and num1 >= num3:\n",
    "    largest = num1\n",
    "elif num2 >= num1 and num2 >= num3:\n",
    "    largest = num2\n",
    "else:\n",
    "    largest = num3\n",
    "\n",
    "largest"
   ]
  },
  {
   "cell_type": "markdown",
   "id": "82a0996f",
   "metadata": {},
   "source": [
    "### Question 12: Implement a program to determine if a triangle is equilateral, isosceles, or scalene."
   ]
  },
  {
   "cell_type": "code",
   "execution_count": 12,
   "id": "3d3ba5c2",
   "metadata": {},
   "outputs": [
    {
     "data": {
      "text/plain": [
       "'Equilateral'"
      ]
     },
     "execution_count": 12,
     "metadata": {},
     "output_type": "execute_result"
    }
   ],
   "source": [
    "# 12. Implement a program to determine if a triangle is equilateral, isosceles, or scalene.\n",
    "\n",
    "# Input the lengths of three sides of a triangle\n",
    "side1 = 5\n",
    "side2 = 5\n",
    "side3 = 5\n",
    "\n",
    "# Check for equilateral, isosceles, or scalene\n",
    "if side1 == side2 == side3:\n",
    "    triangle_type = 'Equilateral'\n",
    "elif side1 == side2 or side2 == side3 or side1 == side3:\n",
    "    triangle_type = 'Isosceles'\n",
    "else:\n",
    "    triangle_type = 'Scalene'\n",
    "\n",
    "triangle_type"
   ]
  },
  {
   "cell_type": "markdown",
   "id": "3bd37e47",
   "metadata": {},
   "source": [
    "### Question 13: Develop a program that checks if a year is a leap year and also if it is a century year."
   ]
  },
  {
   "cell_type": "code",
   "execution_count": 13,
   "id": "30ced7d9",
   "metadata": {},
   "outputs": [
    {
     "data": {
      "text/plain": [
       "(True, False)"
      ]
     },
     "execution_count": 13,
     "metadata": {},
     "output_type": "execute_result"
    }
   ],
   "source": [
    "# 13. Develop a program that checks if a year is a leap year and also if it is a century year.\n",
    "\n",
    "# Input a year\n",
    "year = 2024\n",
    "\n",
    "# Check if it's a leap year\n",
    "if (year % 4 == 0 and year % 100 != 0) or (year % 400 == 0):\n",
    "    is_leap_year = True\n",
    "else:\n",
    "    is_leap_year = False\n",
    "\n",
    "# Check if it's a century year\n",
    "if year % 100 == 0:\n",
    "    is_century_year = True\n",
    "else:\n",
    "    is_century_year = False\n",
    "\n",
    "(is_leap_year, is_century_year)"
   ]
  },
  {
   "cell_type": "markdown",
   "id": "a0b9e1e0",
   "metadata": {},
   "source": [
    "### Question 14: Write a Python script to determine if a number is positive, negative, or zero."
   ]
  },
  {
   "cell_type": "code",
   "execution_count": 14,
   "id": "7518f1ee",
   "metadata": {},
   "outputs": [
    {
     "data": {
      "text/plain": [
       "'Negative'"
      ]
     },
     "execution_count": 14,
     "metadata": {},
     "output_type": "execute_result"
    }
   ],
   "source": [
    "# 14. Write a Python script to determine if a number is positive, negative, or zero.\n",
    "\n",
    "# Input a number\n",
    "number = -10\n",
    "\n",
    "# Determine if it's positive, negative, or zero\n",
    "if number > 0:\n",
    "    result = 'Positive'\n",
    "elif number < 0:\n",
    "    result = 'Negative'\n",
    "else:\n",
    "    result = 'Zero'\n",
    "\n",
    "result"
   ]
  },
  {
   "cell_type": "markdown",
   "id": "91c0b0ca",
   "metadata": {},
   "source": [
    "### Question 15: Create a program to check if a person is a teenager (between 13 and 19 years old)."
   ]
  },
  {
   "cell_type": "code",
   "execution_count": 15,
   "id": "39129360",
   "metadata": {},
   "outputs": [
    {
     "data": {
      "text/plain": [
       "True"
      ]
     },
     "execution_count": 15,
     "metadata": {},
     "output_type": "execute_result"
    }
   ],
   "source": [
    "# 15. Create a program to check if a person is a teenager (between 13 and 19 years old).\n",
    "\n",
    "# Input a person's age\n",
    "age = 16\n",
    "\n",
    "# Check if the person is a teenager\n",
    "if age >= 13 and age <= 19:\n",
    "    is_teenager = True\n",
    "else:\n",
    "    is_teenager = False\n",
    "\n",
    "is_teenager"
   ]
  },
  {
   "cell_type": "markdown",
   "id": "2dd43fd8",
   "metadata": {},
   "source": [
    "### Question 16: Develop a program that determines the type of angle based on its measure (acute, obtuse, or right)."
   ]
  },
  {
   "cell_type": "code",
   "execution_count": 16,
   "id": "bc16dd49",
   "metadata": {},
   "outputs": [
    {
     "data": {
      "text/plain": [
       "'Right'"
      ]
     },
     "execution_count": 16,
     "metadata": {},
     "output_type": "execute_result"
    }
   ],
   "source": [
    "# 16. Develop a program that determines the type of angle based on its measure (acute, obtuse, or right).\n",
    "\n",
    "# Input the angle measure\n",
    "angle = 90\n",
    "\n",
    "# Determine the type of angle\n",
    "if angle < 90:\n",
    "    angle_type = 'Acute'\n",
    "elif angle == 90:\n",
    "    angle_type = 'Right'\n",
    "else:\n",
    "    angle_type = 'Obtuse'\n",
    "\n",
    "angle_type"
   ]
  },
  {
   "cell_type": "markdown",
   "id": "1e2ce3a0",
   "metadata": {},
   "source": [
    "### Question 17: Write a Python program to calculate the roots of a quadratic equation."
   ]
  },
  {
   "cell_type": "code",
   "execution_count": 17,
   "id": "f20e6041",
   "metadata": {},
   "outputs": [
    {
     "data": {
      "text/plain": [
       "(3.0, 2.0)"
      ]
     },
     "execution_count": 17,
     "metadata": {},
     "output_type": "execute_result"
    }
   ],
   "source": [
    "# 17. Write a Python program to calculate the roots of a quadratic equation.\n",
    "\n",
    "# Input coefficients of the quadratic equation\n",
    "a = 1\n",
    "b = -5\n",
    "c = 6\n",
    "\n",
    "# Calculate the discriminant\n",
    "D = b**2 - 4*a*c\n",
    "\n",
    "# Calculate the roots\n",
    "if D > 0:\n",
    "    root1 = (-b + D**0.5) / (2*a)\n",
    "    root2 = (-b - D**0.5) / (2*a)\n",
    "    roots = (root1, root2)\n",
    "elif D == 0:\n",
    "    root1 = -b / (2*a)\n",
    "    roots = (root1,)\n",
    "else:\n",
    "    roots = ()  # Complex roots\n",
    "\n",
    "roots"
   ]
  },
  {
   "cell_type": "markdown",
   "id": "acc1cf3a",
   "metadata": {},
   "source": [
    "### Question 18: Implement a program to determine the day of the week based on a user-provided number (1 for Monday, 2 for Tuesday, etc.)."
   ]
  },
  {
   "cell_type": "code",
   "execution_count": 18,
   "id": "a710fe84",
   "metadata": {},
   "outputs": [
    {
     "data": {
      "text/plain": [
       "'Wednesday'"
      ]
     },
     "execution_count": 18,
     "metadata": {},
     "output_type": "execute_result"
    }
   ],
   "source": [
    "# 18. Implement a program to determine the day of the week based on a user-provided number (1 for Monday, 2 for Tuesday, etc.).\n",
    "\n",
    "# Input a number (1 for Monday, 2 for Tuesday, etc.)\n",
    "day_number = 3\n",
    "\n",
    "# Determine the day of the week\n",
    "if day_number == 1:\n",
    "    day = 'Monday'\n",
    "elif day_number == 2:\n",
    "    day = 'Tuesday'\n",
    "elif day_number == 3:\n",
    "    day = 'Wednesday'\n",
    "elif day_number == 4:\n",
    "    day = 'Thursday'\n",
    "elif day_number == 5:\n",
    "    day = 'Friday'\n",
    "elif day_number == 6:\n",
    "    day = 'Saturday'\n",
    "elif day_number == 7:\n",
    "    day = 'Sunday'\n",
    "else:\n",
    "    day = 'Invalid day number'\n",
    "\n",
    "day"
   ]
  },
  {
   "cell_type": "markdown",
   "id": "e9ae5977",
   "metadata": {},
   "source": [
    "### Question 19: Create a program that determines if a year is a leap year and also if it is evenly divisible by 400."
   ]
  },
  {
   "cell_type": "code",
   "execution_count": 19,
   "id": "156342b8",
   "metadata": {},
   "outputs": [
    {
     "data": {
      "text/plain": [
       "(True, True)"
      ]
     },
     "execution_count": 19,
     "metadata": {},
     "output_type": "execute_result"
    }
   ],
   "source": [
    "# 19. Create a program that determines if a year is a leap year and also if it is evenly divisible by 400.\n",
    "\n",
    "# Input a year\n",
    "year = 2000\n",
    "\n",
    "# Check if it's a leap year\n",
    "if (year % 4 == 0 and year % 100 != 0) or (year % 400 == 0):\n",
    "    is_leap_year = True\n",
    "else:\n",
    "    is_leap_year = False\n",
    "\n",
    "# Check if it's evenly divisible by 400\n",
    "if year % 400 == 0:\n",
    "    divisible_by_400 = True\n",
    "else:\n",
    "    divisible_by_400 = False\n",
    "\n",
    "(is_leap_year, divisible_by_400)"
   ]
  },
  {
   "cell_type": "markdown",
   "id": "6f97de03",
   "metadata": {},
   "source": [
    "### Question 20: Develop a program that checks if a given number is prime or not using nested if-else statements."
   ]
  },
  {
   "cell_type": "code",
   "execution_count": 20,
   "id": "f83a3f2f",
   "metadata": {},
   "outputs": [
    {
     "data": {
      "text/plain": [
       "True"
      ]
     },
     "execution_count": 20,
     "metadata": {},
     "output_type": "execute_result"
    }
   ],
   "source": [
    "# 20. Develop a program that checks if a given number is prime or not using nested if-else statements.\n",
    "\n",
    "# Input a number\n",
    "num = 17\n",
    "\n",
    "# Check if it's a prime number\n",
    "if num > 1:\n",
    "    for i in range(2, int(num**0.5) + 1):\n",
    "        if (num % i) == 0:\n",
    "            is_prime = False\n",
    "            break\n",
    "    else:\n",
    "        is_prime = True\n",
    "else:\n",
    "    is_prime = False\n",
    "\n",
    "is_prime"
   ]
  },
  {
   "cell_type": "markdown",
   "id": "2fb4d10f-dfec-4f7d-b0f0-b4c65324e78b",
   "metadata": {},
   "source": [
    "## Elif Statements:"
   ]
  },
  {
   "cell_type": "markdown",
   "id": "79678a2e",
   "metadata": {},
   "source": [
    "### Question 21: Write a Python program to assign grades based on different ranges of scores using elif statements."
   ]
  },
  {
   "cell_type": "code",
   "execution_count": 21,
   "id": "b63133ce",
   "metadata": {},
   "outputs": [
    {
     "data": {
      "text/plain": [
       "'B'"
      ]
     },
     "execution_count": 21,
     "metadata": {},
     "output_type": "execute_result"
    }
   ],
   "source": [
    "# 21. Write a Python program to assign grades based on different ranges of scores using elif statements.\n",
    "\n",
    "# Input a student's score\n",
    "score = 85\n",
    "\n",
    "# Assign grades based on score ranges\n",
    "if score >= 90:\n",
    "    grade = 'A'\n",
    "elif score >= 80:\n",
    "    grade = 'B'\n",
    "elif score >= 70:\n",
    "    grade = 'C'\n",
    "elif score >= 60:\n",
    "    grade = 'D'\n",
    "else:\n",
    "    grade = 'F'\n",
    "\n",
    "grade"
   ]
  },
  {
   "cell_type": "markdown",
   "id": "dabb54fc",
   "metadata": {},
   "source": [
    "### Question 22: Implement a program to determine the type of a triangle based on its angles."
   ]
  },
  {
   "cell_type": "code",
   "execution_count": 22,
   "id": "02bbd964",
   "metadata": {},
   "outputs": [
    {
     "data": {
      "text/plain": [
       "'Acute-angled'"
      ]
     },
     "execution_count": 22,
     "metadata": {},
     "output_type": "execute_result"
    }
   ],
   "source": [
    "# 22. Implement a program to determine the type of a triangle based on its angles.\n",
    "\n",
    "# Input the three angles of a triangle\n",
    "angle1 = 60\n",
    "angle2 = 60\n",
    "angle3 = 60\n",
    "\n",
    "# Determine the type of triangle\n",
    "if angle1 == 90 or angle2 == 90 or angle3 == 90:\n",
    "    triangle_type = 'Right-angled'\n",
    "elif angle1 > 90 or angle2 > 90 or angle3 > 90:\n",
    "    triangle_type = 'Obtuse-angled'\n",
    "else:\n",
    "    triangle_type = 'Acute-angled'\n",
    "\n",
    "triangle_type"
   ]
  },
  {
   "cell_type": "markdown",
   "id": "aec9ba24",
   "metadata": {},
   "source": [
    "### Question 23: Develop a program to categorize a given person's BMI into underweight, normal, overweight, or obese using elif statements."
   ]
  },
  {
   "cell_type": "code",
   "execution_count": 23,
   "id": "b946192d",
   "metadata": {},
   "outputs": [
    {
     "data": {
      "text/plain": [
       "'Normal weight'"
      ]
     },
     "execution_count": 23,
     "metadata": {},
     "output_type": "execute_result"
    }
   ],
   "source": [
    "# 23. Develop a program to categorize a given person's BMI into underweight, normal, overweight, or obese using elif statements.\n",
    "\n",
    "# Input a person's weight (in kilograms) and height (in meters)\n",
    "weight = 70\n",
    "height = 1.75\n",
    "\n",
    "# Calculate BMI\n",
    "bmi = weight / (height ** 2)\n",
    "\n",
    "# Categorize BMI\n",
    "if bmi < 18.5:\n",
    "    category = 'Underweight'\n",
    "elif 18.5 <= bmi < 24.9:\n",
    "    category = 'Normal weight'\n",
    "elif 25 <= bmi < 29.9:\n",
    "    category = 'Overweight'\n",
    "else:\n",
    "    category = 'Obese'\n",
    "\n",
    "category"
   ]
  },
  {
   "cell_type": "markdown",
   "id": "e2ebd721",
   "metadata": {},
   "source": [
    "### Question 24: Create a program that determines whether a given number is positive, negative, or zero using elif statements."
   ]
  },
  {
   "cell_type": "code",
   "execution_count": 24,
   "id": "c0462b93",
   "metadata": {},
   "outputs": [
    {
     "data": {
      "text/plain": [
       "'Negative'"
      ]
     },
     "execution_count": 24,
     "metadata": {},
     "output_type": "execute_result"
    }
   ],
   "source": [
    "# 24. Create a program that determines whether a given number is positive, negative, or zero using elif statements.\n",
    "\n",
    "# Input a number\n",
    "number = -7\n",
    "\n",
    "# Determine if it's positive, negative, or zero\n",
    "if number > 0:\n",
    "    result = 'Positive'\n",
    "elif number < 0:\n",
    "    result = 'Negative'\n",
    "else:\n",
    "    result = 'Zero'\n",
    "\n",
    "result"
   ]
  },
  {
   "cell_type": "markdown",
   "id": "ed0e006b",
   "metadata": {},
   "source": [
    "### Question 25: Write a Python script to determine the type of a character (uppercase, lowercase, or special) using elif statements."
   ]
  },
  {
   "cell_type": "code",
   "execution_count": 25,
   "id": "a46007ac",
   "metadata": {},
   "outputs": [
    {
     "data": {
      "text/plain": [
       "'Special character'"
      ]
     },
     "execution_count": 25,
     "metadata": {},
     "output_type": "execute_result"
    }
   ],
   "source": [
    "# 25. Write a Python script to determine the type of a character (uppercase, lowercase, or special) using elif statements.\n",
    "\n",
    "# Input a character\n",
    "char = '$'\n",
    "\n",
    "# Determine the type of character\n",
    "if 'a' <= char <= 'z':\n",
    "    char_type = 'Lowercase'\n",
    "elif 'A' <= char <= 'Z':\n",
    "    char_type = 'Uppercase'\n",
    "else:\n",
    "    char_type = 'Special character'\n",
    "\n",
    "char_type"
   ]
  },
  {
   "cell_type": "markdown",
   "id": "0163dc1c",
   "metadata": {},
   "source": [
    "### Question 26: Implement a program to calculate the discounted price based on different purchase amounts using elif statements."
   ]
  },
  {
   "cell_type": "code",
   "execution_count": 26,
   "id": "e934099a",
   "metadata": {},
   "outputs": [
    {
     "data": {
      "text/plain": [
       "135.0"
      ]
     },
     "execution_count": 26,
     "metadata": {},
     "output_type": "execute_result"
    }
   ],
   "source": [
    "# 26. Implement a program to calculate the discounted price based on different purchase amounts using elif statements.\n",
    "\n",
    "# Input the purchase amount\n",
    "purchase_amount = 150\n",
    "\n",
    "# Calculate the discounted price\n",
    "if purchase_amount >= 100:\n",
    "    discount = 10\n",
    "    discounted_price = purchase_amount - (purchase_amount * discount / 100)\n",
    "else:\n",
    "    discounted_price = purchase_amount\n",
    "\n",
    "discounted_price"
   ]
  },
  {
   "cell_type": "markdown",
   "id": "5c797dd7",
   "metadata": {},
   "source": [
    "### Question 27: Develop a program to calculate the electricity bill based on different consumption slabs using elif statements."
   ]
  },
  {
   "cell_type": "code",
   "execution_count": 27,
   "id": "3ee05b3c",
   "metadata": {},
   "outputs": [
    {
     "data": {
      "text/plain": [
       "525.0"
      ]
     },
     "execution_count": 27,
     "metadata": {},
     "output_type": "execute_result"
    }
   ],
   "source": [
    "# 27. Develop a program to calculate the electricity bill based on different consumption slabs using elif statements.\n",
    "\n",
    "# Input the electricity consumption in units\n",
    "units_consumed = 150\n",
    "\n",
    "# Calculate the electricity bill based on slabs\n",
    "if units_consumed <= 50:\n",
    "    bill = units_consumed * 2.5\n",
    "elif units_consumed <= 100:\n",
    "    bill = 50 * 2.5 + (units_consumed - 50) * 3.0\n",
    "elif units_consumed <= 200:\n",
    "    bill = 50 * 2.5 + 50 * 3.0 + (units_consumed - 100) * 5.0\n",
    "else:\n",
    "    bill = 50 * 2.5 + 50 * 3.0 + 100 * 5.0 + (units_consumed - 200) * 6.0\n",
    "\n",
    "bill"
   ]
  },
  {
   "cell_type": "markdown",
   "id": "1323b635",
   "metadata": {},
   "source": [
    "### Question 28: Create a program to determine the type of quadrilateral based on its angles and sides using elif statements."
   ]
  },
  {
   "cell_type": "code",
   "execution_count": 28,
   "id": "daf6e945",
   "metadata": {},
   "outputs": [
    {
     "data": {
      "text/plain": [
       "'Rectangle'"
      ]
     },
     "execution_count": 28,
     "metadata": {},
     "output_type": "execute_result"
    }
   ],
   "source": [
    "# 28. Create a program to determine the type of quadrilateral based on its angles and sides using elif statements.\n",
    "\n",
    "# Input the angles and sides of a quadrilateral\n",
    "angle1 = 90\n",
    "angle2 = 90\n",
    "side1 = 5\n",
    "side2 = 5\n",
    "side3 = 6\n",
    "side4 = 6\n",
    "\n",
    "# Determine the type of quadrilateral\n",
    "if angle1 == 90 and angle2 == 90 and side1 == side2 == side3 == side4:\n",
    "    quadrilateral_type = 'Square'\n",
    "elif angle1 == 90 and angle2 == 90 and (side1 == side2 or side3 == side4):\n",
    "    quadrilateral_type = 'Rectangle'\n",
    "elif angle1 == 90 and angle2 == 90:\n",
    "    quadrilateral_type = 'Trapezoid'\n",
    "else:\n",
    "    quadrilateral_type = 'Quadrilateral'\n",
    "\n",
    "quadrilateral_type"
   ]
  },
  {
   "cell_type": "markdown",
   "id": "bbc5be4e",
   "metadata": {},
   "source": [
    "### Question 29: Write a Python script to determine the season based on a user-provided month using elif statements."
   ]
  },
  {
   "cell_type": "code",
   "execution_count": 29,
   "id": "6e2099e9",
   "metadata": {},
   "outputs": [
    {
     "data": {
      "text/plain": [
       "'Summer'"
      ]
     },
     "execution_count": 29,
     "metadata": {},
     "output_type": "execute_result"
    }
   ],
   "source": [
    "# 29. Write a Python script to determine the season based on a user-provided month using elif statements.\n",
    "\n",
    "# Input a month number (1 for January, 2 for February, etc.)\n",
    "month = 8\n",
    "\n",
    "# Determine the season based on the month\n",
    "if 3 <= month <= 5:\n",
    "    season = 'Spring'\n",
    "elif 6 <= month <= 8:\n",
    "    season = 'Summer'\n",
    "elif 9 <= month <= 11:\n",
    "    season = 'Fall'\n",
    "else:\n",
    "    season = 'Winter'\n",
    "\n",
    "season"
   ]
  },
  {
   "cell_type": "markdown",
   "id": "c2615989",
   "metadata": {},
   "source": [
    "### Question 30: Implement a program to determine the type of a year (leap or common) and month (30 or 31 days) using elif statements."
   ]
  },
  {
   "cell_type": "code",
   "execution_count": 30,
   "id": "28fdb7b8",
   "metadata": {},
   "outputs": [
    {
     "data": {
      "text/plain": [
       "(True, 29)"
      ]
     },
     "execution_count": 30,
     "metadata": {},
     "output_type": "execute_result"
    }
   ],
   "source": [
    "# 30. Implement a program to determine the type of a year (leap or common) and month (30 or 31 days) using elif statements.\n",
    "\n",
    "# Input a year and a month number (1 for January, 2 for February, etc.)\n",
    "year = 2024\n",
    "month = 2\n",
    "\n",
    "# Check if it's a leap year\n",
    "if (year % 4 == 0 and year % 100 != 0) or (year % 400 == 0):\n",
    "    is_leap_year = True\n",
    "else:\n",
    "    is_leap_year = False\n",
    "\n",
    "# Determine the number of days in the month\n",
    "if month in [1, 3, 5, 7, 8, 10, 12]:\n",
    "    num_days = 31\n",
    "elif month == 2:\n",
    "    num_days = 29 if is_leap_year else 28\n",
    "else:\n",
    "    num_days = 30\n",
    "\n",
    "(is_leap_year, num_days)"
   ]
  },
  {
   "cell_type": "markdown",
   "id": "c154a548-c465-433d-a50f-e3033aad491d",
   "metadata": {},
   "source": [
    "## Basic Level:"
   ]
  },
  {
   "cell_type": "markdown",
   "id": "ce8d37b5-7d70-43a3-aec8-53bf7f04d5bf",
   "metadata": {},
   "source": [
    "### Question 1: Write a Python program that checks if a given number is positive, negative, or zero."
   ]
  },
  {
   "cell_type": "code",
   "execution_count": 29,
   "id": "64ca16ea-cee9-49c8-bf7d-560d484e62a3",
   "metadata": {},
   "outputs": [
    {
     "name": "stdout",
     "output_type": "stream",
     "text": [
      "Positive\n"
     ]
    }
   ],
   "source": [
    "# Check if a number is positive, negative, or zero\n",
    "num = 7\n",
    "if num > 0:\n",
    "    print(\"Positive\")\n",
    "elif num < 0:\n",
    "    print(\"Negative\")\n",
    "else:\n",
    "    print(\"Zero\")"
   ]
  },
  {
   "cell_type": "markdown",
   "id": "8c0a6d44-1e56-4ccf-a09d-b0f492f496f7",
   "metadata": {},
   "source": [
    "### Question 2: Create a program to determine if a person is eligible to vote based on their age."
   ]
  },
  {
   "cell_type": "code",
   "execution_count": 28,
   "id": "a5b691de-87e2-4d47-827a-121e9c2fc260",
   "metadata": {},
   "outputs": [
    {
     "name": "stdout",
     "output_type": "stream",
     "text": [
      "You are eligible to vote.\n"
     ]
    }
   ],
   "source": [
    "# Check if a person is eligible to vote based on age\n",
    "age = 20\n",
    "if age >= 18:\n",
    "    print(\"You are eligible to vote.\")\n",
    "else:\n",
    "    print(\"You are not eligible to vote.\")"
   ]
  },
  {
   "cell_type": "markdown",
   "id": "c87de86a-b0ce-4ad8-9a0b-ab9e8151d2c1",
   "metadata": {},
   "source": [
    "### Question 3: Write a program to find the maximum of two given numbers using conditional statements."
   ]
  },
  {
   "cell_type": "code",
   "execution_count": 27,
   "id": "08b898ef-1fd3-4481-b275-143f22e7ac93",
   "metadata": {},
   "outputs": [
    {
     "name": "stdout",
     "output_type": "stream",
     "text": [
      "Maximum:  10\n"
     ]
    }
   ],
   "source": [
    "# Find the maximum of two numbers using conditional statements\n",
    "num1 = 10\n",
    "num2 = 5\n",
    "if num1 > num2:\n",
    "    print(\"Maximum: \", num1)\n",
    "else:\n",
    "    print(\"Maximum: \", num2)"
   ]
  },
  {
   "cell_type": "markdown",
   "id": "3f965ba9-266e-4ac6-8071-3caf26044931",
   "metadata": {},
   "source": [
    "### Question 4: Develop a program that calculates the grade of a student based on their exam score."
   ]
  },
  {
   "cell_type": "code",
   "execution_count": 26,
   "id": "f1a54d31-357b-4a30-a430-33cff56a36a0",
   "metadata": {},
   "outputs": [
    {
     "name": "stdout",
     "output_type": "stream",
     "text": [
      "Grade: B\n"
     ]
    }
   ],
   "source": [
    "# Calculate the grade of a student based on exam score\n",
    "score = 85\n",
    "if 90 <= score <= 100:\n",
    "    print(\"Grade: A\")\n",
    "elif 80 <= score < 90:\n",
    "    print(\"Grade: B\")\n",
    "elif 70 <= score < 80:\n",
    "    print(\"Grade: C\")\n",
    "elif 60 <= score < 70:\n",
    "    print(\"Grade: D\")\n",
    "else:\n",
    "    print(\"Grade: F\")"
   ]
  },
  {
   "cell_type": "markdown",
   "id": "fa2d6688-109f-4223-ae09-79ed716dc361",
   "metadata": {},
   "source": [
    "### Question 5: Create a program that checks if a year is a leap year or not."
   ]
  },
  {
   "cell_type": "code",
   "execution_count": 25,
   "id": "7e3a8cae-220f-4837-9ae4-9998863f49af",
   "metadata": {},
   "outputs": [
    {
     "name": "stdout",
     "output_type": "stream",
     "text": [
      "Leap year\n"
     ]
    }
   ],
   "source": [
    "# Check if a year is a leap year or not\n",
    "year = 2024\n",
    "if (year % 4 == 0 and year % 100 != 0) or (year % 400 == 0):\n",
    "    print(\"Leap year\")\n",
    "else:\n",
    "    print(\"Not a leap year\")"
   ]
  },
  {
   "cell_type": "markdown",
   "id": "ad89eaec-ed6f-4076-bf1d-6bf91cc7ee4e",
   "metadata": {},
   "source": [
    "### Question 6: Write a program to classify a triangle based on its sides' lengths."
   ]
  },
  {
   "cell_type": "code",
   "execution_count": 24,
   "id": "fed6da74-ebd1-4927-b654-bb72095c34bb",
   "metadata": {},
   "outputs": [
    {
     "name": "stdout",
     "output_type": "stream",
     "text": [
      "Scalene triangle\n"
     ]
    }
   ],
   "source": [
    "# Classify a triangle based on its sides' lengths\n",
    "side1 = 3\n",
    "side2 = 4\n",
    "side3 = 5\n",
    "if side1 == side2 == side3:\n",
    "    print(\"Equilateral triangle\")\n",
    "elif side1 == side2 or side1 == side3 or side2 == side3:\n",
    "    print(\"Isosceles triangle\")\n",
    "else:\n",
    "    print(\"Scalene triangle\")"
   ]
  },
  {
   "cell_type": "markdown",
   "id": "75168386-4505-4dc6-99dd-15aa91f2f863",
   "metadata": {},
   "source": [
    "### Question 7: Build a program that determines the largest of three given numbers."
   ]
  },
  {
   "cell_type": "code",
   "execution_count": 23,
   "id": "97187d96-6c37-42d2-afba-8f508b72eef4",
   "metadata": {},
   "outputs": [
    {
     "name": "stdout",
     "output_type": "stream",
     "text": [
      "Largest:  12\n"
     ]
    }
   ],
   "source": [
    "# Determine the largest of three numbers\n",
    "num1 = 8\n",
    "num2 = 12\n",
    "num3 = 6\n",
    "if num1 >= num2 and num1 >= num3:\n",
    "    print(\"Largest: \", num1)\n",
    "elif num2 >= num1 and num2 >= num3:\n",
    "    print(\"Largest: \", num2)\n",
    "else:\n",
    "    print(\"Largest: \", num3)"
   ]
  },
  {
   "cell_type": "markdown",
   "id": "c0fa98e2-de74-4554-afe0-4edfcd56848f",
   "metadata": {},
   "source": [
    "### Question 8: Develop a program that checks whether a character is a vowel or a consonant."
   ]
  },
  {
   "cell_type": "code",
   "execution_count": 22,
   "id": "c6d86683-bea4-48f1-932d-da5e6bdb4269",
   "metadata": {},
   "outputs": [
    {
     "name": "stdout",
     "output_type": "stream",
     "text": [
      "Vowel\n"
     ]
    }
   ],
   "source": [
    "# Check if a character is a vowel or a consonant\n",
    "char = 'a'\n",
    "if char.lower() in ['a', 'e', 'i', 'o', 'u']:\n",
    "    print(\"Vowel\")\n",
    "else:\n",
    "    print(\"Consonant\")"
   ]
  },
  {
   "cell_type": "markdown",
   "id": "e0781c73-0c02-45c9-81f8-254990f966c9",
   "metadata": {},
   "source": [
    "### Question 9: Create a program to calculate the total cost of a shopping cart based on discounts."
   ]
  },
  {
   "cell_type": "code",
   "execution_count": 21,
   "id": "0509903a-db3d-445a-8a99-eb2e1e978b83",
   "metadata": {},
   "outputs": [
    {
     "name": "stdout",
     "output_type": "stream",
     "text": [
      "Total Cost: 90.0\n"
     ]
    }
   ],
   "source": [
    "# Calculate the total cost of a shopping cart with discounts\n",
    "total_cost = 100\n",
    "if total_cost >= 100:\n",
    "    discount = total_cost * 0.1\n",
    "else:\n",
    "    discount = 0\n",
    "final_cost = total_cost - discount\n",
    "print(\"Total Cost:\", final_cost)"
   ]
  },
  {
   "cell_type": "markdown",
   "id": "4068eb78-bf2b-43ab-84cf-971906d2657e",
   "metadata": {},
   "source": [
    "## Intermediate Level:"
   ]
  },
  {
   "cell_type": "markdown",
   "id": "fd9227b8-f019-4115-8d8a-e5d4c1504a71",
   "metadata": {},
   "source": [
    "### Question 10: Write a program that checks if a given number is even or odd."
   ]
  },
  {
   "cell_type": "code",
   "execution_count": 20,
   "id": "fa5caa99-dabb-433e-ab41-633edfb4e327",
   "metadata": {},
   "outputs": [
    {
     "name": "stdout",
     "output_type": "stream",
     "text": [
      "Odd\n"
     ]
    }
   ],
   "source": [
    "# Check if a number is even or odd\n",
    "num = 7\n",
    "if num % 2 == 0:\n",
    "    print(\"Even\")\n",
    "else:\n",
    "    print(\"Odd\")"
   ]
  },
  {
   "cell_type": "markdown",
   "id": "b6de41c9-1e1b-4d0d-aaa6-91a5e704dcd7",
   "metadata": {},
   "source": [
    "### Question 11: Write a program to calculate the roots of a quadratic equation."
   ]
  },
  {
   "cell_type": "code",
   "execution_count": 19,
   "id": "fd9f2319-c197-4065-a46c-6b512804d3f4",
   "metadata": {},
   "outputs": [
    {
     "name": "stdout",
     "output_type": "stream",
     "text": [
      "Two distinct real roots:\n",
      "Root 1: 2.0\n",
      "Root 2: 1.0\n"
     ]
    }
   ],
   "source": [
    "# Calculate the roots of a quadratic equation\n",
    "import math\n",
    "\n",
    "# Coefficients of the quadratic equation: ax^2 + bx + c = 0\n",
    "a = 1\n",
    "b = -3\n",
    "c = 2\n",
    "\n",
    "# Calculate the discriminant\n",
    "discriminant = b**2 - 4*a*c\n",
    "\n",
    "if discriminant > 0:\n",
    "    root1 = (-b + math.sqrt(discriminant)) / (2*a)\n",
    "    root2 = (-b - math.sqrt(discriminant)) / (2*a)\n",
    "    print(\"Two distinct real roots:\")\n",
    "    print(\"Root 1:\", root1)\n",
    "    print(\"Root 2:\", root2)\n",
    "elif discriminant == 0:\n",
    "    root = -b / (2*a)\n",
    "    print(\"One real root:\")\n",
    "    print(\"Root:\", root)\n",
    "else:\n",
    "    realPart = -b / (2*a)\n",
    "    imaginaryPart = math.sqrt(-discriminant) / (2*a)\n",
    "    print(\"Two complex roots:\")\n",
    "    print(\"Root 1:\", realPart, \"+\", imaginaryPart, \"i\")\n",
    "    print(\"Root 2:\", realPart, \"-\", imaginaryPart, \"i\")"
   ]
  },
  {
   "cell_type": "markdown",
   "id": "83db67c6-2cb0-4ea9-9eb5-3ede5ecdf3d9",
   "metadata": {},
   "source": [
    "### Question 12: Create a program that determines the day of the week based on the day number (1-7)."
   ]
  },
  {
   "cell_type": "code",
   "execution_count": 18,
   "id": "e420f471-3535-4891-b00b-8ea5bf700eb8",
   "metadata": {},
   "outputs": [
    {
     "name": "stdout",
     "output_type": "stream",
     "text": [
      "Wednesday\n"
     ]
    }
   ],
   "source": [
    "# Determine the day of the week based on the day number\n",
    "day_number = 3\n",
    "\n",
    "if day_number == 1:\n",
    "    print(\"Monday\")\n",
    "elif day_number == 2:\n",
    "    print(\"Tuesday\")\n",
    "elif day_number == 3:\n",
    "    print(\"Wednesday\")\n",
    "elif day_number == 4:\n",
    "    print(\"Thursday\")\n",
    "elif day_number == 5:\n",
    "    print(\"Friday\")\n",
    "elif day_number == 6:\n",
    "    print(\"Saturday\")\n",
    "elif day_number == 7:\n",
    "    print(\"Sunday\")\n",
    "else:\n",
    "    print(\"Invalid day number\")"
   ]
  },
  {
   "cell_type": "markdown",
   "id": "a3422a3b-e051-4c8d-8d27-53a82a3c6da6",
   "metadata": {},
   "source": [
    "### Question 13: Develop a program that calculates the factorial of a given number using recursion."
   ]
  },
  {
   "cell_type": "code",
   "execution_count": 17,
   "id": "f7c5f244-b143-4347-9528-ab024feeff6a",
   "metadata": {},
   "outputs": [
    {
     "name": "stdout",
     "output_type": "stream",
     "text": [
      "Factorial of 5 is 120\n"
     ]
    }
   ],
   "source": [
    "# Calculate the factorial of a number using recursion\n",
    "def factorial(n):\n",
    "    if n == 0:\n",
    "        return 1\n",
    "    else:\n",
    "        return n * factorial(n - 1)\n",
    "\n",
    "num = 5\n",
    "result = factorial(num)\n",
    "print(\"Factorial of\", num, \"is\", result)"
   ]
  },
  {
   "cell_type": "markdown",
   "id": "40e36f7c-5835-4915-9852-d2b7ab3ef845",
   "metadata": {},
   "source": [
    "### Question 14: Write a program to find the largest among three numbers without using the `max()` function."
   ]
  },
  {
   "cell_type": "code",
   "execution_count": 16,
   "id": "9d9d244f-bdbf-4c1a-b540-0eebad60f926",
   "metadata": {},
   "outputs": [
    {
     "name": "stdout",
     "output_type": "stream",
     "text": [
      "Largest number: 12\n"
     ]
    }
   ],
   "source": [
    "# Find the largest of three numbers without using the max() function\n",
    "num1 = 8\n",
    "num2 = 12\n",
    "num3 = 6\n",
    "\n",
    "largest = num1\n",
    "\n",
    "if num2 > largest:\n",
    "    largest = num2\n",
    "if num3 > largest:\n",
    "    largest = num3\n",
    "\n",
    "print(\"Largest number:\", largest)"
   ]
  },
  {
   "cell_type": "markdown",
   "id": "9367d9fb-c549-476a-98a4-4c1f67ec0b7e",
   "metadata": {},
   "source": [
    "### Question 15: Create a program that simulates a basic ATM transaction menu."
   ]
  },
  {
   "cell_type": "code",
   "execution_count": 15,
   "id": "1c7764e8-4e92-49dc-9efd-4dfd04817735",
   "metadata": {},
   "outputs": [
    {
     "name": "stdout",
     "output_type": "stream",
     "text": [
      "ATM Menu:\n",
      "1. Check Balance\n",
      "2. Deposit\n",
      "3. Withdraw\n",
      "4. Exit\n"
     ]
    },
    {
     "name": "stdin",
     "output_type": "stream",
     "text": [
      "Enter your choice:  2\n",
      "Enter the deposit amount:  20000\n"
     ]
    },
    {
     "name": "stdout",
     "output_type": "stream",
     "text": [
      "Deposit successful. New balance: 21000.0\n",
      "ATM Menu:\n",
      "1. Check Balance\n",
      "2. Deposit\n",
      "3. Withdraw\n",
      "4. Exit\n"
     ]
    },
    {
     "name": "stdin",
     "output_type": "stream",
     "text": [
      "Enter your choice:  4\n"
     ]
    },
    {
     "name": "stdout",
     "output_type": "stream",
     "text": [
      "Exiting the ATM. Thank you!\n"
     ]
    }
   ],
   "source": [
    "# Simulate a basic ATM transaction menu\n",
    "balance = 1000\n",
    "\n",
    "while True:\n",
    "    print(\"ATM Menu:\")\n",
    "    print(\"1. Check Balance\")\n",
    "    print(\"2. Deposit\")\n",
    "    print(\"3. Withdraw\")\n",
    "    print(\"4. Exit\")\n",
    "    \n",
    "    choice = int(input(\"Enter your choice: \"))\n",
    "    \n",
    "    if choice == 1:\n",
    "        print(\"Balance:\", balance)\n",
    "    elif choice == 2:\n",
    "        deposit = float(input(\"Enter the deposit amount: \"))\n",
    "        balance += deposit\n",
    "        print(\"Deposit successful. New balance:\", balance)\n",
    "    elif choice == 3:\n",
    "        withdrawal = float(input(\"Enter the withdrawal amount: \"))\n",
    "        if withdrawal <= balance:\n",
    "            balance -= withdrawal\n",
    "            print(\"Withdrawal successful. New balance:\", balance)\n",
    "        else:\n",
    "            print(\"Insufficient balance.\")\n",
    "    elif choice == 4:\n",
    "        print(\"Exiting the ATM. Thank you!\")\n",
    "        break\n",
    "    else:\n",
    "        print(\"Invalid choice. Please select a valid option.\")"
   ]
  },
  {
   "cell_type": "markdown",
   "id": "6ddd3926-cca9-42cf-9cf3-f38e6e876a4f",
   "metadata": {},
   "source": [
    "### Question 16: Build a program that checks if a given string is a palindrome or not."
   ]
  },
  {
   "cell_type": "code",
   "execution_count": 14,
   "id": "8dff13bd-22a2-48a4-a46e-b4ab74e25a88",
   "metadata": {},
   "outputs": [
    {
     "name": "stdout",
     "output_type": "stream",
     "text": [
      "Palindrome\n"
     ]
    }
   ],
   "source": [
    "# Check if a string is a palindrome\n",
    "def is_palindrome(s):\n",
    "    s = s.lower()  # Convert to lowercase\n",
    "    s = s.replace(\" \", \"\")  # Remove spaces\n",
    "    return s == s[::-1]\n",
    "\n",
    "input_string = \"A man a plan a canal Panama\"\n",
    "if is_palindrome(input_string):\n",
    "    print(\"Palindrome\")\n",
    "else:\n",
    "    print(\"Not a palindrome\")"
   ]
  },
  {
   "cell_type": "markdown",
   "id": "c807795c-40ce-4976-9146-6ffffd46ee53",
   "metadata": {},
   "source": [
    "### Question 17: Write a program that calculates the average of a list of numbers, excluding the smallest and largest values."
   ]
  },
  {
   "cell_type": "code",
   "execution_count": 13,
   "id": "c91db93e-f39a-40e6-aac0-448ff84c096c",
   "metadata": {},
   "outputs": [
    {
     "name": "stdout",
     "output_type": "stream",
     "text": [
      "Average: 4.5\n"
     ]
    }
   ],
   "source": [
    "# Calculate the average of a list of numbers (excluding smallest and largest)\n",
    "numbers = [5, 2, 8, 3, 1, 9]\n",
    "\n",
    "if len(numbers) < 3:\n",
    "    print(\"List should have at least 3 numbers to calculate the average.\")\n",
    "else:\n",
    "    numbers.sort()\n",
    "    numbers = numbers[1:-1]  # Exclude the smallest and largest\n",
    "    average = sum(numbers) / len(numbers)\n",
    "    print(\"Average:\", average)"
   ]
  },
  {
   "cell_type": "markdown",
   "id": "f61a12b4-ccaa-4762-ba05-2e19888cd360",
   "metadata": {},
   "source": [
    "### Question 18: Develop a program that converts a given temperature from Celsius to Fahrenheit."
   ]
  },
  {
   "cell_type": "code",
   "execution_count": 12,
   "id": "2812f641-df6d-4663-9673-a794d38d1341",
   "metadata": {},
   "outputs": [
    {
     "name": "stdout",
     "output_type": "stream",
     "text": [
      "Temperature in Fahrenheit: 77.0\n"
     ]
    }
   ],
   "source": [
    "# Convert temperature from Celsius to Fahrenheit\n",
    "celsius = 25\n",
    "fahrenheit = (celsius * 9/5) + 32\n",
    "print(\"Temperature in Fahrenheit:\", fahrenheit)"
   ]
  },
  {
   "cell_type": "markdown",
   "id": "e2012231-1fee-4fcf-8ae2-8dfa61aeed28",
   "metadata": {},
   "source": [
    "### Question 19: Create a program that simulates a basic calculator for addition, subtraction, multiplication, and division."
   ]
  },
  {
   "cell_type": "code",
   "execution_count": 11,
   "id": "1748efde-0dd1-4474-ba11-38437220c911",
   "metadata": {},
   "outputs": [
    {
     "name": "stdin",
     "output_type": "stream",
     "text": [
      "Enter first number:  6\n",
      "Enter operator (+, -, *, /):  /\n",
      "Enter second number:  3\n"
     ]
    },
    {
     "name": "stdout",
     "output_type": "stream",
     "text": [
      "Result: 2.0\n"
     ]
    }
   ],
   "source": [
    "# Simulate a basic calculator\n",
    "num1 = float(input(\"Enter first number: \"))\n",
    "operator = input(\"Enter operator (+, -, *, /): \")\n",
    "num2 = float(input(\"Enter second number: \"))\n",
    "\n",
    "if operator == \"+\":\n",
    "    result = num1 + num2\n",
    "    print(\"Result:\", result)\n",
    "elif operator == \"-\":\n",
    "    result = num1 - num2\n",
    "    print(\"Result:\", result)\n",
    "elif operator == \"*\":\n",
    "    result = num1 * num2\n",
    "    print(\"Result:\", result)\n",
    "elif operator == \"/\":\n",
    "    if num2 != 0:\n",
    "        result = num1 / num2\n",
    "        print(\"Result:\", result)\n",
    "    else:\n",
    "        print(\"Division by zero is not allowed.\")\n",
    "else:\n",
    "    print(\"Invalid operator.\")"
   ]
  },
  {
   "cell_type": "markdown",
   "id": "03ba4435-7564-4ff7-9b76-3b2e91739d23",
   "metadata": {},
   "source": [
    "### Question 20: Write a program that determines the roots of a cubic equation using the Cardano formula."
   ]
  },
  {
   "cell_type": "code",
   "execution_count": 10,
   "id": "65789c8c-b3e5-46b4-b16e-deacc1796b52",
   "metadata": {},
   "outputs": [
    {
     "name": "stdout",
     "output_type": "stream",
     "text": [
      "One real root and two complex roots:\n",
      "Real Root: 3.0\n",
      "Complex Root 1: 1.0\n",
      "Complex Root 2: 1.9999999999999998\n"
     ]
    }
   ],
   "source": [
    "# Calculate the roots of a cubic equation using the Cardano formula\n",
    "import math\n",
    "\n",
    "# Coefficients of the cubic equation: ax^3 + bx^2 + cx + d = 0\n",
    "a = 1\n",
    "b = -6\n",
    "c = 11\n",
    "d = -6\n",
    "\n",
    "# Cardano formula for depressed cubic equation\n",
    "p = (3*a*c - b**2) / (3*a**2)\n",
    "q = (2*b**3 - 9*a*b*c + 27*a**2*d) / (27*a**3)\n",
    "delta = (q/2)**2 + (p/3)**3\n",
    "\n",
    "if delta > 0:\n",
    "    u = math.pow(-q/2 + math.sqrt(delta), 1/3)\n",
    "    v = math.pow(-q/2 - math.sqrt(delta), 1/3)\n",
    "    real_part = -(b / (3*a))\n",
    "    root1 = u + v + real_part\n",
    "    root2 = -(u + v) / 2 + real_part\n",
    "    root3 = -(u + v) / 2 + real_part\n",
    "    print(\"Three real roots:\")\n",
    "    print(\"Root 1:\", root1)\n",
    "    print(\"Root 2:\", root2)\n",
    "    print(\"Root 3:\", root3)\n",
    "elif delta == 0:\n",
    "    if q < 0:\n",
    "        u = math.pow(-q/2, 1/3)\n",
    "    else:\n",
    "        u = -math.pow(q/2, 1/3)\n",
    "    root1 = 2*u - (b / (3*a))\n",
    "    root2 = -(u + u) - (b / (3*a))\n",
    "    print(\"One real root (multiple):\")\n",
    "    print(\"Root 1:\", root1)\n",
    "    print(\"Root 2:\", root2)\n",
    "else:\n",
    "    r = math.sqrt(-(p/3)**3)\n",
    "    theta = math.acos(-(q/2) / r)\n",
    "    root1 = 2*math.sqrt(-p/3)*math.cos(theta/3) - (b / (3*a))\n",
    "    root2 = 2*math.sqrt(-p/3)*math.cos((theta + 2*math.pi)/3) - (b / (3*a))\n",
    "    root3 = 2*math.sqrt(-p/3)*math.cos((theta + 4*math.pi)/3) - (b / (3*a))\n",
    "    print(\"One real root and two complex roots:\")\n",
    "    print(\"Real Root:\", root1)\n",
    "    print(\"Complex Root 1:\", root2)\n",
    "    print(\"Complex Root 2:\", root3)"
   ]
  },
  {
   "cell_type": "markdown",
   "id": "eb2b8289-55ff-479d-9fec-7125b2609404",
   "metadata": {},
   "source": [
    "## Advanced Level:"
   ]
  },
  {
   "cell_type": "markdown",
   "id": "38724261-cc66-4f38-a641-eda3b684b612",
   "metadata": {},
   "source": [
    "### Question 21: Create a program that calculates the income tax based on the user's income and tax brackets."
   ]
  },
  {
   "cell_type": "code",
   "execution_count": 9,
   "id": "f3615c6e-879b-4a86-8eb4-2be838788a73",
   "metadata": {},
   "outputs": [
    {
     "name": "stdin",
     "output_type": "stream",
     "text": [
      "Enter your annual income:  250000\n"
     ]
    },
    {
     "name": "stdout",
     "output_type": "stream",
     "text": [
      "Your income tax is: ₹47366.60\n"
     ]
    }
   ],
   "source": [
    "# Calculate income tax based on user's income and tax brackets\n",
    "income = float(input(\"Enter your annual income: \"))\n",
    "\n",
    "# Define tax brackets and rates\n",
    "tax_brackets = [(0, 9875, 0.10), (9876, 40125, 0.12), (40126, 85525, 0.22), (85526, 163300, 0.24),\n",
    "                (163301, 207350, 0.32), (207351, 518400, 0.35), (518401, float(\"inf\"), 0.37)]\n",
    "\n",
    "tax = 0\n",
    "\n",
    "# Calculate tax based on tax brackets\n",
    "for bracket in tax_brackets:\n",
    "    min_income, max_income, rate = bracket\n",
    "    if income > max_income:\n",
    "        taxable_income = max_income - min_income\n",
    "    else:\n",
    "        taxable_income = income - min_income\n",
    "        break\n",
    "    tax += taxable_income * rate\n",
    "\n",
    "print(f\"Your income tax is: ₹{tax:.2f}\")"
   ]
  },
  {
   "cell_type": "markdown",
   "id": "d2b9cc9d-82fb-4245-abe8-937847d25fdc",
   "metadata": {},
   "source": [
    "### Question 22: Write a program that simulates a rock-paper-scissors game against the computer."
   ]
  },
  {
   "cell_type": "code",
   "execution_count": 7,
   "id": "c4ddd632-8a99-4693-b536-e36ccda1164f",
   "metadata": {},
   "outputs": [
    {
     "name": "stdin",
     "output_type": "stream",
     "text": [
      "Enter your choice (rock, paper, or scissors):  scissors\n"
     ]
    },
    {
     "name": "stdout",
     "output_type": "stream",
     "text": [
      "You chose scissors\n",
      "Computer chose paper\n",
      "You win!\n"
     ]
    }
   ],
   "source": [
    "# Simulate a rock-paper-scissors game against the computer\n",
    "import random\n",
    "\n",
    "choices = [\"rock\", \"paper\", \"scissors\"]\n",
    "\n",
    "user_choice = input(\"Enter your choice (rock, paper, or scissors): \").lower()\n",
    "computer_choice = random.choice(choices)\n",
    "\n",
    "print(f\"You chose {user_choice}\")\n",
    "print(f\"Computer chose {computer_choice}\")\n",
    "\n",
    "if user_choice == computer_choice:\n",
    "    print(\"It's a tie!\")\n",
    "elif user_choice == \"rock\":\n",
    "    if computer_choice == \"scissors\":\n",
    "        print(\"You win!\")\n",
    "    else:\n",
    "        print(\"Computer wins!\")\n",
    "elif user_choice == \"paper\":\n",
    "    if computer_choice == \"rock\":\n",
    "        print(\"You win!\")\n",
    "    else:\n",
    "        print(\"Computer wins!\")\n",
    "elif user_choice == \"scissors\":\n",
    "    if computer_choice == \"paper\":\n",
    "        print(\"You win!\")\n",
    "    else:\n",
    "        print(\"Computer wins!\")\n",
    "else:\n",
    "    print(\"Invalid choice. Please choose rock, paper, or scissors.\")"
   ]
  },
  {
   "cell_type": "markdown",
   "id": "142721e1-0bda-4c20-bb30-60f04ed8538b",
   "metadata": {},
   "source": [
    "### Question 23: Develop a program that generates a random password based on user preferences (length, complexity)."
   ]
  },
  {
   "cell_type": "code",
   "execution_count": 6,
   "id": "71b0bafe-e217-4146-8abf-47917a33b4d2",
   "metadata": {},
   "outputs": [
    {
     "name": "stdin",
     "output_type": "stream",
     "text": [
      "Enter the length of the password:  8\n",
      "Include digits? (yes/no):  yes\n",
      "Include special characters? (yes/no):  yes\n"
     ]
    },
    {
     "name": "stdout",
     "output_type": "stream",
     "text": [
      "Generated password: CZ/Mpqqz\n"
     ]
    }
   ],
   "source": [
    "# Generate a random password based on user preferences\n",
    "import random\n",
    "import string\n",
    "\n",
    "def generate_password(length, include_digits, include_special_chars):\n",
    "    characters = string.ascii_letters\n",
    "    if include_digits:\n",
    "        characters += string.digits\n",
    "    if include_special_chars:\n",
    "        characters += string.punctuation\n",
    "\n",
    "    password = ''.join(random.choice(characters) for _ in range(length))\n",
    "    return password\n",
    "\n",
    "length = int(input(\"Enter the length of the password: \"))\n",
    "include_digits = input(\"Include digits? (yes/no): \").lower() == \"yes\"\n",
    "include_special_chars = input(\"Include special characters? (yes/no): \").lower() == \"yes\"\n",
    "\n",
    "password = generate_password(length, include_digits, include_special_chars)\n",
    "print(f\"Generated password: {password}\")"
   ]
  },
  {
   "cell_type": "markdown",
   "id": "6e3a6c9d-0751-4dfb-9098-1f7e53e28ac7",
   "metadata": {},
   "source": [
    "### Question 24: Create a program that implements a simple text-based adventure game with branching scenarios."
   ]
  },
  {
   "cell_type": "code",
   "execution_count": 5,
   "id": "7cbecc42-72fc-44d2-81ae-bcb25d6f18c3",
   "metadata": {},
   "outputs": [
    {
     "name": "stdout",
     "output_type": "stream",
     "text": [
      "Welcome to the Adventure Game!\n",
      "You find yourself in a dark forest. You can go 'left' or 'right'.\n"
     ]
    },
    {
     "name": "stdin",
     "output_type": "stream",
     "text": [
      "Which way do you choose?  left\n"
     ]
    },
    {
     "name": "stdout",
     "output_type": "stream",
     "text": [
      "You encounter a friendly squirrel.\n",
      "The squirrel leads you to a treasure chest!\n"
     ]
    },
    {
     "name": "stdin",
     "output_type": "stream",
     "text": [
      "Do you 'open' it or 'leave' it?  open\n"
     ]
    },
    {
     "name": "stdout",
     "output_type": "stream",
     "text": [
      "Congratulations! You found a pile of gold!\n",
      "Thanks for playing!\n"
     ]
    }
   ],
   "source": [
    "# Simple text-based adventure game with branching scenarios\n",
    "print(\"Welcome to the Adventure Game!\")\n",
    "\n",
    "print(\"You find yourself in a dark forest. You can go 'left' or 'right'.\")\n",
    "direction = input(\"Which way do you choose? \").lower()\n",
    "\n",
    "if direction == \"left\":\n",
    "    print(\"You encounter a friendly squirrel.\")\n",
    "    print(\"The squirrel leads you to a treasure chest!\")\n",
    "    decision = input(\"Do you 'open' it or 'leave' it? \").lower()\n",
    "    \n",
    "    if decision == \"open\":\n",
    "        print(\"Congratulations! You found a pile of gold!\")\n",
    "    elif decision == \"leave\":\n",
    "        print(\"You decide to leave the treasure and continue your adventure.\")\n",
    "    else:\n",
    "        print(\"Invalid choice. You stand there feeling confused.\")\n",
    "        \n",
    "elif direction == \"right\":\n",
    "    print(\"You hear a growl and see a bear in the distance.\")\n",
    "    print(\"Do you 'run' or 'play dead'?\")\n",
    "    action = input().lower()\n",
    "    \n",
    "    if action == \"run\":\n",
    "        print(\"You sprint away and narrowly escape the bear. Phew!\")\n",
    "    elif action == \"play dead\":\n",
    "        print(\"You curl up and pretend to be dead. The bear sniffs you and eventually leaves.\")\n",
    "    else:\n",
    "        print(\"Your indecision leads to panic, and the bear approaches!\")\n",
    "        \n",
    "else:\n",
    "    print(\"Invalid choice. You wander aimlessly in the forest.\")\n",
    "    \n",
    "print(\"Thanks for playing!\")"
   ]
  },
  {
   "cell_type": "markdown",
   "id": "bd2cbd75-e70b-406d-bb3c-4a0a56133f8f",
   "metadata": {},
   "source": [
    "### Question 25: Build a program that solves a linear equation for x, considering different cases."
   ]
  },
  {
   "cell_type": "code",
   "execution_count": 4,
   "id": "301fc0e1-f5ff-4cea-a7b7-1706469949a3",
   "metadata": {},
   "outputs": [
    {
     "name": "stdin",
     "output_type": "stream",
     "text": [
      "Enter the value of 'a' for the first equation:  6\n",
      "Enter the value of 'b' for the first equation:  2\n"
     ]
    },
    {
     "name": "stdout",
     "output_type": "stream",
     "text": [
      "Case 1: -0.3333333333333333\n"
     ]
    },
    {
     "name": "stdin",
     "output_type": "stream",
     "text": [
      "Enter the value of 'a' (common for all equations):  8\n",
      "Enter the number of equations:  4\n",
      "Enter the value of 'b' for equation 1:  5\n",
      "Enter the value of 'b' for equation 2:  6\n",
      "Enter the value of 'b' for equation 3:  4\n",
      "Enter the value of 'b' for equation 4:  8\n"
     ]
    },
    {
     "name": "stdout",
     "output_type": "stream",
     "text": [
      "Case 2: Solutions for x in each equation:\n",
      "Equation 1: -0.625\n",
      "Equation 2: -0.75\n",
      "Equation 3: -0.5\n",
      "Equation 4: -1.0\n"
     ]
    },
    {
     "name": "stdin",
     "output_type": "stream",
     "text": [
      "Enter the value of 'a' for the third equation:  8\n",
      "Enter the value of 'b' for the third equation:  4\n"
     ]
    },
    {
     "name": "stdout",
     "output_type": "stream",
     "text": [
      "Case 3: -0.5\n"
     ]
    }
   ],
   "source": [
    "# Function to solve a linear equation ax + b = 0\n",
    "def solve_linear_equation(a, b):\n",
    "    if a != 0:\n",
    "        x = -b / a\n",
    "        return x\n",
    "    else:\n",
    "        if b == 0:\n",
    "            return \"Infinite solutions (any value of x will work)\"\n",
    "        else:\n",
    "            return \"No solution exists\"\n",
    "\n",
    "# Case 1: Simple Linear Equation\n",
    "a1 = float(input(\"Enter the value of 'a' for the first equation: \"))\n",
    "b1 = float(input(\"Enter the value of 'b' for the first equation: \"))\n",
    "result1 = solve_linear_equation(a1, b1)\n",
    "print(f\"Case 1: {result1}\")\n",
    "\n",
    "# Case 2: Multiple Equations with the Same 'a'\n",
    "a2 = float(input(\"Enter the value of 'a' (common for all equations): \"))\n",
    "num_equations = int(input(\"Enter the number of equations: \"))\n",
    "results2 = []\n",
    "\n",
    "for i in range(num_equations):\n",
    "    b = float(input(f\"Enter the value of 'b' for equation {i + 1}: \"))\n",
    "    result2 = solve_linear_equation(a2, b)\n",
    "    results2.append(result2)\n",
    "\n",
    "print(\"Case 2: Solutions for x in each equation:\")\n",
    "for i, result in enumerate(results2):\n",
    "    print(f\"Equation {i + 1}: {result}\")\n",
    "\n",
    "# Case 3: No Solution or Infinite Solutions\n",
    "a3 = float(input(\"Enter the value of 'a' for the third equation: \"))\n",
    "b3 = float(input(\"Enter the value of 'b' for the third equation: \"))\n",
    "result3 = solve_linear_equation(a3, b3)\n",
    "print(f\"Case 3: {result3}\")"
   ]
  },
  {
   "cell_type": "markdown",
   "id": "fd9d0159-1577-472c-bdd9-6d34585fea10",
   "metadata": {},
   "source": [
    "### Question 26: Write a program that simulates a basic quiz game with multiple-choice questions and scoring."
   ]
  },
  {
   "cell_type": "code",
   "execution_count": 32,
   "id": "e46a6b4d-c363-49f0-9112-7209802c5100",
   "metadata": {},
   "outputs": [
    {
     "name": "stdout",
     "output_type": "stream",
     "text": [
      "What is the capital of France?\n",
      "1. London\n",
      "2. Berlin\n",
      "3. Paris\n",
      "4. Madrid\n"
     ]
    },
    {
     "name": "stdin",
     "output_type": "stream",
     "text": [
      "Enter the number of your answer:  2\n"
     ]
    },
    {
     "name": "stdout",
     "output_type": "stream",
     "text": [
      "Wrong. The correct answer is 3.\n",
      "Which planet is known as the Red Planet?\n",
      "1. Venus\n",
      "2. Mars\n",
      "3. Jupiter\n",
      "4. Saturn\n"
     ]
    },
    {
     "name": "stdin",
     "output_type": "stream",
     "text": [
      "Enter the number of your answer:  2\n"
     ]
    },
    {
     "name": "stdout",
     "output_type": "stream",
     "text": [
      "Correct!\n",
      "What is 7 multiplied by 8?\n",
      "1. 54\n",
      "2. 56\n",
      "3. 64\n",
      "4. 72\n"
     ]
    },
    {
     "name": "stdin",
     "output_type": "stream",
     "text": [
      "Enter the number of your answer:  1\n"
     ]
    },
    {
     "name": "stdout",
     "output_type": "stream",
     "text": [
      "Wrong. The correct answer is 2.\n",
      "You got 1/3 questions correct.\n"
     ]
    }
   ],
   "source": [
    "# Simulate a basic quiz game with multiple-choice questions and scoring\n",
    "def run_quiz(questions):\n",
    "    score = 0\n",
    "    for question in questions:\n",
    "        print(question[\"question\"])\n",
    "        for i, option in enumerate(question[\"options\"], start=1):\n",
    "            print(f\"{i}. {option}\")\n",
    "        \n",
    "        user_answer = int(input(\"Enter the number of your answer: \"))\n",
    "        correct_answer = question[\"correct\"]\n",
    "        \n",
    "        if user_answer == correct_answer:\n",
    "            print(\"Correct!\")\n",
    "            score += 1\n",
    "        else:\n",
    "            print(f\"Wrong. The correct answer is {correct_answer}.\")\n",
    "    \n",
    "    print(f\"You got {score}/{len(questions)} questions correct.\")\n",
    "\n",
    "# Define quiz questions\n",
    "quiz_questions = [\n",
    "    {\n",
    "        \"question\": \"What is the capital of France?\",\n",
    "        \"options\": [\"London\", \"Berlin\", \"Paris\", \"Madrid\"],\n",
    "        \"correct\": 3,\n",
    "    },\n",
    "    {\n",
    "        \"question\": \"Which planet is known as the Red Planet?\",\n",
    "        \"options\": [\"Venus\", \"Mars\", \"Jupiter\", \"Saturn\"],\n",
    "        \"correct\": 2,\n",
    "    },\n",
    "    {\n",
    "        \"question\": \"What is 7 multiplied by 8?\",\n",
    "        \"options\": [\"54\", \"56\", \"64\", \"72\"],\n",
    "        \"correct\": 2,\n",
    "    },\n",
    "]\n",
    "\n",
    "run_quiz(quiz_questions)\n"
   ]
  },
  {
   "cell_type": "markdown",
   "id": "adcc7ef4-c8a9-4cfd-8703-4531e44cbf4f",
   "metadata": {},
   "source": [
    "### Question 27: Develop a program that determines whether a given year is a prime number or not."
   ]
  },
  {
   "cell_type": "code",
   "execution_count": 29,
   "id": "3fd952de-d6a0-4f72-8f29-618f62c27d2e",
   "metadata": {},
   "outputs": [
    {
     "name": "stdin",
     "output_type": "stream",
     "text": [
      "Enter a year:  1989\n"
     ]
    },
    {
     "name": "stdout",
     "output_type": "stream",
     "text": [
      "1989 is not a prime year.\n"
     ]
    }
   ],
   "source": [
    "# Determine if a given year is a prime number\n",
    "def is_prime(year):\n",
    "    if year < 2:\n",
    "        return False\n",
    "    for i in range(2, int(year ** 0.5) + 1):\n",
    "        if year % i == 0:\n",
    "            return False\n",
    "    return True\n",
    "\n",
    "year = int(input(\"Enter a year: \"))\n",
    "\n",
    "if is_prime(year):\n",
    "    print(f\"{year} is a prime year!\")\n",
    "else:\n",
    "    print(f\"{year} is not a prime year.\")\n"
   ]
  },
  {
   "cell_type": "markdown",
   "id": "25b668a1-1599-4159-a2f0-c9dc1d076f61",
   "metadata": {},
   "source": [
    "### Question 28: Create a program that sorts three numbers in ascending order using conditional statements."
   ]
  },
  {
   "cell_type": "code",
   "execution_count": 28,
   "id": "d258a815-bdc2-4ea7-8b89-bd466dca2b73",
   "metadata": {},
   "outputs": [
    {
     "name": "stdin",
     "output_type": "stream",
     "text": [
      "Enter the first number:  10\n",
      "Enter the second number:  4\n",
      "Enter the third number:  86\n"
     ]
    },
    {
     "name": "stdout",
     "output_type": "stream",
     "text": [
      "Sorted numbers: 4.0, 10.0, 86.0\n"
     ]
    }
   ],
   "source": [
    "# Sort three numbers in ascending order\n",
    "a = float(input(\"Enter the first number: \"))\n",
    "b = float(input(\"Enter the second number: \"))\n",
    "c = float(input(\"Enter the third number: \"))\n",
    "\n",
    "if a <= b <= c:\n",
    "    print(f\"Sorted numbers: {a}, {b}, {c}\")\n",
    "elif a <= c <= b:\n",
    "    print(f\"Sorted numbers: {a}, {c}, {b}\")\n",
    "elif b <= a <= c:\n",
    "    print(f\"Sorted numbers: {b}, {a}, {c}\")\n",
    "elif b <= c <= a:\n",
    "    print(f\"Sorted numbers: {b}, {c}, {a}\")\n",
    "elif c <= a <= b:\n",
    "    print(f\"Sorted numbers: {c}, {a}, {b}\")\n",
    "else:\n",
    "    print(f\"Sorted numbers: {c}, {b}, {a}\")\n"
   ]
  },
  {
   "cell_type": "markdown",
   "id": "0bb5aeb9-955c-4848-8af8-87f4c44a612e",
   "metadata": {},
   "source": [
    "### Question 29: Build a program that determines the roots of a quartic equation using numerical methods."
   ]
  },
  {
   "cell_type": "code",
   "execution_count": 26,
   "id": "a9b29823-6b10-40b2-8570-b88a172fec7e",
   "metadata": {},
   "outputs": [
    {
     "name": "stdin",
     "output_type": "stream",
     "text": [
      "Enter coefficient 0:  1\n",
      "Enter coefficient 1:  2\n",
      "Enter coefficient 2:  3\n",
      "Enter coefficient 3:  4\n",
      "Enter coefficient 4:  5\n"
     ]
    },
    {
     "name": "stdout",
     "output_type": "stream",
     "text": [
      "The roots of the quartic equation are: [-1.28781548+0.85789676j -1.28781548-0.85789676j  0.28781548+1.41609308j\n",
      "  0.28781548-1.41609308j]\n"
     ]
    }
   ],
   "source": [
    "# Determine the roots of a quartic equation using numerical methods\n",
    "import numpy as np\n",
    "\n",
    "coefficients = []\n",
    "for i in range(5):\n",
    "    coefficients.append(float(input(f\"Enter coefficient {i}: \")))\n",
    "\n",
    "roots = np.roots(coefficients)\n",
    "print(f\"The roots of the quartic equation are: {roots}\")\n"
   ]
  },
  {
   "cell_type": "markdown",
   "id": "e322728d-0497-44fd-8011-f1666ede9efc",
   "metadata": {},
   "source": [
    "### Question 30: Write a program that calculates the BMI (Body Mass Index) and provides health recommendations based on the user's input."
   ]
  },
  {
   "cell_type": "code",
   "execution_count": 24,
   "id": "dc6dacc2-a985-4247-b9c7-00f40a4ebc66",
   "metadata": {},
   "outputs": [
    {
     "name": "stdin",
     "output_type": "stream",
     "text": [
      "Enter your weight in kilograms:  86\n",
      "Enter your height in meters:  1.9\n"
     ]
    },
    {
     "name": "stdout",
     "output_type": "stream",
     "text": [
      "Your BMI is: 23.82\n",
      "Your weight is normal. Keep up the good work!\n"
     ]
    }
   ],
   "source": [
    "# Calculate BMI and provide health recommendations\n",
    "weight = float(input(\"Enter your weight in kilograms: \"))\n",
    "height = float(input(\"Enter your height in meters: \"))\n",
    "\n",
    "bmi = weight / (height ** 2)\n",
    "print(f\"Your BMI is: {bmi:.2f}\")\n",
    "\n",
    "if bmi < 18.5:\n",
    "    print(\"You are underweight. Consider gaining some weight.\")\n",
    "elif 18.5 <= bmi < 24.9:\n",
    "    print(\"Your weight is normal. Keep up the good work!\")\n",
    "elif 25 <= bmi < 29.9:\n",
    "    print(\"You are overweight. Consider losing some weight.\")\n",
    "else:\n",
    "    print(\"You are obese. Please consult a healthcare professional.\")\n"
   ]
  },
  {
   "cell_type": "markdown",
   "id": "22e268a7-03cf-4a58-b6bc-56ed34ac3b94",
   "metadata": {},
   "source": [
    "## **Challenge Level:**"
   ]
  },
  {
   "cell_type": "markdown",
   "id": "71ec7f80-cdd0-4113-8715-cfe0e8f4862b",
   "metadata": {},
   "source": [
    "### Question 31: Create a program that validates a password based on complexity rules (length, characters, etc.)."
   ]
  },
  {
   "cell_type": "code",
   "execution_count": 23,
   "id": "52b1e56b-2cc3-4bb1-9f4e-f1c67cf610fd",
   "metadata": {},
   "outputs": [
    {
     "name": "stdin",
     "output_type": "stream",
     "text": [
      "Enter a password:  salik123\n"
     ]
    },
    {
     "name": "stdout",
     "output_type": "stream",
     "text": [
      "Password is not valid. It must be at least 8 characters long and contain at least one lowercase letter, one uppercase letter, one digit, and one special character.\n"
     ]
    }
   ],
   "source": [
    "# Validate a password based on complexity rules\n",
    "def is_valid_password(password):\n",
    "    if len(password) < 8:\n",
    "        return False\n",
    "    if not any(char.islower() for char in password):\n",
    "        return False\n",
    "    if not any(char.isupper() for char in password):\n",
    "        return False\n",
    "    if not any(char.isdigit() for char in password):\n",
    "        return False\n",
    "    if not any(char in \"!@#$%^&*()_+[]{}|;':,.<>?/=-\" for char in password):\n",
    "        return False\n",
    "    return True\n",
    "\n",
    "password = input(\"Enter a password: \")\n",
    "\n",
    "if is_valid_password(password):\n",
    "    print(\"Password is valid.\")\n",
    "else:\n",
    "    print(\"Password is not valid. It must be at least 8 characters long and contain at least one lowercase letter, one uppercase letter, one digit, and one special character.\")\n"
   ]
  },
  {
   "cell_type": "markdown",
   "id": "c6736f1f-b85f-4bed-94c8-05a12b2c312f",
   "metadata": {},
   "source": [
    "### Question 32: Develop a program that performs matrix addition and subtraction based on user input."
   ]
  },
  {
   "cell_type": "code",
   "execution_count": 22,
   "id": "247a3198-9f46-4b79-99a3-6dde1cda0fe8",
   "metadata": {},
   "outputs": [
    {
     "name": "stdin",
     "output_type": "stream",
     "text": [
      "Enter 'add' for matrix addition or 'subtract' for matrix subtraction:  add\n"
     ]
    },
    {
     "name": "stdout",
     "output_type": "stream",
     "text": [
      "Enter matrix A:\n"
     ]
    },
    {
     "name": "stdin",
     "output_type": "stream",
     "text": [
      "Enter the number of rows:  1\n",
      "Enter the number of columns:  1\n",
      "Enter the element at row 1, column 1:  1\n"
     ]
    },
    {
     "name": "stdout",
     "output_type": "stream",
     "text": [
      "Enter matrix B:\n"
     ]
    },
    {
     "name": "stdin",
     "output_type": "stream",
     "text": [
      "Enter the number of rows:  1\n",
      "Enter the number of columns:  1\n",
      "Enter the element at row 1, column 1:  1\n"
     ]
    },
    {
     "name": "stdout",
     "output_type": "stream",
     "text": [
      "Result:\n",
      "[[2.]]\n"
     ]
    }
   ],
   "source": [
    "# Perform matrix addition and subtraction based on user input\n",
    "import numpy as np\n",
    "\n",
    "def get_matrix_from_user(prompt):\n",
    "    print(prompt)\n",
    "    rows = int(input(\"Enter the number of rows: \"))\n",
    "    cols = int(input(\"Enter the number of columns: \"))\n",
    "    matrix = []\n",
    "    for i in range(rows):\n",
    "        row = []\n",
    "        for j in range(cols):\n",
    "            value = float(input(f\"Enter the element at row {i + 1}, column {j + 1}: \"))\n",
    "            row.append(value)\n",
    "        matrix.append(row)\n",
    "    return np.array(matrix)\n",
    "\n",
    "def perform_matrix_operation():\n",
    "    operation = input(\"Enter 'add' for matrix addition or 'subtract' for matrix subtraction: \")\n",
    "    matrix_a = get_matrix_from_user(\"Enter matrix A:\")\n",
    "    matrix_b = get_matrix_from_user(\"Enter matrix B:\")\n",
    "\n",
    "    if operation == \"add\":\n",
    "        result = matrix_a + matrix_b\n",
    "    elif operation == \"subtract\":\n",
    "        result = matrix_a - matrix_b\n",
    "    else:\n",
    "        print(\"Invalid operation.\")\n",
    "        return\n",
    "\n",
    "    print(\"Result:\")\n",
    "    print(result)\n",
    "\n",
    "perform_matrix_operation()"
   ]
  },
  {
   "cell_type": "markdown",
   "id": "ffc26d92-fda6-41c2-af49-04be48f1d4e3",
   "metadata": {},
   "source": [
    "### Question 33: Write a program that calculates the greatest common divisor (GCD) of two numbers using the Euclidean algorithm."
   ]
  },
  {
   "cell_type": "code",
   "execution_count": 17,
   "id": "1d5d55e9-1bcb-4167-9037-74a39e685d29",
   "metadata": {},
   "outputs": [
    {
     "name": "stdin",
     "output_type": "stream",
     "text": [
      "Enter the first number:  6\n",
      "Enter the second number:  2\n"
     ]
    },
    {
     "name": "stdout",
     "output_type": "stream",
     "text": [
      "The GCD of 6 and 2 is 2\n"
     ]
    }
   ],
   "source": [
    "# Calculate the greatest common divisor (GCD) of two numbers using the Euclidean algorithm\n",
    "def calculate_gcd(a, b):\n",
    "    while b:\n",
    "        a, b = b, a % b\n",
    "    return a\n",
    "\n",
    "num1 = int(input(\"Enter the first number: \"))\n",
    "num2 = int(input(\"Enter the second number: \"))\n",
    "\n",
    "gcd = calculate_gcd(num1, num2)\n",
    "print(f\"The GCD of {num1} and {num2} is {gcd}\")\n"
   ]
  },
  {
   "cell_type": "markdown",
   "id": "1562d748-1a85-4262-9569-92af6d71dbc4",
   "metadata": {},
   "source": [
    "### Question 34: Build a program that performs matrix multiplication using nested loops and conditional statements."
   ]
  },
  {
   "cell_type": "code",
   "execution_count": 16,
   "id": "1d940b9c-cb2e-4569-bd9a-45d9665b19fe",
   "metadata": {},
   "outputs": [
    {
     "name": "stdout",
     "output_type": "stream",
     "text": [
      "Enter matrix A:\n"
     ]
    },
    {
     "name": "stdin",
     "output_type": "stream",
     "text": [
      "Enter the number of rows:  2\n",
      "Enter the number of columns:  2\n",
      "Enter the element at row 1, column 1:  1\n",
      "Enter the element at row 1, column 2:  1\n",
      "Enter the element at row 2, column 1:  2\n",
      "Enter the element at row 2, column 2:  2\n"
     ]
    },
    {
     "name": "stdout",
     "output_type": "stream",
     "text": [
      "Enter matrix B:\n"
     ]
    },
    {
     "name": "stdin",
     "output_type": "stream",
     "text": [
      "Enter the number of rows:  2\n",
      "Enter the number of columns:  2\n",
      "Enter the element at row 1, column 1:  1\n",
      "Enter the element at row 1, column 2:  1\n",
      "Enter the element at row 2, column 1:  2\n",
      "Enter the element at row 2, column 2:  2\n"
     ]
    },
    {
     "name": "stdout",
     "output_type": "stream",
     "text": [
      "Result:\n",
      "[3.0, 3.0]\n",
      "[6.0, 6.0]\n"
     ]
    }
   ],
   "source": [
    "# Perform matrix multiplication using nested loops and conditional statements\n",
    "def matrix_multiply(matrix_a, matrix_b):\n",
    "    if len(matrix_a[0]) != len(matrix_b):\n",
    "        print(\"Matrix multiplication is not possible. Number of columns in matrix A must be equal to the number of rows in matrix B.\")\n",
    "        return []\n",
    "\n",
    "    result = []\n",
    "    for i in range(len(matrix_a)):\n",
    "        row = []\n",
    "        for j in range(len(matrix_b[0])):\n",
    "            total = 0\n",
    "            for k in range(len(matrix_b)):\n",
    "                total += matrix_a[i][k] * matrix_b[k][j]\n",
    "            row.append(total)\n",
    "        result.append(row)\n",
    "\n",
    "    return result\n",
    "\n",
    "def get_matrix_from_user(prompt):\n",
    "    print(prompt)\n",
    "    rows = int(input(\"Enter the number of rows: \"))\n",
    "    cols = int(input(\"Enter the number of columns: \"))\n",
    "    matrix = []\n",
    "    for i in range(rows):\n",
    "        row = []\n",
    "        for j in range(cols):\n",
    "            value = float(input(f\"Enter the element at row {i + 1}, column {j + 1}: \"))\n",
    "            row.append(value)\n",
    "        matrix.append(row)\n",
    "    return matrix\n",
    "\n",
    "matrix_a = get_matrix_from_user(\"Enter matrix A:\")\n",
    "matrix_b = get_matrix_from_user(\"Enter matrix B:\")\n",
    "\n",
    "result = matrix_multiply(matrix_a, matrix_b)\n",
    "if result:\n",
    "    print(\"Result:\")\n",
    "    for row in result:\n",
    "        print(row)\n"
   ]
  },
  {
   "cell_type": "markdown",
   "id": "745a0278-a017-4da1-97e5-d69d805eaba9",
   "metadata": {},
   "source": [
    "### Question 35: Create a program that simulates a basic text-based tic-tac-toe game against the computer."
   ]
  },
  {
   "cell_type": "code",
   "execution_count": 13,
   "id": "5d6a814e-26a9-4cf4-97ca-e86569439d99",
   "metadata": {},
   "outputs": [
    {
     "name": "stdout",
     "output_type": "stream",
     "text": [
      "Welcome to Tic-Tac-Toe against the computer!\n",
      "  |   |  \n",
      "---------\n",
      "  |   |  \n",
      "---------\n",
      "  |   |  \n",
      "---------\n"
     ]
    },
    {
     "name": "stdin",
     "output_type": "stream",
     "text": [
      "Enter your move (row and column):  1 1\n"
     ]
    },
    {
     "name": "stdout",
     "output_type": "stream",
     "text": [
      "  |   |  \n",
      "---------\n",
      "  | X |  \n",
      "---------\n",
      "  |   |  \n",
      "---------\n",
      "Computer's turn...\n",
      "  |   |  \n",
      "---------\n",
      "  | X | O\n",
      "---------\n",
      "  |   |  \n",
      "---------\n"
     ]
    },
    {
     "name": "stdin",
     "output_type": "stream",
     "text": [
      "Enter your move (row and column):  0 0\n"
     ]
    },
    {
     "name": "stdout",
     "output_type": "stream",
     "text": [
      "X |   |  \n",
      "---------\n",
      "  | X | O\n",
      "---------\n",
      "  |   |  \n",
      "---------\n",
      "Computer's turn...\n",
      "X | O |  \n",
      "---------\n",
      "  | X | O\n",
      "---------\n",
      "  |   |  \n",
      "---------\n"
     ]
    },
    {
     "name": "stdin",
     "output_type": "stream",
     "text": [
      "Enter your move (row and column):  2 2\n"
     ]
    },
    {
     "name": "stdout",
     "output_type": "stream",
     "text": [
      "X | O |  \n",
      "---------\n",
      "  | X | O\n",
      "---------\n",
      "  |   | X\n",
      "---------\n",
      "Congratulations! You win!\n"
     ]
    }
   ],
   "source": [
    "# Simulate a basic text-based tic-tac-toe game against the computer\n",
    "import random\n",
    "\n",
    "# Function to display the game board\n",
    "def display_board(board):\n",
    "    for row in board:\n",
    "        print(\" | \".join(row))\n",
    "        print(\"-\" * 9)\n",
    "\n",
    "# Function to check for a win\n",
    "def check_win(board, player):\n",
    "    for row in board:\n",
    "        if all(cell == player for cell in row):\n",
    "            return True\n",
    "\n",
    "    for col in range(3):\n",
    "        if all(row[col] == player for row in board):\n",
    "            return True\n",
    "\n",
    "    if all(board[i][i] == player for i in range(3)) or all(board[i][2 - i] == player for i in range(3)):\n",
    "        return True\n",
    "\n",
    "    return False\n",
    "\n",
    "# Function to check for a draw\n",
    "def check_draw(board):\n",
    "    return all(cell != ' ' for row in board for cell in row)\n",
    "\n",
    "# Function to make the computer's move\n",
    "def computer_move(board):\n",
    "    empty_cells = [(i, j) for i in range(3) for j in range(3) if board[i][j] == ' ']\n",
    "    return random.choice(empty_cells)\n",
    "\n",
    "# Initialize the game board\n",
    "board = [[' ' for _ in range(3)] for _ in range(3)]\n",
    "\n",
    "# Main game loop\n",
    "player_turn = True\n",
    "\n",
    "print(\"Welcome to Tic-Tac-Toe against the computer!\")\n",
    "\n",
    "while True:\n",
    "    display_board(board)\n",
    "\n",
    "    if player_turn:\n",
    "        row, col = map(int, input(\"Enter your move (row and column): \").split())\n",
    "        if board[row][col] != ' ':\n",
    "            print(\"Invalid move. Try again.\")\n",
    "            continue\n",
    "        board[row][col] = 'X'\n",
    "    else:\n",
    "        print(\"Computer's turn...\")\n",
    "        row, col = computer_move(board)\n",
    "        board[row][col] = 'O'\n",
    "\n",
    "    if check_win(board, 'X'):\n",
    "        display_board(board)\n",
    "        print(\"Congratulations! You win!\")\n",
    "        break\n",
    "    elif check_win(board, 'O'):\n",
    "        display_board(board)\n",
    "        print(\"Computer wins! Better luck next time.\")\n",
    "        break\n",
    "    elif check_draw(board):\n",
    "        display_board(board)\n",
    "        print(\"It's a draw! The game is over.\")\n",
    "        break\n",
    "\n",
    "    player_turn = not player_turn\n"
   ]
  },
  {
   "cell_type": "markdown",
   "id": "d252c35f-acda-4f46-a007-aa5a1723b2bc",
   "metadata": {},
   "source": [
    "### Question 36: Write a program that generates Fibonacci numbers up to a specified term using iterative methods."
   ]
  },
  {
   "cell_type": "code",
   "execution_count": 8,
   "id": "1862a29b-e270-4c06-bf49-826fa0f41144",
   "metadata": {},
   "outputs": [
    {
     "name": "stdin",
     "output_type": "stream",
     "text": [
      "Enter the number of Fibonacci terms to generate:  6\n"
     ]
    },
    {
     "name": "stdout",
     "output_type": "stream",
     "text": [
      "Fibonacci sequence up to term 6:\n",
      "[0, 1, 1, 2, 3, 5]\n"
     ]
    }
   ],
   "source": [
    "# Generate Fibonacci numbers up to a specified term using iteration\n",
    "def generate_fibonacci(n):\n",
    "    fibonacci_sequence = [0, 1]\n",
    "\n",
    "    while len(fibonacci_sequence) < n:\n",
    "        next_number = fibonacci_sequence[-1] + fibonacci_sequence[-2]\n",
    "        fibonacci_sequence.append(next_number)\n",
    "\n",
    "    return fibonacci_sequence\n",
    "\n",
    "# Input the number of terms\n",
    "n = int(input(\"Enter the number of Fibonacci terms to generate: \"))\n",
    "\n",
    "if n <= 0:\n",
    "    print(\"Please enter a positive integer.\")\n",
    "else:\n",
    "    fibonacci_numbers = generate_fibonacci(n)\n",
    "    print(\"Fibonacci sequence up to term {}:\".format(n))\n",
    "    print(fibonacci_numbers)\n"
   ]
  },
  {
   "cell_type": "markdown",
   "id": "0f8a9c90-6085-4485-aa6a-edbc62261900",
   "metadata": {},
   "source": [
    "### Question 37: Develop a program that calculates the nth term of the Fibonacci sequence using memoization."
   ]
  },
  {
   "cell_type": "code",
   "execution_count": 7,
   "id": "e00cf553-4edd-4a2b-bfb5-4cf8e244da5d",
   "metadata": {},
   "outputs": [
    {
     "name": "stdin",
     "output_type": "stream",
     "text": [
      "Enter the term number of the Fibonacci sequence to calculate:  89\n"
     ]
    },
    {
     "name": "stdout",
     "output_type": "stream",
     "text": [
      "The 89-th term of the Fibonacci sequence is: 1779979416004714189\n"
     ]
    }
   ],
   "source": [
    "# Calculate the nth term of the Fibonacci sequence using memoization\n",
    "def fibonacci(n, memo={}):\n",
    "    if n in memo:\n",
    "        return memo[n]\n",
    "    if n <= 1:\n",
    "        return n\n",
    "    memo[n] = fibonacci(n - 1, memo) + fibonacci(n - 2, memo)\n",
    "    return memo[n]\n",
    "\n",
    "# Input the term number\n",
    "n = int(input(\"Enter the term number of the Fibonacci sequence to calculate: \"))\n",
    "\n",
    "if n < 0:\n",
    "    print(\"Please enter a non-negative integer.\")\n",
    "else:\n",
    "    result = fibonacci(n)\n",
    "    print(\"The {}-th term of the Fibonacci sequence is: {}\".format(n, result))\n"
   ]
  },
  {
   "cell_type": "markdown",
   "id": "e83c4acd-263f-408d-90e7-8e22ee327018",
   "metadata": {},
   "source": [
    "### Question 38: Create a program that generates a calendar for a given month and year using conditional statements."
   ]
  },
  {
   "cell_type": "code",
   "execution_count": 6,
   "id": "bf5e483a-72ee-463d-bd92-87db48b14a04",
   "metadata": {},
   "outputs": [
    {
     "name": "stdin",
     "output_type": "stream",
     "text": [
      "Enter the year:  2017\n",
      "Enter the month (1-12):  5\n"
     ]
    },
    {
     "name": "stdout",
     "output_type": "stream",
     "text": [
      "Calendar for 5/2017:\n",
      "      May 2017\n",
      "Mo Tu We Th Fr Sa Su\n",
      " 1  2  3  4  5  6  7\n",
      " 8  9 10 11 12 13 14\n",
      "15 16 17 18 19 20 21\n",
      "22 23 24 25 26 27 28\n",
      "29 30 31\n",
      "\n"
     ]
    }
   ],
   "source": [
    "# Generate a calendar for a given month and year\n",
    "import calendar\n",
    "\n",
    "# Input month and year\n",
    "year = int(input(\"Enter the year: \"))\n",
    "month = int(input(\"Enter the month (1-12): \"))\n",
    "\n",
    "if month < 1 or month > 12:\n",
    "    print(\"Invalid month. Please enter a number between 1 and 12.\")\n",
    "else:\n",
    "    cal = calendar.month(year, month)\n",
    "    print(\"Calendar for {}/{}:\".format(month, year))\n",
    "    print(cal)\n"
   ]
  },
  {
   "cell_type": "markdown",
   "id": "f14a4ee2-5f0a-4edb-96ff-66a1577fcf65",
   "metadata": {},
   "source": [
    "### Question 39: Build a program that simulates a basic text-based blackjack game against the computer."
   ]
  },
  {
   "cell_type": "code",
   "execution_count": 5,
   "id": "54a7d473-fc5c-405c-b89d-7c0f64159231",
   "metadata": {},
   "outputs": [
    {
     "name": "stdout",
     "output_type": "stream",
     "text": [
      "Player's hand: [('Six', 'Spades'), ('Two', 'Spades')] Value: 8\n",
      "Dealer's hand: [('Four', 'Hearts'), ('Hidden', 'Hidden')]\n"
     ]
    },
    {
     "name": "stdin",
     "output_type": "stream",
     "text": [
      "Do you want to hit or stand?  hit\n"
     ]
    },
    {
     "name": "stdout",
     "output_type": "stream",
     "text": [
      "Player's hand: [('Six', 'Spades'), ('Two', 'Spades'), ('Five', 'Hearts')] Value: 13\n",
      "Dealer's hand: [('Four', 'Hearts'), ('Hidden', 'Hidden')]\n"
     ]
    },
    {
     "name": "stdin",
     "output_type": "stream",
     "text": [
      "Do you want to hit or stand?  hit\n"
     ]
    },
    {
     "name": "stdout",
     "output_type": "stream",
     "text": [
      "Player's hand: [('Six', 'Spades'), ('Two', 'Spades'), ('Five', 'Hearts'), ('Ace', 'Spades')] Value: 27\n",
      "Dealer's hand: [('Four', 'Hearts'), ('Hidden', 'Hidden')]\n",
      "Bust! You lose!\n"
     ]
    }
   ],
   "source": [
    "# Simulate a basic text-based blackjack game against the computer\n",
    "import random\n",
    "\n",
    "# Function to calculate the value of a hand\n",
    "def hand_value(hand):\n",
    "    value = sum(hand)\n",
    "    if 11 in hand and value > 21:\n",
    "        hand.remove(11)\n",
    "        hand.append(1)\n",
    "    return value\n",
    "\n",
    "# Initialize the deck\n",
    "suits = [\"Hearts\", \"Diamonds\", \"Clubs\", \"Spades\"]\n",
    "ranks = [\"Two\", \"Three\", \"Four\", \"Five\", \"Six\", \"Seven\", \"Eight\", \"Nine\", \"Ten\", \"Jack\", \"Queen\", \"King\", \"Ace\"]\n",
    "deck = [(rank, suit) for rank in ranks for suit in suits]\n",
    "\n",
    "# Initialize player and dealer hands\n",
    "player_hand = []\n",
    "dealer_hand = []\n",
    "\n",
    "# Deal initial cards\n",
    "for _ in range(2):\n",
    "    player_card = random.choice(deck)\n",
    "    player_hand.append(player_card)\n",
    "    deck.remove(player_card)\n",
    "    dealer_card = random.choice(deck)\n",
    "    dealer_hand.append(dealer_card)\n",
    "    deck.remove(dealer_card)\n",
    "\n",
    "# Main game loop\n",
    "while True:\n",
    "    print(\"Player's hand:\", player_hand, \"Value:\", hand_value([ranks.index(card[0]) + 2 for card in player_hand]))\n",
    "    print(\"Dealer's hand:\", [dealer_hand[0], (\"Hidden\", \"Hidden\")])\n",
    "    if hand_value([ranks.index(card[0]) + 2 for card in player_hand]) == 21:\n",
    "        print(\"Blackjack! You win!\")\n",
    "        break\n",
    "    elif hand_value([ranks.index(card[0]) + 2 for card in dealer_hand]) == 21:\n",
    "        print(\"Dealer has a blackjack. You lose!\")\n",
    "        break\n",
    "    elif hand_value([ranks.index(card[0]) + 2 for card in player_hand]) > 21:\n",
    "        print(\"Bust! You lose!\")\n",
    "        break\n",
    "    elif hand_value([ranks.index(card[0]) + 2 for card in dealer_hand]) > 21:\n",
    "        print(\"Dealer busts. You win!\")\n",
    "        break\n",
    "    elif input(\"Do you want to hit or stand? \").lower() == \"hit\":\n",
    "        player_card = random.choice(deck)\n",
    "        player_hand.append(player_card)\n",
    "        deck.remove(player_card)\n",
    "    else:\n",
    "        while hand_value([ranks.index(card[0]) + 2 for card in dealer_hand]) < 17:\n",
    "            dealer_card = random.choice(deck)\n",
    "            dealer_hand.append(dealer_card)\n",
    "            deck.remove(dealer_card)\n",
    "        if hand_value([ranks.index(card[0]) + 2 for card in dealer_hand]) > 21:\n",
    "            print(\"Dealer busts. You win!\")\n",
    "        elif hand_value([ranks.index(card[0]) + 2 for card in player_hand]) > hand_value([ranks.index(card[0]) + 2 for card in dealer_hand]):\n",
    "            print(\"You win!\")\n",
    "        else:\n",
    "            print(\"You lose!\")\n",
    "        break\n"
   ]
  },
  {
   "cell_type": "markdown",
   "id": "9f797600-59d4-4817-af64-91b63a9f6f6f",
   "metadata": {},
   "source": [
    "### Question 40: Write a program that generates the prime factors of a given number using trial division."
   ]
  },
  {
   "cell_type": "code",
   "execution_count": 1,
   "id": "061501d2-8128-4943-9587-677503ff37a9",
   "metadata": {},
   "outputs": [
    {
     "name": "stdin",
     "output_type": "stream",
     "text": [
      "Enter a positive integer:  56\n"
     ]
    },
    {
     "name": "stdout",
     "output_type": "stream",
     "text": [
      "The prime factors of 56 are 2, 2, 2, 7.\n"
     ]
    }
   ],
   "source": [
    "# Generate the prime factors of a given number using trial division\n",
    "def prime_factors(n):\n",
    "    factors = []\n",
    "    divisor = 2\n",
    "\n",
    "    while divisor <= n:\n",
    "        if n % divisor == 0:\n",
    "            factors.append(divisor)\n",
    "            n = n // divisor\n",
    "        else:\n",
    "            divisor += 1\n",
    "\n",
    "    return factors\n",
    "\n",
    "# Input the number\n",
    "num = int(input(\"Enter a positive integer: \"))\n",
    "\n",
    "if num <= 0:\n",
    "    print(\"Please enter a positive integer.\")\n",
    "else:\n",
    "    factors = prime_factors(num)\n",
    "    if len(factors) == 1:\n",
    "        print(f\"The prime factor of {num} is {factors[0]}.\")\n",
    "    else:\n",
    "        print(f\"The prime factors of {num} are {', '.join(map(str, factors))}.\")\n"
   ]
  }
 ],
 "metadata": {
  "kernelspec": {
   "display_name": "Python 3 (ipykernel)",
   "language": "python",
   "name": "python3"
  },
  "language_info": {
   "codemirror_mode": {
    "name": "ipython",
    "version": 3
   },
   "file_extension": ".py",
   "mimetype": "text/x-python",
   "name": "python",
   "nbconvert_exporter": "python",
   "pygments_lexer": "ipython3",
   "version": "3.10.8"
  }
 },
 "nbformat": 4,
 "nbformat_minor": 5
}
